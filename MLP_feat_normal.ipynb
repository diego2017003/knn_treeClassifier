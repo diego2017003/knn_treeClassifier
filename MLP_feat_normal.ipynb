{
  "nbformat": 4,
  "nbformat_minor": 0,
  "metadata": {
    "colab": {
      "name": "MLP_feat_normal.ipynb",
      "provenance": [],
      "include_colab_link": true
    },
    "kernelspec": {
      "name": "python3",
      "display_name": "Python 3"
    },
    "language_info": {
      "name": "python"
    }
  },
  "cells": [
    {
      "cell_type": "markdown",
      "metadata": {
        "id": "view-in-github",
        "colab_type": "text"
      },
      "source": [
        "<a href=\"https://colab.research.google.com/github/diego2017003/knn_treeClassifier/blob/main/MLP_feat_normal.ipynb\" target=\"_parent\"><img src=\"https://colab.research.google.com/assets/colab-badge.svg\" alt=\"Open In Colab\"/></a>"
      ]
    },
    {
      "cell_type": "code",
      "metadata": {
        "colab": {
          "base_uri": "https://localhost:8080/",
          "height": 206
        },
        "id": "HNU8EeSN8aMF",
        "outputId": "5141ab8e-299b-46ef-b259-0c63eccd9237"
      },
      "source": [
        "import pandas as pd\n",
        "dados_preProcessado = pd.read_csv('https://raw.githubusercontent.com/diego2017003/knn_treeClassifier/main/dados_preProcessados.csv')\n",
        "dados_originais = pd.read_csv('https://raw.githubusercontent.com/diego2017003/knn_treeClassifier/main/heart.csv')\n",
        "dados_preProcessado.drop(columns=['Unnamed: 0'],inplace=True)\n",
        "dados_amostra30 = pd.read_csv('https://raw.githubusercontent.com/diego2017003/knn_treeClassifier/main/amostra_30_sr.csv?token=AHICD57VCQG2JACG2W6CH6DA4HQEE')\n",
        "dados_amostra50 = pd.read_csv('https://raw.githubusercontent.com/diego2017003/knn_treeClassifier/main/amostra_50_estratificada.csv?token=AHICD577TFMYIROBCPV67PDA4HQHY')\n",
        "dados_amostra70 = pd.read_csv('https://raw.githubusercontent.com/diego2017003/knn_treeClassifier/main/amostra_70_estratificada.csv?token=AHICD52TMNHP253IGVDF243A4HQP4')\n",
        "\n",
        "dados_originais.head()"
      ],
      "execution_count": null,
      "outputs": [
        {
          "output_type": "execute_result",
          "data": {
            "text/html": [
              "<div>\n",
              "<style scoped>\n",
              "    .dataframe tbody tr th:only-of-type {\n",
              "        vertical-align: middle;\n",
              "    }\n",
              "\n",
              "    .dataframe tbody tr th {\n",
              "        vertical-align: top;\n",
              "    }\n",
              "\n",
              "    .dataframe thead th {\n",
              "        text-align: right;\n",
              "    }\n",
              "</style>\n",
              "<table border=\"1\" class=\"dataframe\">\n",
              "  <thead>\n",
              "    <tr style=\"text-align: right;\">\n",
              "      <th></th>\n",
              "      <th>age</th>\n",
              "      <th>sex</th>\n",
              "      <th>cp</th>\n",
              "      <th>trtbps</th>\n",
              "      <th>chol</th>\n",
              "      <th>fbs</th>\n",
              "      <th>restecg</th>\n",
              "      <th>thalachh</th>\n",
              "      <th>exng</th>\n",
              "      <th>oldpeak</th>\n",
              "      <th>slp</th>\n",
              "      <th>caa</th>\n",
              "      <th>thall</th>\n",
              "      <th>output</th>\n",
              "    </tr>\n",
              "  </thead>\n",
              "  <tbody>\n",
              "    <tr>\n",
              "      <th>0</th>\n",
              "      <td>63</td>\n",
              "      <td>1</td>\n",
              "      <td>3</td>\n",
              "      <td>145</td>\n",
              "      <td>233</td>\n",
              "      <td>1</td>\n",
              "      <td>0</td>\n",
              "      <td>150</td>\n",
              "      <td>0</td>\n",
              "      <td>2.3</td>\n",
              "      <td>0</td>\n",
              "      <td>0</td>\n",
              "      <td>1</td>\n",
              "      <td>1</td>\n",
              "    </tr>\n",
              "    <tr>\n",
              "      <th>1</th>\n",
              "      <td>37</td>\n",
              "      <td>1</td>\n",
              "      <td>2</td>\n",
              "      <td>130</td>\n",
              "      <td>250</td>\n",
              "      <td>0</td>\n",
              "      <td>1</td>\n",
              "      <td>187</td>\n",
              "      <td>0</td>\n",
              "      <td>3.5</td>\n",
              "      <td>0</td>\n",
              "      <td>0</td>\n",
              "      <td>2</td>\n",
              "      <td>1</td>\n",
              "    </tr>\n",
              "    <tr>\n",
              "      <th>2</th>\n",
              "      <td>41</td>\n",
              "      <td>0</td>\n",
              "      <td>1</td>\n",
              "      <td>130</td>\n",
              "      <td>204</td>\n",
              "      <td>0</td>\n",
              "      <td>0</td>\n",
              "      <td>172</td>\n",
              "      <td>0</td>\n",
              "      <td>1.4</td>\n",
              "      <td>2</td>\n",
              "      <td>0</td>\n",
              "      <td>2</td>\n",
              "      <td>1</td>\n",
              "    </tr>\n",
              "    <tr>\n",
              "      <th>3</th>\n",
              "      <td>56</td>\n",
              "      <td>1</td>\n",
              "      <td>1</td>\n",
              "      <td>120</td>\n",
              "      <td>236</td>\n",
              "      <td>0</td>\n",
              "      <td>1</td>\n",
              "      <td>178</td>\n",
              "      <td>0</td>\n",
              "      <td>0.8</td>\n",
              "      <td>2</td>\n",
              "      <td>0</td>\n",
              "      <td>2</td>\n",
              "      <td>1</td>\n",
              "    </tr>\n",
              "    <tr>\n",
              "      <th>4</th>\n",
              "      <td>57</td>\n",
              "      <td>0</td>\n",
              "      <td>0</td>\n",
              "      <td>120</td>\n",
              "      <td>354</td>\n",
              "      <td>0</td>\n",
              "      <td>1</td>\n",
              "      <td>163</td>\n",
              "      <td>1</td>\n",
              "      <td>0.6</td>\n",
              "      <td>2</td>\n",
              "      <td>0</td>\n",
              "      <td>2</td>\n",
              "      <td>1</td>\n",
              "    </tr>\n",
              "  </tbody>\n",
              "</table>\n",
              "</div>"
            ],
            "text/plain": [
              "   age  sex  cp  trtbps  chol  fbs  ...  exng  oldpeak  slp  caa  thall  output\n",
              "0   63    1   3     145   233    1  ...     0      2.3    0    0      1       1\n",
              "1   37    1   2     130   250    0  ...     0      3.5    0    0      2       1\n",
              "2   41    0   1     130   204    0  ...     0      1.4    2    0      2       1\n",
              "3   56    1   1     120   236    0  ...     0      0.8    2    0      2       1\n",
              "4   57    0   0     120   354    0  ...     1      0.6    2    0      2       1\n",
              "\n",
              "[5 rows x 14 columns]"
            ]
          },
          "metadata": {},
          "execution_count": 1
        }
      ]
    },
    {
      "cell_type": "code",
      "metadata": {
        "id": "C52OjAFR7bCm"
      },
      "source": [
        "dados_originais_tratados = dados_originais.copy()\n",
        "dados_originais_tratados.restecg.replace({0:'Normal',1:'Possui_anormalidade',2:'Provável_hipertrofia'}, inplace=True)\n",
        "dados_originais_tratados.cp.replace({1:'Angina_tipica',2:'Angina_atipica',3:'Não_Angina',0:'Assintomatico'}, inplace=True)\n",
        "dados_originais_tratados = pd.get_dummies(dados_originais_tratados , columns=['restecg','cp'] , prefix=['restecg_','cp_'])\n",
        "dados_amostra30.drop(columns=['Unnamed: 0'],inplace=True)\n",
        "dados_amostra50.drop(columns=['Unnamed: 0'],inplace=True)\n",
        "dados_amostra70.drop(columns=['Unnamed: 0'],inplace=True) "
      ],
      "execution_count": null,
      "outputs": []
    },
    {
      "cell_type": "code",
      "metadata": {
        "id": "JzPvm8wf-SWn"
      },
      "source": [
        "#!pip install pycaret"
      ],
      "execution_count": null,
      "outputs": []
    },
    {
      "cell_type": "code",
      "metadata": {
        "id": "idKiLbPB-doD"
      },
      "source": [
        "#from pycaret.classification import *"
      ],
      "execution_count": null,
      "outputs": []
    },
    {
      "cell_type": "code",
      "metadata": {
        "id": "3p3DgEhy-_vE"
      },
      "source": [
        "#s = setup(data=dados_originais,target='output')"
      ],
      "execution_count": null,
      "outputs": []
    },
    {
      "cell_type": "code",
      "metadata": {
        "id": "nJPkZbXs_sFP"
      },
      "source": [
        "#compare_models()"
      ],
      "execution_count": null,
      "outputs": []
    },
    {
      "cell_type": "code",
      "metadata": {
        "id": "XKwj_K5K8vrs"
      },
      "source": [
        "dados_originais_tratados = pd.get_dummies(dados_originais_tratados , columns=['slp','thall','caa'] , prefix=['slp_','thall_','caa_'])\n",
        "dados_amostra30 = pd.get_dummies(dados_amostra30 , columns=['slp','thall','caa'] , prefix=['slp_','thall_','caa_'])\n",
        "dados_amostra50 = pd.get_dummies(dados_amostra50 , columns=['slp','thall','caa'] , prefix=['slp_','thall_','caa_'])\n",
        "dados_amostra70 = pd.get_dummies(dados_amostra70 , columns=['slp','thall','caa'] , prefix=['slp_','thall_','caa_'])\n",
        "from sklearn.preprocessing import StandardScaler\n",
        "from sklearn_pandas import DataFrameMapper\n",
        "from sklearn.neural_network import MLPClassifier\n",
        "from sklearn.model_selection import train_test_split\n",
        "from sklearn.metrics import accuracy_score\n",
        "from sklearn.model_selection import cross_val_score"
      ],
      "execution_count": null,
      "outputs": []
    },
    {
      "cell_type": "markdown",
      "metadata": {
        "id": "SV1abFX69i2C"
      },
      "source": [
        ""
      ]
    },
    {
      "cell_type": "code",
      "metadata": {
        "id": "ozs2egyK7yfG",
        "colab": {
          "base_uri": "https://localhost:8080/",
          "height": 320
        },
        "outputId": "05284b71-4bc9-4772-c42b-2bd69cc21580"
      },
      "source": [
        "columns = ['age','trtbps','chol','thalachh','oldpeak']\n",
        "dados_originais_normalizados = dados_originais_tratados.loc[:,columns]\n",
        "dados_originais_normalizados = dados_originais_tratados.drop(columns=['output'])\n",
        "mapper = DataFrameMapper([(dados_originais_normalizados.columns, StandardScaler())])\n",
        "scaled_features = mapper.fit_transform(dados_originais_normalizados.copy())\n",
        "scaled_features_df = pd.DataFrame(scaled_features, index=dados_originais_normalizados.index, columns=dados_originais_normalizados.columns)\n",
        "dados_originais_normalizados = scaled_features_df.copy()\n",
        "dados_originais_normalizados['sex'] = dados_originais_tratados['sex']\n",
        "dados_originais_normalizados['fbs'] = dados_originais_tratados['fbs']\n",
        "dados_originais_normalizados['exng'] = dados_originais_tratados['exng']\n",
        "dados_originais_normalizados['restecg__Normal'] = dados_originais_tratados['restecg__Normal']\n",
        "dados_originais_normalizados['restecg__Possui_anormalidades'] = dados_originais_tratados['restecg__Possui_anormalidade']\n",
        "dados_originais_normalizados['restecg__Provável_hipertrofia'] = dados_originais_tratados['restecg__Provável_hipertrofia']\n",
        "dados_originais_normalizados['cp__Angina_atipica'] = dados_originais_tratados['cp__Angina_atipica']\n",
        "dados_originais_normalizados['cp__Angina_tipica'] = dados_originais_tratados['cp__Angina_tipica']\n",
        "dados_originais_normalizados['cp__Assintomatico'] = dados_originais_tratados['cp__Assintomatico']\n",
        "dados_originais_normalizados['cp__Não_Angina'] = dados_originais_tratados['cp__Não_Angina']\n",
        "dados_originais_normalizados['slp__0'] = dados_originais_tratados['slp__0']\n",
        "dados_originais_normalizados['slp__1'] = dados_originais_tratados['slp__1']\n",
        "dados_originais_normalizados['slp__2'] = dados_originais_tratados['slp__2']\n",
        "dados_originais_normalizados['thall__0'] = dados_originais_tratados['thall__0']\n",
        "dados_originais_normalizados['thall__1'] = dados_originais_tratados['thall__1']\n",
        "dados_originais_normalizados['thall__2'] = dados_originais_tratados['thall__2']\n",
        "dados_originais_normalizados['thall__3'] = dados_originais_tratados['thall__3']\n",
        "dados_originais_normalizados['caa__0'] = dados_originais_tratados['caa__0']\n",
        "dados_originais_normalizados['caa__1'] = dados_originais_tratados['caa__1']\n",
        "dados_originais_normalizados['caa__2'] = dados_originais_tratados['caa__2']\n",
        "dados_originais_normalizados['caa__3'] = dados_originais_tratados['caa__3']\n",
        "dados_originais_normalizados['caa__4'] = dados_originais_tratados['caa__4']\n",
        "dados_originais_normalizados['output'] = dados_originais_tratados['output']\n",
        "dados_originais_normalizados.describe().round(2)"
      ],
      "execution_count": null,
      "outputs": [
        {
          "output_type": "execute_result",
          "data": {
            "text/html": [
              "<div>\n",
              "<style scoped>\n",
              "    .dataframe tbody tr th:only-of-type {\n",
              "        vertical-align: middle;\n",
              "    }\n",
              "\n",
              "    .dataframe tbody tr th {\n",
              "        vertical-align: top;\n",
              "    }\n",
              "\n",
              "    .dataframe thead th {\n",
              "        text-align: right;\n",
              "    }\n",
              "</style>\n",
              "<table border=\"1\" class=\"dataframe\">\n",
              "  <thead>\n",
              "    <tr style=\"text-align: right;\">\n",
              "      <th></th>\n",
              "      <th>age</th>\n",
              "      <th>sex</th>\n",
              "      <th>trtbps</th>\n",
              "      <th>chol</th>\n",
              "      <th>fbs</th>\n",
              "      <th>thalachh</th>\n",
              "      <th>exng</th>\n",
              "      <th>oldpeak</th>\n",
              "      <th>restecg__Normal</th>\n",
              "      <th>restecg__Possui_anormalidade</th>\n",
              "      <th>restecg__Provável_hipertrofia</th>\n",
              "      <th>cp__Angina_atipica</th>\n",
              "      <th>cp__Angina_tipica</th>\n",
              "      <th>cp__Assintomatico</th>\n",
              "      <th>cp__Não_Angina</th>\n",
              "      <th>slp__0</th>\n",
              "      <th>slp__1</th>\n",
              "      <th>slp__2</th>\n",
              "      <th>thall__0</th>\n",
              "      <th>thall__1</th>\n",
              "      <th>thall__2</th>\n",
              "      <th>thall__3</th>\n",
              "      <th>caa__0</th>\n",
              "      <th>caa__1</th>\n",
              "      <th>caa__2</th>\n",
              "      <th>caa__3</th>\n",
              "      <th>caa__4</th>\n",
              "      <th>restecg__Possui_anormalidades</th>\n",
              "      <th>output</th>\n",
              "    </tr>\n",
              "  </thead>\n",
              "  <tbody>\n",
              "    <tr>\n",
              "      <th>count</th>\n",
              "      <td>303.00</td>\n",
              "      <td>303.00</td>\n",
              "      <td>303.00</td>\n",
              "      <td>303.00</td>\n",
              "      <td>303.00</td>\n",
              "      <td>303.00</td>\n",
              "      <td>303.00</td>\n",
              "      <td>303.00</td>\n",
              "      <td>303.00</td>\n",
              "      <td>303.0</td>\n",
              "      <td>303.00</td>\n",
              "      <td>303.00</td>\n",
              "      <td>303.00</td>\n",
              "      <td>303.00</td>\n",
              "      <td>303.00</td>\n",
              "      <td>303.00</td>\n",
              "      <td>303.00</td>\n",
              "      <td>303.00</td>\n",
              "      <td>303.00</td>\n",
              "      <td>303.00</td>\n",
              "      <td>303.00</td>\n",
              "      <td>303.00</td>\n",
              "      <td>303.00</td>\n",
              "      <td>303.00</td>\n",
              "      <td>303.00</td>\n",
              "      <td>303.00</td>\n",
              "      <td>303.00</td>\n",
              "      <td>303.0</td>\n",
              "      <td>303.00</td>\n",
              "    </tr>\n",
              "    <tr>\n",
              "      <th>mean</th>\n",
              "      <td>0.00</td>\n",
              "      <td>0.68</td>\n",
              "      <td>-0.00</td>\n",
              "      <td>-0.00</td>\n",
              "      <td>0.15</td>\n",
              "      <td>-0.00</td>\n",
              "      <td>0.33</td>\n",
              "      <td>-0.00</td>\n",
              "      <td>0.49</td>\n",
              "      <td>0.0</td>\n",
              "      <td>0.01</td>\n",
              "      <td>0.29</td>\n",
              "      <td>0.17</td>\n",
              "      <td>0.47</td>\n",
              "      <td>0.08</td>\n",
              "      <td>0.07</td>\n",
              "      <td>0.46</td>\n",
              "      <td>0.47</td>\n",
              "      <td>0.01</td>\n",
              "      <td>0.06</td>\n",
              "      <td>0.55</td>\n",
              "      <td>0.39</td>\n",
              "      <td>0.58</td>\n",
              "      <td>0.21</td>\n",
              "      <td>0.13</td>\n",
              "      <td>0.07</td>\n",
              "      <td>0.02</td>\n",
              "      <td>0.5</td>\n",
              "      <td>0.54</td>\n",
              "    </tr>\n",
              "    <tr>\n",
              "      <th>std</th>\n",
              "      <td>1.00</td>\n",
              "      <td>0.47</td>\n",
              "      <td>1.00</td>\n",
              "      <td>1.00</td>\n",
              "      <td>0.36</td>\n",
              "      <td>1.00</td>\n",
              "      <td>0.47</td>\n",
              "      <td>1.00</td>\n",
              "      <td>0.50</td>\n",
              "      <td>1.0</td>\n",
              "      <td>0.11</td>\n",
              "      <td>0.45</td>\n",
              "      <td>0.37</td>\n",
              "      <td>0.50</td>\n",
              "      <td>0.27</td>\n",
              "      <td>0.25</td>\n",
              "      <td>0.50</td>\n",
              "      <td>0.50</td>\n",
              "      <td>0.08</td>\n",
              "      <td>0.24</td>\n",
              "      <td>0.50</td>\n",
              "      <td>0.49</td>\n",
              "      <td>0.49</td>\n",
              "      <td>0.41</td>\n",
              "      <td>0.33</td>\n",
              "      <td>0.25</td>\n",
              "      <td>0.13</td>\n",
              "      <td>0.5</td>\n",
              "      <td>0.50</td>\n",
              "    </tr>\n",
              "    <tr>\n",
              "      <th>min</th>\n",
              "      <td>-2.80</td>\n",
              "      <td>0.00</td>\n",
              "      <td>-2.15</td>\n",
              "      <td>-2.32</td>\n",
              "      <td>0.00</td>\n",
              "      <td>-3.44</td>\n",
              "      <td>0.00</td>\n",
              "      <td>-0.90</td>\n",
              "      <td>0.00</td>\n",
              "      <td>-1.0</td>\n",
              "      <td>0.00</td>\n",
              "      <td>0.00</td>\n",
              "      <td>0.00</td>\n",
              "      <td>0.00</td>\n",
              "      <td>0.00</td>\n",
              "      <td>0.00</td>\n",
              "      <td>0.00</td>\n",
              "      <td>0.00</td>\n",
              "      <td>0.00</td>\n",
              "      <td>0.00</td>\n",
              "      <td>0.00</td>\n",
              "      <td>0.00</td>\n",
              "      <td>0.00</td>\n",
              "      <td>0.00</td>\n",
              "      <td>0.00</td>\n",
              "      <td>0.00</td>\n",
              "      <td>0.00</td>\n",
              "      <td>0.0</td>\n",
              "      <td>0.00</td>\n",
              "    </tr>\n",
              "    <tr>\n",
              "      <th>25%</th>\n",
              "      <td>-0.76</td>\n",
              "      <td>0.00</td>\n",
              "      <td>-0.66</td>\n",
              "      <td>-0.68</td>\n",
              "      <td>0.00</td>\n",
              "      <td>-0.71</td>\n",
              "      <td>0.00</td>\n",
              "      <td>-0.90</td>\n",
              "      <td>0.00</td>\n",
              "      <td>-1.0</td>\n",
              "      <td>0.00</td>\n",
              "      <td>0.00</td>\n",
              "      <td>0.00</td>\n",
              "      <td>0.00</td>\n",
              "      <td>0.00</td>\n",
              "      <td>0.00</td>\n",
              "      <td>0.00</td>\n",
              "      <td>0.00</td>\n",
              "      <td>0.00</td>\n",
              "      <td>0.00</td>\n",
              "      <td>0.00</td>\n",
              "      <td>0.00</td>\n",
              "      <td>0.00</td>\n",
              "      <td>0.00</td>\n",
              "      <td>0.00</td>\n",
              "      <td>0.00</td>\n",
              "      <td>0.00</td>\n",
              "      <td>0.0</td>\n",
              "      <td>0.00</td>\n",
              "    </tr>\n",
              "    <tr>\n",
              "      <th>50%</th>\n",
              "      <td>0.07</td>\n",
              "      <td>1.00</td>\n",
              "      <td>-0.09</td>\n",
              "      <td>-0.12</td>\n",
              "      <td>0.00</td>\n",
              "      <td>0.15</td>\n",
              "      <td>0.00</td>\n",
              "      <td>-0.21</td>\n",
              "      <td>0.00</td>\n",
              "      <td>1.0</td>\n",
              "      <td>0.00</td>\n",
              "      <td>0.00</td>\n",
              "      <td>0.00</td>\n",
              "      <td>0.00</td>\n",
              "      <td>0.00</td>\n",
              "      <td>0.00</td>\n",
              "      <td>0.00</td>\n",
              "      <td>0.00</td>\n",
              "      <td>0.00</td>\n",
              "      <td>0.00</td>\n",
              "      <td>1.00</td>\n",
              "      <td>0.00</td>\n",
              "      <td>1.00</td>\n",
              "      <td>0.00</td>\n",
              "      <td>0.00</td>\n",
              "      <td>0.00</td>\n",
              "      <td>0.00</td>\n",
              "      <td>1.0</td>\n",
              "      <td>1.00</td>\n",
              "    </tr>\n",
              "    <tr>\n",
              "      <th>75%</th>\n",
              "      <td>0.73</td>\n",
              "      <td>1.00</td>\n",
              "      <td>0.48</td>\n",
              "      <td>0.55</td>\n",
              "      <td>0.00</td>\n",
              "      <td>0.72</td>\n",
              "      <td>1.00</td>\n",
              "      <td>0.48</td>\n",
              "      <td>1.00</td>\n",
              "      <td>1.0</td>\n",
              "      <td>0.00</td>\n",
              "      <td>1.00</td>\n",
              "      <td>0.00</td>\n",
              "      <td>1.00</td>\n",
              "      <td>0.00</td>\n",
              "      <td>0.00</td>\n",
              "      <td>1.00</td>\n",
              "      <td>1.00</td>\n",
              "      <td>0.00</td>\n",
              "      <td>0.00</td>\n",
              "      <td>1.00</td>\n",
              "      <td>1.00</td>\n",
              "      <td>1.00</td>\n",
              "      <td>0.00</td>\n",
              "      <td>0.00</td>\n",
              "      <td>0.00</td>\n",
              "      <td>0.00</td>\n",
              "      <td>1.0</td>\n",
              "      <td>1.00</td>\n",
              "    </tr>\n",
              "    <tr>\n",
              "      <th>max</th>\n",
              "      <td>2.50</td>\n",
              "      <td>1.00</td>\n",
              "      <td>3.91</td>\n",
              "      <td>6.14</td>\n",
              "      <td>1.00</td>\n",
              "      <td>2.29</td>\n",
              "      <td>1.00</td>\n",
              "      <td>4.45</td>\n",
              "      <td>1.00</td>\n",
              "      <td>1.0</td>\n",
              "      <td>1.00</td>\n",
              "      <td>1.00</td>\n",
              "      <td>1.00</td>\n",
              "      <td>1.00</td>\n",
              "      <td>1.00</td>\n",
              "      <td>1.00</td>\n",
              "      <td>1.00</td>\n",
              "      <td>1.00</td>\n",
              "      <td>1.00</td>\n",
              "      <td>1.00</td>\n",
              "      <td>1.00</td>\n",
              "      <td>1.00</td>\n",
              "      <td>1.00</td>\n",
              "      <td>1.00</td>\n",
              "      <td>1.00</td>\n",
              "      <td>1.00</td>\n",
              "      <td>1.00</td>\n",
              "      <td>1.0</td>\n",
              "      <td>1.00</td>\n",
              "    </tr>\n",
              "  </tbody>\n",
              "</table>\n",
              "</div>"
            ],
            "text/plain": [
              "          age     sex  trtbps  ...  caa__4  restecg__Possui_anormalidades  output\n",
              "count  303.00  303.00  303.00  ...  303.00                          303.0  303.00\n",
              "mean     0.00    0.68   -0.00  ...    0.02                            0.5    0.54\n",
              "std      1.00    0.47    1.00  ...    0.13                            0.5    0.50\n",
              "min     -2.80    0.00   -2.15  ...    0.00                            0.0    0.00\n",
              "25%     -0.76    0.00   -0.66  ...    0.00                            0.0    0.00\n",
              "50%      0.07    1.00   -0.09  ...    0.00                            1.0    1.00\n",
              "75%      0.73    1.00    0.48  ...    0.00                            1.0    1.00\n",
              "max      2.50    1.00    3.91  ...    1.00                            1.0    1.00\n",
              "\n",
              "[8 rows x 29 columns]"
            ]
          },
          "metadata": {},
          "execution_count": 8
        }
      ]
    },
    {
      "cell_type": "code",
      "metadata": {
        "id": "6wv-OhYG79Pi",
        "colab": {
          "base_uri": "https://localhost:8080/",
          "height": 320
        },
        "outputId": "715f193d-18a7-48f4-984d-5e89445c0836"
      },
      "source": [
        "columns = ['age','trtbps','chol','thalachh','oldpeak']\n",
        "dados_amostra30_normalizado = dados_amostra30.loc[:,columns]\n",
        "dados_amostra30_normalizado = dados_amostra30.drop(columns=['output'])\n",
        "mapper = DataFrameMapper([(dados_amostra30_normalizado.columns, StandardScaler())])\n",
        "scaled_features = mapper.fit_transform(dados_amostra30_normalizado.copy())\n",
        "scaled_features_df = pd.DataFrame(scaled_features, index=dados_amostra30_normalizado.index, columns=dados_amostra30_normalizado.columns)\n",
        "dados_amostra30_normalizado = scaled_features_df.copy()\n",
        "dados_amostra30_normalizado['sex'] = dados_amostra30['sex']\n",
        "dados_amostra30_normalizado['fbs'] = dados_amostra30['fbs']\n",
        "dados_amostra30_normalizado['exng'] = dados_amostra30['exng']\n",
        "dados_amostra30_normalizado['restecg__Normal'] = dados_amostra30['restecg__Normal']\n",
        "dados_amostra30_normalizado['restecg__Possui_anormalidades'] = dados_amostra30['restecg__Possui_anormalidade']\n",
        "dados_amostra30_normalizado['restecg__Provável_hipertrofia'] = dados_amostra30['restecg__Provável_hipertrofia']\n",
        "dados_amostra30_normalizado['cp__Angina_atipica'] = dados_amostra30['cp__Angina_atipica']\n",
        "dados_amostra30_normalizado['cp__Angina_tipica'] = dados_amostra30['cp__Angina_tipica']\n",
        "dados_amostra30_normalizado['cp__Assintomatico'] = dados_amostra30['cp__Assintomatico']\n",
        "dados_amostra30_normalizado['cp__Não_Angina'] = dados_amostra30['cp__Não_Angina']\n",
        "dados_amostra30_normalizado['slp__0'] = dados_amostra30['slp__0']\n",
        "dados_amostra30_normalizado['slp__1'] = dados_amostra30['slp__1']\n",
        "dados_amostra30_normalizado['slp__2'] = dados_amostra30['slp__2']\n",
        "#dados_amostra30_normalizado['thall__0'] = dados_amostra30['thall__0']\n",
        "dados_amostra30_normalizado['thall__1'] = dados_amostra30['thall__1']\n",
        "dados_amostra30_normalizado['thall__2'] = dados_amostra30['thall__2']\n",
        "dados_amostra30_normalizado['thall__3'] = dados_amostra30['thall__3']\n",
        "dados_amostra30_normalizado['caa__0'] = dados_amostra30['caa__0']\n",
        "dados_amostra30_normalizado['caa__1'] = dados_amostra30['caa__1']\n",
        "dados_amostra30_normalizado['caa__2'] = dados_amostra30['caa__2']\n",
        "dados_amostra30_normalizado['caa__3'] = dados_amostra30['caa__3']\n",
        "dados_amostra30_normalizado['caa__4'] = dados_amostra30['caa__4']\n",
        "dados_amostra30_normalizado['output'] = dados_amostra30['output']\n",
        "dados_amostra30_normalizado.describe().round(2)"
      ],
      "execution_count": null,
      "outputs": [
        {
          "output_type": "execute_result",
          "data": {
            "text/html": [
              "<div>\n",
              "<style scoped>\n",
              "    .dataframe tbody tr th:only-of-type {\n",
              "        vertical-align: middle;\n",
              "    }\n",
              "\n",
              "    .dataframe tbody tr th {\n",
              "        vertical-align: top;\n",
              "    }\n",
              "\n",
              "    .dataframe thead th {\n",
              "        text-align: right;\n",
              "    }\n",
              "</style>\n",
              "<table border=\"1\" class=\"dataframe\">\n",
              "  <thead>\n",
              "    <tr style=\"text-align: right;\">\n",
              "      <th></th>\n",
              "      <th>age</th>\n",
              "      <th>sex</th>\n",
              "      <th>trtbps</th>\n",
              "      <th>chol</th>\n",
              "      <th>fbs</th>\n",
              "      <th>thalachh</th>\n",
              "      <th>exng</th>\n",
              "      <th>oldpeak</th>\n",
              "      <th>restecg__Normal</th>\n",
              "      <th>restecg__Possui_anormalidade</th>\n",
              "      <th>restecg__Provável_hipertrofia</th>\n",
              "      <th>cp__Angina_atipica</th>\n",
              "      <th>cp__Angina_tipica</th>\n",
              "      <th>cp__Assintomatico</th>\n",
              "      <th>cp__Não_Angina</th>\n",
              "      <th>slp__0</th>\n",
              "      <th>slp__1</th>\n",
              "      <th>slp__2</th>\n",
              "      <th>thall__1</th>\n",
              "      <th>thall__2</th>\n",
              "      <th>thall__3</th>\n",
              "      <th>caa__0</th>\n",
              "      <th>caa__1</th>\n",
              "      <th>caa__2</th>\n",
              "      <th>caa__3</th>\n",
              "      <th>caa__4</th>\n",
              "      <th>restecg__Possui_anormalidades</th>\n",
              "      <th>output</th>\n",
              "    </tr>\n",
              "  </thead>\n",
              "  <tbody>\n",
              "    <tr>\n",
              "      <th>count</th>\n",
              "      <td>91.00</td>\n",
              "      <td>91.00</td>\n",
              "      <td>91.00</td>\n",
              "      <td>91.00</td>\n",
              "      <td>91.00</td>\n",
              "      <td>91.00</td>\n",
              "      <td>91.00</td>\n",
              "      <td>91.00</td>\n",
              "      <td>91.00</td>\n",
              "      <td>91.00</td>\n",
              "      <td>91.0</td>\n",
              "      <td>91.00</td>\n",
              "      <td>91.00</td>\n",
              "      <td>91.00</td>\n",
              "      <td>91.00</td>\n",
              "      <td>91.0</td>\n",
              "      <td>91.00</td>\n",
              "      <td>91.00</td>\n",
              "      <td>91.00</td>\n",
              "      <td>91.00</td>\n",
              "      <td>91.00</td>\n",
              "      <td>91.00</td>\n",
              "      <td>91.00</td>\n",
              "      <td>91.00</td>\n",
              "      <td>91.00</td>\n",
              "      <td>91.00</td>\n",
              "      <td>91.00</td>\n",
              "      <td>91.00</td>\n",
              "    </tr>\n",
              "    <tr>\n",
              "      <th>mean</th>\n",
              "      <td>0.00</td>\n",
              "      <td>0.69</td>\n",
              "      <td>-0.00</td>\n",
              "      <td>-0.00</td>\n",
              "      <td>0.14</td>\n",
              "      <td>-0.00</td>\n",
              "      <td>0.30</td>\n",
              "      <td>0.00</td>\n",
              "      <td>0.35</td>\n",
              "      <td>0.00</td>\n",
              "      <td>0.0</td>\n",
              "      <td>0.24</td>\n",
              "      <td>0.19</td>\n",
              "      <td>0.52</td>\n",
              "      <td>0.05</td>\n",
              "      <td>0.1</td>\n",
              "      <td>0.45</td>\n",
              "      <td>0.45</td>\n",
              "      <td>0.05</td>\n",
              "      <td>0.53</td>\n",
              "      <td>0.42</td>\n",
              "      <td>0.54</td>\n",
              "      <td>0.22</td>\n",
              "      <td>0.16</td>\n",
              "      <td>0.04</td>\n",
              "      <td>0.03</td>\n",
              "      <td>0.65</td>\n",
              "      <td>0.54</td>\n",
              "    </tr>\n",
              "    <tr>\n",
              "      <th>std</th>\n",
              "      <td>1.01</td>\n",
              "      <td>0.46</td>\n",
              "      <td>1.01</td>\n",
              "      <td>1.01</td>\n",
              "      <td>0.35</td>\n",
              "      <td>1.01</td>\n",
              "      <td>0.46</td>\n",
              "      <td>1.01</td>\n",
              "      <td>0.48</td>\n",
              "      <td>1.01</td>\n",
              "      <td>0.0</td>\n",
              "      <td>0.43</td>\n",
              "      <td>0.39</td>\n",
              "      <td>0.50</td>\n",
              "      <td>0.23</td>\n",
              "      <td>0.3</td>\n",
              "      <td>0.50</td>\n",
              "      <td>0.50</td>\n",
              "      <td>0.23</td>\n",
              "      <td>0.50</td>\n",
              "      <td>0.50</td>\n",
              "      <td>0.50</td>\n",
              "      <td>0.42</td>\n",
              "      <td>0.37</td>\n",
              "      <td>0.21</td>\n",
              "      <td>0.18</td>\n",
              "      <td>0.48</td>\n",
              "      <td>0.50</td>\n",
              "    </tr>\n",
              "    <tr>\n",
              "      <th>min</th>\n",
              "      <td>-2.12</td>\n",
              "      <td>0.00</td>\n",
              "      <td>-1.92</td>\n",
              "      <td>-1.73</td>\n",
              "      <td>0.00</td>\n",
              "      <td>-3.10</td>\n",
              "      <td>0.00</td>\n",
              "      <td>-0.88</td>\n",
              "      <td>0.00</td>\n",
              "      <td>-1.36</td>\n",
              "      <td>0.0</td>\n",
              "      <td>0.00</td>\n",
              "      <td>0.00</td>\n",
              "      <td>0.00</td>\n",
              "      <td>0.00</td>\n",
              "      <td>0.0</td>\n",
              "      <td>0.00</td>\n",
              "      <td>0.00</td>\n",
              "      <td>0.00</td>\n",
              "      <td>0.00</td>\n",
              "      <td>0.00</td>\n",
              "      <td>0.00</td>\n",
              "      <td>0.00</td>\n",
              "      <td>0.00</td>\n",
              "      <td>0.00</td>\n",
              "      <td>0.00</td>\n",
              "      <td>0.00</td>\n",
              "      <td>0.00</td>\n",
              "    </tr>\n",
              "    <tr>\n",
              "      <th>25%</th>\n",
              "      <td>-0.92</td>\n",
              "      <td>0.00</td>\n",
              "      <td>-0.62</td>\n",
              "      <td>-0.73</td>\n",
              "      <td>0.00</td>\n",
              "      <td>-0.68</td>\n",
              "      <td>0.00</td>\n",
              "      <td>-0.88</td>\n",
              "      <td>0.00</td>\n",
              "      <td>-1.36</td>\n",
              "      <td>0.0</td>\n",
              "      <td>0.00</td>\n",
              "      <td>0.00</td>\n",
              "      <td>0.00</td>\n",
              "      <td>0.00</td>\n",
              "      <td>0.0</td>\n",
              "      <td>0.00</td>\n",
              "      <td>0.00</td>\n",
              "      <td>0.00</td>\n",
              "      <td>0.00</td>\n",
              "      <td>0.00</td>\n",
              "      <td>0.00</td>\n",
              "      <td>0.00</td>\n",
              "      <td>0.00</td>\n",
              "      <td>0.00</td>\n",
              "      <td>0.00</td>\n",
              "      <td>0.00</td>\n",
              "      <td>0.00</td>\n",
              "    </tr>\n",
              "    <tr>\n",
              "      <th>50%</th>\n",
              "      <td>0.16</td>\n",
              "      <td>1.00</td>\n",
              "      <td>0.03</td>\n",
              "      <td>-0.09</td>\n",
              "      <td>0.00</td>\n",
              "      <td>0.11</td>\n",
              "      <td>0.00</td>\n",
              "      <td>-0.23</td>\n",
              "      <td>0.00</td>\n",
              "      <td>0.74</td>\n",
              "      <td>0.0</td>\n",
              "      <td>0.00</td>\n",
              "      <td>0.00</td>\n",
              "      <td>1.00</td>\n",
              "      <td>0.00</td>\n",
              "      <td>0.0</td>\n",
              "      <td>0.00</td>\n",
              "      <td>0.00</td>\n",
              "      <td>0.00</td>\n",
              "      <td>1.00</td>\n",
              "      <td>0.00</td>\n",
              "      <td>1.00</td>\n",
              "      <td>0.00</td>\n",
              "      <td>0.00</td>\n",
              "      <td>0.00</td>\n",
              "      <td>0.00</td>\n",
              "      <td>1.00</td>\n",
              "      <td>1.00</td>\n",
              "    </tr>\n",
              "    <tr>\n",
              "      <th>75%</th>\n",
              "      <td>0.78</td>\n",
              "      <td>1.00</td>\n",
              "      <td>0.68</td>\n",
              "      <td>0.51</td>\n",
              "      <td>0.00</td>\n",
              "      <td>0.73</td>\n",
              "      <td>1.00</td>\n",
              "      <td>0.49</td>\n",
              "      <td>1.00</td>\n",
              "      <td>0.74</td>\n",
              "      <td>0.0</td>\n",
              "      <td>0.00</td>\n",
              "      <td>0.00</td>\n",
              "      <td>1.00</td>\n",
              "      <td>0.00</td>\n",
              "      <td>0.0</td>\n",
              "      <td>1.00</td>\n",
              "      <td>1.00</td>\n",
              "      <td>0.00</td>\n",
              "      <td>1.00</td>\n",
              "      <td>1.00</td>\n",
              "      <td>1.00</td>\n",
              "      <td>0.00</td>\n",
              "      <td>0.00</td>\n",
              "      <td>0.00</td>\n",
              "      <td>0.00</td>\n",
              "      <td>1.00</td>\n",
              "      <td>1.00</td>\n",
              "    </tr>\n",
              "    <tr>\n",
              "      <th>max</th>\n",
              "      <td>1.98</td>\n",
              "      <td>1.00</td>\n",
              "      <td>3.16</td>\n",
              "      <td>3.58</td>\n",
              "      <td>1.00</td>\n",
              "      <td>1.78</td>\n",
              "      <td>1.00</td>\n",
              "      <td>3.65</td>\n",
              "      <td>1.00</td>\n",
              "      <td>0.74</td>\n",
              "      <td>0.0</td>\n",
              "      <td>1.00</td>\n",
              "      <td>1.00</td>\n",
              "      <td>1.00</td>\n",
              "      <td>1.00</td>\n",
              "      <td>1.0</td>\n",
              "      <td>1.00</td>\n",
              "      <td>1.00</td>\n",
              "      <td>1.00</td>\n",
              "      <td>1.00</td>\n",
              "      <td>1.00</td>\n",
              "      <td>1.00</td>\n",
              "      <td>1.00</td>\n",
              "      <td>1.00</td>\n",
              "      <td>1.00</td>\n",
              "      <td>1.00</td>\n",
              "      <td>1.00</td>\n",
              "      <td>1.00</td>\n",
              "    </tr>\n",
              "  </tbody>\n",
              "</table>\n",
              "</div>"
            ],
            "text/plain": [
              "         age    sex  trtbps  ...  caa__4  restecg__Possui_anormalidades  output\n",
              "count  91.00  91.00   91.00  ...   91.00                          91.00   91.00\n",
              "mean    0.00   0.69   -0.00  ...    0.03                           0.65    0.54\n",
              "std     1.01   0.46    1.01  ...    0.18                           0.48    0.50\n",
              "min    -2.12   0.00   -1.92  ...    0.00                           0.00    0.00\n",
              "25%    -0.92   0.00   -0.62  ...    0.00                           0.00    0.00\n",
              "50%     0.16   1.00    0.03  ...    0.00                           1.00    1.00\n",
              "75%     0.78   1.00    0.68  ...    0.00                           1.00    1.00\n",
              "max     1.98   1.00    3.16  ...    1.00                           1.00    1.00\n",
              "\n",
              "[8 rows x 28 columns]"
            ]
          },
          "metadata": {},
          "execution_count": 9
        }
      ]
    },
    {
      "cell_type": "code",
      "metadata": {
        "id": "KgRI929C8GK4",
        "colab": {
          "base_uri": "https://localhost:8080/",
          "height": 320
        },
        "outputId": "d827101a-7598-471c-a23a-6aec33b5a8a4"
      },
      "source": [
        "columns = ['age','trtbps','chol','thalachh','oldpeak']\n",
        "dados_amostra50_normalizado = dados_amostra50.loc[:,columns]\n",
        "dados_amostra50_normalizado = dados_amostra50.drop(columns=['output'])\n",
        "mapper = DataFrameMapper([(dados_amostra50_normalizado.columns, StandardScaler())])\n",
        "scaled_features = mapper.fit_transform(dados_amostra50_normalizado.copy())\n",
        "scaled_features_df = pd.DataFrame(scaled_features, index=dados_amostra50_normalizado.index, columns=dados_amostra50_normalizado.columns)\n",
        "dados_amostra50_normalizado = scaled_features_df.copy()\n",
        "dados_amostra50_normalizado['sex'] = dados_amostra50['sex']\n",
        "dados_amostra50_normalizado['fbs'] = dados_amostra50['fbs']\n",
        "dados_amostra50_normalizado['exng'] = dados_amostra50['exng']\n",
        "dados_amostra50_normalizado['restecg__Normal'] = dados_amostra50['restecg__Normal']\n",
        "dados_amostra50_normalizado['restecg__Possui_anormalidades'] = dados_amostra50['restecg__Possui_anormalidade']\n",
        "dados_amostra50_normalizado['restecg__Provável_hipertrofia'] = dados_amostra50['restecg__Provável_hipertrofia']\n",
        "dados_amostra50_normalizado['cp__Angina_atipica'] = dados_amostra50['cp__Angina_atipica']\n",
        "dados_amostra50_normalizado['cp__Angina_tipica'] = dados_amostra50['cp__Angina_tipica']\n",
        "dados_amostra50_normalizado['cp__Assintomatico'] = dados_amostra50['cp__Assintomatico']\n",
        "dados_amostra50_normalizado['cp__Não_Angina'] = dados_amostra50['cp__Não_Angina']\n",
        "dados_amostra50_normalizado['slp__0'] = dados_amostra50['slp__0']\n",
        "dados_amostra50_normalizado['slp__1'] = dados_amostra50['slp__1']\n",
        "dados_amostra50_normalizado['slp__2'] = dados_amostra50['slp__2']\n",
        "dados_amostra50_normalizado['thall__0'] = dados_amostra50['thall__0']\n",
        "dados_amostra50_normalizado['thall__1'] = dados_amostra50['thall__1']\n",
        "dados_amostra50_normalizado['thall__2'] = dados_amostra50['thall__2']\n",
        "dados_amostra50_normalizado['thall__3'] = dados_amostra50['thall__3']\n",
        "dados_amostra50_normalizado['caa__0'] = dados_amostra50['caa__0']\n",
        "dados_amostra50_normalizado['caa__1'] = dados_amostra50['caa__1']\n",
        "dados_amostra50_normalizado['caa__2'] = dados_amostra50['caa__2']\n",
        "dados_amostra50_normalizado['caa__3'] = dados_amostra50['caa__3']\n",
        "dados_amostra50_normalizado['caa__4'] = dados_amostra50['caa__4']\n",
        "dados_amostra50_normalizado['output'] = dados_amostra50['output']\n",
        "dados_amostra50_normalizado.describe().round(2)"
      ],
      "execution_count": null,
      "outputs": [
        {
          "output_type": "execute_result",
          "data": {
            "text/html": [
              "<div>\n",
              "<style scoped>\n",
              "    .dataframe tbody tr th:only-of-type {\n",
              "        vertical-align: middle;\n",
              "    }\n",
              "\n",
              "    .dataframe tbody tr th {\n",
              "        vertical-align: top;\n",
              "    }\n",
              "\n",
              "    .dataframe thead th {\n",
              "        text-align: right;\n",
              "    }\n",
              "</style>\n",
              "<table border=\"1\" class=\"dataframe\">\n",
              "  <thead>\n",
              "    <tr style=\"text-align: right;\">\n",
              "      <th></th>\n",
              "      <th>age</th>\n",
              "      <th>sex</th>\n",
              "      <th>trtbps</th>\n",
              "      <th>chol</th>\n",
              "      <th>fbs</th>\n",
              "      <th>thalachh</th>\n",
              "      <th>exng</th>\n",
              "      <th>oldpeak</th>\n",
              "      <th>restecg__Normal</th>\n",
              "      <th>restecg__Possui_anormalidade</th>\n",
              "      <th>restecg__Provável_hipertrofia</th>\n",
              "      <th>cp__Angina_atipica</th>\n",
              "      <th>cp__Angina_tipica</th>\n",
              "      <th>cp__Assintomatico</th>\n",
              "      <th>cp__Não_Angina</th>\n",
              "      <th>slp__0</th>\n",
              "      <th>slp__1</th>\n",
              "      <th>slp__2</th>\n",
              "      <th>thall__0</th>\n",
              "      <th>thall__1</th>\n",
              "      <th>thall__2</th>\n",
              "      <th>thall__3</th>\n",
              "      <th>caa__0</th>\n",
              "      <th>caa__1</th>\n",
              "      <th>caa__2</th>\n",
              "      <th>caa__3</th>\n",
              "      <th>caa__4</th>\n",
              "      <th>restecg__Possui_anormalidades</th>\n",
              "      <th>output</th>\n",
              "    </tr>\n",
              "  </thead>\n",
              "  <tbody>\n",
              "    <tr>\n",
              "      <th>count</th>\n",
              "      <td>151.00</td>\n",
              "      <td>151.00</td>\n",
              "      <td>151.00</td>\n",
              "      <td>151.00</td>\n",
              "      <td>151.00</td>\n",
              "      <td>151.00</td>\n",
              "      <td>151.00</td>\n",
              "      <td>151.00</td>\n",
              "      <td>151.00</td>\n",
              "      <td>151.00</td>\n",
              "      <td>151.00</td>\n",
              "      <td>151.00</td>\n",
              "      <td>151.00</td>\n",
              "      <td>151.00</td>\n",
              "      <td>151.00</td>\n",
              "      <td>151.00</td>\n",
              "      <td>151.00</td>\n",
              "      <td>151.00</td>\n",
              "      <td>151.00</td>\n",
              "      <td>151.00</td>\n",
              "      <td>151.00</td>\n",
              "      <td>151.00</td>\n",
              "      <td>151.00</td>\n",
              "      <td>151.00</td>\n",
              "      <td>151.00</td>\n",
              "      <td>151.0</td>\n",
              "      <td>151.00</td>\n",
              "      <td>151.00</td>\n",
              "      <td>151.00</td>\n",
              "    </tr>\n",
              "    <tr>\n",
              "      <th>mean</th>\n",
              "      <td>-0.00</td>\n",
              "      <td>0.75</td>\n",
              "      <td>0.00</td>\n",
              "      <td>-0.00</td>\n",
              "      <td>0.17</td>\n",
              "      <td>-0.00</td>\n",
              "      <td>0.34</td>\n",
              "      <td>0.00</td>\n",
              "      <td>0.54</td>\n",
              "      <td>-0.00</td>\n",
              "      <td>0.01</td>\n",
              "      <td>0.28</td>\n",
              "      <td>0.13</td>\n",
              "      <td>0.52</td>\n",
              "      <td>0.06</td>\n",
              "      <td>0.07</td>\n",
              "      <td>0.51</td>\n",
              "      <td>0.42</td>\n",
              "      <td>0.01</td>\n",
              "      <td>0.08</td>\n",
              "      <td>0.49</td>\n",
              "      <td>0.42</td>\n",
              "      <td>0.57</td>\n",
              "      <td>0.19</td>\n",
              "      <td>0.13</td>\n",
              "      <td>0.1</td>\n",
              "      <td>0.01</td>\n",
              "      <td>0.45</td>\n",
              "      <td>0.54</td>\n",
              "    </tr>\n",
              "    <tr>\n",
              "      <th>std</th>\n",
              "      <td>1.00</td>\n",
              "      <td>0.43</td>\n",
              "      <td>1.00</td>\n",
              "      <td>1.00</td>\n",
              "      <td>0.37</td>\n",
              "      <td>1.00</td>\n",
              "      <td>0.48</td>\n",
              "      <td>1.00</td>\n",
              "      <td>0.50</td>\n",
              "      <td>1.00</td>\n",
              "      <td>0.11</td>\n",
              "      <td>0.45</td>\n",
              "      <td>0.34</td>\n",
              "      <td>0.50</td>\n",
              "      <td>0.24</td>\n",
              "      <td>0.26</td>\n",
              "      <td>0.50</td>\n",
              "      <td>0.49</td>\n",
              "      <td>0.08</td>\n",
              "      <td>0.27</td>\n",
              "      <td>0.50</td>\n",
              "      <td>0.50</td>\n",
              "      <td>0.50</td>\n",
              "      <td>0.39</td>\n",
              "      <td>0.34</td>\n",
              "      <td>0.3</td>\n",
              "      <td>0.11</td>\n",
              "      <td>0.50</td>\n",
              "      <td>0.50</td>\n",
              "    </tr>\n",
              "    <tr>\n",
              "      <th>min</th>\n",
              "      <td>-2.23</td>\n",
              "      <td>0.00</td>\n",
              "      <td>-2.22</td>\n",
              "      <td>-2.16</td>\n",
              "      <td>0.00</td>\n",
              "      <td>-2.51</td>\n",
              "      <td>0.00</td>\n",
              "      <td>-0.96</td>\n",
              "      <td>0.00</td>\n",
              "      <td>-0.91</td>\n",
              "      <td>0.00</td>\n",
              "      <td>0.00</td>\n",
              "      <td>0.00</td>\n",
              "      <td>0.00</td>\n",
              "      <td>0.00</td>\n",
              "      <td>0.00</td>\n",
              "      <td>0.00</td>\n",
              "      <td>0.00</td>\n",
              "      <td>0.00</td>\n",
              "      <td>0.00</td>\n",
              "      <td>0.00</td>\n",
              "      <td>0.00</td>\n",
              "      <td>0.00</td>\n",
              "      <td>0.00</td>\n",
              "      <td>0.00</td>\n",
              "      <td>0.0</td>\n",
              "      <td>0.00</td>\n",
              "      <td>0.00</td>\n",
              "      <td>0.00</td>\n",
              "    </tr>\n",
              "    <tr>\n",
              "      <th>25%</th>\n",
              "      <td>-0.83</td>\n",
              "      <td>1.00</td>\n",
              "      <td>-0.70</td>\n",
              "      <td>-0.63</td>\n",
              "      <td>0.00</td>\n",
              "      <td>-0.75</td>\n",
              "      <td>0.00</td>\n",
              "      <td>-0.96</td>\n",
              "      <td>0.00</td>\n",
              "      <td>-0.91</td>\n",
              "      <td>0.00</td>\n",
              "      <td>0.00</td>\n",
              "      <td>0.00</td>\n",
              "      <td>0.00</td>\n",
              "      <td>0.00</td>\n",
              "      <td>0.00</td>\n",
              "      <td>0.00</td>\n",
              "      <td>0.00</td>\n",
              "      <td>0.00</td>\n",
              "      <td>0.00</td>\n",
              "      <td>0.00</td>\n",
              "      <td>0.00</td>\n",
              "      <td>0.00</td>\n",
              "      <td>0.00</td>\n",
              "      <td>0.00</td>\n",
              "      <td>0.0</td>\n",
              "      <td>0.00</td>\n",
              "      <td>0.00</td>\n",
              "      <td>0.00</td>\n",
              "    </tr>\n",
              "    <tr>\n",
              "      <th>50%</th>\n",
              "      <td>0.14</td>\n",
              "      <td>1.00</td>\n",
              "      <td>-0.12</td>\n",
              "      <td>-0.07</td>\n",
              "      <td>0.00</td>\n",
              "      <td>0.18</td>\n",
              "      <td>0.00</td>\n",
              "      <td>-0.29</td>\n",
              "      <td>1.00</td>\n",
              "      <td>-0.91</td>\n",
              "      <td>0.00</td>\n",
              "      <td>0.00</td>\n",
              "      <td>0.00</td>\n",
              "      <td>1.00</td>\n",
              "      <td>0.00</td>\n",
              "      <td>0.00</td>\n",
              "      <td>1.00</td>\n",
              "      <td>0.00</td>\n",
              "      <td>0.00</td>\n",
              "      <td>0.00</td>\n",
              "      <td>0.00</td>\n",
              "      <td>0.00</td>\n",
              "      <td>1.00</td>\n",
              "      <td>0.00</td>\n",
              "      <td>0.00</td>\n",
              "      <td>0.0</td>\n",
              "      <td>0.00</td>\n",
              "      <td>0.00</td>\n",
              "      <td>1.00</td>\n",
              "    </tr>\n",
              "    <tr>\n",
              "      <th>75%</th>\n",
              "      <td>0.73</td>\n",
              "      <td>1.00</td>\n",
              "      <td>0.64</td>\n",
              "      <td>0.49</td>\n",
              "      <td>0.00</td>\n",
              "      <td>0.66</td>\n",
              "      <td>1.00</td>\n",
              "      <td>0.54</td>\n",
              "      <td>1.00</td>\n",
              "      <td>1.10</td>\n",
              "      <td>0.00</td>\n",
              "      <td>1.00</td>\n",
              "      <td>0.00</td>\n",
              "      <td>1.00</td>\n",
              "      <td>0.00</td>\n",
              "      <td>0.00</td>\n",
              "      <td>1.00</td>\n",
              "      <td>1.00</td>\n",
              "      <td>0.00</td>\n",
              "      <td>0.00</td>\n",
              "      <td>1.00</td>\n",
              "      <td>1.00</td>\n",
              "      <td>1.00</td>\n",
              "      <td>0.00</td>\n",
              "      <td>0.00</td>\n",
              "      <td>0.0</td>\n",
              "      <td>0.00</td>\n",
              "      <td>1.00</td>\n",
              "      <td>1.00</td>\n",
              "    </tr>\n",
              "    <tr>\n",
              "      <th>max</th>\n",
              "      <td>2.40</td>\n",
              "      <td>1.00</td>\n",
              "      <td>2.79</td>\n",
              "      <td>5.92</td>\n",
              "      <td>1.00</td>\n",
              "      <td>2.00</td>\n",
              "      <td>1.00</td>\n",
              "      <td>3.71</td>\n",
              "      <td>1.00</td>\n",
              "      <td>1.10</td>\n",
              "      <td>1.00</td>\n",
              "      <td>1.00</td>\n",
              "      <td>1.00</td>\n",
              "      <td>1.00</td>\n",
              "      <td>1.00</td>\n",
              "      <td>1.00</td>\n",
              "      <td>1.00</td>\n",
              "      <td>1.00</td>\n",
              "      <td>1.00</td>\n",
              "      <td>1.00</td>\n",
              "      <td>1.00</td>\n",
              "      <td>1.00</td>\n",
              "      <td>1.00</td>\n",
              "      <td>1.00</td>\n",
              "      <td>1.00</td>\n",
              "      <td>1.0</td>\n",
              "      <td>1.00</td>\n",
              "      <td>1.00</td>\n",
              "      <td>1.00</td>\n",
              "    </tr>\n",
              "  </tbody>\n",
              "</table>\n",
              "</div>"
            ],
            "text/plain": [
              "          age     sex  trtbps  ...  caa__4  restecg__Possui_anormalidades  output\n",
              "count  151.00  151.00  151.00  ...  151.00                         151.00  151.00\n",
              "mean    -0.00    0.75    0.00  ...    0.01                           0.45    0.54\n",
              "std      1.00    0.43    1.00  ...    0.11                           0.50    0.50\n",
              "min     -2.23    0.00   -2.22  ...    0.00                           0.00    0.00\n",
              "25%     -0.83    1.00   -0.70  ...    0.00                           0.00    0.00\n",
              "50%      0.14    1.00   -0.12  ...    0.00                           0.00    1.00\n",
              "75%      0.73    1.00    0.64  ...    0.00                           1.00    1.00\n",
              "max      2.40    1.00    2.79  ...    1.00                           1.00    1.00\n",
              "\n",
              "[8 rows x 29 columns]"
            ]
          },
          "metadata": {},
          "execution_count": 10
        }
      ]
    },
    {
      "cell_type": "code",
      "metadata": {
        "id": "1GoQyDRV8Yr6",
        "colab": {
          "base_uri": "https://localhost:8080/",
          "height": 320
        },
        "outputId": "a134913b-bc7d-409d-d48a-dbe6d5945fb0"
      },
      "source": [
        "columns = ['age','trtbps','chol','thalachh','oldpeak']\n",
        "dados_amostra70_normalizado = dados_amostra70.loc[:,columns]\n",
        "dados_amostra70_normalizado = dados_amostra70.drop(columns=['output'])\n",
        "mapper = DataFrameMapper([(dados_amostra70_normalizado.columns, StandardScaler())])\n",
        "scaled_features = mapper.fit_transform(dados_amostra70_normalizado.copy())\n",
        "scaled_features_df = pd.DataFrame(scaled_features, index=dados_amostra70_normalizado.index, columns=dados_amostra70_normalizado.columns)\n",
        "dados_amostra70_normalizado = scaled_features_df.copy()\n",
        "dados_amostra70_normalizado['sex'] = dados_amostra70['sex']\n",
        "dados_amostra70_normalizado['fbs'] = dados_amostra70['fbs']\n",
        "dados_amostra70_normalizado['exng'] = dados_amostra70['exng']\n",
        "dados_amostra70_normalizado['restecg__Normal'] = dados_amostra70['restecg__Normal']\n",
        "dados_amostra70_normalizado['restecg__Possui_anormalidades'] = dados_amostra70['restecg__Possui_anormalidade']\n",
        "dados_amostra70_normalizado['restecg__Provável_hipertrofia'] = dados_amostra70['restecg__Provável_hipertrofia']\n",
        "dados_amostra70_normalizado['cp__Angina_atipica'] = dados_amostra70['cp__Angina_atipica']\n",
        "dados_amostra70_normalizado['cp__Angina_tipica'] = dados_amostra70['cp__Angina_tipica']\n",
        "dados_amostra70_normalizado['cp__Assintomatico'] = dados_amostra70['cp__Assintomatico']\n",
        "dados_amostra70_normalizado['cp__Não_Angina'] = dados_amostra70['cp__Não_Angina']\n",
        "dados_amostra70_normalizado['slp__0'] = dados_amostra70['slp__0']\n",
        "dados_amostra70_normalizado['slp__1'] = dados_amostra70['slp__1']\n",
        "dados_amostra70_normalizado['slp__2'] = dados_amostra70['slp__2']\n",
        "dados_amostra70_normalizado['thall__0'] = dados_amostra70['thall__0']\n",
        "dados_amostra70_normalizado['thall__1'] = dados_amostra70['thall__1']\n",
        "dados_amostra70_normalizado['thall__2'] = dados_amostra70['thall__2']\n",
        "dados_amostra70_normalizado['thall__3'] = dados_amostra70['thall__3']\n",
        "dados_amostra70_normalizado['caa__0'] = dados_amostra70['caa__0']\n",
        "dados_amostra70_normalizado['caa__1'] = dados_amostra70['caa__1']\n",
        "dados_amostra70_normalizado['caa__2'] = dados_amostra70['caa__2']\n",
        "dados_amostra70_normalizado['caa__3'] = dados_amostra70['caa__3']\n",
        "dados_amostra70_normalizado['caa__4'] = dados_amostra70['caa__4']\n",
        "dados_amostra70_normalizado['output'] = dados_amostra70['output']\n",
        "dados_amostra70_normalizado.describe().round(2)"
      ],
      "execution_count": null,
      "outputs": [
        {
          "output_type": "execute_result",
          "data": {
            "text/html": [
              "<div>\n",
              "<style scoped>\n",
              "    .dataframe tbody tr th:only-of-type {\n",
              "        vertical-align: middle;\n",
              "    }\n",
              "\n",
              "    .dataframe tbody tr th {\n",
              "        vertical-align: top;\n",
              "    }\n",
              "\n",
              "    .dataframe thead th {\n",
              "        text-align: right;\n",
              "    }\n",
              "</style>\n",
              "<table border=\"1\" class=\"dataframe\">\n",
              "  <thead>\n",
              "    <tr style=\"text-align: right;\">\n",
              "      <th></th>\n",
              "      <th>age</th>\n",
              "      <th>sex</th>\n",
              "      <th>trtbps</th>\n",
              "      <th>chol</th>\n",
              "      <th>fbs</th>\n",
              "      <th>thalachh</th>\n",
              "      <th>exng</th>\n",
              "      <th>oldpeak</th>\n",
              "      <th>restecg__Normal</th>\n",
              "      <th>restecg__Possui_anormalidade</th>\n",
              "      <th>restecg__Provável_hipertrofia</th>\n",
              "      <th>cp__Angina_atipica</th>\n",
              "      <th>cp__Angina_tipica</th>\n",
              "      <th>cp__Assintomatico</th>\n",
              "      <th>cp__Não_Angina</th>\n",
              "      <th>slp__0</th>\n",
              "      <th>slp__1</th>\n",
              "      <th>slp__2</th>\n",
              "      <th>thall__0</th>\n",
              "      <th>thall__1</th>\n",
              "      <th>thall__2</th>\n",
              "      <th>thall__3</th>\n",
              "      <th>caa__0</th>\n",
              "      <th>caa__1</th>\n",
              "      <th>caa__2</th>\n",
              "      <th>caa__3</th>\n",
              "      <th>caa__4</th>\n",
              "      <th>restecg__Possui_anormalidades</th>\n",
              "      <th>output</th>\n",
              "    </tr>\n",
              "  </thead>\n",
              "  <tbody>\n",
              "    <tr>\n",
              "      <th>count</th>\n",
              "      <td>212.00</td>\n",
              "      <td>212.00</td>\n",
              "      <td>212.00</td>\n",
              "      <td>212.00</td>\n",
              "      <td>212.00</td>\n",
              "      <td>212.00</td>\n",
              "      <td>212.00</td>\n",
              "      <td>212.00</td>\n",
              "      <td>212.00</td>\n",
              "      <td>212.00</td>\n",
              "      <td>212.00</td>\n",
              "      <td>212.00</td>\n",
              "      <td>212.00</td>\n",
              "      <td>212.00</td>\n",
              "      <td>212.00</td>\n",
              "      <td>212.00</td>\n",
              "      <td>212.00</td>\n",
              "      <td>212.00</td>\n",
              "      <td>212.00</td>\n",
              "      <td>212.00</td>\n",
              "      <td>212.00</td>\n",
              "      <td>212.00</td>\n",
              "      <td>212.00</td>\n",
              "      <td>212.00</td>\n",
              "      <td>212.00</td>\n",
              "      <td>212.00</td>\n",
              "      <td>212.00</td>\n",
              "      <td>212.00</td>\n",
              "      <td>212.00</td>\n",
              "    </tr>\n",
              "    <tr>\n",
              "      <th>mean</th>\n",
              "      <td>0.00</td>\n",
              "      <td>0.67</td>\n",
              "      <td>0.00</td>\n",
              "      <td>-0.00</td>\n",
              "      <td>0.16</td>\n",
              "      <td>-0.00</td>\n",
              "      <td>0.35</td>\n",
              "      <td>-0.00</td>\n",
              "      <td>0.48</td>\n",
              "      <td>-0.00</td>\n",
              "      <td>0.01</td>\n",
              "      <td>0.26</td>\n",
              "      <td>0.17</td>\n",
              "      <td>0.48</td>\n",
              "      <td>0.09</td>\n",
              "      <td>0.07</td>\n",
              "      <td>0.42</td>\n",
              "      <td>0.51</td>\n",
              "      <td>0.01</td>\n",
              "      <td>0.06</td>\n",
              "      <td>0.55</td>\n",
              "      <td>0.38</td>\n",
              "      <td>0.55</td>\n",
              "      <td>0.22</td>\n",
              "      <td>0.13</td>\n",
              "      <td>0.08</td>\n",
              "      <td>0.02</td>\n",
              "      <td>0.51</td>\n",
              "      <td>0.54</td>\n",
              "    </tr>\n",
              "    <tr>\n",
              "      <th>std</th>\n",
              "      <td>1.00</td>\n",
              "      <td>0.47</td>\n",
              "      <td>1.00</td>\n",
              "      <td>1.00</td>\n",
              "      <td>0.37</td>\n",
              "      <td>1.00</td>\n",
              "      <td>0.48</td>\n",
              "      <td>1.00</td>\n",
              "      <td>0.50</td>\n",
              "      <td>1.00</td>\n",
              "      <td>0.10</td>\n",
              "      <td>0.44</td>\n",
              "      <td>0.38</td>\n",
              "      <td>0.50</td>\n",
              "      <td>0.29</td>\n",
              "      <td>0.25</td>\n",
              "      <td>0.50</td>\n",
              "      <td>0.50</td>\n",
              "      <td>0.10</td>\n",
              "      <td>0.23</td>\n",
              "      <td>0.50</td>\n",
              "      <td>0.49</td>\n",
              "      <td>0.50</td>\n",
              "      <td>0.42</td>\n",
              "      <td>0.33</td>\n",
              "      <td>0.27</td>\n",
              "      <td>0.15</td>\n",
              "      <td>0.50</td>\n",
              "      <td>0.50</td>\n",
              "    </tr>\n",
              "    <tr>\n",
              "      <th>min</th>\n",
              "      <td>-2.30</td>\n",
              "      <td>0.00</td>\n",
              "      <td>-2.21</td>\n",
              "      <td>-2.17</td>\n",
              "      <td>0.00</td>\n",
              "      <td>-2.68</td>\n",
              "      <td>0.00</td>\n",
              "      <td>-0.84</td>\n",
              "      <td>0.00</td>\n",
              "      <td>-1.03</td>\n",
              "      <td>0.00</td>\n",
              "      <td>0.00</td>\n",
              "      <td>0.00</td>\n",
              "      <td>0.00</td>\n",
              "      <td>0.00</td>\n",
              "      <td>0.00</td>\n",
              "      <td>0.00</td>\n",
              "      <td>0.00</td>\n",
              "      <td>0.00</td>\n",
              "      <td>0.00</td>\n",
              "      <td>0.00</td>\n",
              "      <td>0.00</td>\n",
              "      <td>0.00</td>\n",
              "      <td>0.00</td>\n",
              "      <td>0.00</td>\n",
              "      <td>0.00</td>\n",
              "      <td>0.00</td>\n",
              "      <td>0.00</td>\n",
              "      <td>0.00</td>\n",
              "    </tr>\n",
              "    <tr>\n",
              "      <th>25%</th>\n",
              "      <td>-0.74</td>\n",
              "      <td>0.00</td>\n",
              "      <td>-0.71</td>\n",
              "      <td>-0.68</td>\n",
              "      <td>0.00</td>\n",
              "      <td>-0.65</td>\n",
              "      <td>0.00</td>\n",
              "      <td>-0.84</td>\n",
              "      <td>0.00</td>\n",
              "      <td>-1.03</td>\n",
              "      <td>0.00</td>\n",
              "      <td>0.00</td>\n",
              "      <td>0.00</td>\n",
              "      <td>0.00</td>\n",
              "      <td>0.00</td>\n",
              "      <td>0.00</td>\n",
              "      <td>0.00</td>\n",
              "      <td>0.00</td>\n",
              "      <td>0.00</td>\n",
              "      <td>0.00</td>\n",
              "      <td>0.00</td>\n",
              "      <td>0.00</td>\n",
              "      <td>0.00</td>\n",
              "      <td>0.00</td>\n",
              "      <td>0.00</td>\n",
              "      <td>0.00</td>\n",
              "      <td>0.00</td>\n",
              "      <td>0.00</td>\n",
              "      <td>0.00</td>\n",
              "    </tr>\n",
              "    <tr>\n",
              "      <th>50%</th>\n",
              "      <td>0.15</td>\n",
              "      <td>1.00</td>\n",
              "      <td>-0.13</td>\n",
              "      <td>-0.11</td>\n",
              "      <td>0.00</td>\n",
              "      <td>0.13</td>\n",
              "      <td>0.00</td>\n",
              "      <td>-0.32</td>\n",
              "      <td>0.00</td>\n",
              "      <td>0.97</td>\n",
              "      <td>0.00</td>\n",
              "      <td>0.00</td>\n",
              "      <td>0.00</td>\n",
              "      <td>0.00</td>\n",
              "      <td>0.00</td>\n",
              "      <td>0.00</td>\n",
              "      <td>0.00</td>\n",
              "      <td>1.00</td>\n",
              "      <td>0.00</td>\n",
              "      <td>0.00</td>\n",
              "      <td>1.00</td>\n",
              "      <td>0.00</td>\n",
              "      <td>1.00</td>\n",
              "      <td>0.00</td>\n",
              "      <td>0.00</td>\n",
              "      <td>0.00</td>\n",
              "      <td>0.00</td>\n",
              "      <td>1.00</td>\n",
              "      <td>1.00</td>\n",
              "    </tr>\n",
              "    <tr>\n",
              "      <th>75%</th>\n",
              "      <td>0.74</td>\n",
              "      <td>1.00</td>\n",
              "      <td>0.44</td>\n",
              "      <td>0.46</td>\n",
              "      <td>0.00</td>\n",
              "      <td>0.69</td>\n",
              "      <td>1.00</td>\n",
              "      <td>0.55</td>\n",
              "      <td>1.00</td>\n",
              "      <td>0.97</td>\n",
              "      <td>0.00</td>\n",
              "      <td>1.00</td>\n",
              "      <td>0.00</td>\n",
              "      <td>1.00</td>\n",
              "      <td>0.00</td>\n",
              "      <td>0.00</td>\n",
              "      <td>1.00</td>\n",
              "      <td>1.00</td>\n",
              "      <td>0.00</td>\n",
              "      <td>0.00</td>\n",
              "      <td>1.00</td>\n",
              "      <td>1.00</td>\n",
              "      <td>1.00</td>\n",
              "      <td>0.00</td>\n",
              "      <td>0.00</td>\n",
              "      <td>0.00</td>\n",
              "      <td>0.00</td>\n",
              "      <td>1.00</td>\n",
              "      <td>1.00</td>\n",
              "    </tr>\n",
              "    <tr>\n",
              "      <th>max</th>\n",
              "      <td>2.49</td>\n",
              "      <td>1.00</td>\n",
              "      <td>2.75</td>\n",
              "      <td>5.81</td>\n",
              "      <td>1.00</td>\n",
              "      <td>1.90</td>\n",
              "      <td>1.00</td>\n",
              "      <td>4.53</td>\n",
              "      <td>1.00</td>\n",
              "      <td>0.97</td>\n",
              "      <td>1.00</td>\n",
              "      <td>1.00</td>\n",
              "      <td>1.00</td>\n",
              "      <td>1.00</td>\n",
              "      <td>1.00</td>\n",
              "      <td>1.00</td>\n",
              "      <td>1.00</td>\n",
              "      <td>1.00</td>\n",
              "      <td>1.00</td>\n",
              "      <td>1.00</td>\n",
              "      <td>1.00</td>\n",
              "      <td>1.00</td>\n",
              "      <td>1.00</td>\n",
              "      <td>1.00</td>\n",
              "      <td>1.00</td>\n",
              "      <td>1.00</td>\n",
              "      <td>1.00</td>\n",
              "      <td>1.00</td>\n",
              "      <td>1.00</td>\n",
              "    </tr>\n",
              "  </tbody>\n",
              "</table>\n",
              "</div>"
            ],
            "text/plain": [
              "          age     sex  trtbps  ...  caa__4  restecg__Possui_anormalidades  output\n",
              "count  212.00  212.00  212.00  ...  212.00                         212.00  212.00\n",
              "mean     0.00    0.67    0.00  ...    0.02                           0.51    0.54\n",
              "std      1.00    0.47    1.00  ...    0.15                           0.50    0.50\n",
              "min     -2.30    0.00   -2.21  ...    0.00                           0.00    0.00\n",
              "25%     -0.74    0.00   -0.71  ...    0.00                           0.00    0.00\n",
              "50%      0.15    1.00   -0.13  ...    0.00                           1.00    1.00\n",
              "75%      0.74    1.00    0.44  ...    0.00                           1.00    1.00\n",
              "max      2.49    1.00    2.75  ...    1.00                           1.00    1.00\n",
              "\n",
              "[8 rows x 29 columns]"
            ]
          },
          "metadata": {},
          "execution_count": 11
        }
      ]
    },
    {
      "cell_type": "code",
      "metadata": {
        "colab": {
          "base_uri": "https://localhost:8080/"
        },
        "id": "BO5aYaFr9SXM",
        "outputId": "baafe4e4-89b3-4f7f-d79e-995aa4bc7770"
      },
      "source": [
        "mlp1 = MLPClassifier(alpha=0.0001,learning_rate='constant',activation='identity', hidden_layer_sizes=(20,), solver='sgd')\n",
        "X = dados_originais_normalizados.drop(columns=['output'])\n",
        "X_train,X_test,Y_train,Y_test = train_test_split(X,dados_originais_normalizados.output,test_size=0.3,stratify=dados_originais_normalizados.output)\n",
        "mlp1.fit(X_train,Y_train)\n",
        "y_pred = mlp1.predict(X_test)\n",
        "acuracia1 = accuracy_score(Y_test,y_pred)\n",
        "print(\"Acuracia para n=1,70/30 :\",acuracia1)\n",
        "mlp2 = MLPClassifier(alpha=0.0001,learning_rate='constant',activation='identity', hidden_layer_sizes=(20,), solver='sgd')\n",
        "X_train,X_test,Y_train,Y_test = train_test_split(X,dados_originais_normalizados.output,test_size=0.2,stratify=dados_originais_normalizados.output)\n",
        "mlp2.fit(X_train,Y_train)\n",
        "y_pred = mlp2.predict(X_test)\n",
        "acuracia2 = accuracy_score(Y_test,y_pred)\n",
        "print(\"Acuracia para n=1,80/20 :\",acuracia2)\n",
        "mlp3 = MLPClassifier(alpha=0.0001,learning_rate='constant',activation='identity', hidden_layer_sizes=(20,), solver='sgd')\n",
        "X_train,X_test,Y_train,Y_test = train_test_split(X,dados_originais_normalizados.output,test_size=0.2,stratify=dados_originais_normalizados.output)\n",
        "mlp3.fit(X_train,Y_train)\n",
        "y_pred = mlp3.predict(X_test)\n",
        "acuracia3 = accuracy_score(Y_test,y_pred)\n",
        "print(\"Acuracia para n=1,90/10 :\",acuracia3)\n",
        "y = dados_originais_normalizados['output']\n",
        "mlp4 = MLPClassifier(alpha=0.0001,learning_rate='constant',activation='identity', hidden_layer_sizes=(20,), solver='sgd')\n",
        "scores = cross_val_score(mlp4, X, y, cv=10)\n",
        "print(\"acurácia %0.2f para kfold, 10 folds\",scores.mean()) \n"
      ],
      "execution_count": null,
      "outputs": [
        {
          "output_type": "stream",
          "name": "stderr",
          "text": [
            "/usr/local/lib/python3.7/dist-packages/sklearn/neural_network/_multilayer_perceptron.py:571: ConvergenceWarning: Stochastic Optimizer: Maximum iterations (200) reached and the optimization hasn't converged yet.\n",
            "  % self.max_iter, ConvergenceWarning)\n",
            "/usr/local/lib/python3.7/dist-packages/sklearn/neural_network/_multilayer_perceptron.py:571: ConvergenceWarning: Stochastic Optimizer: Maximum iterations (200) reached and the optimization hasn't converged yet.\n",
            "  % self.max_iter, ConvergenceWarning)\n"
          ]
        },
        {
          "output_type": "stream",
          "name": "stdout",
          "text": [
            "Acuracia para n=1,70/30 : 0.8461538461538461\n",
            "Acuracia para n=1,80/20 : 0.819672131147541\n"
          ]
        },
        {
          "output_type": "stream",
          "name": "stderr",
          "text": [
            "/usr/local/lib/python3.7/dist-packages/sklearn/neural_network/_multilayer_perceptron.py:571: ConvergenceWarning: Stochastic Optimizer: Maximum iterations (200) reached and the optimization hasn't converged yet.\n",
            "  % self.max_iter, ConvergenceWarning)\n",
            "/usr/local/lib/python3.7/dist-packages/sklearn/neural_network/_multilayer_perceptron.py:571: ConvergenceWarning: Stochastic Optimizer: Maximum iterations (200) reached and the optimization hasn't converged yet.\n",
            "  % self.max_iter, ConvergenceWarning)\n"
          ]
        },
        {
          "output_type": "stream",
          "name": "stdout",
          "text": [
            "Acuracia para n=1,90/10 : 0.8524590163934426\n"
          ]
        },
        {
          "output_type": "stream",
          "name": "stderr",
          "text": [
            "/usr/local/lib/python3.7/dist-packages/sklearn/neural_network/_multilayer_perceptron.py:571: ConvergenceWarning: Stochastic Optimizer: Maximum iterations (200) reached and the optimization hasn't converged yet.\n",
            "  % self.max_iter, ConvergenceWarning)\n",
            "/usr/local/lib/python3.7/dist-packages/sklearn/neural_network/_multilayer_perceptron.py:571: ConvergenceWarning: Stochastic Optimizer: Maximum iterations (200) reached and the optimization hasn't converged yet.\n",
            "  % self.max_iter, ConvergenceWarning)\n",
            "/usr/local/lib/python3.7/dist-packages/sklearn/neural_network/_multilayer_perceptron.py:571: ConvergenceWarning: Stochastic Optimizer: Maximum iterations (200) reached and the optimization hasn't converged yet.\n",
            "  % self.max_iter, ConvergenceWarning)\n",
            "/usr/local/lib/python3.7/dist-packages/sklearn/neural_network/_multilayer_perceptron.py:571: ConvergenceWarning: Stochastic Optimizer: Maximum iterations (200) reached and the optimization hasn't converged yet.\n",
            "  % self.max_iter, ConvergenceWarning)\n",
            "/usr/local/lib/python3.7/dist-packages/sklearn/neural_network/_multilayer_perceptron.py:571: ConvergenceWarning: Stochastic Optimizer: Maximum iterations (200) reached and the optimization hasn't converged yet.\n",
            "  % self.max_iter, ConvergenceWarning)\n",
            "/usr/local/lib/python3.7/dist-packages/sklearn/neural_network/_multilayer_perceptron.py:571: ConvergenceWarning: Stochastic Optimizer: Maximum iterations (200) reached and the optimization hasn't converged yet.\n",
            "  % self.max_iter, ConvergenceWarning)\n",
            "/usr/local/lib/python3.7/dist-packages/sklearn/neural_network/_multilayer_perceptron.py:571: ConvergenceWarning: Stochastic Optimizer: Maximum iterations (200) reached and the optimization hasn't converged yet.\n",
            "  % self.max_iter, ConvergenceWarning)\n",
            "/usr/local/lib/python3.7/dist-packages/sklearn/neural_network/_multilayer_perceptron.py:571: ConvergenceWarning: Stochastic Optimizer: Maximum iterations (200) reached and the optimization hasn't converged yet.\n",
            "  % self.max_iter, ConvergenceWarning)\n"
          ]
        },
        {
          "output_type": "stream",
          "name": "stdout",
          "text": [
            "acurácia %0.2f para kfold, 10 folds 0.8446236559139784\n"
          ]
        },
        {
          "output_type": "stream",
          "name": "stderr",
          "text": [
            "/usr/local/lib/python3.7/dist-packages/sklearn/neural_network/_multilayer_perceptron.py:571: ConvergenceWarning: Stochastic Optimizer: Maximum iterations (200) reached and the optimization hasn't converged yet.\n",
            "  % self.max_iter, ConvergenceWarning)\n"
          ]
        }
      ]
    },
    {
      "cell_type": "code",
      "metadata": {
        "colab": {
          "base_uri": "https://localhost:8080/"
        },
        "id": "Wo_K-VDG8oJZ",
        "outputId": "12be2fd2-acc3-4459-9f24-476ae548108b"
      },
      "source": [
        "mlp1 = MLPClassifier(alpha=0.0001,learning_rate='constant',activation='identity', hidden_layer_sizes=(21,), solver='sgd')\n",
        "X = dados_originais_normalizados.drop(columns=['output'])\n",
        "X_train,X_test,Y_train,Y_test = train_test_split(X,dados_originais_normalizados.output,test_size=0.3,stratify=dados_originais_normalizados.output)\n",
        "mlp1.fit(X_train,Y_train)\n",
        "y_pred = mlp1.predict(X_test)\n",
        "acuracia1 = accuracy_score(Y_test,y_pred)\n",
        "print(\"Acuracia para n=1,70/30 :\",acuracia1)\n",
        "mlp2 = MLPClassifier(alpha=0.0001,learning_rate='constant',activation='identity', hidden_layer_sizes=(21,), solver='sgd')\n",
        "X_train,X_test,Y_train,Y_test = train_test_split(X,dados_originais_normalizados.output,test_size=0.2,stratify=dados_originais_normalizados.output)\n",
        "mlp2.fit(X_train,Y_train)\n",
        "y_pred = mlp2.predict(X_test)\n",
        "acuracia2 = accuracy_score(Y_test,y_pred)\n",
        "print(\"Acuracia para n=1,80/20 :\",acuracia2)\n",
        "mlp3 = MLPClassifier(alpha=0.0001,learning_rate='constant',activation='identity', hidden_layer_sizes=(21,), solver='sgd')\n",
        "X_train,X_test,Y_train,Y_test = train_test_split(X,dados_originais_normalizados.output,test_size=0.2,stratify=dados_originais_normalizados.output)\n",
        "mlp3.fit(X_train,Y_train)\n",
        "y_pred = mlp3.predict(X_test)\n",
        "acuracia3 = accuracy_score(Y_test,y_pred)\n",
        "print(\"Acuracia para n=1,90/10 :\",acuracia3)\n",
        "y = dados_originais_normalizados['output']\n",
        "mlp4 = MLPClassifier(alpha=0.0001,learning_rate='constant',activation='identity', hidden_layer_sizes=(21,), solver='sgd')\n",
        "scores = cross_val_score(mlp4, X, y, cv=10)\n",
        "print(\"acurácia %0.2f para kfold, 10 folds\",scores.mean()) "
      ],
      "execution_count": null,
      "outputs": [
        {
          "output_type": "stream",
          "name": "stderr",
          "text": [
            "/usr/local/lib/python3.7/dist-packages/sklearn/neural_network/_multilayer_perceptron.py:571: ConvergenceWarning: Stochastic Optimizer: Maximum iterations (200) reached and the optimization hasn't converged yet.\n",
            "  % self.max_iter, ConvergenceWarning)\n"
          ]
        },
        {
          "output_type": "stream",
          "name": "stdout",
          "text": [
            "Acuracia para n=1,70/30 : 0.8021978021978022\n"
          ]
        },
        {
          "output_type": "stream",
          "name": "stderr",
          "text": [
            "/usr/local/lib/python3.7/dist-packages/sklearn/neural_network/_multilayer_perceptron.py:571: ConvergenceWarning: Stochastic Optimizer: Maximum iterations (200) reached and the optimization hasn't converged yet.\n",
            "  % self.max_iter, ConvergenceWarning)\n"
          ]
        },
        {
          "output_type": "stream",
          "name": "stdout",
          "text": [
            "Acuracia para n=1,80/20 : 0.8688524590163934\n"
          ]
        },
        {
          "output_type": "stream",
          "name": "stderr",
          "text": [
            "/usr/local/lib/python3.7/dist-packages/sklearn/neural_network/_multilayer_perceptron.py:571: ConvergenceWarning: Stochastic Optimizer: Maximum iterations (200) reached and the optimization hasn't converged yet.\n",
            "  % self.max_iter, ConvergenceWarning)\n"
          ]
        },
        {
          "output_type": "stream",
          "name": "stdout",
          "text": [
            "Acuracia para n=1,90/10 : 0.8032786885245902\n"
          ]
        },
        {
          "output_type": "stream",
          "name": "stderr",
          "text": [
            "/usr/local/lib/python3.7/dist-packages/sklearn/neural_network/_multilayer_perceptron.py:571: ConvergenceWarning: Stochastic Optimizer: Maximum iterations (200) reached and the optimization hasn't converged yet.\n",
            "  % self.max_iter, ConvergenceWarning)\n",
            "/usr/local/lib/python3.7/dist-packages/sklearn/neural_network/_multilayer_perceptron.py:571: ConvergenceWarning: Stochastic Optimizer: Maximum iterations (200) reached and the optimization hasn't converged yet.\n",
            "  % self.max_iter, ConvergenceWarning)\n",
            "/usr/local/lib/python3.7/dist-packages/sklearn/neural_network/_multilayer_perceptron.py:571: ConvergenceWarning: Stochastic Optimizer: Maximum iterations (200) reached and the optimization hasn't converged yet.\n",
            "  % self.max_iter, ConvergenceWarning)\n",
            "/usr/local/lib/python3.7/dist-packages/sklearn/neural_network/_multilayer_perceptron.py:571: ConvergenceWarning: Stochastic Optimizer: Maximum iterations (200) reached and the optimization hasn't converged yet.\n",
            "  % self.max_iter, ConvergenceWarning)\n",
            "/usr/local/lib/python3.7/dist-packages/sklearn/neural_network/_multilayer_perceptron.py:571: ConvergenceWarning: Stochastic Optimizer: Maximum iterations (200) reached and the optimization hasn't converged yet.\n",
            "  % self.max_iter, ConvergenceWarning)\n",
            "/usr/local/lib/python3.7/dist-packages/sklearn/neural_network/_multilayer_perceptron.py:571: ConvergenceWarning: Stochastic Optimizer: Maximum iterations (200) reached and the optimization hasn't converged yet.\n",
            "  % self.max_iter, ConvergenceWarning)\n",
            "/usr/local/lib/python3.7/dist-packages/sklearn/neural_network/_multilayer_perceptron.py:571: ConvergenceWarning: Stochastic Optimizer: Maximum iterations (200) reached and the optimization hasn't converged yet.\n",
            "  % self.max_iter, ConvergenceWarning)\n",
            "/usr/local/lib/python3.7/dist-packages/sklearn/neural_network/_multilayer_perceptron.py:571: ConvergenceWarning: Stochastic Optimizer: Maximum iterations (200) reached and the optimization hasn't converged yet.\n",
            "  % self.max_iter, ConvergenceWarning)\n",
            "/usr/local/lib/python3.7/dist-packages/sklearn/neural_network/_multilayer_perceptron.py:571: ConvergenceWarning: Stochastic Optimizer: Maximum iterations (200) reached and the optimization hasn't converged yet.\n",
            "  % self.max_iter, ConvergenceWarning)\n"
          ]
        },
        {
          "output_type": "stream",
          "name": "stdout",
          "text": [
            "acurácia %0.2f para kfold, 10 folds 0.8216129032258065\n"
          ]
        },
        {
          "output_type": "stream",
          "name": "stderr",
          "text": [
            "/usr/local/lib/python3.7/dist-packages/sklearn/neural_network/_multilayer_perceptron.py:571: ConvergenceWarning: Stochastic Optimizer: Maximum iterations (200) reached and the optimization hasn't converged yet.\n",
            "  % self.max_iter, ConvergenceWarning)\n"
          ]
        }
      ]
    },
    {
      "cell_type": "code",
      "metadata": {
        "colab": {
          "base_uri": "https://localhost:8080/"
        },
        "id": "2YoLgJar-yx7",
        "outputId": "71511580-ccce-4237-cf48-2ddd1c424976"
      },
      "source": [
        "mlp1 = MLPClassifier(alpha=0.0001,learning_rate='constant',activation='identity', hidden_layer_sizes=(22,), solver='sgd')\n",
        "X = dados_originais_normalizados.drop(columns=['output'])\n",
        "X_train,X_test,Y_train,Y_test = train_test_split(X,dados_originais_normalizados.output,test_size=0.3,stratify=dados_originais_normalizados.output)\n",
        "mlp1.fit(X_train,Y_train)\n",
        "y_pred = mlp1.predict(X_test)\n",
        "acuracia1 = accuracy_score(Y_test,y_pred)\n",
        "print(\"Acuracia para n=1,70/30 :\",acuracia1)\n",
        "mlp2 = MLPClassifier(alpha=0.0001,learning_rate='constant',activation='identity', hidden_layer_sizes=(22,), solver='sgd')\n",
        "X_train,X_test,Y_train,Y_test = train_test_split(X,dados_originais_normalizados.output,test_size=0.2,stratify=dados_originais_normalizados.output)\n",
        "mlp2.fit(X_train,Y_train)\n",
        "y_pred = mlp2.predict(X_test)\n",
        "acuracia2 = accuracy_score(Y_test,y_pred)\n",
        "print(\"Acuracia para n=1,80/20 :\",acuracia2)\n",
        "mlp3 = MLPClassifier(alpha=0.0001,learning_rate='constant',activation='identity', hidden_layer_sizes=(22,), solver='sgd')\n",
        "X_train,X_test,Y_train,Y_test = train_test_split(X,dados_originais_normalizados.output,test_size=0.2,stratify=dados_originais_normalizados.output)\n",
        "mlp3.fit(X_train,Y_train)\n",
        "y_pred = mlp3.predict(X_test)\n",
        "acuracia3 = accuracy_score(Y_test,y_pred)\n",
        "print(\"Acuracia para n=1,90/10 :\",acuracia3)\n",
        "y = dados_originais_normalizados['output']\n",
        "mlp4 = MLPClassifier(alpha=0.0001,learning_rate='constant',activation='identity', hidden_layer_sizes=(22,), solver='sgd')\n",
        "scores = cross_val_score(mlp4, X, y, cv=10)\n",
        "print(\"acurácia %0.2f para kfold, 10 folds\",scores.mean()) "
      ],
      "execution_count": null,
      "outputs": [
        {
          "output_type": "stream",
          "name": "stderr",
          "text": [
            "/usr/local/lib/python3.7/dist-packages/sklearn/neural_network/_multilayer_perceptron.py:571: ConvergenceWarning: Stochastic Optimizer: Maximum iterations (200) reached and the optimization hasn't converged yet.\n",
            "  % self.max_iter, ConvergenceWarning)\n"
          ]
        },
        {
          "output_type": "stream",
          "name": "stdout",
          "text": [
            "Acuracia para n=1,70/30 : 0.8021978021978022\n"
          ]
        },
        {
          "output_type": "stream",
          "name": "stderr",
          "text": [
            "/usr/local/lib/python3.7/dist-packages/sklearn/neural_network/_multilayer_perceptron.py:571: ConvergenceWarning: Stochastic Optimizer: Maximum iterations (200) reached and the optimization hasn't converged yet.\n",
            "  % self.max_iter, ConvergenceWarning)\n"
          ]
        },
        {
          "output_type": "stream",
          "name": "stdout",
          "text": [
            "Acuracia para n=1,80/20 : 0.7868852459016393\n"
          ]
        },
        {
          "output_type": "stream",
          "name": "stderr",
          "text": [
            "/usr/local/lib/python3.7/dist-packages/sklearn/neural_network/_multilayer_perceptron.py:571: ConvergenceWarning: Stochastic Optimizer: Maximum iterations (200) reached and the optimization hasn't converged yet.\n",
            "  % self.max_iter, ConvergenceWarning)\n"
          ]
        },
        {
          "output_type": "stream",
          "name": "stdout",
          "text": [
            "Acuracia para n=1,90/10 : 0.8688524590163934\n"
          ]
        },
        {
          "output_type": "stream",
          "name": "stderr",
          "text": [
            "/usr/local/lib/python3.7/dist-packages/sklearn/neural_network/_multilayer_perceptron.py:571: ConvergenceWarning: Stochastic Optimizer: Maximum iterations (200) reached and the optimization hasn't converged yet.\n",
            "  % self.max_iter, ConvergenceWarning)\n",
            "/usr/local/lib/python3.7/dist-packages/sklearn/neural_network/_multilayer_perceptron.py:571: ConvergenceWarning: Stochastic Optimizer: Maximum iterations (200) reached and the optimization hasn't converged yet.\n",
            "  % self.max_iter, ConvergenceWarning)\n",
            "/usr/local/lib/python3.7/dist-packages/sklearn/neural_network/_multilayer_perceptron.py:571: ConvergenceWarning: Stochastic Optimizer: Maximum iterations (200) reached and the optimization hasn't converged yet.\n",
            "  % self.max_iter, ConvergenceWarning)\n",
            "/usr/local/lib/python3.7/dist-packages/sklearn/neural_network/_multilayer_perceptron.py:571: ConvergenceWarning: Stochastic Optimizer: Maximum iterations (200) reached and the optimization hasn't converged yet.\n",
            "  % self.max_iter, ConvergenceWarning)\n",
            "/usr/local/lib/python3.7/dist-packages/sklearn/neural_network/_multilayer_perceptron.py:571: ConvergenceWarning: Stochastic Optimizer: Maximum iterations (200) reached and the optimization hasn't converged yet.\n",
            "  % self.max_iter, ConvergenceWarning)\n",
            "/usr/local/lib/python3.7/dist-packages/sklearn/neural_network/_multilayer_perceptron.py:571: ConvergenceWarning: Stochastic Optimizer: Maximum iterations (200) reached and the optimization hasn't converged yet.\n",
            "  % self.max_iter, ConvergenceWarning)\n",
            "/usr/local/lib/python3.7/dist-packages/sklearn/neural_network/_multilayer_perceptron.py:571: ConvergenceWarning: Stochastic Optimizer: Maximum iterations (200) reached and the optimization hasn't converged yet.\n",
            "  % self.max_iter, ConvergenceWarning)\n",
            "/usr/local/lib/python3.7/dist-packages/sklearn/neural_network/_multilayer_perceptron.py:571: ConvergenceWarning: Stochastic Optimizer: Maximum iterations (200) reached and the optimization hasn't converged yet.\n",
            "  % self.max_iter, ConvergenceWarning)\n",
            "/usr/local/lib/python3.7/dist-packages/sklearn/neural_network/_multilayer_perceptron.py:571: ConvergenceWarning: Stochastic Optimizer: Maximum iterations (200) reached and the optimization hasn't converged yet.\n",
            "  % self.max_iter, ConvergenceWarning)\n"
          ]
        },
        {
          "output_type": "stream",
          "name": "stdout",
          "text": [
            "acurácia %0.2f para kfold, 10 folds 0.8253763440860216\n"
          ]
        },
        {
          "output_type": "stream",
          "name": "stderr",
          "text": [
            "/usr/local/lib/python3.7/dist-packages/sklearn/neural_network/_multilayer_perceptron.py:571: ConvergenceWarning: Stochastic Optimizer: Maximum iterations (200) reached and the optimization hasn't converged yet.\n",
            "  % self.max_iter, ConvergenceWarning)\n"
          ]
        }
      ]
    },
    {
      "cell_type": "code",
      "metadata": {
        "colab": {
          "base_uri": "https://localhost:8080/"
        },
        "id": "a5qANrcK-zdQ",
        "outputId": "fad01594-49e1-4f35-c649-6c960739890c"
      },
      "source": [
        "mlp1 = MLPClassifier(alpha=0.0001,learning_rate='constant',activation='identity', hidden_layer_sizes=(23,), solver='sgd')\n",
        "X = dados_originais_normalizados.drop(columns=['output'])\n",
        "X_train,X_test,Y_train,Y_test = train_test_split(X,dados_originais_normalizados.output,test_size=0.3,stratify=dados_originais_normalizados.output)\n",
        "mlp1.fit(X_train,Y_train)\n",
        "y_pred = mlp1.predict(X_test)\n",
        "acuracia1 = accuracy_score(Y_test,y_pred)\n",
        "print(\"Acuracia para n=1,70/30 :\",acuracia1)\n",
        "mlp2 = MLPClassifier(alpha=0.0001,learning_rate='constant',activation='identity', hidden_layer_sizes=(23,), solver='sgd')\n",
        "X_train,X_test,Y_train,Y_test = train_test_split(X,dados_originais_normalizados.output,test_size=0.2,stratify=dados_originais_normalizados.output)\n",
        "mlp2.fit(X_train,Y_train)\n",
        "y_pred = mlp2.predict(X_test)\n",
        "acuracia2 = accuracy_score(Y_test,y_pred)\n",
        "print(\"Acuracia para n=1,80/20 :\",acuracia2)\n",
        "mlp3 = MLPClassifier(alpha=0.0001,learning_rate='constant',activation='identity', hidden_layer_sizes=(23,), solver='sgd')\n",
        "X_train,X_test,Y_train,Y_test = train_test_split(X,dados_originais_normalizados.output,test_size=0.2,stratify=dados_originais_normalizados.output)\n",
        "mlp3.fit(X_train,Y_train)\n",
        "y_pred = mlp3.predict(X_test)\n",
        "acuracia3 = accuracy_score(Y_test,y_pred)\n",
        "print(\"Acuracia para n=1,90/10 :\",acuracia3)\n",
        "y = dados_originais_normalizados['output']\n",
        "mlp4 = MLPClassifier(alpha=0.0001,learning_rate='constant',activation='identity', hidden_layer_sizes=(23,), solver='sgd')\n",
        "scores = cross_val_score(mlp4, X, y, cv=10)\n",
        "print(\"acurácia %0.2f para kfold, 10 folds\",scores.mean()) "
      ],
      "execution_count": null,
      "outputs": [
        {
          "output_type": "stream",
          "name": "stderr",
          "text": [
            "/usr/local/lib/python3.7/dist-packages/sklearn/neural_network/_multilayer_perceptron.py:571: ConvergenceWarning: Stochastic Optimizer: Maximum iterations (200) reached and the optimization hasn't converged yet.\n",
            "  % self.max_iter, ConvergenceWarning)\n"
          ]
        },
        {
          "output_type": "stream",
          "name": "stdout",
          "text": [
            "Acuracia para n=1,70/30 : 0.8241758241758241\n"
          ]
        },
        {
          "output_type": "stream",
          "name": "stderr",
          "text": [
            "/usr/local/lib/python3.7/dist-packages/sklearn/neural_network/_multilayer_perceptron.py:571: ConvergenceWarning: Stochastic Optimizer: Maximum iterations (200) reached and the optimization hasn't converged yet.\n",
            "  % self.max_iter, ConvergenceWarning)\n"
          ]
        },
        {
          "output_type": "stream",
          "name": "stdout",
          "text": [
            "Acuracia para n=1,80/20 : 0.9016393442622951\n"
          ]
        },
        {
          "output_type": "stream",
          "name": "stderr",
          "text": [
            "/usr/local/lib/python3.7/dist-packages/sklearn/neural_network/_multilayer_perceptron.py:571: ConvergenceWarning: Stochastic Optimizer: Maximum iterations (200) reached and the optimization hasn't converged yet.\n",
            "  % self.max_iter, ConvergenceWarning)\n"
          ]
        },
        {
          "output_type": "stream",
          "name": "stdout",
          "text": [
            "Acuracia para n=1,90/10 : 0.8360655737704918\n"
          ]
        },
        {
          "output_type": "stream",
          "name": "stderr",
          "text": [
            "/usr/local/lib/python3.7/dist-packages/sklearn/neural_network/_multilayer_perceptron.py:571: ConvergenceWarning: Stochastic Optimizer: Maximum iterations (200) reached and the optimization hasn't converged yet.\n",
            "  % self.max_iter, ConvergenceWarning)\n",
            "/usr/local/lib/python3.7/dist-packages/sklearn/neural_network/_multilayer_perceptron.py:571: ConvergenceWarning: Stochastic Optimizer: Maximum iterations (200) reached and the optimization hasn't converged yet.\n",
            "  % self.max_iter, ConvergenceWarning)\n",
            "/usr/local/lib/python3.7/dist-packages/sklearn/neural_network/_multilayer_perceptron.py:571: ConvergenceWarning: Stochastic Optimizer: Maximum iterations (200) reached and the optimization hasn't converged yet.\n",
            "  % self.max_iter, ConvergenceWarning)\n",
            "/usr/local/lib/python3.7/dist-packages/sklearn/neural_network/_multilayer_perceptron.py:571: ConvergenceWarning: Stochastic Optimizer: Maximum iterations (200) reached and the optimization hasn't converged yet.\n",
            "  % self.max_iter, ConvergenceWarning)\n",
            "/usr/local/lib/python3.7/dist-packages/sklearn/neural_network/_multilayer_perceptron.py:571: ConvergenceWarning: Stochastic Optimizer: Maximum iterations (200) reached and the optimization hasn't converged yet.\n",
            "  % self.max_iter, ConvergenceWarning)\n",
            "/usr/local/lib/python3.7/dist-packages/sklearn/neural_network/_multilayer_perceptron.py:571: ConvergenceWarning: Stochastic Optimizer: Maximum iterations (200) reached and the optimization hasn't converged yet.\n",
            "  % self.max_iter, ConvergenceWarning)\n",
            "/usr/local/lib/python3.7/dist-packages/sklearn/neural_network/_multilayer_perceptron.py:571: ConvergenceWarning: Stochastic Optimizer: Maximum iterations (200) reached and the optimization hasn't converged yet.\n",
            "  % self.max_iter, ConvergenceWarning)\n",
            "/usr/local/lib/python3.7/dist-packages/sklearn/neural_network/_multilayer_perceptron.py:571: ConvergenceWarning: Stochastic Optimizer: Maximum iterations (200) reached and the optimization hasn't converged yet.\n",
            "  % self.max_iter, ConvergenceWarning)\n",
            "/usr/local/lib/python3.7/dist-packages/sklearn/neural_network/_multilayer_perceptron.py:571: ConvergenceWarning: Stochastic Optimizer: Maximum iterations (200) reached and the optimization hasn't converged yet.\n",
            "  % self.max_iter, ConvergenceWarning)\n"
          ]
        },
        {
          "output_type": "stream",
          "name": "stdout",
          "text": [
            "acurácia %0.2f para kfold, 10 folds 0.8251612903225807\n"
          ]
        },
        {
          "output_type": "stream",
          "name": "stderr",
          "text": [
            "/usr/local/lib/python3.7/dist-packages/sklearn/neural_network/_multilayer_perceptron.py:571: ConvergenceWarning: Stochastic Optimizer: Maximum iterations (200) reached and the optimization hasn't converged yet.\n",
            "  % self.max_iter, ConvergenceWarning)\n"
          ]
        }
      ]
    },
    {
      "cell_type": "code",
      "metadata": {
        "colab": {
          "base_uri": "https://localhost:8080/"
        },
        "id": "hlDfKkLQ-0SG",
        "outputId": "db0ee713-90cf-4e7b-97ef-4ab5b22f91ed"
      },
      "source": [
        "mlp1 = MLPClassifier(alpha=0.0001,learning_rate='constant',activation='identity', hidden_layer_sizes=(24,), solver='sgd')\n",
        "X = dados_originais_normalizados.drop(columns=['output'])\n",
        "X_train,X_test,Y_train,Y_test = train_test_split(X,dados_originais_normalizados.output,test_size=0.3,stratify=dados_originais_normalizados.output)\n",
        "mlp1.fit(X_train,Y_train)\n",
        "y_pred = mlp1.predict(X_test)\n",
        "acuracia1 = accuracy_score(Y_test,y_pred)\n",
        "print(\"Acuracia para n=1,70/30 :\",acuracia1)\n",
        "mlp2 = MLPClassifier(alpha=0.0001,learning_rate='constant',activation='identity', hidden_layer_sizes=(24,), solver='sgd')\n",
        "X_train,X_test,Y_train,Y_test = train_test_split(X,dados_originais_normalizados.output,test_size=0.2,stratify=dados_originais_normalizados.output)\n",
        "mlp2.fit(X_train,Y_train)\n",
        "y_pred = mlp2.predict(X_test)\n",
        "acuracia2 = accuracy_score(Y_test,y_pred)\n",
        "print(\"Acuracia para n=1,80/20 :\",acuracia2)\n",
        "mlp3 = MLPClassifier(alpha=0.0001,learning_rate='constant',activation='identity', hidden_layer_sizes=(24,), solver='sgd')\n",
        "X_train,X_test,Y_train,Y_test = train_test_split(X,dados_originais_normalizados.output,test_size=0.2,stratify=dados_originais_normalizados.output)\n",
        "mlp3.fit(X_train,Y_train)\n",
        "y_pred = mlp3.predict(X_test)\n",
        "acuracia3 = accuracy_score(Y_test,y_pred)\n",
        "print(\"Acuracia para n=1,90/10 :\",acuracia3)\n",
        "y = dados_originais_normalizados['output']\n",
        "mlp4 = MLPClassifier(alpha=0.0001,learning_rate='constant',activation='identity', hidden_layer_sizes=(24,), solver='sgd')\n",
        "scores = cross_val_score(mlp4, X, y, cv=10)\n",
        "print(\"acurácia %0.2f para kfold, 10 folds\",scores.mean()) "
      ],
      "execution_count": null,
      "outputs": [
        {
          "output_type": "stream",
          "name": "stderr",
          "text": [
            "/usr/local/lib/python3.7/dist-packages/sklearn/neural_network/_multilayer_perceptron.py:571: ConvergenceWarning: Stochastic Optimizer: Maximum iterations (200) reached and the optimization hasn't converged yet.\n",
            "  % self.max_iter, ConvergenceWarning)\n"
          ]
        },
        {
          "output_type": "stream",
          "name": "stdout",
          "text": [
            "Acuracia para n=1,70/30 : 0.8681318681318682\n"
          ]
        },
        {
          "output_type": "stream",
          "name": "stderr",
          "text": [
            "/usr/local/lib/python3.7/dist-packages/sklearn/neural_network/_multilayer_perceptron.py:571: ConvergenceWarning: Stochastic Optimizer: Maximum iterations (200) reached and the optimization hasn't converged yet.\n",
            "  % self.max_iter, ConvergenceWarning)\n"
          ]
        },
        {
          "output_type": "stream",
          "name": "stdout",
          "text": [
            "Acuracia para n=1,80/20 : 0.8032786885245902\n"
          ]
        },
        {
          "output_type": "stream",
          "name": "stderr",
          "text": [
            "/usr/local/lib/python3.7/dist-packages/sklearn/neural_network/_multilayer_perceptron.py:571: ConvergenceWarning: Stochastic Optimizer: Maximum iterations (200) reached and the optimization hasn't converged yet.\n",
            "  % self.max_iter, ConvergenceWarning)\n"
          ]
        },
        {
          "output_type": "stream",
          "name": "stdout",
          "text": [
            "Acuracia para n=1,90/10 : 0.8360655737704918\n"
          ]
        },
        {
          "output_type": "stream",
          "name": "stderr",
          "text": [
            "/usr/local/lib/python3.7/dist-packages/sklearn/neural_network/_multilayer_perceptron.py:571: ConvergenceWarning: Stochastic Optimizer: Maximum iterations (200) reached and the optimization hasn't converged yet.\n",
            "  % self.max_iter, ConvergenceWarning)\n",
            "/usr/local/lib/python3.7/dist-packages/sklearn/neural_network/_multilayer_perceptron.py:571: ConvergenceWarning: Stochastic Optimizer: Maximum iterations (200) reached and the optimization hasn't converged yet.\n",
            "  % self.max_iter, ConvergenceWarning)\n",
            "/usr/local/lib/python3.7/dist-packages/sklearn/neural_network/_multilayer_perceptron.py:571: ConvergenceWarning: Stochastic Optimizer: Maximum iterations (200) reached and the optimization hasn't converged yet.\n",
            "  % self.max_iter, ConvergenceWarning)\n",
            "/usr/local/lib/python3.7/dist-packages/sklearn/neural_network/_multilayer_perceptron.py:571: ConvergenceWarning: Stochastic Optimizer: Maximum iterations (200) reached and the optimization hasn't converged yet.\n",
            "  % self.max_iter, ConvergenceWarning)\n",
            "/usr/local/lib/python3.7/dist-packages/sklearn/neural_network/_multilayer_perceptron.py:571: ConvergenceWarning: Stochastic Optimizer: Maximum iterations (200) reached and the optimization hasn't converged yet.\n",
            "  % self.max_iter, ConvergenceWarning)\n",
            "/usr/local/lib/python3.7/dist-packages/sklearn/neural_network/_multilayer_perceptron.py:571: ConvergenceWarning: Stochastic Optimizer: Maximum iterations (200) reached and the optimization hasn't converged yet.\n",
            "  % self.max_iter, ConvergenceWarning)\n",
            "/usr/local/lib/python3.7/dist-packages/sklearn/neural_network/_multilayer_perceptron.py:571: ConvergenceWarning: Stochastic Optimizer: Maximum iterations (200) reached and the optimization hasn't converged yet.\n",
            "  % self.max_iter, ConvergenceWarning)\n",
            "/usr/local/lib/python3.7/dist-packages/sklearn/neural_network/_multilayer_perceptron.py:571: ConvergenceWarning: Stochastic Optimizer: Maximum iterations (200) reached and the optimization hasn't converged yet.\n",
            "  % self.max_iter, ConvergenceWarning)\n",
            "/usr/local/lib/python3.7/dist-packages/sklearn/neural_network/_multilayer_perceptron.py:571: ConvergenceWarning: Stochastic Optimizer: Maximum iterations (200) reached and the optimization hasn't converged yet.\n",
            "  % self.max_iter, ConvergenceWarning)\n"
          ]
        },
        {
          "output_type": "stream",
          "name": "stdout",
          "text": [
            "acurácia %0.2f para kfold, 10 folds 0.8515053763440861\n"
          ]
        },
        {
          "output_type": "stream",
          "name": "stderr",
          "text": [
            "/usr/local/lib/python3.7/dist-packages/sklearn/neural_network/_multilayer_perceptron.py:571: ConvergenceWarning: Stochastic Optimizer: Maximum iterations (200) reached and the optimization hasn't converged yet.\n",
            "  % self.max_iter, ConvergenceWarning)\n"
          ]
        }
      ]
    },
    {
      "cell_type": "markdown",
      "metadata": {
        "id": "kyhk6t4e_Raa"
      },
      "source": [
        "## amostra 30\n",
        "---\n"
      ]
    },
    {
      "cell_type": "code",
      "metadata": {
        "colab": {
          "base_uri": "https://localhost:8080/"
        },
        "id": "gaV6W0ru_VOH",
        "outputId": "83e711ab-9683-4029-a407-6ac4d0d2d791"
      },
      "source": [
        "mlp1 = MLPClassifier(alpha=0.0001,learning_rate='constant',activation='identity', hidden_layer_sizes=(20,), solver='sgd')\n",
        "X = dados_amostra30_normalizado.drop(columns=['output'])\n",
        "X_train,X_test,Y_train,Y_test = train_test_split(X,dados_amostra30_normalizado.output,test_size=0.3,stratify=dados_amostra30_normalizado.output)\n",
        "mlp1.fit(X_train,Y_train)\n",
        "y_pred = mlp1.predict(X_test)\n",
        "acuracia1 = accuracy_score(Y_test,y_pred)\n",
        "print(\"Acuracia para n=1,70/30 :\",acuracia1)\n",
        "X = dados_amostra30_normalizado.drop(columns=['output'])\n",
        "X_train,X_test,Y_train,Y_test = train_test_split(X,dados_amostra30_normalizado.output,test_size=0.2,stratify=dados_amostra30_normalizado.output)\n",
        "mlp2 = MLPClassifier(alpha=0.0001,learning_rate='constant',activation='identity', hidden_layer_sizes=(20,), solver='sgd')\n",
        "mlp2.fit(X_train,Y_train)\n",
        "y_pred = mlp2.predict(X_test)\n",
        "acuracia2 = accuracy_score(Y_test,y_pred)\n",
        "print(\"Acuracia para n=1,80/20 :\",acuracia2)\n",
        "X = dados_amostra30_normalizado.drop(columns=['output'])\n",
        "X_train,X_test,Y_train,Y_test = train_test_split(X,dados_amostra30_normalizado.output,test_size=0.1,stratify=dados_amostra30_normalizado.output)\n",
        "mlp3 = MLPClassifier(alpha=0.0001,learning_rate='constant',activation='identity', hidden_layer_sizes=(20,), solver='sgd')\n",
        "mlp3.fit(X_train,Y_train)\n",
        "y_pred = mlp3.predict(X_test)\n",
        "acuracia3 = accuracy_score(Y_test,y_pred)\n",
        "print(\"Acuracia para n=1,90/10 :\",acuracia3)\n",
        "y = dados_amostra30_normalizado['output']\n",
        "mlp4 = MLPClassifier(alpha=0.0001,learning_rate='constant',activation='identity', hidden_layer_sizes=(20,), solver='sgd')\n",
        "scores = cross_val_score(mlp4, X, y, cv=10)\n",
        "print(\"acurácia %0.2f para kfold, 10 folds\",scores.mean()) "
      ],
      "execution_count": null,
      "outputs": [
        {
          "output_type": "stream",
          "name": "stderr",
          "text": [
            "/usr/local/lib/python3.7/dist-packages/sklearn/neural_network/_multilayer_perceptron.py:571: ConvergenceWarning: Stochastic Optimizer: Maximum iterations (200) reached and the optimization hasn't converged yet.\n",
            "  % self.max_iter, ConvergenceWarning)\n"
          ]
        },
        {
          "output_type": "stream",
          "name": "stdout",
          "text": [
            "Acuracia para n=1,70/30 : 0.8571428571428571\n"
          ]
        },
        {
          "output_type": "stream",
          "name": "stderr",
          "text": [
            "/usr/local/lib/python3.7/dist-packages/sklearn/neural_network/_multilayer_perceptron.py:571: ConvergenceWarning: Stochastic Optimizer: Maximum iterations (200) reached and the optimization hasn't converged yet.\n",
            "  % self.max_iter, ConvergenceWarning)\n",
            "/usr/local/lib/python3.7/dist-packages/sklearn/neural_network/_multilayer_perceptron.py:571: ConvergenceWarning: Stochastic Optimizer: Maximum iterations (200) reached and the optimization hasn't converged yet.\n",
            "  % self.max_iter, ConvergenceWarning)\n"
          ]
        },
        {
          "output_type": "stream",
          "name": "stdout",
          "text": [
            "Acuracia para n=1,80/20 : 0.7894736842105263\n",
            "Acuracia para n=1,90/10 : 0.6\n"
          ]
        },
        {
          "output_type": "stream",
          "name": "stderr",
          "text": [
            "/usr/local/lib/python3.7/dist-packages/sklearn/neural_network/_multilayer_perceptron.py:571: ConvergenceWarning: Stochastic Optimizer: Maximum iterations (200) reached and the optimization hasn't converged yet.\n",
            "  % self.max_iter, ConvergenceWarning)\n",
            "/usr/local/lib/python3.7/dist-packages/sklearn/neural_network/_multilayer_perceptron.py:571: ConvergenceWarning: Stochastic Optimizer: Maximum iterations (200) reached and the optimization hasn't converged yet.\n",
            "  % self.max_iter, ConvergenceWarning)\n",
            "/usr/local/lib/python3.7/dist-packages/sklearn/neural_network/_multilayer_perceptron.py:571: ConvergenceWarning: Stochastic Optimizer: Maximum iterations (200) reached and the optimization hasn't converged yet.\n",
            "  % self.max_iter, ConvergenceWarning)\n",
            "/usr/local/lib/python3.7/dist-packages/sklearn/neural_network/_multilayer_perceptron.py:571: ConvergenceWarning: Stochastic Optimizer: Maximum iterations (200) reached and the optimization hasn't converged yet.\n",
            "  % self.max_iter, ConvergenceWarning)\n",
            "/usr/local/lib/python3.7/dist-packages/sklearn/neural_network/_multilayer_perceptron.py:571: ConvergenceWarning: Stochastic Optimizer: Maximum iterations (200) reached and the optimization hasn't converged yet.\n",
            "  % self.max_iter, ConvergenceWarning)\n",
            "/usr/local/lib/python3.7/dist-packages/sklearn/neural_network/_multilayer_perceptron.py:571: ConvergenceWarning: Stochastic Optimizer: Maximum iterations (200) reached and the optimization hasn't converged yet.\n",
            "  % self.max_iter, ConvergenceWarning)\n",
            "/usr/local/lib/python3.7/dist-packages/sklearn/neural_network/_multilayer_perceptron.py:571: ConvergenceWarning: Stochastic Optimizer: Maximum iterations (200) reached and the optimization hasn't converged yet.\n",
            "  % self.max_iter, ConvergenceWarning)\n",
            "/usr/local/lib/python3.7/dist-packages/sklearn/neural_network/_multilayer_perceptron.py:571: ConvergenceWarning: Stochastic Optimizer: Maximum iterations (200) reached and the optimization hasn't converged yet.\n",
            "  % self.max_iter, ConvergenceWarning)\n"
          ]
        },
        {
          "output_type": "stream",
          "name": "stdout",
          "text": [
            "acurácia %0.2f para kfold, 10 folds 0.8255555555555556\n"
          ]
        },
        {
          "output_type": "stream",
          "name": "stderr",
          "text": [
            "/usr/local/lib/python3.7/dist-packages/sklearn/neural_network/_multilayer_perceptron.py:571: ConvergenceWarning: Stochastic Optimizer: Maximum iterations (200) reached and the optimization hasn't converged yet.\n",
            "  % self.max_iter, ConvergenceWarning)\n",
            "/usr/local/lib/python3.7/dist-packages/sklearn/neural_network/_multilayer_perceptron.py:571: ConvergenceWarning: Stochastic Optimizer: Maximum iterations (200) reached and the optimization hasn't converged yet.\n",
            "  % self.max_iter, ConvergenceWarning)\n"
          ]
        }
      ]
    },
    {
      "cell_type": "code",
      "metadata": {
        "colab": {
          "base_uri": "https://localhost:8080/"
        },
        "id": "zjU9cM2zAQ4k",
        "outputId": "ea8e21d3-bed4-481f-a54a-f2d0fdd4dcb6"
      },
      "source": [
        "mlp1 = MLPClassifier(alpha=0.0001,learning_rate='constant',activation='identity', hidden_layer_sizes=(21,), solver='sgd')\n",
        "X = dados_amostra30_normalizado.drop(columns=['output'])\n",
        "X_train,X_test,Y_train,Y_test = train_test_split(X,dados_amostra30_normalizado.output,test_size=0.3,stratify=dados_amostra30_normalizado.output)\n",
        "mlp1.fit(X_train,Y_train)\n",
        "y_pred = mlp1.predict(X_test)\n",
        "acuracia1 = accuracy_score(Y_test,y_pred)\n",
        "print(\"Acuracia para n=1,70/30 :\",acuracia1)\n",
        "X = dados_amostra30_normalizado.drop(columns=['output'])\n",
        "X_train,X_test,Y_train,Y_test = train_test_split(X,dados_amostra30_normalizado.output,test_size=0.2,stratify=dados_amostra30_normalizado.output)\n",
        "mlp2 = MLPClassifier(alpha=0.0001,learning_rate='constant',activation='identity', hidden_layer_sizes=(21,), solver='sgd')\n",
        "mlp2.fit(X_train,Y_train)\n",
        "y_pred = mlp2.predict(X_test)\n",
        "acuracia2 = accuracy_score(Y_test,y_pred)\n",
        "print(\"Acuracia para n=1,80/20 :\",acuracia2)\n",
        "X = dados_amostra30_normalizado.drop(columns=['output'])\n",
        "X_train,X_test,Y_train,Y_test = train_test_split(X,dados_amostra30_normalizado.output,test_size=0.1,stratify=dados_amostra30_normalizado.output)\n",
        "mlp3 = MLPClassifier(alpha=0.0001,learning_rate='constant',activation='identity', hidden_layer_sizes=(21,), solver='sgd')\n",
        "mlp3.fit(X_train,Y_train)\n",
        "y_pred = mlp3.predict(X_test)\n",
        "acuracia3 = accuracy_score(Y_test,y_pred)\n",
        "print(\"Acuracia para n=1,90/10 :\",acuracia3)\n",
        "y = dados_amostra30_normalizado['output']\n",
        "mlp4 = MLPClassifier(alpha=0.0001,learning_rate='constant',activation='identity', hidden_layer_sizes=(21,), solver='sgd')\n",
        "scores = cross_val_score(mlp4, X, y, cv=10)\n",
        "print(\"acurácia %0.2f para kfold, 10 folds\",scores.mean())"
      ],
      "execution_count": null,
      "outputs": [
        {
          "output_type": "stream",
          "name": "stdout",
          "text": [
            "Acuracia para n=1,70/30 : 0.8214285714285714\n"
          ]
        },
        {
          "output_type": "stream",
          "name": "stderr",
          "text": [
            "/usr/local/lib/python3.7/dist-packages/sklearn/neural_network/_multilayer_perceptron.py:571: ConvergenceWarning: Stochastic Optimizer: Maximum iterations (200) reached and the optimization hasn't converged yet.\n",
            "  % self.max_iter, ConvergenceWarning)\n",
            "/usr/local/lib/python3.7/dist-packages/sklearn/neural_network/_multilayer_perceptron.py:571: ConvergenceWarning: Stochastic Optimizer: Maximum iterations (200) reached and the optimization hasn't converged yet.\n",
            "  % self.max_iter, ConvergenceWarning)\n"
          ]
        },
        {
          "output_type": "stream",
          "name": "stdout",
          "text": [
            "Acuracia para n=1,80/20 : 0.9473684210526315\n",
            "Acuracia para n=1,90/10 : 0.7\n"
          ]
        },
        {
          "output_type": "stream",
          "name": "stderr",
          "text": [
            "/usr/local/lib/python3.7/dist-packages/sklearn/neural_network/_multilayer_perceptron.py:571: ConvergenceWarning: Stochastic Optimizer: Maximum iterations (200) reached and the optimization hasn't converged yet.\n",
            "  % self.max_iter, ConvergenceWarning)\n",
            "/usr/local/lib/python3.7/dist-packages/sklearn/neural_network/_multilayer_perceptron.py:571: ConvergenceWarning: Stochastic Optimizer: Maximum iterations (200) reached and the optimization hasn't converged yet.\n",
            "  % self.max_iter, ConvergenceWarning)\n",
            "/usr/local/lib/python3.7/dist-packages/sklearn/neural_network/_multilayer_perceptron.py:571: ConvergenceWarning: Stochastic Optimizer: Maximum iterations (200) reached and the optimization hasn't converged yet.\n",
            "  % self.max_iter, ConvergenceWarning)\n",
            "/usr/local/lib/python3.7/dist-packages/sklearn/neural_network/_multilayer_perceptron.py:571: ConvergenceWarning: Stochastic Optimizer: Maximum iterations (200) reached and the optimization hasn't converged yet.\n",
            "  % self.max_iter, ConvergenceWarning)\n",
            "/usr/local/lib/python3.7/dist-packages/sklearn/neural_network/_multilayer_perceptron.py:571: ConvergenceWarning: Stochastic Optimizer: Maximum iterations (200) reached and the optimization hasn't converged yet.\n",
            "  % self.max_iter, ConvergenceWarning)\n",
            "/usr/local/lib/python3.7/dist-packages/sklearn/neural_network/_multilayer_perceptron.py:571: ConvergenceWarning: Stochastic Optimizer: Maximum iterations (200) reached and the optimization hasn't converged yet.\n",
            "  % self.max_iter, ConvergenceWarning)\n",
            "/usr/local/lib/python3.7/dist-packages/sklearn/neural_network/_multilayer_perceptron.py:571: ConvergenceWarning: Stochastic Optimizer: Maximum iterations (200) reached and the optimization hasn't converged yet.\n",
            "  % self.max_iter, ConvergenceWarning)\n",
            "/usr/local/lib/python3.7/dist-packages/sklearn/neural_network/_multilayer_perceptron.py:571: ConvergenceWarning: Stochastic Optimizer: Maximum iterations (200) reached and the optimization hasn't converged yet.\n",
            "  % self.max_iter, ConvergenceWarning)\n",
            "/usr/local/lib/python3.7/dist-packages/sklearn/neural_network/_multilayer_perceptron.py:571: ConvergenceWarning: Stochastic Optimizer: Maximum iterations (200) reached and the optimization hasn't converged yet.\n",
            "  % self.max_iter, ConvergenceWarning)\n",
            "/usr/local/lib/python3.7/dist-packages/sklearn/neural_network/_multilayer_perceptron.py:571: ConvergenceWarning: Stochastic Optimizer: Maximum iterations (200) reached and the optimization hasn't converged yet.\n",
            "  % self.max_iter, ConvergenceWarning)\n"
          ]
        },
        {
          "output_type": "stream",
          "name": "stdout",
          "text": [
            "acurácia %0.2f para kfold, 10 folds 0.7477777777777778\n"
          ]
        },
        {
          "output_type": "stream",
          "name": "stderr",
          "text": [
            "/usr/local/lib/python3.7/dist-packages/sklearn/neural_network/_multilayer_perceptron.py:571: ConvergenceWarning: Stochastic Optimizer: Maximum iterations (200) reached and the optimization hasn't converged yet.\n",
            "  % self.max_iter, ConvergenceWarning)\n"
          ]
        }
      ]
    },
    {
      "cell_type": "code",
      "metadata": {
        "colab": {
          "base_uri": "https://localhost:8080/"
        },
        "id": "XYo9krO7AUEo",
        "outputId": "40198cbd-f6b3-4684-e5a5-1058a4beb35c"
      },
      "source": [
        "mlp1 = MLPClassifier(alpha=0.0001,learning_rate='constant',activation='identity', hidden_layer_sizes=(22,), solver='sgd')\n",
        "X = dados_amostra30_normalizado.drop(columns=['output'])\n",
        "X_train,X_test,Y_train,Y_test = train_test_split(X,dados_amostra30_normalizado.output,test_size=0.3,stratify=dados_amostra30_normalizado.output)\n",
        "mlp1.fit(X_train,Y_train)\n",
        "y_pred = mlp1.predict(X_test)\n",
        "acuracia1 = accuracy_score(Y_test,y_pred)\n",
        "print(\"Acuracia para n=1,70/30 :\",acuracia1)\n",
        "X = dados_amostra30_normalizado.drop(columns=['output'])\n",
        "X_train,X_test,Y_train,Y_test = train_test_split(X,dados_amostra30_normalizado.output,test_size=0.2,stratify=dados_amostra30_normalizado.output)\n",
        "mlp2 = MLPClassifier(alpha=0.0001,learning_rate='constant',activation='identity', hidden_layer_sizes=(22,), solver='sgd')\n",
        "mlp2.fit(X_train,Y_train)\n",
        "y_pred = mlp2.predict(X_test)\n",
        "acuracia2 = accuracy_score(Y_test,y_pred)\n",
        "print(\"Acuracia para n=1,80/20 :\",acuracia2)\n",
        "X = dados_amostra30_normalizado.drop(columns=['output'])\n",
        "X_train,X_test,Y_train,Y_test = train_test_split(X,dados_amostra30_normalizado.output,test_size=0.1,stratify=dados_amostra30_normalizado.output)\n",
        "mlp3 = MLPClassifier(alpha=0.0001,learning_rate='constant',activation='identity', hidden_layer_sizes=(22,), solver='sgd')\n",
        "mlp3.fit(X_train,Y_train)\n",
        "y_pred = mlp3.predict(X_test)\n",
        "acuracia3 = accuracy_score(Y_test,y_pred)\n",
        "print(\"Acuracia para n=1,90/10 :\",acuracia3)\n",
        "y = dados_amostra30_normalizado['output']\n",
        "mlp4 = MLPClassifier(alpha=0.0001,learning_rate='constant',activation='identity', hidden_layer_sizes=(22,), solver='sgd')\n",
        "scores = cross_val_score(mlp4, X, y, cv=10)\n",
        "print(\"acurácia %0.2f para kfold, 10 folds\",scores.mean())"
      ],
      "execution_count": null,
      "outputs": [
        {
          "output_type": "stream",
          "name": "stderr",
          "text": [
            "/usr/local/lib/python3.7/dist-packages/sklearn/neural_network/_multilayer_perceptron.py:571: ConvergenceWarning: Stochastic Optimizer: Maximum iterations (200) reached and the optimization hasn't converged yet.\n",
            "  % self.max_iter, ConvergenceWarning)\n"
          ]
        },
        {
          "output_type": "stream",
          "name": "stdout",
          "text": [
            "Acuracia para n=1,70/30 :"
          ]
        },
        {
          "output_type": "stream",
          "name": "stderr",
          "text": [
            "/usr/local/lib/python3.7/dist-packages/sklearn/neural_network/_multilayer_perceptron.py:571: ConvergenceWarning: Stochastic Optimizer: Maximum iterations (200) reached and the optimization hasn't converged yet.\n",
            "  % self.max_iter, ConvergenceWarning)\n"
          ]
        },
        {
          "output_type": "stream",
          "name": "stdout",
          "text": [
            " 0.7857142857142857\n",
            "Acuracia para n=1,80/20 : 0.7368421052631579\n"
          ]
        },
        {
          "output_type": "stream",
          "name": "stderr",
          "text": [
            "/usr/local/lib/python3.7/dist-packages/sklearn/neural_network/_multilayer_perceptron.py:571: ConvergenceWarning: Stochastic Optimizer: Maximum iterations (200) reached and the optimization hasn't converged yet.\n",
            "  % self.max_iter, ConvergenceWarning)\n",
            "/usr/local/lib/python3.7/dist-packages/sklearn/neural_network/_multilayer_perceptron.py:571: ConvergenceWarning: Stochastic Optimizer: Maximum iterations (200) reached and the optimization hasn't converged yet.\n",
            "  % self.max_iter, ConvergenceWarning)\n"
          ]
        },
        {
          "output_type": "stream",
          "name": "stdout",
          "text": [
            "Acuracia para n=1,90/10 : 0.8\n"
          ]
        },
        {
          "output_type": "stream",
          "name": "stderr",
          "text": [
            "/usr/local/lib/python3.7/dist-packages/sklearn/neural_network/_multilayer_perceptron.py:571: ConvergenceWarning: Stochastic Optimizer: Maximum iterations (200) reached and the optimization hasn't converged yet.\n",
            "  % self.max_iter, ConvergenceWarning)\n",
            "/usr/local/lib/python3.7/dist-packages/sklearn/neural_network/_multilayer_perceptron.py:571: ConvergenceWarning: Stochastic Optimizer: Maximum iterations (200) reached and the optimization hasn't converged yet.\n",
            "  % self.max_iter, ConvergenceWarning)\n",
            "/usr/local/lib/python3.7/dist-packages/sklearn/neural_network/_multilayer_perceptron.py:571: ConvergenceWarning: Stochastic Optimizer: Maximum iterations (200) reached and the optimization hasn't converged yet.\n",
            "  % self.max_iter, ConvergenceWarning)\n",
            "/usr/local/lib/python3.7/dist-packages/sklearn/neural_network/_multilayer_perceptron.py:571: ConvergenceWarning: Stochastic Optimizer: Maximum iterations (200) reached and the optimization hasn't converged yet.\n",
            "  % self.max_iter, ConvergenceWarning)\n",
            "/usr/local/lib/python3.7/dist-packages/sklearn/neural_network/_multilayer_perceptron.py:571: ConvergenceWarning: Stochastic Optimizer: Maximum iterations (200) reached and the optimization hasn't converged yet.\n",
            "  % self.max_iter, ConvergenceWarning)\n",
            "/usr/local/lib/python3.7/dist-packages/sklearn/neural_network/_multilayer_perceptron.py:571: ConvergenceWarning: Stochastic Optimizer: Maximum iterations (200) reached and the optimization hasn't converged yet.\n",
            "  % self.max_iter, ConvergenceWarning)\n",
            "/usr/local/lib/python3.7/dist-packages/sklearn/neural_network/_multilayer_perceptron.py:571: ConvergenceWarning: Stochastic Optimizer: Maximum iterations (200) reached and the optimization hasn't converged yet.\n",
            "  % self.max_iter, ConvergenceWarning)\n",
            "/usr/local/lib/python3.7/dist-packages/sklearn/neural_network/_multilayer_perceptron.py:571: ConvergenceWarning: Stochastic Optimizer: Maximum iterations (200) reached and the optimization hasn't converged yet.\n",
            "  % self.max_iter, ConvergenceWarning)\n"
          ]
        },
        {
          "output_type": "stream",
          "name": "stdout",
          "text": [
            "acurácia %0.2f para kfold, 10 folds 0.7933333333333333\n"
          ]
        },
        {
          "output_type": "stream",
          "name": "stderr",
          "text": [
            "/usr/local/lib/python3.7/dist-packages/sklearn/neural_network/_multilayer_perceptron.py:571: ConvergenceWarning: Stochastic Optimizer: Maximum iterations (200) reached and the optimization hasn't converged yet.\n",
            "  % self.max_iter, ConvergenceWarning)\n"
          ]
        }
      ]
    },
    {
      "cell_type": "code",
      "metadata": {
        "colab": {
          "base_uri": "https://localhost:8080/"
        },
        "id": "9qIjQx0uAU1Q",
        "outputId": "6cb781db-524f-449f-d7a9-d91117be359d"
      },
      "source": [
        "mlp1 = MLPClassifier(alpha=0.0001,learning_rate='constant',activation='identity', hidden_layer_sizes=(23,), solver='sgd')\n",
        "X = dados_amostra30_normalizado.drop(columns=['output'])\n",
        "X_train,X_test,Y_train,Y_test = train_test_split(X,dados_amostra30_normalizado.output,test_size=0.3,stratify=dados_amostra30_normalizado.output)\n",
        "mlp1.fit(X_train,Y_train)\n",
        "y_pred = mlp1.predict(X_test)\n",
        "acuracia1 = accuracy_score(Y_test,y_pred)\n",
        "print(\"Acuracia para n=1,70/30 :\",acuracia1)\n",
        "X = dados_amostra30_normalizado.drop(columns=['output'])\n",
        "X_train,X_test,Y_train,Y_test = train_test_split(X,dados_amostra30_normalizado.output,test_size=0.2,stratify=dados_amostra30_normalizado.output)\n",
        "mlp2 = MLPClassifier(alpha=0.0001,learning_rate='constant',activation='identity', hidden_layer_sizes=(23,), solver='sgd')\n",
        "mlp2.fit(X_train,Y_train)\n",
        "y_pred = mlp2.predict(X_test)\n",
        "acuracia2 = accuracy_score(Y_test,y_pred)\n",
        "print(\"Acuracia para n=1,80/20 :\",acuracia2)\n",
        "X = dados_amostra30_normalizado.drop(columns=['output'])\n",
        "X_train,X_test,Y_train,Y_test = train_test_split(X,dados_amostra30_normalizado.output,test_size=0.1,stratify=dados_amostra30_normalizado.output)\n",
        "mlp3 = MLPClassifier(alpha=0.0001,learning_rate='constant',activation='identity', hidden_layer_sizes=(23,), solver='sgd')\n",
        "mlp3.fit(X_train,Y_train)\n",
        "y_pred = mlp3.predict(X_test)\n",
        "acuracia3 = accuracy_score(Y_test,y_pred)\n",
        "print(\"Acuracia para n=1,90/10 :\",acuracia3)\n",
        "y = dados_amostra30_normalizado['output']\n",
        "mlp4 = MLPClassifier(alpha=0.0001,learning_rate='constant',activation='identity', hidden_layer_sizes=(23,), solver='sgd')\n",
        "scores = cross_val_score(mlp4, X, y, cv=10)\n",
        "print(\"acurácia %0.2f para kfold, 10 folds\",scores.mean())"
      ],
      "execution_count": null,
      "outputs": [
        {
          "output_type": "stream",
          "name": "stderr",
          "text": [
            "/usr/local/lib/python3.7/dist-packages/sklearn/neural_network/_multilayer_perceptron.py:571: ConvergenceWarning: Stochastic Optimizer: Maximum iterations (200) reached and the optimization hasn't converged yet.\n",
            "  % self.max_iter, ConvergenceWarning)\n",
            "/usr/local/lib/python3.7/dist-packages/sklearn/neural_network/_multilayer_perceptron.py:571: ConvergenceWarning: Stochastic Optimizer: Maximum iterations (200) reached and the optimization hasn't converged yet.\n",
            "  % self.max_iter, ConvergenceWarning)\n"
          ]
        },
        {
          "output_type": "stream",
          "name": "stdout",
          "text": [
            "Acuracia para n=1,70/30 : 0.8571428571428571\n",
            "Acuracia para n=1,80/20 : 0.7894736842105263\n"
          ]
        },
        {
          "output_type": "stream",
          "name": "stderr",
          "text": [
            "/usr/local/lib/python3.7/dist-packages/sklearn/neural_network/_multilayer_perceptron.py:571: ConvergenceWarning: Stochastic Optimizer: Maximum iterations (200) reached and the optimization hasn't converged yet.\n",
            "  % self.max_iter, ConvergenceWarning)\n",
            "/usr/local/lib/python3.7/dist-packages/sklearn/neural_network/_multilayer_perceptron.py:571: ConvergenceWarning: Stochastic Optimizer: Maximum iterations (200) reached and the optimization hasn't converged yet.\n",
            "  % self.max_iter, ConvergenceWarning)\n"
          ]
        },
        {
          "output_type": "stream",
          "name": "stdout",
          "text": [
            "Acuracia para n=1,90/10 : 0.9\n"
          ]
        },
        {
          "output_type": "stream",
          "name": "stderr",
          "text": [
            "/usr/local/lib/python3.7/dist-packages/sklearn/neural_network/_multilayer_perceptron.py:571: ConvergenceWarning: Stochastic Optimizer: Maximum iterations (200) reached and the optimization hasn't converged yet.\n",
            "  % self.max_iter, ConvergenceWarning)\n",
            "/usr/local/lib/python3.7/dist-packages/sklearn/neural_network/_multilayer_perceptron.py:571: ConvergenceWarning: Stochastic Optimizer: Maximum iterations (200) reached and the optimization hasn't converged yet.\n",
            "  % self.max_iter, ConvergenceWarning)\n",
            "/usr/local/lib/python3.7/dist-packages/sklearn/neural_network/_multilayer_perceptron.py:571: ConvergenceWarning: Stochastic Optimizer: Maximum iterations (200) reached and the optimization hasn't converged yet.\n",
            "  % self.max_iter, ConvergenceWarning)\n",
            "/usr/local/lib/python3.7/dist-packages/sklearn/neural_network/_multilayer_perceptron.py:571: ConvergenceWarning: Stochastic Optimizer: Maximum iterations (200) reached and the optimization hasn't converged yet.\n",
            "  % self.max_iter, ConvergenceWarning)\n",
            "/usr/local/lib/python3.7/dist-packages/sklearn/neural_network/_multilayer_perceptron.py:571: ConvergenceWarning: Stochastic Optimizer: Maximum iterations (200) reached and the optimization hasn't converged yet.\n",
            "  % self.max_iter, ConvergenceWarning)\n",
            "/usr/local/lib/python3.7/dist-packages/sklearn/neural_network/_multilayer_perceptron.py:571: ConvergenceWarning: Stochastic Optimizer: Maximum iterations (200) reached and the optimization hasn't converged yet.\n",
            "  % self.max_iter, ConvergenceWarning)\n",
            "/usr/local/lib/python3.7/dist-packages/sklearn/neural_network/_multilayer_perceptron.py:571: ConvergenceWarning: Stochastic Optimizer: Maximum iterations (200) reached and the optimization hasn't converged yet.\n",
            "  % self.max_iter, ConvergenceWarning)\n",
            "/usr/local/lib/python3.7/dist-packages/sklearn/neural_network/_multilayer_perceptron.py:571: ConvergenceWarning: Stochastic Optimizer: Maximum iterations (200) reached and the optimization hasn't converged yet.\n",
            "  % self.max_iter, ConvergenceWarning)\n"
          ]
        },
        {
          "output_type": "stream",
          "name": "stdout",
          "text": [
            "acurácia %0.2f para kfold, 10 folds 0.8244444444444445\n"
          ]
        },
        {
          "output_type": "stream",
          "name": "stderr",
          "text": [
            "/usr/local/lib/python3.7/dist-packages/sklearn/neural_network/_multilayer_perceptron.py:571: ConvergenceWarning: Stochastic Optimizer: Maximum iterations (200) reached and the optimization hasn't converged yet.\n",
            "  % self.max_iter, ConvergenceWarning)\n"
          ]
        }
      ]
    },
    {
      "cell_type": "code",
      "metadata": {
        "colab": {
          "base_uri": "https://localhost:8080/"
        },
        "id": "XS_A_615AVGr",
        "outputId": "64dcabe4-c374-494f-85d9-5242b406f71c"
      },
      "source": [
        "mlp1 = MLPClassifier(alpha=0.0001,learning_rate='constant',activation='identity', hidden_layer_sizes=(24,), solver='sgd')\n",
        "X = dados_amostra30_normalizado.drop(columns=['output'])\n",
        "X_train,X_test,Y_train,Y_test = train_test_split(X,dados_amostra30_normalizado.output,test_size=0.3,stratify=dados_amostra30_normalizado.output)\n",
        "mlp1.fit(X_train,Y_train)\n",
        "y_pred = mlp1.predict(X_test)\n",
        "acuracia1 = accuracy_score(Y_test,y_pred)\n",
        "print(\"Acuracia para n=1,70/30 :\",acuracia1)\n",
        "X = dados_amostra30_normalizado.drop(columns=['output'])\n",
        "X_train,X_test,Y_train,Y_test = train_test_split(X,dados_amostra30_normalizado.output,test_size=0.2,stratify=dados_amostra30_normalizado.output)\n",
        "mlp2 = MLPClassifier(alpha=0.0001,learning_rate='constant',activation='identity', hidden_layer_sizes=(24,), solver='sgd')\n",
        "mlp2.fit(X_train,Y_train)\n",
        "y_pred = mlp2.predict(X_test)\n",
        "acuracia2 = accuracy_score(Y_test,y_pred)\n",
        "print(\"Acuracia para n=1,80/20 :\",acuracia2)\n",
        "X = dados_amostra30_normalizado.drop(columns=['output'])\n",
        "X_train,X_test,Y_train,Y_test = train_test_split(X,dados_amostra30_normalizado.output,test_size=0.1,stratify=dados_amostra30_normalizado.output)\n",
        "mlp3 = MLPClassifier(alpha=0.0001,learning_rate='constant',activation='identity', hidden_layer_sizes=(24,), solver='sgd')\n",
        "mlp3.fit(X_train,Y_train)\n",
        "y_pred = mlp3.predict(X_test)\n",
        "acuracia3 = accuracy_score(Y_test,y_pred)\n",
        "print(\"Acuracia para n=1,90/10 :\",acuracia3)\n",
        "y = dados_amostra30_normalizado['output']\n",
        "mlp4 = MLPClassifier(alpha=0.0001,learning_rate='constant',activation='identity', hidden_layer_sizes=(24,), solver='sgd')\n",
        "scores = cross_val_score(mlp4, X, y, cv=10)\n",
        "print(\"acurácia %0.2f para kfold, 10 folds\",scores.mean())"
      ],
      "execution_count": null,
      "outputs": [
        {
          "output_type": "stream",
          "name": "stderr",
          "text": [
            "/usr/local/lib/python3.7/dist-packages/sklearn/neural_network/_multilayer_perceptron.py:571: ConvergenceWarning: Stochastic Optimizer: Maximum iterations (200) reached and the optimization hasn't converged yet.\n",
            "  % self.max_iter, ConvergenceWarning)\n"
          ]
        },
        {
          "output_type": "stream",
          "name": "stdout",
          "text": [
            "Acuracia para n=1,70/30 : 0.7142857142857143\n"
          ]
        },
        {
          "output_type": "stream",
          "name": "stderr",
          "text": [
            "/usr/local/lib/python3.7/dist-packages/sklearn/neural_network/_multilayer_perceptron.py:571: ConvergenceWarning: Stochastic Optimizer: Maximum iterations (200) reached and the optimization hasn't converged yet.\n",
            "  % self.max_iter, ConvergenceWarning)\n"
          ]
        },
        {
          "output_type": "stream",
          "name": "stdout",
          "text": [
            "Acuracia para n=1,80/20 : 0.6842105263157895\n"
          ]
        },
        {
          "output_type": "stream",
          "name": "stderr",
          "text": [
            "/usr/local/lib/python3.7/dist-packages/sklearn/neural_network/_multilayer_perceptron.py:571: ConvergenceWarning: Stochastic Optimizer: Maximum iterations (200) reached and the optimization hasn't converged yet.\n",
            "  % self.max_iter, ConvergenceWarning)\n"
          ]
        },
        {
          "output_type": "stream",
          "name": "stdout",
          "text": [
            "Acuracia para n=1,90/10 : 0.7\n"
          ]
        },
        {
          "output_type": "stream",
          "name": "stderr",
          "text": [
            "/usr/local/lib/python3.7/dist-packages/sklearn/neural_network/_multilayer_perceptron.py:571: ConvergenceWarning: Stochastic Optimizer: Maximum iterations (200) reached and the optimization hasn't converged yet.\n",
            "  % self.max_iter, ConvergenceWarning)\n",
            "/usr/local/lib/python3.7/dist-packages/sklearn/neural_network/_multilayer_perceptron.py:571: ConvergenceWarning: Stochastic Optimizer: Maximum iterations (200) reached and the optimization hasn't converged yet.\n",
            "  % self.max_iter, ConvergenceWarning)\n",
            "/usr/local/lib/python3.7/dist-packages/sklearn/neural_network/_multilayer_perceptron.py:571: ConvergenceWarning: Stochastic Optimizer: Maximum iterations (200) reached and the optimization hasn't converged yet.\n",
            "  % self.max_iter, ConvergenceWarning)\n",
            "/usr/local/lib/python3.7/dist-packages/sklearn/neural_network/_multilayer_perceptron.py:571: ConvergenceWarning: Stochastic Optimizer: Maximum iterations (200) reached and the optimization hasn't converged yet.\n",
            "  % self.max_iter, ConvergenceWarning)\n",
            "/usr/local/lib/python3.7/dist-packages/sklearn/neural_network/_multilayer_perceptron.py:571: ConvergenceWarning: Stochastic Optimizer: Maximum iterations (200) reached and the optimization hasn't converged yet.\n",
            "  % self.max_iter, ConvergenceWarning)\n",
            "/usr/local/lib/python3.7/dist-packages/sklearn/neural_network/_multilayer_perceptron.py:571: ConvergenceWarning: Stochastic Optimizer: Maximum iterations (200) reached and the optimization hasn't converged yet.\n",
            "  % self.max_iter, ConvergenceWarning)\n",
            "/usr/local/lib/python3.7/dist-packages/sklearn/neural_network/_multilayer_perceptron.py:571: ConvergenceWarning: Stochastic Optimizer: Maximum iterations (200) reached and the optimization hasn't converged yet.\n",
            "  % self.max_iter, ConvergenceWarning)\n",
            "/usr/local/lib/python3.7/dist-packages/sklearn/neural_network/_multilayer_perceptron.py:571: ConvergenceWarning: Stochastic Optimizer: Maximum iterations (200) reached and the optimization hasn't converged yet.\n",
            "  % self.max_iter, ConvergenceWarning)\n",
            "/usr/local/lib/python3.7/dist-packages/sklearn/neural_network/_multilayer_perceptron.py:571: ConvergenceWarning: Stochastic Optimizer: Maximum iterations (200) reached and the optimization hasn't converged yet.\n",
            "  % self.max_iter, ConvergenceWarning)\n"
          ]
        },
        {
          "output_type": "stream",
          "name": "stdout",
          "text": [
            "acurácia %0.2f para kfold, 10 folds 0.8144444444444444\n"
          ]
        },
        {
          "output_type": "stream",
          "name": "stderr",
          "text": [
            "/usr/local/lib/python3.7/dist-packages/sklearn/neural_network/_multilayer_perceptron.py:571: ConvergenceWarning: Stochastic Optimizer: Maximum iterations (200) reached and the optimization hasn't converged yet.\n",
            "  % self.max_iter, ConvergenceWarning)\n"
          ]
        }
      ]
    },
    {
      "cell_type": "markdown",
      "metadata": {
        "id": "Vo7JlOyFBSBe"
      },
      "source": [
        "## Amostra 50\n",
        "---"
      ]
    },
    {
      "cell_type": "code",
      "metadata": {
        "colab": {
          "base_uri": "https://localhost:8080/"
        },
        "id": "A4gdDLI7BV-F",
        "outputId": "042e26f4-238d-4432-dd65-8f273c235e4a"
      },
      "source": [
        "mlp1 = MLPClassifier(alpha=0.0001,learning_rate='constant',activation='identity', hidden_layer_sizes=(20,), solver='sgd')\n",
        "X = dados_amostra50_normalizado.drop(columns=['output'])\n",
        "X_train,X_test,Y_train,Y_test = train_test_split(X,dados_amostra50_normalizado.output,test_size=0.3,stratify=dados_amostra50_normalizado.output)\n",
        "mlp1.fit(X_train,Y_train)\n",
        "y_pred = mlp1.predict(X_test)\n",
        "acuracia1 = accuracy_score(Y_test,y_pred)\n",
        "print(\"Acuracia para n=1,70/30 :\",acuracia1)\n",
        "X = dados_amostra50_normalizado.drop(columns=['output'])\n",
        "X_train,X_test,Y_train,Y_test = train_test_split(X,dados_amostra50_normalizado.output,test_size=0.2,stratify=dados_amostra50_normalizado.output)\n",
        "mlp2 = MLPClassifier(alpha=0.0001,learning_rate='constant',activation='identity', hidden_layer_sizes=(20,), solver='sgd')\n",
        "mlp2.fit(X_train,Y_train)\n",
        "y_pred = mlp2.predict(X_test)\n",
        "acuracia2 = accuracy_score(Y_test,y_pred)\n",
        "print(\"Acuracia para n=1,80/20 :\",acuracia2)\n",
        "X = dados_amostra50_normalizado.drop(columns=['output'])\n",
        "X_train,X_test,Y_train,Y_test = train_test_split(X,dados_amostra50_normalizado.output,test_size=0.1,stratify=dados_amostra50_normalizado.output)\n",
        "mlp3 = MLPClassifier(alpha=0.0001,learning_rate='constant',activation='identity', hidden_layer_sizes=(20,), solver='sgd')\n",
        "mlp3.fit(X_train,Y_train)\n",
        "y_pred = mlp3.predict(X_test)\n",
        "acuracia3 = accuracy_score(Y_test,y_pred)\n",
        "print(\"Acuracia para n=1,90/10 :\",acuracia3)\n",
        "y = dados_amostra50_normalizado['output']\n",
        "mlp4 = MLPClassifier(alpha=0.0001,learning_rate='constant',activation='identity', hidden_layer_sizes=(20,), solver='sgd')\n",
        "scores = cross_val_score(mlp4, X, y, cv=10)\n",
        "print(\"acurácia %0.2f para kfold, 10 folds\",scores.mean())"
      ],
      "execution_count": null,
      "outputs": [
        {
          "output_type": "stream",
          "name": "stderr",
          "text": [
            "/usr/local/lib/python3.7/dist-packages/sklearn/neural_network/_multilayer_perceptron.py:571: ConvergenceWarning: Stochastic Optimizer: Maximum iterations (200) reached and the optimization hasn't converged yet.\n",
            "  % self.max_iter, ConvergenceWarning)\n"
          ]
        },
        {
          "output_type": "stream",
          "name": "stdout",
          "text": [
            "Acuracia para n=1,70/30 :"
          ]
        },
        {
          "output_type": "stream",
          "name": "stderr",
          "text": [
            "/usr/local/lib/python3.7/dist-packages/sklearn/neural_network/_multilayer_perceptron.py:571: ConvergenceWarning: Stochastic Optimizer: Maximum iterations (200) reached and the optimization hasn't converged yet.\n",
            "  % self.max_iter, ConvergenceWarning)\n"
          ]
        },
        {
          "output_type": "stream",
          "name": "stdout",
          "text": [
            " 0.8043478260869565\n",
            "Acuracia para n=1,80/20 : 0.7741935483870968\n"
          ]
        },
        {
          "output_type": "stream",
          "name": "stderr",
          "text": [
            "/usr/local/lib/python3.7/dist-packages/sklearn/neural_network/_multilayer_perceptron.py:571: ConvergenceWarning: Stochastic Optimizer: Maximum iterations (200) reached and the optimization hasn't converged yet.\n",
            "  % self.max_iter, ConvergenceWarning)\n",
            "/usr/local/lib/python3.7/dist-packages/sklearn/neural_network/_multilayer_perceptron.py:571: ConvergenceWarning: Stochastic Optimizer: Maximum iterations (200) reached and the optimization hasn't converged yet.\n",
            "  % self.max_iter, ConvergenceWarning)\n"
          ]
        },
        {
          "output_type": "stream",
          "name": "stdout",
          "text": [
            "Acuracia para n=1,90/10 : 0.875\n"
          ]
        },
        {
          "output_type": "stream",
          "name": "stderr",
          "text": [
            "/usr/local/lib/python3.7/dist-packages/sklearn/neural_network/_multilayer_perceptron.py:571: ConvergenceWarning: Stochastic Optimizer: Maximum iterations (200) reached and the optimization hasn't converged yet.\n",
            "  % self.max_iter, ConvergenceWarning)\n",
            "/usr/local/lib/python3.7/dist-packages/sklearn/neural_network/_multilayer_perceptron.py:571: ConvergenceWarning: Stochastic Optimizer: Maximum iterations (200) reached and the optimization hasn't converged yet.\n",
            "  % self.max_iter, ConvergenceWarning)\n",
            "/usr/local/lib/python3.7/dist-packages/sklearn/neural_network/_multilayer_perceptron.py:571: ConvergenceWarning: Stochastic Optimizer: Maximum iterations (200) reached and the optimization hasn't converged yet.\n",
            "  % self.max_iter, ConvergenceWarning)\n",
            "/usr/local/lib/python3.7/dist-packages/sklearn/neural_network/_multilayer_perceptron.py:571: ConvergenceWarning: Stochastic Optimizer: Maximum iterations (200) reached and the optimization hasn't converged yet.\n",
            "  % self.max_iter, ConvergenceWarning)\n",
            "/usr/local/lib/python3.7/dist-packages/sklearn/neural_network/_multilayer_perceptron.py:571: ConvergenceWarning: Stochastic Optimizer: Maximum iterations (200) reached and the optimization hasn't converged yet.\n",
            "  % self.max_iter, ConvergenceWarning)\n",
            "/usr/local/lib/python3.7/dist-packages/sklearn/neural_network/_multilayer_perceptron.py:571: ConvergenceWarning: Stochastic Optimizer: Maximum iterations (200) reached and the optimization hasn't converged yet.\n",
            "  % self.max_iter, ConvergenceWarning)\n",
            "/usr/local/lib/python3.7/dist-packages/sklearn/neural_network/_multilayer_perceptron.py:571: ConvergenceWarning: Stochastic Optimizer: Maximum iterations (200) reached and the optimization hasn't converged yet.\n",
            "  % self.max_iter, ConvergenceWarning)\n",
            "/usr/local/lib/python3.7/dist-packages/sklearn/neural_network/_multilayer_perceptron.py:571: ConvergenceWarning: Stochastic Optimizer: Maximum iterations (200) reached and the optimization hasn't converged yet.\n",
            "  % self.max_iter, ConvergenceWarning)\n"
          ]
        },
        {
          "output_type": "stream",
          "name": "stdout",
          "text": [
            "acurácia %0.2f para kfold, 10 folds 0.7675\n"
          ]
        },
        {
          "output_type": "stream",
          "name": "stderr",
          "text": [
            "/usr/local/lib/python3.7/dist-packages/sklearn/neural_network/_multilayer_perceptron.py:571: ConvergenceWarning: Stochastic Optimizer: Maximum iterations (200) reached and the optimization hasn't converged yet.\n",
            "  % self.max_iter, ConvergenceWarning)\n"
          ]
        }
      ]
    },
    {
      "cell_type": "code",
      "metadata": {
        "colab": {
          "base_uri": "https://localhost:8080/"
        },
        "id": "zRm1Ber5Bpi6",
        "outputId": "73aa60af-fbe1-42db-be35-6721172c2dc6"
      },
      "source": [
        "mlp1 = MLPClassifier(alpha=0.0001,learning_rate='constant',activation='identity', hidden_layer_sizes=(21,), solver='sgd')\n",
        "X = dados_amostra50_normalizado.drop(columns=['output'])\n",
        "X_train,X_test,Y_train,Y_test = train_test_split(X,dados_amostra50_normalizado.output,test_size=0.3,stratify=dados_amostra50_normalizado.output)\n",
        "mlp1.fit(X_train,Y_train)\n",
        "y_pred = mlp1.predict(X_test)\n",
        "acuracia1 = accuracy_score(Y_test,y_pred)\n",
        "print(\"Acuracia para n=1,70/30 :\",acuracia1)\n",
        "X = dados_amostra50_normalizado.drop(columns=['output'])\n",
        "X_train,X_test,Y_train,Y_test = train_test_split(X,dados_amostra50_normalizado.output,test_size=0.2,stratify=dados_amostra50_normalizado.output)\n",
        "mlp2 = MLPClassifier(alpha=0.0001,learning_rate='constant',activation='identity', hidden_layer_sizes=(21,), solver='sgd')\n",
        "mlp2.fit(X_train,Y_train)\n",
        "y_pred = mlp2.predict(X_test)\n",
        "acuracia2 = accuracy_score(Y_test,y_pred)\n",
        "print(\"Acuracia para n=1,80/20 :\",acuracia2)\n",
        "X = dados_amostra50_normalizado.drop(columns=['output'])\n",
        "X_train,X_test,Y_train,Y_test = train_test_split(X,dados_amostra50_normalizado.output,test_size=0.1,stratify=dados_amostra50_normalizado.output)\n",
        "mlp3 = MLPClassifier(alpha=0.0001,learning_rate='constant',activation='identity', hidden_layer_sizes=(21,), solver='sgd')\n",
        "mlp3.fit(X_train,Y_train)\n",
        "y_pred = mlp3.predict(X_test)\n",
        "acuracia3 = accuracy_score(Y_test,y_pred)\n",
        "print(\"Acuracia para n=1,90/10 :\",acuracia3)\n",
        "y = dados_amostra50_normalizado['output']\n",
        "mlp4 = MLPClassifier(alpha=0.0001,learning_rate='constant',activation='identity', hidden_layer_sizes=(21,), solver='sgd')\n",
        "scores = cross_val_score(mlp4, X, y, cv=10)\n",
        "print(\"acurácia %0.2f para kfold, 10 folds\",scores.mean())"
      ],
      "execution_count": null,
      "outputs": [
        {
          "output_type": "stream",
          "name": "stderr",
          "text": [
            "/usr/local/lib/python3.7/dist-packages/sklearn/neural_network/_multilayer_perceptron.py:571: ConvergenceWarning: Stochastic Optimizer: Maximum iterations (200) reached and the optimization hasn't converged yet.\n",
            "  % self.max_iter, ConvergenceWarning)\n",
            "/usr/local/lib/python3.7/dist-packages/sklearn/neural_network/_multilayer_perceptron.py:571: ConvergenceWarning: Stochastic Optimizer: Maximum iterations (200) reached and the optimization hasn't converged yet.\n",
            "  % self.max_iter, ConvergenceWarning)\n"
          ]
        },
        {
          "output_type": "stream",
          "name": "stdout",
          "text": [
            "Acuracia para n=1,70/30 : 0.8260869565217391\n",
            "Acuracia para n=1,80/20 : 0.8387096774193549\n"
          ]
        },
        {
          "output_type": "stream",
          "name": "stderr",
          "text": [
            "/usr/local/lib/python3.7/dist-packages/sklearn/neural_network/_multilayer_perceptron.py:571: ConvergenceWarning: Stochastic Optimizer: Maximum iterations (200) reached and the optimization hasn't converged yet.\n",
            "  % self.max_iter, ConvergenceWarning)\n",
            "/usr/local/lib/python3.7/dist-packages/sklearn/neural_network/_multilayer_perceptron.py:571: ConvergenceWarning: Stochastic Optimizer: Maximum iterations (200) reached and the optimization hasn't converged yet.\n",
            "  % self.max_iter, ConvergenceWarning)\n"
          ]
        },
        {
          "output_type": "stream",
          "name": "stdout",
          "text": [
            "Acuracia para n=1,90/10 : 0.9375\n"
          ]
        },
        {
          "output_type": "stream",
          "name": "stderr",
          "text": [
            "/usr/local/lib/python3.7/dist-packages/sklearn/neural_network/_multilayer_perceptron.py:571: ConvergenceWarning: Stochastic Optimizer: Maximum iterations (200) reached and the optimization hasn't converged yet.\n",
            "  % self.max_iter, ConvergenceWarning)\n",
            "/usr/local/lib/python3.7/dist-packages/sklearn/neural_network/_multilayer_perceptron.py:571: ConvergenceWarning: Stochastic Optimizer: Maximum iterations (200) reached and the optimization hasn't converged yet.\n",
            "  % self.max_iter, ConvergenceWarning)\n",
            "/usr/local/lib/python3.7/dist-packages/sklearn/neural_network/_multilayer_perceptron.py:571: ConvergenceWarning: Stochastic Optimizer: Maximum iterations (200) reached and the optimization hasn't converged yet.\n",
            "  % self.max_iter, ConvergenceWarning)\n",
            "/usr/local/lib/python3.7/dist-packages/sklearn/neural_network/_multilayer_perceptron.py:571: ConvergenceWarning: Stochastic Optimizer: Maximum iterations (200) reached and the optimization hasn't converged yet.\n",
            "  % self.max_iter, ConvergenceWarning)\n",
            "/usr/local/lib/python3.7/dist-packages/sklearn/neural_network/_multilayer_perceptron.py:571: ConvergenceWarning: Stochastic Optimizer: Maximum iterations (200) reached and the optimization hasn't converged yet.\n",
            "  % self.max_iter, ConvergenceWarning)\n",
            "/usr/local/lib/python3.7/dist-packages/sklearn/neural_network/_multilayer_perceptron.py:571: ConvergenceWarning: Stochastic Optimizer: Maximum iterations (200) reached and the optimization hasn't converged yet.\n",
            "  % self.max_iter, ConvergenceWarning)\n"
          ]
        },
        {
          "output_type": "stream",
          "name": "stdout",
          "text": [
            "acurácia %0.2f para kfold, 10 folds 0.7804166666666668\n"
          ]
        },
        {
          "output_type": "stream",
          "name": "stderr",
          "text": [
            "/usr/local/lib/python3.7/dist-packages/sklearn/neural_network/_multilayer_perceptron.py:571: ConvergenceWarning: Stochastic Optimizer: Maximum iterations (200) reached and the optimization hasn't converged yet.\n",
            "  % self.max_iter, ConvergenceWarning)\n",
            "/usr/local/lib/python3.7/dist-packages/sklearn/neural_network/_multilayer_perceptron.py:571: ConvergenceWarning: Stochastic Optimizer: Maximum iterations (200) reached and the optimization hasn't converged yet.\n",
            "  % self.max_iter, ConvergenceWarning)\n",
            "/usr/local/lib/python3.7/dist-packages/sklearn/neural_network/_multilayer_perceptron.py:571: ConvergenceWarning: Stochastic Optimizer: Maximum iterations (200) reached and the optimization hasn't converged yet.\n",
            "  % self.max_iter, ConvergenceWarning)\n"
          ]
        }
      ]
    },
    {
      "cell_type": "code",
      "metadata": {
        "colab": {
          "base_uri": "https://localhost:8080/"
        },
        "id": "Hl_bqezSBvMe",
        "outputId": "ecb68a34-796b-4676-dc94-0120b94e85b5"
      },
      "source": [
        "mlp1 = MLPClassifier(alpha=0.0001,learning_rate='constant',activation='identity', hidden_layer_sizes=(22,), solver='sgd')\n",
        "X = dados_amostra50_normalizado.drop(columns=['output'])\n",
        "X_train,X_test,Y_train,Y_test = train_test_split(X,dados_amostra50_normalizado.output,test_size=0.3,stratify=dados_amostra50_normalizado.output)\n",
        "mlp1.fit(X_train,Y_train)\n",
        "y_pred = mlp1.predict(X_test)\n",
        "acuracia1 = accuracy_score(Y_test,y_pred)\n",
        "print(\"Acuracia para n=1,70/30 :\",acuracia1)\n",
        "X = dados_amostra50_normalizado.drop(columns=['output'])\n",
        "X_train,X_test,Y_train,Y_test = train_test_split(X,dados_amostra50_normalizado.output,test_size=0.2,stratify=dados_amostra50_normalizado.output)\n",
        "mlp2 = MLPClassifier(alpha=0.0001,learning_rate='constant',activation='identity', hidden_layer_sizes=(22,), solver='sgd')\n",
        "mlp2.fit(X_train,Y_train)\n",
        "y_pred = mlp2.predict(X_test)\n",
        "acuracia2 = accuracy_score(Y_test,y_pred)\n",
        "print(\"Acuracia para n=1,80/20 :\",acuracia2)\n",
        "X = dados_amostra50_normalizado.drop(columns=['output'])\n",
        "X_train,X_test,Y_train,Y_test = train_test_split(X,dados_amostra50_normalizado.output,test_size=0.1,stratify=dados_amostra50_normalizado.output)\n",
        "mlp3 = MLPClassifier(alpha=0.0001,learning_rate='constant',activation='identity', hidden_layer_sizes=(22,), solver='sgd')\n",
        "mlp3.fit(X_train,Y_train)\n",
        "y_pred = mlp3.predict(X_test)\n",
        "acuracia3 = accuracy_score(Y_test,y_pred)\n",
        "print(\"Acuracia para n=1,90/10 :\",acuracia3)\n",
        "y = dados_amostra50_normalizado['output']\n",
        "mlp4 = MLPClassifier(alpha=0.0001,learning_rate='constant',activation='identity', hidden_layer_sizes=(22,), solver='sgd')\n",
        "scores = cross_val_score(mlp4, X, y, cv=10)\n",
        "print(\"acurácia %0.2f para kfold, 10 folds\",scores.mean())"
      ],
      "execution_count": null,
      "outputs": [
        {
          "output_type": "stream",
          "name": "stdout",
          "text": [
            "Acuracia para n=1,70/30 : 0.8043478260869565\n",
            "Acuracia para n=1,80/20 : 0.8387096774193549\n"
          ]
        },
        {
          "output_type": "stream",
          "name": "stderr",
          "text": [
            "/usr/local/lib/python3.7/dist-packages/sklearn/neural_network/_multilayer_perceptron.py:571: ConvergenceWarning: Stochastic Optimizer: Maximum iterations (200) reached and the optimization hasn't converged yet.\n",
            "  % self.max_iter, ConvergenceWarning)\n",
            "/usr/local/lib/python3.7/dist-packages/sklearn/neural_network/_multilayer_perceptron.py:571: ConvergenceWarning: Stochastic Optimizer: Maximum iterations (200) reached and the optimization hasn't converged yet.\n",
            "  % self.max_iter, ConvergenceWarning)\n",
            "/usr/local/lib/python3.7/dist-packages/sklearn/neural_network/_multilayer_perceptron.py:571: ConvergenceWarning: Stochastic Optimizer: Maximum iterations (200) reached and the optimization hasn't converged yet.\n",
            "  % self.max_iter, ConvergenceWarning)\n"
          ]
        },
        {
          "output_type": "stream",
          "name": "stdout",
          "text": [
            "Acuracia para n=1,90/10 : 0.875\n"
          ]
        },
        {
          "output_type": "stream",
          "name": "stderr",
          "text": [
            "/usr/local/lib/python3.7/dist-packages/sklearn/neural_network/_multilayer_perceptron.py:571: ConvergenceWarning: Stochastic Optimizer: Maximum iterations (200) reached and the optimization hasn't converged yet.\n",
            "  % self.max_iter, ConvergenceWarning)\n",
            "/usr/local/lib/python3.7/dist-packages/sklearn/neural_network/_multilayer_perceptron.py:571: ConvergenceWarning: Stochastic Optimizer: Maximum iterations (200) reached and the optimization hasn't converged yet.\n",
            "  % self.max_iter, ConvergenceWarning)\n",
            "/usr/local/lib/python3.7/dist-packages/sklearn/neural_network/_multilayer_perceptron.py:571: ConvergenceWarning: Stochastic Optimizer: Maximum iterations (200) reached and the optimization hasn't converged yet.\n",
            "  % self.max_iter, ConvergenceWarning)\n",
            "/usr/local/lib/python3.7/dist-packages/sklearn/neural_network/_multilayer_perceptron.py:571: ConvergenceWarning: Stochastic Optimizer: Maximum iterations (200) reached and the optimization hasn't converged yet.\n",
            "  % self.max_iter, ConvergenceWarning)\n",
            "/usr/local/lib/python3.7/dist-packages/sklearn/neural_network/_multilayer_perceptron.py:571: ConvergenceWarning: Stochastic Optimizer: Maximum iterations (200) reached and the optimization hasn't converged yet.\n",
            "  % self.max_iter, ConvergenceWarning)\n",
            "/usr/local/lib/python3.7/dist-packages/sklearn/neural_network/_multilayer_perceptron.py:571: ConvergenceWarning: Stochastic Optimizer: Maximum iterations (200) reached and the optimization hasn't converged yet.\n",
            "  % self.max_iter, ConvergenceWarning)\n",
            "/usr/local/lib/python3.7/dist-packages/sklearn/neural_network/_multilayer_perceptron.py:571: ConvergenceWarning: Stochastic Optimizer: Maximum iterations (200) reached and the optimization hasn't converged yet.\n",
            "  % self.max_iter, ConvergenceWarning)\n",
            "/usr/local/lib/python3.7/dist-packages/sklearn/neural_network/_multilayer_perceptron.py:571: ConvergenceWarning: Stochastic Optimizer: Maximum iterations (200) reached and the optimization hasn't converged yet.\n",
            "  % self.max_iter, ConvergenceWarning)\n",
            "/usr/local/lib/python3.7/dist-packages/sklearn/neural_network/_multilayer_perceptron.py:571: ConvergenceWarning: Stochastic Optimizer: Maximum iterations (200) reached and the optimization hasn't converged yet.\n",
            "  % self.max_iter, ConvergenceWarning)\n"
          ]
        },
        {
          "output_type": "stream",
          "name": "stdout",
          "text": [
            "acurácia %0.2f para kfold, 10 folds 0.8408333333333335\n"
          ]
        },
        {
          "output_type": "stream",
          "name": "stderr",
          "text": [
            "/usr/local/lib/python3.7/dist-packages/sklearn/neural_network/_multilayer_perceptron.py:571: ConvergenceWarning: Stochastic Optimizer: Maximum iterations (200) reached and the optimization hasn't converged yet.\n",
            "  % self.max_iter, ConvergenceWarning)\n"
          ]
        }
      ]
    },
    {
      "cell_type": "code",
      "metadata": {
        "colab": {
          "base_uri": "https://localhost:8080/"
        },
        "id": "O_g1seoaBy_O",
        "outputId": "5a356223-af8f-4dcb-b1f5-b4ae0b376213"
      },
      "source": [
        "mlp1 = MLPClassifier(alpha=0.0001,learning_rate='constant',activation='identity', hidden_layer_sizes=(23,), solver='sgd')\n",
        "X = dados_amostra50_normalizado.drop(columns=['output'])\n",
        "X_train,X_test,Y_train,Y_test = train_test_split(X,dados_amostra50_normalizado.output,test_size=0.3,stratify=dados_amostra50_normalizado.output)\n",
        "mlp1.fit(X_train,Y_train)\n",
        "y_pred = mlp1.predict(X_test)\n",
        "acuracia1 = accuracy_score(Y_test,y_pred)\n",
        "print(\"Acuracia para n=1,70/30 :\",acuracia1)\n",
        "X = dados_amostra50_normalizado.drop(columns=['output'])\n",
        "X_train,X_test,Y_train,Y_test = train_test_split(X,dados_amostra50_normalizado.output,test_size=0.2,stratify=dados_amostra50_normalizado.output)\n",
        "mlp2 = MLPClassifier(alpha=0.0001,learning_rate='constant',activation='identity', hidden_layer_sizes=(23,), solver='sgd')\n",
        "mlp2.fit(X_train,Y_train)\n",
        "y_pred = mlp2.predict(X_test)\n",
        "acuracia2 = accuracy_score(Y_test,y_pred)\n",
        "print(\"Acuracia para n=1,80/20 :\",acuracia2)\n",
        "X = dados_amostra50_normalizado.drop(columns=['output'])\n",
        "X_train,X_test,Y_train,Y_test = train_test_split(X,dados_amostra50_normalizado.output,test_size=0.1,stratify=dados_amostra50_normalizado.output)\n",
        "mlp3 = MLPClassifier(alpha=0.0001,learning_rate='constant',activation='identity', hidden_layer_sizes=(23,), solver='sgd')\n",
        "mlp3.fit(X_train,Y_train)\n",
        "y_pred = mlp3.predict(X_test)\n",
        "acuracia3 = accuracy_score(Y_test,y_pred)\n",
        "print(\"Acuracia para n=1,90/10 :\",acuracia3)\n",
        "y = dados_amostra50_normalizado['output']\n",
        "mlp4 = MLPClassifier(alpha=0.0001,learning_rate='constant',activation='identity', hidden_layer_sizes=(23,), solver='sgd')\n",
        "scores = cross_val_score(mlp4, X, y, cv=10)\n",
        "print(\"acurácia %0.2f para kfold, 10 folds\",scores.mean())"
      ],
      "execution_count": null,
      "outputs": [
        {
          "output_type": "stream",
          "name": "stderr",
          "text": [
            "/usr/local/lib/python3.7/dist-packages/sklearn/neural_network/_multilayer_perceptron.py:571: ConvergenceWarning: Stochastic Optimizer: Maximum iterations (200) reached and the optimization hasn't converged yet.\n",
            "  % self.max_iter, ConvergenceWarning)\n",
            "/usr/local/lib/python3.7/dist-packages/sklearn/neural_network/_multilayer_perceptron.py:571: ConvergenceWarning: Stochastic Optimizer: Maximum iterations (200) reached and the optimization hasn't converged yet.\n",
            "  % self.max_iter, ConvergenceWarning)\n"
          ]
        },
        {
          "output_type": "stream",
          "name": "stdout",
          "text": [
            "Acuracia para n=1,70/30 : 0.782608695652174\n",
            "Acuracia para n=1,80/20 : 0.8064516129032258\n"
          ]
        },
        {
          "output_type": "stream",
          "name": "stderr",
          "text": [
            "/usr/local/lib/python3.7/dist-packages/sklearn/neural_network/_multilayer_perceptron.py:571: ConvergenceWarning: Stochastic Optimizer: Maximum iterations (200) reached and the optimization hasn't converged yet.\n",
            "  % self.max_iter, ConvergenceWarning)\n"
          ]
        },
        {
          "output_type": "stream",
          "name": "stdout",
          "text": [
            "Acuracia para n=1,90/10 : 0.6875\n"
          ]
        },
        {
          "output_type": "stream",
          "name": "stderr",
          "text": [
            "/usr/local/lib/python3.7/dist-packages/sklearn/neural_network/_multilayer_perceptron.py:571: ConvergenceWarning: Stochastic Optimizer: Maximum iterations (200) reached and the optimization hasn't converged yet.\n",
            "  % self.max_iter, ConvergenceWarning)\n",
            "/usr/local/lib/python3.7/dist-packages/sklearn/neural_network/_multilayer_perceptron.py:571: ConvergenceWarning: Stochastic Optimizer: Maximum iterations (200) reached and the optimization hasn't converged yet.\n",
            "  % self.max_iter, ConvergenceWarning)\n",
            "/usr/local/lib/python3.7/dist-packages/sklearn/neural_network/_multilayer_perceptron.py:571: ConvergenceWarning: Stochastic Optimizer: Maximum iterations (200) reached and the optimization hasn't converged yet.\n",
            "  % self.max_iter, ConvergenceWarning)\n",
            "/usr/local/lib/python3.7/dist-packages/sklearn/neural_network/_multilayer_perceptron.py:571: ConvergenceWarning: Stochastic Optimizer: Maximum iterations (200) reached and the optimization hasn't converged yet.\n",
            "  % self.max_iter, ConvergenceWarning)\n",
            "/usr/local/lib/python3.7/dist-packages/sklearn/neural_network/_multilayer_perceptron.py:571: ConvergenceWarning: Stochastic Optimizer: Maximum iterations (200) reached and the optimization hasn't converged yet.\n",
            "  % self.max_iter, ConvergenceWarning)\n",
            "/usr/local/lib/python3.7/dist-packages/sklearn/neural_network/_multilayer_perceptron.py:571: ConvergenceWarning: Stochastic Optimizer: Maximum iterations (200) reached and the optimization hasn't converged yet.\n",
            "  % self.max_iter, ConvergenceWarning)\n",
            "/usr/local/lib/python3.7/dist-packages/sklearn/neural_network/_multilayer_perceptron.py:571: ConvergenceWarning: Stochastic Optimizer: Maximum iterations (200) reached and the optimization hasn't converged yet.\n",
            "  % self.max_iter, ConvergenceWarning)\n",
            "/usr/local/lib/python3.7/dist-packages/sklearn/neural_network/_multilayer_perceptron.py:571: ConvergenceWarning: Stochastic Optimizer: Maximum iterations (200) reached and the optimization hasn't converged yet.\n",
            "  % self.max_iter, ConvergenceWarning)\n",
            "/usr/local/lib/python3.7/dist-packages/sklearn/neural_network/_multilayer_perceptron.py:571: ConvergenceWarning: Stochastic Optimizer: Maximum iterations (200) reached and the optimization hasn't converged yet.\n",
            "  % self.max_iter, ConvergenceWarning)\n"
          ]
        },
        {
          "output_type": "stream",
          "name": "stdout",
          "text": [
            "acurácia %0.2f para kfold, 10 folds 0.7941666666666667\n"
          ]
        },
        {
          "output_type": "stream",
          "name": "stderr",
          "text": [
            "/usr/local/lib/python3.7/dist-packages/sklearn/neural_network/_multilayer_perceptron.py:571: ConvergenceWarning: Stochastic Optimizer: Maximum iterations (200) reached and the optimization hasn't converged yet.\n",
            "  % self.max_iter, ConvergenceWarning)\n"
          ]
        }
      ]
    },
    {
      "cell_type": "code",
      "metadata": {
        "colab": {
          "base_uri": "https://localhost:8080/"
        },
        "id": "Hft8cpPoB4GK",
        "outputId": "07234c3c-bdea-4cf1-eb42-26c4ae592f9b"
      },
      "source": [
        "mlp1 = MLPClassifier(alpha=0.0001,learning_rate='constant',activation='identity', hidden_layer_sizes=(24,), solver='sgd')\n",
        "X = dados_amostra50_normalizado.drop(columns=['output'])\n",
        "X_train,X_test,Y_train,Y_test = train_test_split(X,dados_amostra50_normalizado.output,test_size=0.3,stratify=dados_amostra50_normalizado.output)\n",
        "mlp1.fit(X_train,Y_train)\n",
        "y_pred = mlp1.predict(X_test)\n",
        "acuracia1 = accuracy_score(Y_test,y_pred)\n",
        "print(\"Acuracia para n=1,70/30 :\",acuracia1)\n",
        "X = dados_amostra50_normalizado.drop(columns=['output'])\n",
        "X_train,X_test,Y_train,Y_test = train_test_split(X,dados_amostra50_normalizado.output,test_size=0.2,stratify=dados_amostra50_normalizado.output)\n",
        "mlp2 = MLPClassifier(alpha=0.0001,learning_rate='constant',activation='identity', hidden_layer_sizes=(24,), solver='sgd')\n",
        "mlp2.fit(X_train,Y_train)\n",
        "y_pred = mlp2.predict(X_test)\n",
        "acuracia2 = accuracy_score(Y_test,y_pred)\n",
        "print(\"Acuracia para n=1,80/20 :\",acuracia2)\n",
        "X = dados_amostra50_normalizado.drop(columns=['output'])\n",
        "X_train,X_test,Y_train,Y_test = train_test_split(X,dados_amostra50_normalizado.output,test_size=0.1,stratify=dados_amostra50_normalizado.output)\n",
        "mlp3 = MLPClassifier(alpha=0.0001,learning_rate='constant',activation='identity', hidden_layer_sizes=(24,), solver='sgd')\n",
        "mlp3.fit(X_train,Y_train)\n",
        "y_pred = mlp3.predict(X_test)\n",
        "acuracia3 = accuracy_score(Y_test,y_pred)\n",
        "print(\"Acuracia para n=1,90/10 :\",acuracia3)\n",
        "y = dados_amostra50_normalizado['output']\n",
        "mlp4 = MLPClassifier(alpha=0.0001,learning_rate='constant',activation='identity', hidden_layer_sizes=(24,), solver='sgd')\n",
        "scores = cross_val_score(mlp4, X, y, cv=10)\n",
        "print(\"acurácia %0.2f para kfold, 10 folds\",scores.mean())"
      ],
      "execution_count": null,
      "outputs": [
        {
          "output_type": "stream",
          "name": "stderr",
          "text": [
            "/usr/local/lib/python3.7/dist-packages/sklearn/neural_network/_multilayer_perceptron.py:571: ConvergenceWarning: Stochastic Optimizer: Maximum iterations (200) reached and the optimization hasn't converged yet.\n",
            "  % self.max_iter, ConvergenceWarning)\n",
            "/usr/local/lib/python3.7/dist-packages/sklearn/neural_network/_multilayer_perceptron.py:571: ConvergenceWarning: Stochastic Optimizer: Maximum iterations (200) reached and the optimization hasn't converged yet.\n",
            "  % self.max_iter, ConvergenceWarning)\n"
          ]
        },
        {
          "output_type": "stream",
          "name": "stdout",
          "text": [
            "Acuracia para n=1,70/30 : 0.8913043478260869\n",
            "Acuracia para n=1,80/20 : 0.7741935483870968\n"
          ]
        },
        {
          "output_type": "stream",
          "name": "stderr",
          "text": [
            "/usr/local/lib/python3.7/dist-packages/sklearn/neural_network/_multilayer_perceptron.py:571: ConvergenceWarning: Stochastic Optimizer: Maximum iterations (200) reached and the optimization hasn't converged yet.\n",
            "  % self.max_iter, ConvergenceWarning)\n"
          ]
        },
        {
          "output_type": "stream",
          "name": "stdout",
          "text": [
            "Acuracia para n=1,90/10 : 0.875\n"
          ]
        },
        {
          "output_type": "stream",
          "name": "stderr",
          "text": [
            "/usr/local/lib/python3.7/dist-packages/sklearn/neural_network/_multilayer_perceptron.py:571: ConvergenceWarning: Stochastic Optimizer: Maximum iterations (200) reached and the optimization hasn't converged yet.\n",
            "  % self.max_iter, ConvergenceWarning)\n",
            "/usr/local/lib/python3.7/dist-packages/sklearn/neural_network/_multilayer_perceptron.py:571: ConvergenceWarning: Stochastic Optimizer: Maximum iterations (200) reached and the optimization hasn't converged yet.\n",
            "  % self.max_iter, ConvergenceWarning)\n",
            "/usr/local/lib/python3.7/dist-packages/sklearn/neural_network/_multilayer_perceptron.py:571: ConvergenceWarning: Stochastic Optimizer: Maximum iterations (200) reached and the optimization hasn't converged yet.\n",
            "  % self.max_iter, ConvergenceWarning)\n",
            "/usr/local/lib/python3.7/dist-packages/sklearn/neural_network/_multilayer_perceptron.py:571: ConvergenceWarning: Stochastic Optimizer: Maximum iterations (200) reached and the optimization hasn't converged yet.\n",
            "  % self.max_iter, ConvergenceWarning)\n",
            "/usr/local/lib/python3.7/dist-packages/sklearn/neural_network/_multilayer_perceptron.py:571: ConvergenceWarning: Stochastic Optimizer: Maximum iterations (200) reached and the optimization hasn't converged yet.\n",
            "  % self.max_iter, ConvergenceWarning)\n",
            "/usr/local/lib/python3.7/dist-packages/sklearn/neural_network/_multilayer_perceptron.py:571: ConvergenceWarning: Stochastic Optimizer: Maximum iterations (200) reached and the optimization hasn't converged yet.\n",
            "  % self.max_iter, ConvergenceWarning)\n",
            "/usr/local/lib/python3.7/dist-packages/sklearn/neural_network/_multilayer_perceptron.py:571: ConvergenceWarning: Stochastic Optimizer: Maximum iterations (200) reached and the optimization hasn't converged yet.\n",
            "  % self.max_iter, ConvergenceWarning)\n",
            "/usr/local/lib/python3.7/dist-packages/sklearn/neural_network/_multilayer_perceptron.py:571: ConvergenceWarning: Stochastic Optimizer: Maximum iterations (200) reached and the optimization hasn't converged yet.\n",
            "  % self.max_iter, ConvergenceWarning)\n",
            "/usr/local/lib/python3.7/dist-packages/sklearn/neural_network/_multilayer_perceptron.py:571: ConvergenceWarning: Stochastic Optimizer: Maximum iterations (200) reached and the optimization hasn't converged yet.\n",
            "  % self.max_iter, ConvergenceWarning)\n"
          ]
        },
        {
          "output_type": "stream",
          "name": "stdout",
          "text": [
            "acurácia %0.2f para kfold, 10 folds 0.7808333333333333\n"
          ]
        },
        {
          "output_type": "stream",
          "name": "stderr",
          "text": [
            "/usr/local/lib/python3.7/dist-packages/sklearn/neural_network/_multilayer_perceptron.py:571: ConvergenceWarning: Stochastic Optimizer: Maximum iterations (200) reached and the optimization hasn't converged yet.\n",
            "  % self.max_iter, ConvergenceWarning)\n"
          ]
        }
      ]
    },
    {
      "cell_type": "markdown",
      "metadata": {
        "id": "kGsUIJjFB9fz"
      },
      "source": [
        "## Amostra 70%\n",
        "---"
      ]
    },
    {
      "cell_type": "code",
      "metadata": {
        "colab": {
          "base_uri": "https://localhost:8080/"
        },
        "id": "QEA7hfPUCApT",
        "outputId": "161c9179-3e3c-4e4d-d52e-0089f3e4b84c"
      },
      "source": [
        "mlp1 = MLPClassifier(alpha=0.0001,learning_rate='constant',activation='identity', hidden_layer_sizes=(20,), solver='sgd')\n",
        "X = dados_amostra70_normalizado.drop(columns=['output'])\n",
        "X_train,X_test,Y_train,Y_test = train_test_split(X,dados_amostra70_normalizado.output,test_size=0.3,stratify=dados_amostra70_normalizado.output)\n",
        "mlp1.fit(X_train,Y_train)\n",
        "y_pred = mlp1.predict(X_test)\n",
        "acuracia1 = accuracy_score(Y_test,y_pred)\n",
        "print(\"Acuracia para n=1,70/30 :\",acuracia1)\n",
        "X = dados_amostra70_normalizado.drop(columns=['output'])\n",
        "X_train,X_test,Y_train,Y_test = train_test_split(X,dados_amostra70_normalizado.output,test_size=0.2,stratify=dados_amostra70_normalizado.output)\n",
        "mlp2 = MLPClassifier(alpha=0.0001,learning_rate='constant',activation='identity', hidden_layer_sizes=(20,), solver='sgd')\n",
        "mlp2.fit(X_train,Y_train)\n",
        "y_pred = mlp2.predict(X_test)\n",
        "acuracia2 = accuracy_score(Y_test,y_pred)\n",
        "print(\"Acuracia para n=1,80/20 :\",acuracia2)\n",
        "X = dados_amostra70_normalizado.drop(columns=['output'])\n",
        "X_train,X_test,Y_train,Y_test = train_test_split(X,dados_amostra70_normalizado.output,test_size=0.1,stratify=dados_amostra70_normalizado.output)\n",
        "mlp3 = MLPClassifier(alpha=0.0001,learning_rate='constant',activation='identity', hidden_layer_sizes=(20,), solver='sgd')\n",
        "mlp3.fit(X_train,Y_train)\n",
        "y_pred = mlp3.predict(X_test)\n",
        "acuracia3 = accuracy_score(Y_test,y_pred)\n",
        "print(\"Acuracia para n=1,90/10 :\",acuracia3)\n",
        "y = dados_amostra70_normalizado['output']\n",
        "mlp4 = MLPClassifier(alpha=0.0001,learning_rate='constant',activation='identity', hidden_layer_sizes=(20,), solver='sgd')\n",
        "scores = cross_val_score(mlp4, X, y, cv=10)\n",
        "print(\"acurácia %0.2f para kfold, 10 folds\",scores.mean())"
      ],
      "execution_count": null,
      "outputs": [
        {
          "output_type": "stream",
          "name": "stderr",
          "text": [
            "/usr/local/lib/python3.7/dist-packages/sklearn/neural_network/_multilayer_perceptron.py:571: ConvergenceWarning: Stochastic Optimizer: Maximum iterations (200) reached and the optimization hasn't converged yet.\n",
            "  % self.max_iter, ConvergenceWarning)\n"
          ]
        },
        {
          "output_type": "stream",
          "name": "stdout",
          "text": [
            "Acuracia para n=1,70/30 : 0.859375\n"
          ]
        },
        {
          "output_type": "stream",
          "name": "stderr",
          "text": [
            "/usr/local/lib/python3.7/dist-packages/sklearn/neural_network/_multilayer_perceptron.py:571: ConvergenceWarning: Stochastic Optimizer: Maximum iterations (200) reached and the optimization hasn't converged yet.\n",
            "  % self.max_iter, ConvergenceWarning)\n",
            "/usr/local/lib/python3.7/dist-packages/sklearn/neural_network/_multilayer_perceptron.py:571: ConvergenceWarning: Stochastic Optimizer: Maximum iterations (200) reached and the optimization hasn't converged yet.\n",
            "  % self.max_iter, ConvergenceWarning)\n"
          ]
        },
        {
          "output_type": "stream",
          "name": "stdout",
          "text": [
            "Acuracia para n=1,80/20 : 0.7906976744186046\n",
            "Acuracia para n=1,90/10 : 0.7272727272727273\n"
          ]
        },
        {
          "output_type": "stream",
          "name": "stderr",
          "text": [
            "/usr/local/lib/python3.7/dist-packages/sklearn/neural_network/_multilayer_perceptron.py:571: ConvergenceWarning: Stochastic Optimizer: Maximum iterations (200) reached and the optimization hasn't converged yet.\n",
            "  % self.max_iter, ConvergenceWarning)\n",
            "/usr/local/lib/python3.7/dist-packages/sklearn/neural_network/_multilayer_perceptron.py:571: ConvergenceWarning: Stochastic Optimizer: Maximum iterations (200) reached and the optimization hasn't converged yet.\n",
            "  % self.max_iter, ConvergenceWarning)\n",
            "/usr/local/lib/python3.7/dist-packages/sklearn/neural_network/_multilayer_perceptron.py:571: ConvergenceWarning: Stochastic Optimizer: Maximum iterations (200) reached and the optimization hasn't converged yet.\n",
            "  % self.max_iter, ConvergenceWarning)\n",
            "/usr/local/lib/python3.7/dist-packages/sklearn/neural_network/_multilayer_perceptron.py:571: ConvergenceWarning: Stochastic Optimizer: Maximum iterations (200) reached and the optimization hasn't converged yet.\n",
            "  % self.max_iter, ConvergenceWarning)\n",
            "/usr/local/lib/python3.7/dist-packages/sklearn/neural_network/_multilayer_perceptron.py:571: ConvergenceWarning: Stochastic Optimizer: Maximum iterations (200) reached and the optimization hasn't converged yet.\n",
            "  % self.max_iter, ConvergenceWarning)\n",
            "/usr/local/lib/python3.7/dist-packages/sklearn/neural_network/_multilayer_perceptron.py:571: ConvergenceWarning: Stochastic Optimizer: Maximum iterations (200) reached and the optimization hasn't converged yet.\n",
            "  % self.max_iter, ConvergenceWarning)\n",
            "/usr/local/lib/python3.7/dist-packages/sklearn/neural_network/_multilayer_perceptron.py:571: ConvergenceWarning: Stochastic Optimizer: Maximum iterations (200) reached and the optimization hasn't converged yet.\n",
            "  % self.max_iter, ConvergenceWarning)\n",
            "/usr/local/lib/python3.7/dist-packages/sklearn/neural_network/_multilayer_perceptron.py:571: ConvergenceWarning: Stochastic Optimizer: Maximum iterations (200) reached and the optimization hasn't converged yet.\n",
            "  % self.max_iter, ConvergenceWarning)\n",
            "/usr/local/lib/python3.7/dist-packages/sklearn/neural_network/_multilayer_perceptron.py:571: ConvergenceWarning: Stochastic Optimizer: Maximum iterations (200) reached and the optimization hasn't converged yet.\n",
            "  % self.max_iter, ConvergenceWarning)\n"
          ]
        },
        {
          "output_type": "stream",
          "name": "stdout",
          "text": [
            "acurácia %0.2f para kfold, 10 folds 0.8010822510822511\n"
          ]
        },
        {
          "output_type": "stream",
          "name": "stderr",
          "text": [
            "/usr/local/lib/python3.7/dist-packages/sklearn/neural_network/_multilayer_perceptron.py:571: ConvergenceWarning: Stochastic Optimizer: Maximum iterations (200) reached and the optimization hasn't converged yet.\n",
            "  % self.max_iter, ConvergenceWarning)\n"
          ]
        }
      ]
    },
    {
      "cell_type": "code",
      "metadata": {
        "colab": {
          "base_uri": "https://localhost:8080/"
        },
        "id": "_cd9a8-jCPNI",
        "outputId": "70581727-cb63-427b-d959-701795391d5d"
      },
      "source": [
        "mlp1 = MLPClassifier(alpha=0.0001,learning_rate='constant',activation='identity', hidden_layer_sizes=(21,), solver='sgd')\n",
        "X = dados_amostra70_normalizado.drop(columns=['output'])\n",
        "X_train,X_test,Y_train,Y_test = train_test_split(X,dados_amostra70_normalizado.output,test_size=0.3,stratify=dados_amostra70_normalizado.output)\n",
        "mlp1.fit(X_train,Y_train)\n",
        "y_pred = mlp1.predict(X_test)\n",
        "acuracia1 = accuracy_score(Y_test,y_pred)\n",
        "print(\"Acuracia para n=1,70/30 :\",acuracia1)\n",
        "X = dados_amostra70_normalizado.drop(columns=['output'])\n",
        "X_train,X_test,Y_train,Y_test = train_test_split(X,dados_amostra70_normalizado.output,test_size=0.2,stratify=dados_amostra70_normalizado.output)\n",
        "mlp2 = MLPClassifier(alpha=0.0001,learning_rate='constant',activation='identity', hidden_layer_sizes=(21,), solver='sgd')\n",
        "mlp2.fit(X_train,Y_train)\n",
        "y_pred = mlp2.predict(X_test)\n",
        "acuracia2 = accuracy_score(Y_test,y_pred)\n",
        "print(\"Acuracia para n=1,80/20 :\",acuracia2)\n",
        "X = dados_amostra70_normalizado.drop(columns=['output'])\n",
        "X_train,X_test,Y_train,Y_test = train_test_split(X,dados_amostra70_normalizado.output,test_size=0.1,stratify=dados_amostra70_normalizado.output)\n",
        "mlp3 = MLPClassifier(alpha=0.0001,learning_rate='constant',activation='identity', hidden_layer_sizes=(21,), solver='sgd')\n",
        "mlp3.fit(X_train,Y_train)\n",
        "y_pred = mlp3.predict(X_test)\n",
        "acuracia3 = accuracy_score(Y_test,y_pred)\n",
        "print(\"Acuracia para n=1,90/10 :\",acuracia3)\n",
        "y = dados_amostra70_normalizado['output']\n",
        "mlp4 = MLPClassifier(alpha=0.0001,learning_rate='constant',activation='identity', hidden_layer_sizes=(21,), solver='sgd')\n",
        "scores = cross_val_score(mlp4, X, y, cv=10)\n",
        "print(\"acurácia %0.2f para kfold, 10 folds\",scores.mean())"
      ],
      "execution_count": null,
      "outputs": [
        {
          "output_type": "stream",
          "name": "stderr",
          "text": [
            "/usr/local/lib/python3.7/dist-packages/sklearn/neural_network/_multilayer_perceptron.py:571: ConvergenceWarning: Stochastic Optimizer: Maximum iterations (200) reached and the optimization hasn't converged yet.\n",
            "  % self.max_iter, ConvergenceWarning)\n"
          ]
        },
        {
          "output_type": "stream",
          "name": "stdout",
          "text": [
            "Acuracia para n=1,70/30 : 0.828125\n"
          ]
        },
        {
          "output_type": "stream",
          "name": "stderr",
          "text": [
            "/usr/local/lib/python3.7/dist-packages/sklearn/neural_network/_multilayer_perceptron.py:571: ConvergenceWarning: Stochastic Optimizer: Maximum iterations (200) reached and the optimization hasn't converged yet.\n",
            "  % self.max_iter, ConvergenceWarning)\n",
            "/usr/local/lib/python3.7/dist-packages/sklearn/neural_network/_multilayer_perceptron.py:571: ConvergenceWarning: Stochastic Optimizer: Maximum iterations (200) reached and the optimization hasn't converged yet.\n",
            "  % self.max_iter, ConvergenceWarning)\n"
          ]
        },
        {
          "output_type": "stream",
          "name": "stdout",
          "text": [
            "Acuracia para n=1,80/20 : 0.8604651162790697\n",
            "Acuracia para n=1,90/10 : 0.8636363636363636\n"
          ]
        },
        {
          "output_type": "stream",
          "name": "stderr",
          "text": [
            "/usr/local/lib/python3.7/dist-packages/sklearn/neural_network/_multilayer_perceptron.py:571: ConvergenceWarning: Stochastic Optimizer: Maximum iterations (200) reached and the optimization hasn't converged yet.\n",
            "  % self.max_iter, ConvergenceWarning)\n",
            "/usr/local/lib/python3.7/dist-packages/sklearn/neural_network/_multilayer_perceptron.py:571: ConvergenceWarning: Stochastic Optimizer: Maximum iterations (200) reached and the optimization hasn't converged yet.\n",
            "  % self.max_iter, ConvergenceWarning)\n",
            "/usr/local/lib/python3.7/dist-packages/sklearn/neural_network/_multilayer_perceptron.py:571: ConvergenceWarning: Stochastic Optimizer: Maximum iterations (200) reached and the optimization hasn't converged yet.\n",
            "  % self.max_iter, ConvergenceWarning)\n",
            "/usr/local/lib/python3.7/dist-packages/sklearn/neural_network/_multilayer_perceptron.py:571: ConvergenceWarning: Stochastic Optimizer: Maximum iterations (200) reached and the optimization hasn't converged yet.\n",
            "  % self.max_iter, ConvergenceWarning)\n",
            "/usr/local/lib/python3.7/dist-packages/sklearn/neural_network/_multilayer_perceptron.py:571: ConvergenceWarning: Stochastic Optimizer: Maximum iterations (200) reached and the optimization hasn't converged yet.\n",
            "  % self.max_iter, ConvergenceWarning)\n",
            "/usr/local/lib/python3.7/dist-packages/sklearn/neural_network/_multilayer_perceptron.py:571: ConvergenceWarning: Stochastic Optimizer: Maximum iterations (200) reached and the optimization hasn't converged yet.\n",
            "  % self.max_iter, ConvergenceWarning)\n",
            "/usr/local/lib/python3.7/dist-packages/sklearn/neural_network/_multilayer_perceptron.py:571: ConvergenceWarning: Stochastic Optimizer: Maximum iterations (200) reached and the optimization hasn't converged yet.\n",
            "  % self.max_iter, ConvergenceWarning)\n",
            "/usr/local/lib/python3.7/dist-packages/sklearn/neural_network/_multilayer_perceptron.py:571: ConvergenceWarning: Stochastic Optimizer: Maximum iterations (200) reached and the optimization hasn't converged yet.\n",
            "  % self.max_iter, ConvergenceWarning)\n",
            "/usr/local/lib/python3.7/dist-packages/sklearn/neural_network/_multilayer_perceptron.py:571: ConvergenceWarning: Stochastic Optimizer: Maximum iterations (200) reached and the optimization hasn't converged yet.\n",
            "  % self.max_iter, ConvergenceWarning)\n"
          ]
        },
        {
          "output_type": "stream",
          "name": "stdout",
          "text": [
            "acurácia %0.2f para kfold, 10 folds 0.8339826839826842\n"
          ]
        },
        {
          "output_type": "stream",
          "name": "stderr",
          "text": [
            "/usr/local/lib/python3.7/dist-packages/sklearn/neural_network/_multilayer_perceptron.py:571: ConvergenceWarning: Stochastic Optimizer: Maximum iterations (200) reached and the optimization hasn't converged yet.\n",
            "  % self.max_iter, ConvergenceWarning)\n"
          ]
        }
      ]
    },
    {
      "cell_type": "code",
      "metadata": {
        "colab": {
          "base_uri": "https://localhost:8080/"
        },
        "id": "lzts7d9OCSIb",
        "outputId": "217fdb56-1f4a-48e6-ba20-dfe68b98c1bb"
      },
      "source": [
        "mlp1 = MLPClassifier(alpha=0.0001,learning_rate='constant',activation='identity', hidden_layer_sizes=(22,), solver='sgd')\n",
        "X = dados_amostra70_normalizado.drop(columns=['output'])\n",
        "X_train,X_test,Y_train,Y_test = train_test_split(X,dados_amostra70_normalizado.output,test_size=0.3,stratify=dados_amostra70_normalizado.output)\n",
        "mlp1.fit(X_train,Y_train)\n",
        "y_pred = mlp1.predict(X_test)\n",
        "acuracia1 = accuracy_score(Y_test,y_pred)\n",
        "print(\"Acuracia para n=1,70/30 :\",acuracia1)\n",
        "X = dados_amostra70_normalizado.drop(columns=['output'])\n",
        "X_train,X_test,Y_train,Y_test = train_test_split(X,dados_amostra70_normalizado.output,test_size=0.2,stratify=dados_amostra70_normalizado.output)\n",
        "mlp2 = MLPClassifier(alpha=0.0001,learning_rate='constant',activation='identity', hidden_layer_sizes=(22,), solver='sgd')\n",
        "mlp2.fit(X_train,Y_train)\n",
        "y_pred = mlp2.predict(X_test)\n",
        "acuracia2 = accuracy_score(Y_test,y_pred)\n",
        "print(\"Acuracia para n=1,80/20 :\",acuracia2)\n",
        "X = dados_amostra70_normalizado.drop(columns=['output'])\n",
        "X_train,X_test,Y_train,Y_test = train_test_split(X,dados_amostra70_normalizado.output,test_size=0.1,stratify=dados_amostra70_normalizado.output)\n",
        "mlp3 = MLPClassifier(alpha=0.0001,learning_rate='constant',activation='identity', hidden_layer_sizes=(22,), solver='sgd')\n",
        "mlp3.fit(X_train,Y_train)\n",
        "y_pred = mlp3.predict(X_test)\n",
        "acuracia3 = accuracy_score(Y_test,y_pred)\n",
        "print(\"Acuracia para n=1,90/10 :\",acuracia3)\n",
        "y = dados_amostra70_normalizado['output']\n",
        "mlp4 = MLPClassifier(alpha=0.0001,learning_rate='constant',activation='identity', hidden_layer_sizes=(22,), solver='sgd')\n",
        "scores = cross_val_score(mlp4, X, y, cv=10)\n",
        "print(\"acurácia %0.2f para kfold, 10 folds\",scores.mean())"
      ],
      "execution_count": null,
      "outputs": [
        {
          "output_type": "stream",
          "name": "stderr",
          "text": [
            "/usr/local/lib/python3.7/dist-packages/sklearn/neural_network/_multilayer_perceptron.py:571: ConvergenceWarning: Stochastic Optimizer: Maximum iterations (200) reached and the optimization hasn't converged yet.\n",
            "  % self.max_iter, ConvergenceWarning)\n"
          ]
        },
        {
          "output_type": "stream",
          "name": "stdout",
          "text": [
            "Acuracia para n=1,70/30 : 0.765625\n"
          ]
        },
        {
          "output_type": "stream",
          "name": "stderr",
          "text": [
            "/usr/local/lib/python3.7/dist-packages/sklearn/neural_network/_multilayer_perceptron.py:571: ConvergenceWarning: Stochastic Optimizer: Maximum iterations (200) reached and the optimization hasn't converged yet.\n",
            "  % self.max_iter, ConvergenceWarning)\n",
            "/usr/local/lib/python3.7/dist-packages/sklearn/neural_network/_multilayer_perceptron.py:571: ConvergenceWarning: Stochastic Optimizer: Maximum iterations (200) reached and the optimization hasn't converged yet.\n",
            "  % self.max_iter, ConvergenceWarning)\n"
          ]
        },
        {
          "output_type": "stream",
          "name": "stdout",
          "text": [
            "Acuracia para n=1,80/20 : 0.7441860465116279\n",
            "Acuracia para n=1,90/10 : 0.8181818181818182\n"
          ]
        },
        {
          "output_type": "stream",
          "name": "stderr",
          "text": [
            "/usr/local/lib/python3.7/dist-packages/sklearn/neural_network/_multilayer_perceptron.py:571: ConvergenceWarning: Stochastic Optimizer: Maximum iterations (200) reached and the optimization hasn't converged yet.\n",
            "  % self.max_iter, ConvergenceWarning)\n",
            "/usr/local/lib/python3.7/dist-packages/sklearn/neural_network/_multilayer_perceptron.py:571: ConvergenceWarning: Stochastic Optimizer: Maximum iterations (200) reached and the optimization hasn't converged yet.\n",
            "  % self.max_iter, ConvergenceWarning)\n",
            "/usr/local/lib/python3.7/dist-packages/sklearn/neural_network/_multilayer_perceptron.py:571: ConvergenceWarning: Stochastic Optimizer: Maximum iterations (200) reached and the optimization hasn't converged yet.\n",
            "  % self.max_iter, ConvergenceWarning)\n",
            "/usr/local/lib/python3.7/dist-packages/sklearn/neural_network/_multilayer_perceptron.py:571: ConvergenceWarning: Stochastic Optimizer: Maximum iterations (200) reached and the optimization hasn't converged yet.\n",
            "  % self.max_iter, ConvergenceWarning)\n",
            "/usr/local/lib/python3.7/dist-packages/sklearn/neural_network/_multilayer_perceptron.py:571: ConvergenceWarning: Stochastic Optimizer: Maximum iterations (200) reached and the optimization hasn't converged yet.\n",
            "  % self.max_iter, ConvergenceWarning)\n",
            "/usr/local/lib/python3.7/dist-packages/sklearn/neural_network/_multilayer_perceptron.py:571: ConvergenceWarning: Stochastic Optimizer: Maximum iterations (200) reached and the optimization hasn't converged yet.\n",
            "  % self.max_iter, ConvergenceWarning)\n",
            "/usr/local/lib/python3.7/dist-packages/sklearn/neural_network/_multilayer_perceptron.py:571: ConvergenceWarning: Stochastic Optimizer: Maximum iterations (200) reached and the optimization hasn't converged yet.\n",
            "  % self.max_iter, ConvergenceWarning)\n",
            "/usr/local/lib/python3.7/dist-packages/sklearn/neural_network/_multilayer_perceptron.py:571: ConvergenceWarning: Stochastic Optimizer: Maximum iterations (200) reached and the optimization hasn't converged yet.\n",
            "  % self.max_iter, ConvergenceWarning)\n",
            "/usr/local/lib/python3.7/dist-packages/sklearn/neural_network/_multilayer_perceptron.py:571: ConvergenceWarning: Stochastic Optimizer: Maximum iterations (200) reached and the optimization hasn't converged yet.\n",
            "  % self.max_iter, ConvergenceWarning)\n"
          ]
        },
        {
          "output_type": "stream",
          "name": "stdout",
          "text": [
            "acurácia %0.2f para kfold, 10 folds 0.782034632034632\n"
          ]
        },
        {
          "output_type": "stream",
          "name": "stderr",
          "text": [
            "/usr/local/lib/python3.7/dist-packages/sklearn/neural_network/_multilayer_perceptron.py:571: ConvergenceWarning: Stochastic Optimizer: Maximum iterations (200) reached and the optimization hasn't converged yet.\n",
            "  % self.max_iter, ConvergenceWarning)\n"
          ]
        }
      ]
    },
    {
      "cell_type": "code",
      "metadata": {
        "colab": {
          "base_uri": "https://localhost:8080/"
        },
        "id": "jlWESZMqCSaY",
        "outputId": "494cfb7a-dd3d-47a4-a67a-816a9b03ca7b"
      },
      "source": [
        "mlp1 = MLPClassifier(alpha=0.0001,learning_rate='constant',activation='identity', hidden_layer_sizes=(23,), solver='sgd')\n",
        "X = dados_amostra70_normalizado.drop(columns=['output'])\n",
        "X_train,X_test,Y_train,Y_test = train_test_split(X,dados_amostra70_normalizado.output,test_size=0.3,stratify=dados_amostra70_normalizado.output)\n",
        "mlp1.fit(X_train,Y_train)\n",
        "y_pred = mlp1.predict(X_test)\n",
        "acuracia1 = accuracy_score(Y_test,y_pred)\n",
        "print(\"Acuracia para n=1,70/30 :\",acuracia1)\n",
        "X = dados_amostra70_normalizado.drop(columns=['output'])\n",
        "X_train,X_test,Y_train,Y_test = train_test_split(X,dados_amostra70_normalizado.output,test_size=0.2,stratify=dados_amostra70_normalizado.output)\n",
        "mlp2 = MLPClassifier(alpha=0.0001,learning_rate='constant',activation='identity', hidden_layer_sizes=(23,), solver='sgd')\n",
        "mlp2.fit(X_train,Y_train)\n",
        "y_pred = mlp2.predict(X_test)\n",
        "acuracia2 = accuracy_score(Y_test,y_pred)\n",
        "print(\"Acuracia para n=1,80/20 :\",acuracia2)\n",
        "X = dados_amostra70_normalizado.drop(columns=['output'])\n",
        "X_train,X_test,Y_train,Y_test = train_test_split(X,dados_amostra70_normalizado.output,test_size=0.1,stratify=dados_amostra70_normalizado.output)\n",
        "mlp3 = MLPClassifier(alpha=0.0001,learning_rate='constant',activation='identity', hidden_layer_sizes=(23,), solver='sgd')\n",
        "mlp3.fit(X_train,Y_train)\n",
        "y_pred = mlp3.predict(X_test)\n",
        "acuracia3 = accuracy_score(Y_test,y_pred)\n",
        "print(\"Acuracia para n=1,90/10 :\",acuracia3)\n",
        "y = dados_amostra70_normalizado['output']\n",
        "mlp4 = MLPClassifier(alpha=0.0001,learning_rate='constant',activation='identity', hidden_layer_sizes=(23,), solver='sgd')\n",
        "scores = cross_val_score(mlp4, X, y, cv=10)\n",
        "print(\"acurácia %0.2f para kfold, 10 folds\",scores.mean())"
      ],
      "execution_count": null,
      "outputs": [
        {
          "output_type": "stream",
          "name": "stderr",
          "text": [
            "/usr/local/lib/python3.7/dist-packages/sklearn/neural_network/_multilayer_perceptron.py:571: ConvergenceWarning: Stochastic Optimizer: Maximum iterations (200) reached and the optimization hasn't converged yet.\n",
            "  % self.max_iter, ConvergenceWarning)\n"
          ]
        },
        {
          "output_type": "stream",
          "name": "stdout",
          "text": [
            "Acuracia para n=1,70/30 : 0.828125\n"
          ]
        },
        {
          "output_type": "stream",
          "name": "stderr",
          "text": [
            "/usr/local/lib/python3.7/dist-packages/sklearn/neural_network/_multilayer_perceptron.py:571: ConvergenceWarning: Stochastic Optimizer: Maximum iterations (200) reached and the optimization hasn't converged yet.\n",
            "  % self.max_iter, ConvergenceWarning)\n",
            "/usr/local/lib/python3.7/dist-packages/sklearn/neural_network/_multilayer_perceptron.py:571: ConvergenceWarning: Stochastic Optimizer: Maximum iterations (200) reached and the optimization hasn't converged yet.\n",
            "  % self.max_iter, ConvergenceWarning)\n"
          ]
        },
        {
          "output_type": "stream",
          "name": "stdout",
          "text": [
            "Acuracia para n=1,80/20 : 0.813953488372093\n",
            "Acuracia para n=1,90/10 : 0.8636363636363636\n"
          ]
        },
        {
          "output_type": "stream",
          "name": "stderr",
          "text": [
            "/usr/local/lib/python3.7/dist-packages/sklearn/neural_network/_multilayer_perceptron.py:571: ConvergenceWarning: Stochastic Optimizer: Maximum iterations (200) reached and the optimization hasn't converged yet.\n",
            "  % self.max_iter, ConvergenceWarning)\n",
            "/usr/local/lib/python3.7/dist-packages/sklearn/neural_network/_multilayer_perceptron.py:571: ConvergenceWarning: Stochastic Optimizer: Maximum iterations (200) reached and the optimization hasn't converged yet.\n",
            "  % self.max_iter, ConvergenceWarning)\n",
            "/usr/local/lib/python3.7/dist-packages/sklearn/neural_network/_multilayer_perceptron.py:571: ConvergenceWarning: Stochastic Optimizer: Maximum iterations (200) reached and the optimization hasn't converged yet.\n",
            "  % self.max_iter, ConvergenceWarning)\n",
            "/usr/local/lib/python3.7/dist-packages/sklearn/neural_network/_multilayer_perceptron.py:571: ConvergenceWarning: Stochastic Optimizer: Maximum iterations (200) reached and the optimization hasn't converged yet.\n",
            "  % self.max_iter, ConvergenceWarning)\n",
            "/usr/local/lib/python3.7/dist-packages/sklearn/neural_network/_multilayer_perceptron.py:571: ConvergenceWarning: Stochastic Optimizer: Maximum iterations (200) reached and the optimization hasn't converged yet.\n",
            "  % self.max_iter, ConvergenceWarning)\n",
            "/usr/local/lib/python3.7/dist-packages/sklearn/neural_network/_multilayer_perceptron.py:571: ConvergenceWarning: Stochastic Optimizer: Maximum iterations (200) reached and the optimization hasn't converged yet.\n",
            "  % self.max_iter, ConvergenceWarning)\n",
            "/usr/local/lib/python3.7/dist-packages/sklearn/neural_network/_multilayer_perceptron.py:571: ConvergenceWarning: Stochastic Optimizer: Maximum iterations (200) reached and the optimization hasn't converged yet.\n",
            "  % self.max_iter, ConvergenceWarning)\n",
            "/usr/local/lib/python3.7/dist-packages/sklearn/neural_network/_multilayer_perceptron.py:571: ConvergenceWarning: Stochastic Optimizer: Maximum iterations (200) reached and the optimization hasn't converged yet.\n",
            "  % self.max_iter, ConvergenceWarning)\n",
            "/usr/local/lib/python3.7/dist-packages/sklearn/neural_network/_multilayer_perceptron.py:571: ConvergenceWarning: Stochastic Optimizer: Maximum iterations (200) reached and the optimization hasn't converged yet.\n",
            "  % self.max_iter, ConvergenceWarning)\n"
          ]
        },
        {
          "output_type": "stream",
          "name": "stdout",
          "text": [
            "acurácia %0.2f para kfold, 10 folds 0.7965367965367965\n"
          ]
        },
        {
          "output_type": "stream",
          "name": "stderr",
          "text": [
            "/usr/local/lib/python3.7/dist-packages/sklearn/neural_network/_multilayer_perceptron.py:571: ConvergenceWarning: Stochastic Optimizer: Maximum iterations (200) reached and the optimization hasn't converged yet.\n",
            "  % self.max_iter, ConvergenceWarning)\n"
          ]
        }
      ]
    },
    {
      "cell_type": "code",
      "metadata": {
        "colab": {
          "base_uri": "https://localhost:8080/"
        },
        "id": "stIrhzjxCSoQ",
        "outputId": "2f08062b-6a55-4058-a0d5-121781a4b606"
      },
      "source": [
        "mlp1 = MLPClassifier(alpha=0.0001,learning_rate='constant',activation='identity', hidden_layer_sizes=(24,), solver='sgd')\n",
        "X = dados_amostra70_normalizado.drop(columns=['output'])\n",
        "X_train,X_test,Y_train,Y_test = train_test_split(X,dados_amostra70_normalizado.output,test_size=0.3,stratify=dados_amostra70_normalizado.output)\n",
        "mlp1.fit(X_train,Y_train)\n",
        "y_pred = mlp1.predict(X_test)\n",
        "acuracia1 = accuracy_score(Y_test,y_pred)\n",
        "print(\"Acuracia para n=1,70/30 :\",acuracia1)\n",
        "X = dados_amostra70_normalizado.drop(columns=['output'])\n",
        "X_train,X_test,Y_train,Y_test = train_test_split(X,dados_amostra70_normalizado.output,test_size=0.2,stratify=dados_amostra70_normalizado.output)\n",
        "mlp2 = MLPClassifier(alpha=0.0001,learning_rate='constant',activation='identity', hidden_layer_sizes=(24,), solver='sgd')\n",
        "mlp2.fit(X_train,Y_train)\n",
        "y_pred = mlp2.predict(X_test)\n",
        "acuracia2 = accuracy_score(Y_test,y_pred)\n",
        "print(\"Acuracia para n=1,80/20 :\",acuracia2)\n",
        "X = dados_amostra70_normalizado.drop(columns=['output'])\n",
        "X_train,X_test,Y_train,Y_test = train_test_split(X,dados_amostra70_normalizado.output,test_size=0.1,stratify=dados_amostra70_normalizado.output)\n",
        "mlp3 = MLPClassifier(alpha=0.0001,learning_rate='constant',activation='identity', hidden_layer_sizes=(24,), solver='sgd')\n",
        "mlp3.fit(X_train,Y_train)\n",
        "y_pred = mlp3.predict(X_test)\n",
        "acuracia3 = accuracy_score(Y_test,y_pred)\n",
        "print(\"Acuracia para n=1,90/10 :\",acuracia3)\n",
        "y = dados_amostra70_normalizado['output']\n",
        "mlp4 = MLPClassifier(alpha=0.0001,learning_rate='constant',activation='identity', hidden_layer_sizes=(24,), solver='sgd')\n",
        "scores = cross_val_score(mlp4, X, y, cv=10)\n",
        "print(\"acurácia %0.2f para kfold, 10 folds\",scores.mean())"
      ],
      "execution_count": null,
      "outputs": [
        {
          "output_type": "stream",
          "name": "stderr",
          "text": [
            "/usr/local/lib/python3.7/dist-packages/sklearn/neural_network/_multilayer_perceptron.py:571: ConvergenceWarning: Stochastic Optimizer: Maximum iterations (200) reached and the optimization hasn't converged yet.\n",
            "  % self.max_iter, ConvergenceWarning)\n"
          ]
        },
        {
          "output_type": "stream",
          "name": "stdout",
          "text": [
            "Acuracia para n=1,70/30 : 0.796875\n"
          ]
        },
        {
          "output_type": "stream",
          "name": "stderr",
          "text": [
            "/usr/local/lib/python3.7/dist-packages/sklearn/neural_network/_multilayer_perceptron.py:571: ConvergenceWarning: Stochastic Optimizer: Maximum iterations (200) reached and the optimization hasn't converged yet.\n",
            "  % self.max_iter, ConvergenceWarning)\n",
            "/usr/local/lib/python3.7/dist-packages/sklearn/neural_network/_multilayer_perceptron.py:571: ConvergenceWarning: Stochastic Optimizer: Maximum iterations (200) reached and the optimization hasn't converged yet.\n",
            "  % self.max_iter, ConvergenceWarning)\n"
          ]
        },
        {
          "output_type": "stream",
          "name": "stdout",
          "text": [
            "Acuracia para n=1,80/20 : 0.7906976744186046\n",
            "Acuracia para n=1,90/10 : 0.8181818181818182\n"
          ]
        },
        {
          "output_type": "stream",
          "name": "stderr",
          "text": [
            "/usr/local/lib/python3.7/dist-packages/sklearn/neural_network/_multilayer_perceptron.py:571: ConvergenceWarning: Stochastic Optimizer: Maximum iterations (200) reached and the optimization hasn't converged yet.\n",
            "  % self.max_iter, ConvergenceWarning)\n",
            "/usr/local/lib/python3.7/dist-packages/sklearn/neural_network/_multilayer_perceptron.py:571: ConvergenceWarning: Stochastic Optimizer: Maximum iterations (200) reached and the optimization hasn't converged yet.\n",
            "  % self.max_iter, ConvergenceWarning)\n",
            "/usr/local/lib/python3.7/dist-packages/sklearn/neural_network/_multilayer_perceptron.py:571: ConvergenceWarning: Stochastic Optimizer: Maximum iterations (200) reached and the optimization hasn't converged yet.\n",
            "  % self.max_iter, ConvergenceWarning)\n",
            "/usr/local/lib/python3.7/dist-packages/sklearn/neural_network/_multilayer_perceptron.py:571: ConvergenceWarning: Stochastic Optimizer: Maximum iterations (200) reached and the optimization hasn't converged yet.\n",
            "  % self.max_iter, ConvergenceWarning)\n",
            "/usr/local/lib/python3.7/dist-packages/sklearn/neural_network/_multilayer_perceptron.py:571: ConvergenceWarning: Stochastic Optimizer: Maximum iterations (200) reached and the optimization hasn't converged yet.\n",
            "  % self.max_iter, ConvergenceWarning)\n",
            "/usr/local/lib/python3.7/dist-packages/sklearn/neural_network/_multilayer_perceptron.py:571: ConvergenceWarning: Stochastic Optimizer: Maximum iterations (200) reached and the optimization hasn't converged yet.\n",
            "  % self.max_iter, ConvergenceWarning)\n",
            "/usr/local/lib/python3.7/dist-packages/sklearn/neural_network/_multilayer_perceptron.py:571: ConvergenceWarning: Stochastic Optimizer: Maximum iterations (200) reached and the optimization hasn't converged yet.\n",
            "  % self.max_iter, ConvergenceWarning)\n",
            "/usr/local/lib/python3.7/dist-packages/sklearn/neural_network/_multilayer_perceptron.py:571: ConvergenceWarning: Stochastic Optimizer: Maximum iterations (200) reached and the optimization hasn't converged yet.\n",
            "  % self.max_iter, ConvergenceWarning)\n",
            "/usr/local/lib/python3.7/dist-packages/sklearn/neural_network/_multilayer_perceptron.py:571: ConvergenceWarning: Stochastic Optimizer: Maximum iterations (200) reached and the optimization hasn't converged yet.\n",
            "  % self.max_iter, ConvergenceWarning)\n"
          ]
        },
        {
          "output_type": "stream",
          "name": "stdout",
          "text": [
            "acurácia %0.2f para kfold, 10 folds 0.7872294372294373\n"
          ]
        },
        {
          "output_type": "stream",
          "name": "stderr",
          "text": [
            "/usr/local/lib/python3.7/dist-packages/sklearn/neural_network/_multilayer_perceptron.py:571: ConvergenceWarning: Stochastic Optimizer: Maximum iterations (200) reached and the optimization hasn't converged yet.\n",
            "  % self.max_iter, ConvergenceWarning)\n"
          ]
        }
      ]
    }
  ]
}