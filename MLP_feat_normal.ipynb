{
  "nbformat": 4,
  "nbformat_minor": 0,
  "metadata": {
    "colab": {
      "name": "MLP_feat_normal.ipynb",
      "provenance": [],
      "include_colab_link": true
    },
    "kernelspec": {
      "name": "python3",
      "display_name": "Python 3"
    },
    "language_info": {
      "name": "python"
    }
  },
  "cells": [
    {
      "cell_type": "markdown",
      "metadata": {
        "id": "view-in-github",
        "colab_type": "text"
      },
      "source": [
        "<a href=\"https://colab.research.google.com/github/diego2017003/knn_treeClassifier/blob/main/MLP_feat_normal.ipynb\" target=\"_parent\"><img src=\"https://colab.research.google.com/assets/colab-badge.svg\" alt=\"Open In Colab\"/></a>"
      ]
    },
    {
      "cell_type": "code",
      "metadata": {
        "colab": {
          "base_uri": "https://localhost:8080/",
          "height": 206
        },
        "id": "HNU8EeSN8aMF",
        "outputId": "232b16cb-f8f9-4cbf-e05f-625243b6a172"
      },
      "source": [
        "import pandas as pd\n",
        "dados_preProcessado = pd.read_csv('https://raw.githubusercontent.com/diego2017003/knn_treeClassifier/main/dados_preProcessados.csv')\n",
        "dados_originais = pd.read_csv('https://raw.githubusercontent.com/diego2017003/knn_treeClassifier/main/heart.csv')\n",
        "dados_preProcessado.drop(columns=['Unnamed: 0'],inplace=True)\n",
        "dados_amostra30 = pd.read_csv('https://raw.githubusercontent.com/diego2017003/knn_treeClassifier/main/amostra_30_sr.csv?token=AHICD57VCQG2JACG2W6CH6DA4HQEE')\n",
        "dados_amostra50 = pd.read_csv('https://raw.githubusercontent.com/diego2017003/knn_treeClassifier/main/amostra_50_estratificada.csv?token=AHICD577TFMYIROBCPV67PDA4HQHY')\n",
        "dados_amostra70 = pd.read_csv('https://raw.githubusercontent.com/diego2017003/knn_treeClassifier/main/amostra_70_estratificada.csv?token=AHICD52TMNHP253IGVDF243A4HQP4')\n",
        "\n",
        "dados_originais.head()"
      ],
      "execution_count": 37,
      "outputs": [
        {
          "output_type": "execute_result",
          "data": {
            "text/html": [
              "<div>\n",
              "<style scoped>\n",
              "    .dataframe tbody tr th:only-of-type {\n",
              "        vertical-align: middle;\n",
              "    }\n",
              "\n",
              "    .dataframe tbody tr th {\n",
              "        vertical-align: top;\n",
              "    }\n",
              "\n",
              "    .dataframe thead th {\n",
              "        text-align: right;\n",
              "    }\n",
              "</style>\n",
              "<table border=\"1\" class=\"dataframe\">\n",
              "  <thead>\n",
              "    <tr style=\"text-align: right;\">\n",
              "      <th></th>\n",
              "      <th>age</th>\n",
              "      <th>sex</th>\n",
              "      <th>cp</th>\n",
              "      <th>trtbps</th>\n",
              "      <th>chol</th>\n",
              "      <th>fbs</th>\n",
              "      <th>restecg</th>\n",
              "      <th>thalachh</th>\n",
              "      <th>exng</th>\n",
              "      <th>oldpeak</th>\n",
              "      <th>slp</th>\n",
              "      <th>caa</th>\n",
              "      <th>thall</th>\n",
              "      <th>output</th>\n",
              "    </tr>\n",
              "  </thead>\n",
              "  <tbody>\n",
              "    <tr>\n",
              "      <th>0</th>\n",
              "      <td>63</td>\n",
              "      <td>1</td>\n",
              "      <td>3</td>\n",
              "      <td>145</td>\n",
              "      <td>233</td>\n",
              "      <td>1</td>\n",
              "      <td>0</td>\n",
              "      <td>150</td>\n",
              "      <td>0</td>\n",
              "      <td>2.3</td>\n",
              "      <td>0</td>\n",
              "      <td>0</td>\n",
              "      <td>1</td>\n",
              "      <td>1</td>\n",
              "    </tr>\n",
              "    <tr>\n",
              "      <th>1</th>\n",
              "      <td>37</td>\n",
              "      <td>1</td>\n",
              "      <td>2</td>\n",
              "      <td>130</td>\n",
              "      <td>250</td>\n",
              "      <td>0</td>\n",
              "      <td>1</td>\n",
              "      <td>187</td>\n",
              "      <td>0</td>\n",
              "      <td>3.5</td>\n",
              "      <td>0</td>\n",
              "      <td>0</td>\n",
              "      <td>2</td>\n",
              "      <td>1</td>\n",
              "    </tr>\n",
              "    <tr>\n",
              "      <th>2</th>\n",
              "      <td>41</td>\n",
              "      <td>0</td>\n",
              "      <td>1</td>\n",
              "      <td>130</td>\n",
              "      <td>204</td>\n",
              "      <td>0</td>\n",
              "      <td>0</td>\n",
              "      <td>172</td>\n",
              "      <td>0</td>\n",
              "      <td>1.4</td>\n",
              "      <td>2</td>\n",
              "      <td>0</td>\n",
              "      <td>2</td>\n",
              "      <td>1</td>\n",
              "    </tr>\n",
              "    <tr>\n",
              "      <th>3</th>\n",
              "      <td>56</td>\n",
              "      <td>1</td>\n",
              "      <td>1</td>\n",
              "      <td>120</td>\n",
              "      <td>236</td>\n",
              "      <td>0</td>\n",
              "      <td>1</td>\n",
              "      <td>178</td>\n",
              "      <td>0</td>\n",
              "      <td>0.8</td>\n",
              "      <td>2</td>\n",
              "      <td>0</td>\n",
              "      <td>2</td>\n",
              "      <td>1</td>\n",
              "    </tr>\n",
              "    <tr>\n",
              "      <th>4</th>\n",
              "      <td>57</td>\n",
              "      <td>0</td>\n",
              "      <td>0</td>\n",
              "      <td>120</td>\n",
              "      <td>354</td>\n",
              "      <td>0</td>\n",
              "      <td>1</td>\n",
              "      <td>163</td>\n",
              "      <td>1</td>\n",
              "      <td>0.6</td>\n",
              "      <td>2</td>\n",
              "      <td>0</td>\n",
              "      <td>2</td>\n",
              "      <td>1</td>\n",
              "    </tr>\n",
              "  </tbody>\n",
              "</table>\n",
              "</div>"
            ],
            "text/plain": [
              "   age  sex  cp  trtbps  chol  fbs  ...  exng  oldpeak  slp  caa  thall  output\n",
              "0   63    1   3     145   233    1  ...     0      2.3    0    0      1       1\n",
              "1   37    1   2     130   250    0  ...     0      3.5    0    0      2       1\n",
              "2   41    0   1     130   204    0  ...     0      1.4    2    0      2       1\n",
              "3   56    1   1     120   236    0  ...     0      0.8    2    0      2       1\n",
              "4   57    0   0     120   354    0  ...     1      0.6    2    0      2       1\n",
              "\n",
              "[5 rows x 14 columns]"
            ]
          },
          "metadata": {},
          "execution_count": 37
        }
      ]
    },
    {
      "cell_type": "code",
      "metadata": {
        "id": "C52OjAFR7bCm"
      },
      "source": [
        "dados_originais_tratados = dados_originais.copy()\n",
        "dados_originais_tratados.restecg.replace({0:'Normal',1:'Possui_anormalidade',2:'Provável_hipertrofia'}, inplace=True)\n",
        "dados_originais_tratados.cp.replace({1:'Angina_tipica',2:'Angina_atipica',3:'Não_Angina',0:'Assintomatico'}, inplace=True)\n",
        "dados_originais_tratados = pd.get_dummies(dados_originais_tratados , columns=['restecg','cp'] , prefix=['restecg_','cp_'])\n",
        "dados_amostra30.drop(columns=['Unnamed: 0'],inplace=True)\n",
        "dados_amostra50.drop(columns=['Unnamed: 0'],inplace=True)\n",
        "dados_amostra70.drop(columns=['Unnamed: 0'],inplace=True) "
      ],
      "execution_count": 38,
      "outputs": []
    },
    {
      "cell_type": "code",
      "metadata": {
        "id": "JzPvm8wf-SWn"
      },
      "source": [
        "#!pip install pycaret"
      ],
      "execution_count": 39,
      "outputs": []
    },
    {
      "cell_type": "code",
      "metadata": {
        "id": "idKiLbPB-doD"
      },
      "source": [
        "#from pycaret.classification import *"
      ],
      "execution_count": 40,
      "outputs": []
    },
    {
      "cell_type": "code",
      "metadata": {
        "id": "3p3DgEhy-_vE"
      },
      "source": [
        "#s = setup(data=dados_originais,target='output')"
      ],
      "execution_count": 41,
      "outputs": []
    },
    {
      "cell_type": "code",
      "metadata": {
        "id": "nJPkZbXs_sFP"
      },
      "source": [
        "#compare_models()"
      ],
      "execution_count": 42,
      "outputs": []
    },
    {
      "cell_type": "code",
      "metadata": {
        "id": "XKwj_K5K8vrs"
      },
      "source": [
        "dados_originais_tratados = pd.get_dummies(dados_originais_tratados , columns=['slp','thall','caa'] , prefix=['slp_','thall_','caa_'])\n",
        "dados_amostra30 = pd.get_dummies(dados_amostra30 , columns=['slp','thall','caa'] , prefix=['slp_','thall_','caa_'])\n",
        "dados_amostra50 = pd.get_dummies(dados_amostra50 , columns=['slp','thall','caa'] , prefix=['slp_','thall_','caa_'])\n",
        "dados_amostra70 = pd.get_dummies(dados_amostra70 , columns=['slp','thall','caa'] , prefix=['slp_','thall_','caa_'])\n",
        "from sklearn.preprocessing import StandardScaler\n",
        "from sklearn_pandas import DataFrameMapper\n",
        "from sklearn.neural_network import MLPClassifier\n",
        "from sklearn.model_selection import train_test_split\n",
        "from sklearn.metrics import accuracy_score\n",
        "from sklearn.model_selection import cross_val_score"
      ],
      "execution_count": 43,
      "outputs": []
    },
    {
      "cell_type": "markdown",
      "metadata": {
        "id": "SV1abFX69i2C"
      },
      "source": [
        ""
      ]
    },
    {
      "cell_type": "code",
      "metadata": {
        "id": "ozs2egyK7yfG",
        "colab": {
          "base_uri": "https://localhost:8080/",
          "height": 320
        },
        "outputId": "2f422784-49f0-48f3-df44-bef5ea81ce84"
      },
      "source": [
        "columns = ['age','trtbps','chol','thalachh','oldpeak']\n",
        "dados_originais_normalizados = dados_originais_tratados.loc[:,columns]\n",
        "dados_originais_normalizados = dados_originais_tratados.drop(columns=['output'])\n",
        "mapper = DataFrameMapper([(dados_originais_normalizados.columns, StandardScaler())])\n",
        "scaled_features = mapper.fit_transform(dados_originais_normalizados.copy())\n",
        "scaled_features_df = pd.DataFrame(scaled_features, index=dados_originais_normalizados.index, columns=dados_originais_normalizados.columns)\n",
        "dados_originais_normalizados = scaled_features_df.copy()\n",
        "dados_originais_normalizados['sex'] = dados_originais_tratados['sex']\n",
        "dados_originais_normalizados['fbs'] = dados_originais_tratados['fbs']\n",
        "dados_originais_normalizados['exng'] = dados_originais_tratados['exng']\n",
        "dados_originais_normalizados['restecg__Normal'] = dados_originais_tratados['restecg__Normal']\n",
        "dados_originais_normalizados['restecg__Possui_anormalidades'] = dados_originais_tratados['restecg__Possui_anormalidade']\n",
        "dados_originais_normalizados['restecg__Provável_hipertrofia'] = dados_originais_tratados['restecg__Provável_hipertrofia']\n",
        "dados_originais_normalizados['cp__Angina_atipica'] = dados_originais_tratados['cp__Angina_atipica']\n",
        "dados_originais_normalizados['cp__Angina_tipica'] = dados_originais_tratados['cp__Angina_tipica']\n",
        "dados_originais_normalizados['cp__Assintomatico'] = dados_originais_tratados['cp__Assintomatico']\n",
        "dados_originais_normalizados['cp__Não_Angina'] = dados_originais_tratados['cp__Não_Angina']\n",
        "dados_originais_normalizados['slp__0'] = dados_originais_tratados['slp__0']\n",
        "dados_originais_normalizados['slp__1'] = dados_originais_tratados['slp__1']\n",
        "dados_originais_normalizados['slp__2'] = dados_originais_tratados['slp__2']\n",
        "dados_originais_normalizados['thall__0'] = dados_originais_tratados['thall__0']\n",
        "dados_originais_normalizados['thall__1'] = dados_originais_tratados['thall__1']\n",
        "dados_originais_normalizados['thall__2'] = dados_originais_tratados['thall__2']\n",
        "dados_originais_normalizados['thall__3'] = dados_originais_tratados['thall__3']\n",
        "dados_originais_normalizados['caa__0'] = dados_originais_tratados['caa__0']\n",
        "dados_originais_normalizados['caa__1'] = dados_originais_tratados['caa__1']\n",
        "dados_originais_normalizados['caa__2'] = dados_originais_tratados['caa__2']\n",
        "dados_originais_normalizados['caa__3'] = dados_originais_tratados['caa__3']\n",
        "dados_originais_normalizados['caa__4'] = dados_originais_tratados['caa__4']\n",
        "dados_originais_normalizados['output'] = dados_originais_tratados['output']\n",
        "dados_originais_normalizados.describe().round(2)"
      ],
      "execution_count": 44,
      "outputs": [
        {
          "output_type": "execute_result",
          "data": {
            "text/html": [
              "<div>\n",
              "<style scoped>\n",
              "    .dataframe tbody tr th:only-of-type {\n",
              "        vertical-align: middle;\n",
              "    }\n",
              "\n",
              "    .dataframe tbody tr th {\n",
              "        vertical-align: top;\n",
              "    }\n",
              "\n",
              "    .dataframe thead th {\n",
              "        text-align: right;\n",
              "    }\n",
              "</style>\n",
              "<table border=\"1\" class=\"dataframe\">\n",
              "  <thead>\n",
              "    <tr style=\"text-align: right;\">\n",
              "      <th></th>\n",
              "      <th>age</th>\n",
              "      <th>sex</th>\n",
              "      <th>trtbps</th>\n",
              "      <th>chol</th>\n",
              "      <th>fbs</th>\n",
              "      <th>thalachh</th>\n",
              "      <th>exng</th>\n",
              "      <th>oldpeak</th>\n",
              "      <th>restecg__Normal</th>\n",
              "      <th>restecg__Possui_anormalidade</th>\n",
              "      <th>restecg__Provável_hipertrofia</th>\n",
              "      <th>cp__Angina_atipica</th>\n",
              "      <th>cp__Angina_tipica</th>\n",
              "      <th>cp__Assintomatico</th>\n",
              "      <th>cp__Não_Angina</th>\n",
              "      <th>slp__0</th>\n",
              "      <th>slp__1</th>\n",
              "      <th>slp__2</th>\n",
              "      <th>thall__0</th>\n",
              "      <th>thall__1</th>\n",
              "      <th>thall__2</th>\n",
              "      <th>thall__3</th>\n",
              "      <th>caa__0</th>\n",
              "      <th>caa__1</th>\n",
              "      <th>caa__2</th>\n",
              "      <th>caa__3</th>\n",
              "      <th>caa__4</th>\n",
              "      <th>restecg__Possui_anormalidades</th>\n",
              "      <th>output</th>\n",
              "    </tr>\n",
              "  </thead>\n",
              "  <tbody>\n",
              "    <tr>\n",
              "      <th>count</th>\n",
              "      <td>303.00</td>\n",
              "      <td>303.00</td>\n",
              "      <td>303.00</td>\n",
              "      <td>303.00</td>\n",
              "      <td>303.00</td>\n",
              "      <td>303.00</td>\n",
              "      <td>303.00</td>\n",
              "      <td>303.00</td>\n",
              "      <td>303.00</td>\n",
              "      <td>303.0</td>\n",
              "      <td>303.00</td>\n",
              "      <td>303.00</td>\n",
              "      <td>303.00</td>\n",
              "      <td>303.00</td>\n",
              "      <td>303.00</td>\n",
              "      <td>303.00</td>\n",
              "      <td>303.00</td>\n",
              "      <td>303.00</td>\n",
              "      <td>303.00</td>\n",
              "      <td>303.00</td>\n",
              "      <td>303.00</td>\n",
              "      <td>303.00</td>\n",
              "      <td>303.00</td>\n",
              "      <td>303.00</td>\n",
              "      <td>303.00</td>\n",
              "      <td>303.00</td>\n",
              "      <td>303.00</td>\n",
              "      <td>303.0</td>\n",
              "      <td>303.00</td>\n",
              "    </tr>\n",
              "    <tr>\n",
              "      <th>mean</th>\n",
              "      <td>0.00</td>\n",
              "      <td>0.68</td>\n",
              "      <td>-0.00</td>\n",
              "      <td>-0.00</td>\n",
              "      <td>0.15</td>\n",
              "      <td>-0.00</td>\n",
              "      <td>0.33</td>\n",
              "      <td>-0.00</td>\n",
              "      <td>0.49</td>\n",
              "      <td>0.0</td>\n",
              "      <td>0.01</td>\n",
              "      <td>0.29</td>\n",
              "      <td>0.17</td>\n",
              "      <td>0.47</td>\n",
              "      <td>0.08</td>\n",
              "      <td>0.07</td>\n",
              "      <td>0.46</td>\n",
              "      <td>0.47</td>\n",
              "      <td>0.01</td>\n",
              "      <td>0.06</td>\n",
              "      <td>0.55</td>\n",
              "      <td>0.39</td>\n",
              "      <td>0.58</td>\n",
              "      <td>0.21</td>\n",
              "      <td>0.13</td>\n",
              "      <td>0.07</td>\n",
              "      <td>0.02</td>\n",
              "      <td>0.5</td>\n",
              "      <td>0.54</td>\n",
              "    </tr>\n",
              "    <tr>\n",
              "      <th>std</th>\n",
              "      <td>1.00</td>\n",
              "      <td>0.47</td>\n",
              "      <td>1.00</td>\n",
              "      <td>1.00</td>\n",
              "      <td>0.36</td>\n",
              "      <td>1.00</td>\n",
              "      <td>0.47</td>\n",
              "      <td>1.00</td>\n",
              "      <td>0.50</td>\n",
              "      <td>1.0</td>\n",
              "      <td>0.11</td>\n",
              "      <td>0.45</td>\n",
              "      <td>0.37</td>\n",
              "      <td>0.50</td>\n",
              "      <td>0.27</td>\n",
              "      <td>0.25</td>\n",
              "      <td>0.50</td>\n",
              "      <td>0.50</td>\n",
              "      <td>0.08</td>\n",
              "      <td>0.24</td>\n",
              "      <td>0.50</td>\n",
              "      <td>0.49</td>\n",
              "      <td>0.49</td>\n",
              "      <td>0.41</td>\n",
              "      <td>0.33</td>\n",
              "      <td>0.25</td>\n",
              "      <td>0.13</td>\n",
              "      <td>0.5</td>\n",
              "      <td>0.50</td>\n",
              "    </tr>\n",
              "    <tr>\n",
              "      <th>min</th>\n",
              "      <td>-2.80</td>\n",
              "      <td>0.00</td>\n",
              "      <td>-2.15</td>\n",
              "      <td>-2.32</td>\n",
              "      <td>0.00</td>\n",
              "      <td>-3.44</td>\n",
              "      <td>0.00</td>\n",
              "      <td>-0.90</td>\n",
              "      <td>0.00</td>\n",
              "      <td>-1.0</td>\n",
              "      <td>0.00</td>\n",
              "      <td>0.00</td>\n",
              "      <td>0.00</td>\n",
              "      <td>0.00</td>\n",
              "      <td>0.00</td>\n",
              "      <td>0.00</td>\n",
              "      <td>0.00</td>\n",
              "      <td>0.00</td>\n",
              "      <td>0.00</td>\n",
              "      <td>0.00</td>\n",
              "      <td>0.00</td>\n",
              "      <td>0.00</td>\n",
              "      <td>0.00</td>\n",
              "      <td>0.00</td>\n",
              "      <td>0.00</td>\n",
              "      <td>0.00</td>\n",
              "      <td>0.00</td>\n",
              "      <td>0.0</td>\n",
              "      <td>0.00</td>\n",
              "    </tr>\n",
              "    <tr>\n",
              "      <th>25%</th>\n",
              "      <td>-0.76</td>\n",
              "      <td>0.00</td>\n",
              "      <td>-0.66</td>\n",
              "      <td>-0.68</td>\n",
              "      <td>0.00</td>\n",
              "      <td>-0.71</td>\n",
              "      <td>0.00</td>\n",
              "      <td>-0.90</td>\n",
              "      <td>0.00</td>\n",
              "      <td>-1.0</td>\n",
              "      <td>0.00</td>\n",
              "      <td>0.00</td>\n",
              "      <td>0.00</td>\n",
              "      <td>0.00</td>\n",
              "      <td>0.00</td>\n",
              "      <td>0.00</td>\n",
              "      <td>0.00</td>\n",
              "      <td>0.00</td>\n",
              "      <td>0.00</td>\n",
              "      <td>0.00</td>\n",
              "      <td>0.00</td>\n",
              "      <td>0.00</td>\n",
              "      <td>0.00</td>\n",
              "      <td>0.00</td>\n",
              "      <td>0.00</td>\n",
              "      <td>0.00</td>\n",
              "      <td>0.00</td>\n",
              "      <td>0.0</td>\n",
              "      <td>0.00</td>\n",
              "    </tr>\n",
              "    <tr>\n",
              "      <th>50%</th>\n",
              "      <td>0.07</td>\n",
              "      <td>1.00</td>\n",
              "      <td>-0.09</td>\n",
              "      <td>-0.12</td>\n",
              "      <td>0.00</td>\n",
              "      <td>0.15</td>\n",
              "      <td>0.00</td>\n",
              "      <td>-0.21</td>\n",
              "      <td>0.00</td>\n",
              "      <td>1.0</td>\n",
              "      <td>0.00</td>\n",
              "      <td>0.00</td>\n",
              "      <td>0.00</td>\n",
              "      <td>0.00</td>\n",
              "      <td>0.00</td>\n",
              "      <td>0.00</td>\n",
              "      <td>0.00</td>\n",
              "      <td>0.00</td>\n",
              "      <td>0.00</td>\n",
              "      <td>0.00</td>\n",
              "      <td>1.00</td>\n",
              "      <td>0.00</td>\n",
              "      <td>1.00</td>\n",
              "      <td>0.00</td>\n",
              "      <td>0.00</td>\n",
              "      <td>0.00</td>\n",
              "      <td>0.00</td>\n",
              "      <td>1.0</td>\n",
              "      <td>1.00</td>\n",
              "    </tr>\n",
              "    <tr>\n",
              "      <th>75%</th>\n",
              "      <td>0.73</td>\n",
              "      <td>1.00</td>\n",
              "      <td>0.48</td>\n",
              "      <td>0.55</td>\n",
              "      <td>0.00</td>\n",
              "      <td>0.72</td>\n",
              "      <td>1.00</td>\n",
              "      <td>0.48</td>\n",
              "      <td>1.00</td>\n",
              "      <td>1.0</td>\n",
              "      <td>0.00</td>\n",
              "      <td>1.00</td>\n",
              "      <td>0.00</td>\n",
              "      <td>1.00</td>\n",
              "      <td>0.00</td>\n",
              "      <td>0.00</td>\n",
              "      <td>1.00</td>\n",
              "      <td>1.00</td>\n",
              "      <td>0.00</td>\n",
              "      <td>0.00</td>\n",
              "      <td>1.00</td>\n",
              "      <td>1.00</td>\n",
              "      <td>1.00</td>\n",
              "      <td>0.00</td>\n",
              "      <td>0.00</td>\n",
              "      <td>0.00</td>\n",
              "      <td>0.00</td>\n",
              "      <td>1.0</td>\n",
              "      <td>1.00</td>\n",
              "    </tr>\n",
              "    <tr>\n",
              "      <th>max</th>\n",
              "      <td>2.50</td>\n",
              "      <td>1.00</td>\n",
              "      <td>3.91</td>\n",
              "      <td>6.14</td>\n",
              "      <td>1.00</td>\n",
              "      <td>2.29</td>\n",
              "      <td>1.00</td>\n",
              "      <td>4.45</td>\n",
              "      <td>1.00</td>\n",
              "      <td>1.0</td>\n",
              "      <td>1.00</td>\n",
              "      <td>1.00</td>\n",
              "      <td>1.00</td>\n",
              "      <td>1.00</td>\n",
              "      <td>1.00</td>\n",
              "      <td>1.00</td>\n",
              "      <td>1.00</td>\n",
              "      <td>1.00</td>\n",
              "      <td>1.00</td>\n",
              "      <td>1.00</td>\n",
              "      <td>1.00</td>\n",
              "      <td>1.00</td>\n",
              "      <td>1.00</td>\n",
              "      <td>1.00</td>\n",
              "      <td>1.00</td>\n",
              "      <td>1.00</td>\n",
              "      <td>1.00</td>\n",
              "      <td>1.0</td>\n",
              "      <td>1.00</td>\n",
              "    </tr>\n",
              "  </tbody>\n",
              "</table>\n",
              "</div>"
            ],
            "text/plain": [
              "          age     sex  trtbps  ...  caa__4  restecg__Possui_anormalidades  output\n",
              "count  303.00  303.00  303.00  ...  303.00                          303.0  303.00\n",
              "mean     0.00    0.68   -0.00  ...    0.02                            0.5    0.54\n",
              "std      1.00    0.47    1.00  ...    0.13                            0.5    0.50\n",
              "min     -2.80    0.00   -2.15  ...    0.00                            0.0    0.00\n",
              "25%     -0.76    0.00   -0.66  ...    0.00                            0.0    0.00\n",
              "50%      0.07    1.00   -0.09  ...    0.00                            1.0    1.00\n",
              "75%      0.73    1.00    0.48  ...    0.00                            1.0    1.00\n",
              "max      2.50    1.00    3.91  ...    1.00                            1.0    1.00\n",
              "\n",
              "[8 rows x 29 columns]"
            ]
          },
          "metadata": {},
          "execution_count": 44
        }
      ]
    },
    {
      "cell_type": "code",
      "metadata": {
        "id": "6wv-OhYG79Pi",
        "colab": {
          "base_uri": "https://localhost:8080/",
          "height": 320
        },
        "outputId": "42f05a2b-1258-458e-dc19-7ca2d89667eb"
      },
      "source": [
        "columns = ['age','trtbps','chol','thalachh','oldpeak']\n",
        "dados_amostra30_normalizado = dados_amostra30.loc[:,columns]\n",
        "dados_amostra30_normalizado = dados_amostra30.drop(columns=['output'])\n",
        "mapper = DataFrameMapper([(dados_amostra30_normalizado.columns, StandardScaler())])\n",
        "scaled_features = mapper.fit_transform(dados_amostra30_normalizado.copy())\n",
        "scaled_features_df = pd.DataFrame(scaled_features, index=dados_amostra30_normalizado.index, columns=dados_amostra30_normalizado.columns)\n",
        "dados_amostra30_normalizado = scaled_features_df.copy()\n",
        "dados_amostra30_normalizado['sex'] = dados_amostra30['sex']\n",
        "dados_amostra30_normalizado['fbs'] = dados_amostra30['fbs']\n",
        "dados_amostra30_normalizado['exng'] = dados_amostra30['exng']\n",
        "dados_amostra30_normalizado['restecg__Normal'] = dados_amostra30['restecg__Normal']\n",
        "dados_amostra30_normalizado['restecg__Possui_anormalidades'] = dados_amostra30['restecg__Possui_anormalidade']\n",
        "dados_amostra30_normalizado['restecg__Provável_hipertrofia'] = dados_amostra30['restecg__Provável_hipertrofia']\n",
        "dados_amostra30_normalizado['cp__Angina_atipica'] = dados_amostra30['cp__Angina_atipica']\n",
        "dados_amostra30_normalizado['cp__Angina_tipica'] = dados_amostra30['cp__Angina_tipica']\n",
        "dados_amostra30_normalizado['cp__Assintomatico'] = dados_amostra30['cp__Assintomatico']\n",
        "dados_amostra30_normalizado['cp__Não_Angina'] = dados_amostra30['cp__Não_Angina']\n",
        "dados_amostra30_normalizado['slp__0'] = dados_amostra30['slp__0']\n",
        "dados_amostra30_normalizado['slp__1'] = dados_amostra30['slp__1']\n",
        "dados_amostra30_normalizado['slp__2'] = dados_amostra30['slp__2']\n",
        "#dados_amostra30_normalizado['thall__0'] = dados_amostra30['thall__0']\n",
        "dados_amostra30_normalizado['thall__1'] = dados_amostra30['thall__1']\n",
        "dados_amostra30_normalizado['thall__2'] = dados_amostra30['thall__2']\n",
        "dados_amostra30_normalizado['thall__3'] = dados_amostra30['thall__3']\n",
        "dados_amostra30_normalizado['caa__0'] = dados_amostra30['caa__0']\n",
        "dados_amostra30_normalizado['caa__1'] = dados_amostra30['caa__1']\n",
        "dados_amostra30_normalizado['caa__2'] = dados_amostra30['caa__2']\n",
        "dados_amostra30_normalizado['caa__3'] = dados_amostra30['caa__3']\n",
        "dados_amostra30_normalizado['caa__4'] = dados_amostra30['caa__4']\n",
        "dados_amostra30_normalizado['output'] = dados_amostra30['output']\n",
        "dados_amostra30_normalizado.describe().round(2)"
      ],
      "execution_count": 45,
      "outputs": [
        {
          "output_type": "execute_result",
          "data": {
            "text/html": [
              "<div>\n",
              "<style scoped>\n",
              "    .dataframe tbody tr th:only-of-type {\n",
              "        vertical-align: middle;\n",
              "    }\n",
              "\n",
              "    .dataframe tbody tr th {\n",
              "        vertical-align: top;\n",
              "    }\n",
              "\n",
              "    .dataframe thead th {\n",
              "        text-align: right;\n",
              "    }\n",
              "</style>\n",
              "<table border=\"1\" class=\"dataframe\">\n",
              "  <thead>\n",
              "    <tr style=\"text-align: right;\">\n",
              "      <th></th>\n",
              "      <th>age</th>\n",
              "      <th>sex</th>\n",
              "      <th>trtbps</th>\n",
              "      <th>chol</th>\n",
              "      <th>fbs</th>\n",
              "      <th>thalachh</th>\n",
              "      <th>exng</th>\n",
              "      <th>oldpeak</th>\n",
              "      <th>restecg__Normal</th>\n",
              "      <th>restecg__Possui_anormalidade</th>\n",
              "      <th>restecg__Provável_hipertrofia</th>\n",
              "      <th>cp__Angina_atipica</th>\n",
              "      <th>cp__Angina_tipica</th>\n",
              "      <th>cp__Assintomatico</th>\n",
              "      <th>cp__Não_Angina</th>\n",
              "      <th>slp__0</th>\n",
              "      <th>slp__1</th>\n",
              "      <th>slp__2</th>\n",
              "      <th>thall__1</th>\n",
              "      <th>thall__2</th>\n",
              "      <th>thall__3</th>\n",
              "      <th>caa__0</th>\n",
              "      <th>caa__1</th>\n",
              "      <th>caa__2</th>\n",
              "      <th>caa__3</th>\n",
              "      <th>caa__4</th>\n",
              "      <th>restecg__Possui_anormalidades</th>\n",
              "      <th>output</th>\n",
              "    </tr>\n",
              "  </thead>\n",
              "  <tbody>\n",
              "    <tr>\n",
              "      <th>count</th>\n",
              "      <td>91.00</td>\n",
              "      <td>91.00</td>\n",
              "      <td>91.00</td>\n",
              "      <td>91.00</td>\n",
              "      <td>91.00</td>\n",
              "      <td>91.00</td>\n",
              "      <td>91.00</td>\n",
              "      <td>91.00</td>\n",
              "      <td>91.00</td>\n",
              "      <td>91.00</td>\n",
              "      <td>91.0</td>\n",
              "      <td>91.00</td>\n",
              "      <td>91.00</td>\n",
              "      <td>91.00</td>\n",
              "      <td>91.00</td>\n",
              "      <td>91.0</td>\n",
              "      <td>91.00</td>\n",
              "      <td>91.00</td>\n",
              "      <td>91.00</td>\n",
              "      <td>91.00</td>\n",
              "      <td>91.00</td>\n",
              "      <td>91.00</td>\n",
              "      <td>91.00</td>\n",
              "      <td>91.00</td>\n",
              "      <td>91.00</td>\n",
              "      <td>91.00</td>\n",
              "      <td>91.00</td>\n",
              "      <td>91.00</td>\n",
              "    </tr>\n",
              "    <tr>\n",
              "      <th>mean</th>\n",
              "      <td>0.00</td>\n",
              "      <td>0.69</td>\n",
              "      <td>-0.00</td>\n",
              "      <td>-0.00</td>\n",
              "      <td>0.14</td>\n",
              "      <td>-0.00</td>\n",
              "      <td>0.30</td>\n",
              "      <td>0.00</td>\n",
              "      <td>0.35</td>\n",
              "      <td>0.00</td>\n",
              "      <td>0.0</td>\n",
              "      <td>0.24</td>\n",
              "      <td>0.19</td>\n",
              "      <td>0.52</td>\n",
              "      <td>0.05</td>\n",
              "      <td>0.1</td>\n",
              "      <td>0.45</td>\n",
              "      <td>0.45</td>\n",
              "      <td>0.05</td>\n",
              "      <td>0.53</td>\n",
              "      <td>0.42</td>\n",
              "      <td>0.54</td>\n",
              "      <td>0.22</td>\n",
              "      <td>0.16</td>\n",
              "      <td>0.04</td>\n",
              "      <td>0.03</td>\n",
              "      <td>0.65</td>\n",
              "      <td>0.54</td>\n",
              "    </tr>\n",
              "    <tr>\n",
              "      <th>std</th>\n",
              "      <td>1.01</td>\n",
              "      <td>0.46</td>\n",
              "      <td>1.01</td>\n",
              "      <td>1.01</td>\n",
              "      <td>0.35</td>\n",
              "      <td>1.01</td>\n",
              "      <td>0.46</td>\n",
              "      <td>1.01</td>\n",
              "      <td>0.48</td>\n",
              "      <td>1.01</td>\n",
              "      <td>0.0</td>\n",
              "      <td>0.43</td>\n",
              "      <td>0.39</td>\n",
              "      <td>0.50</td>\n",
              "      <td>0.23</td>\n",
              "      <td>0.3</td>\n",
              "      <td>0.50</td>\n",
              "      <td>0.50</td>\n",
              "      <td>0.23</td>\n",
              "      <td>0.50</td>\n",
              "      <td>0.50</td>\n",
              "      <td>0.50</td>\n",
              "      <td>0.42</td>\n",
              "      <td>0.37</td>\n",
              "      <td>0.21</td>\n",
              "      <td>0.18</td>\n",
              "      <td>0.48</td>\n",
              "      <td>0.50</td>\n",
              "    </tr>\n",
              "    <tr>\n",
              "      <th>min</th>\n",
              "      <td>-2.12</td>\n",
              "      <td>0.00</td>\n",
              "      <td>-1.92</td>\n",
              "      <td>-1.73</td>\n",
              "      <td>0.00</td>\n",
              "      <td>-3.10</td>\n",
              "      <td>0.00</td>\n",
              "      <td>-0.88</td>\n",
              "      <td>0.00</td>\n",
              "      <td>-1.36</td>\n",
              "      <td>0.0</td>\n",
              "      <td>0.00</td>\n",
              "      <td>0.00</td>\n",
              "      <td>0.00</td>\n",
              "      <td>0.00</td>\n",
              "      <td>0.0</td>\n",
              "      <td>0.00</td>\n",
              "      <td>0.00</td>\n",
              "      <td>0.00</td>\n",
              "      <td>0.00</td>\n",
              "      <td>0.00</td>\n",
              "      <td>0.00</td>\n",
              "      <td>0.00</td>\n",
              "      <td>0.00</td>\n",
              "      <td>0.00</td>\n",
              "      <td>0.00</td>\n",
              "      <td>0.00</td>\n",
              "      <td>0.00</td>\n",
              "    </tr>\n",
              "    <tr>\n",
              "      <th>25%</th>\n",
              "      <td>-0.92</td>\n",
              "      <td>0.00</td>\n",
              "      <td>-0.62</td>\n",
              "      <td>-0.73</td>\n",
              "      <td>0.00</td>\n",
              "      <td>-0.68</td>\n",
              "      <td>0.00</td>\n",
              "      <td>-0.88</td>\n",
              "      <td>0.00</td>\n",
              "      <td>-1.36</td>\n",
              "      <td>0.0</td>\n",
              "      <td>0.00</td>\n",
              "      <td>0.00</td>\n",
              "      <td>0.00</td>\n",
              "      <td>0.00</td>\n",
              "      <td>0.0</td>\n",
              "      <td>0.00</td>\n",
              "      <td>0.00</td>\n",
              "      <td>0.00</td>\n",
              "      <td>0.00</td>\n",
              "      <td>0.00</td>\n",
              "      <td>0.00</td>\n",
              "      <td>0.00</td>\n",
              "      <td>0.00</td>\n",
              "      <td>0.00</td>\n",
              "      <td>0.00</td>\n",
              "      <td>0.00</td>\n",
              "      <td>0.00</td>\n",
              "    </tr>\n",
              "    <tr>\n",
              "      <th>50%</th>\n",
              "      <td>0.16</td>\n",
              "      <td>1.00</td>\n",
              "      <td>0.03</td>\n",
              "      <td>-0.09</td>\n",
              "      <td>0.00</td>\n",
              "      <td>0.11</td>\n",
              "      <td>0.00</td>\n",
              "      <td>-0.23</td>\n",
              "      <td>0.00</td>\n",
              "      <td>0.74</td>\n",
              "      <td>0.0</td>\n",
              "      <td>0.00</td>\n",
              "      <td>0.00</td>\n",
              "      <td>1.00</td>\n",
              "      <td>0.00</td>\n",
              "      <td>0.0</td>\n",
              "      <td>0.00</td>\n",
              "      <td>0.00</td>\n",
              "      <td>0.00</td>\n",
              "      <td>1.00</td>\n",
              "      <td>0.00</td>\n",
              "      <td>1.00</td>\n",
              "      <td>0.00</td>\n",
              "      <td>0.00</td>\n",
              "      <td>0.00</td>\n",
              "      <td>0.00</td>\n",
              "      <td>1.00</td>\n",
              "      <td>1.00</td>\n",
              "    </tr>\n",
              "    <tr>\n",
              "      <th>75%</th>\n",
              "      <td>0.78</td>\n",
              "      <td>1.00</td>\n",
              "      <td>0.68</td>\n",
              "      <td>0.51</td>\n",
              "      <td>0.00</td>\n",
              "      <td>0.73</td>\n",
              "      <td>1.00</td>\n",
              "      <td>0.49</td>\n",
              "      <td>1.00</td>\n",
              "      <td>0.74</td>\n",
              "      <td>0.0</td>\n",
              "      <td>0.00</td>\n",
              "      <td>0.00</td>\n",
              "      <td>1.00</td>\n",
              "      <td>0.00</td>\n",
              "      <td>0.0</td>\n",
              "      <td>1.00</td>\n",
              "      <td>1.00</td>\n",
              "      <td>0.00</td>\n",
              "      <td>1.00</td>\n",
              "      <td>1.00</td>\n",
              "      <td>1.00</td>\n",
              "      <td>0.00</td>\n",
              "      <td>0.00</td>\n",
              "      <td>0.00</td>\n",
              "      <td>0.00</td>\n",
              "      <td>1.00</td>\n",
              "      <td>1.00</td>\n",
              "    </tr>\n",
              "    <tr>\n",
              "      <th>max</th>\n",
              "      <td>1.98</td>\n",
              "      <td>1.00</td>\n",
              "      <td>3.16</td>\n",
              "      <td>3.58</td>\n",
              "      <td>1.00</td>\n",
              "      <td>1.78</td>\n",
              "      <td>1.00</td>\n",
              "      <td>3.65</td>\n",
              "      <td>1.00</td>\n",
              "      <td>0.74</td>\n",
              "      <td>0.0</td>\n",
              "      <td>1.00</td>\n",
              "      <td>1.00</td>\n",
              "      <td>1.00</td>\n",
              "      <td>1.00</td>\n",
              "      <td>1.0</td>\n",
              "      <td>1.00</td>\n",
              "      <td>1.00</td>\n",
              "      <td>1.00</td>\n",
              "      <td>1.00</td>\n",
              "      <td>1.00</td>\n",
              "      <td>1.00</td>\n",
              "      <td>1.00</td>\n",
              "      <td>1.00</td>\n",
              "      <td>1.00</td>\n",
              "      <td>1.00</td>\n",
              "      <td>1.00</td>\n",
              "      <td>1.00</td>\n",
              "    </tr>\n",
              "  </tbody>\n",
              "</table>\n",
              "</div>"
            ],
            "text/plain": [
              "         age    sex  trtbps  ...  caa__4  restecg__Possui_anormalidades  output\n",
              "count  91.00  91.00   91.00  ...   91.00                          91.00   91.00\n",
              "mean    0.00   0.69   -0.00  ...    0.03                           0.65    0.54\n",
              "std     1.01   0.46    1.01  ...    0.18                           0.48    0.50\n",
              "min    -2.12   0.00   -1.92  ...    0.00                           0.00    0.00\n",
              "25%    -0.92   0.00   -0.62  ...    0.00                           0.00    0.00\n",
              "50%     0.16   1.00    0.03  ...    0.00                           1.00    1.00\n",
              "75%     0.78   1.00    0.68  ...    0.00                           1.00    1.00\n",
              "max     1.98   1.00    3.16  ...    1.00                           1.00    1.00\n",
              "\n",
              "[8 rows x 28 columns]"
            ]
          },
          "metadata": {},
          "execution_count": 45
        }
      ]
    },
    {
      "cell_type": "code",
      "metadata": {
        "id": "KgRI929C8GK4",
        "colab": {
          "base_uri": "https://localhost:8080/",
          "height": 320
        },
        "outputId": "a3b8ee2a-91a1-4225-f46f-b4df392d35ee"
      },
      "source": [
        "columns = ['age','trtbps','chol','thalachh','oldpeak']\n",
        "dados_amostra50_normalizado = dados_amostra50.loc[:,columns]\n",
        "dados_amostra50_normalizado = dados_amostra50.drop(columns=['output'])\n",
        "mapper = DataFrameMapper([(dados_amostra50_normalizado.columns, StandardScaler())])\n",
        "scaled_features = mapper.fit_transform(dados_amostra50_normalizado.copy())\n",
        "scaled_features_df = pd.DataFrame(scaled_features, index=dados_amostra50_normalizado.index, columns=dados_amostra50_normalizado.columns)\n",
        "dados_amostra50_normalizado = scaled_features_df.copy()\n",
        "dados_amostra50_normalizado['sex'] = dados_amostra50['sex']\n",
        "dados_amostra50_normalizado['fbs'] = dados_amostra50['fbs']\n",
        "dados_amostra50_normalizado['exng'] = dados_amostra50['exng']\n",
        "dados_amostra50_normalizado['restecg__Normal'] = dados_amostra50['restecg__Normal']\n",
        "dados_amostra50_normalizado['restecg__Possui_anormalidades'] = dados_amostra50['restecg__Possui_anormalidade']\n",
        "dados_amostra50_normalizado['restecg__Provável_hipertrofia'] = dados_amostra50['restecg__Provável_hipertrofia']\n",
        "dados_amostra50_normalizado['cp__Angina_atipica'] = dados_amostra50['cp__Angina_atipica']\n",
        "dados_amostra50_normalizado['cp__Angina_tipica'] = dados_amostra50['cp__Angina_tipica']\n",
        "dados_amostra50_normalizado['cp__Assintomatico'] = dados_amostra50['cp__Assintomatico']\n",
        "dados_amostra50_normalizado['cp__Não_Angina'] = dados_amostra50['cp__Não_Angina']\n",
        "dados_amostra50_normalizado['slp__0'] = dados_amostra50['slp__0']\n",
        "dados_amostra50_normalizado['slp__1'] = dados_amostra50['slp__1']\n",
        "dados_amostra50_normalizado['slp__2'] = dados_amostra50['slp__2']\n",
        "dados_amostra50_normalizado['thall__0'] = dados_amostra50['thall__0']\n",
        "dados_amostra50_normalizado['thall__1'] = dados_amostra50['thall__1']\n",
        "dados_amostra50_normalizado['thall__2'] = dados_amostra50['thall__2']\n",
        "dados_amostra50_normalizado['thall__3'] = dados_amostra50['thall__3']\n",
        "dados_amostra50_normalizado['caa__0'] = dados_amostra50['caa__0']\n",
        "dados_amostra50_normalizado['caa__1'] = dados_amostra50['caa__1']\n",
        "dados_amostra50_normalizado['caa__2'] = dados_amostra50['caa__2']\n",
        "dados_amostra50_normalizado['caa__3'] = dados_amostra50['caa__3']\n",
        "dados_amostra50_normalizado['caa__4'] = dados_amostra50['caa__4']\n",
        "dados_amostra50_normalizado['output'] = dados_amostra50['output']\n",
        "dados_amostra50_normalizado.describe().round(2)"
      ],
      "execution_count": 46,
      "outputs": [
        {
          "output_type": "execute_result",
          "data": {
            "text/html": [
              "<div>\n",
              "<style scoped>\n",
              "    .dataframe tbody tr th:only-of-type {\n",
              "        vertical-align: middle;\n",
              "    }\n",
              "\n",
              "    .dataframe tbody tr th {\n",
              "        vertical-align: top;\n",
              "    }\n",
              "\n",
              "    .dataframe thead th {\n",
              "        text-align: right;\n",
              "    }\n",
              "</style>\n",
              "<table border=\"1\" class=\"dataframe\">\n",
              "  <thead>\n",
              "    <tr style=\"text-align: right;\">\n",
              "      <th></th>\n",
              "      <th>age</th>\n",
              "      <th>sex</th>\n",
              "      <th>trtbps</th>\n",
              "      <th>chol</th>\n",
              "      <th>fbs</th>\n",
              "      <th>thalachh</th>\n",
              "      <th>exng</th>\n",
              "      <th>oldpeak</th>\n",
              "      <th>restecg__Normal</th>\n",
              "      <th>restecg__Possui_anormalidade</th>\n",
              "      <th>restecg__Provável_hipertrofia</th>\n",
              "      <th>cp__Angina_atipica</th>\n",
              "      <th>cp__Angina_tipica</th>\n",
              "      <th>cp__Assintomatico</th>\n",
              "      <th>cp__Não_Angina</th>\n",
              "      <th>slp__0</th>\n",
              "      <th>slp__1</th>\n",
              "      <th>slp__2</th>\n",
              "      <th>thall__0</th>\n",
              "      <th>thall__1</th>\n",
              "      <th>thall__2</th>\n",
              "      <th>thall__3</th>\n",
              "      <th>caa__0</th>\n",
              "      <th>caa__1</th>\n",
              "      <th>caa__2</th>\n",
              "      <th>caa__3</th>\n",
              "      <th>caa__4</th>\n",
              "      <th>restecg__Possui_anormalidades</th>\n",
              "      <th>output</th>\n",
              "    </tr>\n",
              "  </thead>\n",
              "  <tbody>\n",
              "    <tr>\n",
              "      <th>count</th>\n",
              "      <td>151.00</td>\n",
              "      <td>151.00</td>\n",
              "      <td>151.00</td>\n",
              "      <td>151.00</td>\n",
              "      <td>151.00</td>\n",
              "      <td>151.00</td>\n",
              "      <td>151.00</td>\n",
              "      <td>151.00</td>\n",
              "      <td>151.00</td>\n",
              "      <td>151.00</td>\n",
              "      <td>151.00</td>\n",
              "      <td>151.00</td>\n",
              "      <td>151.00</td>\n",
              "      <td>151.00</td>\n",
              "      <td>151.00</td>\n",
              "      <td>151.00</td>\n",
              "      <td>151.00</td>\n",
              "      <td>151.00</td>\n",
              "      <td>151.00</td>\n",
              "      <td>151.00</td>\n",
              "      <td>151.00</td>\n",
              "      <td>151.00</td>\n",
              "      <td>151.00</td>\n",
              "      <td>151.00</td>\n",
              "      <td>151.00</td>\n",
              "      <td>151.0</td>\n",
              "      <td>151.00</td>\n",
              "      <td>151.00</td>\n",
              "      <td>151.00</td>\n",
              "    </tr>\n",
              "    <tr>\n",
              "      <th>mean</th>\n",
              "      <td>-0.00</td>\n",
              "      <td>0.75</td>\n",
              "      <td>0.00</td>\n",
              "      <td>-0.00</td>\n",
              "      <td>0.17</td>\n",
              "      <td>-0.00</td>\n",
              "      <td>0.34</td>\n",
              "      <td>0.00</td>\n",
              "      <td>0.54</td>\n",
              "      <td>-0.00</td>\n",
              "      <td>0.01</td>\n",
              "      <td>0.28</td>\n",
              "      <td>0.13</td>\n",
              "      <td>0.52</td>\n",
              "      <td>0.06</td>\n",
              "      <td>0.07</td>\n",
              "      <td>0.51</td>\n",
              "      <td>0.42</td>\n",
              "      <td>0.01</td>\n",
              "      <td>0.08</td>\n",
              "      <td>0.49</td>\n",
              "      <td>0.42</td>\n",
              "      <td>0.57</td>\n",
              "      <td>0.19</td>\n",
              "      <td>0.13</td>\n",
              "      <td>0.1</td>\n",
              "      <td>0.01</td>\n",
              "      <td>0.45</td>\n",
              "      <td>0.54</td>\n",
              "    </tr>\n",
              "    <tr>\n",
              "      <th>std</th>\n",
              "      <td>1.00</td>\n",
              "      <td>0.43</td>\n",
              "      <td>1.00</td>\n",
              "      <td>1.00</td>\n",
              "      <td>0.37</td>\n",
              "      <td>1.00</td>\n",
              "      <td>0.48</td>\n",
              "      <td>1.00</td>\n",
              "      <td>0.50</td>\n",
              "      <td>1.00</td>\n",
              "      <td>0.11</td>\n",
              "      <td>0.45</td>\n",
              "      <td>0.34</td>\n",
              "      <td>0.50</td>\n",
              "      <td>0.24</td>\n",
              "      <td>0.26</td>\n",
              "      <td>0.50</td>\n",
              "      <td>0.49</td>\n",
              "      <td>0.08</td>\n",
              "      <td>0.27</td>\n",
              "      <td>0.50</td>\n",
              "      <td>0.50</td>\n",
              "      <td>0.50</td>\n",
              "      <td>0.39</td>\n",
              "      <td>0.34</td>\n",
              "      <td>0.3</td>\n",
              "      <td>0.11</td>\n",
              "      <td>0.50</td>\n",
              "      <td>0.50</td>\n",
              "    </tr>\n",
              "    <tr>\n",
              "      <th>min</th>\n",
              "      <td>-2.23</td>\n",
              "      <td>0.00</td>\n",
              "      <td>-2.22</td>\n",
              "      <td>-2.16</td>\n",
              "      <td>0.00</td>\n",
              "      <td>-2.51</td>\n",
              "      <td>0.00</td>\n",
              "      <td>-0.96</td>\n",
              "      <td>0.00</td>\n",
              "      <td>-0.91</td>\n",
              "      <td>0.00</td>\n",
              "      <td>0.00</td>\n",
              "      <td>0.00</td>\n",
              "      <td>0.00</td>\n",
              "      <td>0.00</td>\n",
              "      <td>0.00</td>\n",
              "      <td>0.00</td>\n",
              "      <td>0.00</td>\n",
              "      <td>0.00</td>\n",
              "      <td>0.00</td>\n",
              "      <td>0.00</td>\n",
              "      <td>0.00</td>\n",
              "      <td>0.00</td>\n",
              "      <td>0.00</td>\n",
              "      <td>0.00</td>\n",
              "      <td>0.0</td>\n",
              "      <td>0.00</td>\n",
              "      <td>0.00</td>\n",
              "      <td>0.00</td>\n",
              "    </tr>\n",
              "    <tr>\n",
              "      <th>25%</th>\n",
              "      <td>-0.83</td>\n",
              "      <td>1.00</td>\n",
              "      <td>-0.70</td>\n",
              "      <td>-0.63</td>\n",
              "      <td>0.00</td>\n",
              "      <td>-0.75</td>\n",
              "      <td>0.00</td>\n",
              "      <td>-0.96</td>\n",
              "      <td>0.00</td>\n",
              "      <td>-0.91</td>\n",
              "      <td>0.00</td>\n",
              "      <td>0.00</td>\n",
              "      <td>0.00</td>\n",
              "      <td>0.00</td>\n",
              "      <td>0.00</td>\n",
              "      <td>0.00</td>\n",
              "      <td>0.00</td>\n",
              "      <td>0.00</td>\n",
              "      <td>0.00</td>\n",
              "      <td>0.00</td>\n",
              "      <td>0.00</td>\n",
              "      <td>0.00</td>\n",
              "      <td>0.00</td>\n",
              "      <td>0.00</td>\n",
              "      <td>0.00</td>\n",
              "      <td>0.0</td>\n",
              "      <td>0.00</td>\n",
              "      <td>0.00</td>\n",
              "      <td>0.00</td>\n",
              "    </tr>\n",
              "    <tr>\n",
              "      <th>50%</th>\n",
              "      <td>0.14</td>\n",
              "      <td>1.00</td>\n",
              "      <td>-0.12</td>\n",
              "      <td>-0.07</td>\n",
              "      <td>0.00</td>\n",
              "      <td>0.18</td>\n",
              "      <td>0.00</td>\n",
              "      <td>-0.29</td>\n",
              "      <td>1.00</td>\n",
              "      <td>-0.91</td>\n",
              "      <td>0.00</td>\n",
              "      <td>0.00</td>\n",
              "      <td>0.00</td>\n",
              "      <td>1.00</td>\n",
              "      <td>0.00</td>\n",
              "      <td>0.00</td>\n",
              "      <td>1.00</td>\n",
              "      <td>0.00</td>\n",
              "      <td>0.00</td>\n",
              "      <td>0.00</td>\n",
              "      <td>0.00</td>\n",
              "      <td>0.00</td>\n",
              "      <td>1.00</td>\n",
              "      <td>0.00</td>\n",
              "      <td>0.00</td>\n",
              "      <td>0.0</td>\n",
              "      <td>0.00</td>\n",
              "      <td>0.00</td>\n",
              "      <td>1.00</td>\n",
              "    </tr>\n",
              "    <tr>\n",
              "      <th>75%</th>\n",
              "      <td>0.73</td>\n",
              "      <td>1.00</td>\n",
              "      <td>0.64</td>\n",
              "      <td>0.49</td>\n",
              "      <td>0.00</td>\n",
              "      <td>0.66</td>\n",
              "      <td>1.00</td>\n",
              "      <td>0.54</td>\n",
              "      <td>1.00</td>\n",
              "      <td>1.10</td>\n",
              "      <td>0.00</td>\n",
              "      <td>1.00</td>\n",
              "      <td>0.00</td>\n",
              "      <td>1.00</td>\n",
              "      <td>0.00</td>\n",
              "      <td>0.00</td>\n",
              "      <td>1.00</td>\n",
              "      <td>1.00</td>\n",
              "      <td>0.00</td>\n",
              "      <td>0.00</td>\n",
              "      <td>1.00</td>\n",
              "      <td>1.00</td>\n",
              "      <td>1.00</td>\n",
              "      <td>0.00</td>\n",
              "      <td>0.00</td>\n",
              "      <td>0.0</td>\n",
              "      <td>0.00</td>\n",
              "      <td>1.00</td>\n",
              "      <td>1.00</td>\n",
              "    </tr>\n",
              "    <tr>\n",
              "      <th>max</th>\n",
              "      <td>2.40</td>\n",
              "      <td>1.00</td>\n",
              "      <td>2.79</td>\n",
              "      <td>5.92</td>\n",
              "      <td>1.00</td>\n",
              "      <td>2.00</td>\n",
              "      <td>1.00</td>\n",
              "      <td>3.71</td>\n",
              "      <td>1.00</td>\n",
              "      <td>1.10</td>\n",
              "      <td>1.00</td>\n",
              "      <td>1.00</td>\n",
              "      <td>1.00</td>\n",
              "      <td>1.00</td>\n",
              "      <td>1.00</td>\n",
              "      <td>1.00</td>\n",
              "      <td>1.00</td>\n",
              "      <td>1.00</td>\n",
              "      <td>1.00</td>\n",
              "      <td>1.00</td>\n",
              "      <td>1.00</td>\n",
              "      <td>1.00</td>\n",
              "      <td>1.00</td>\n",
              "      <td>1.00</td>\n",
              "      <td>1.00</td>\n",
              "      <td>1.0</td>\n",
              "      <td>1.00</td>\n",
              "      <td>1.00</td>\n",
              "      <td>1.00</td>\n",
              "    </tr>\n",
              "  </tbody>\n",
              "</table>\n",
              "</div>"
            ],
            "text/plain": [
              "          age     sex  trtbps  ...  caa__4  restecg__Possui_anormalidades  output\n",
              "count  151.00  151.00  151.00  ...  151.00                         151.00  151.00\n",
              "mean    -0.00    0.75    0.00  ...    0.01                           0.45    0.54\n",
              "std      1.00    0.43    1.00  ...    0.11                           0.50    0.50\n",
              "min     -2.23    0.00   -2.22  ...    0.00                           0.00    0.00\n",
              "25%     -0.83    1.00   -0.70  ...    0.00                           0.00    0.00\n",
              "50%      0.14    1.00   -0.12  ...    0.00                           0.00    1.00\n",
              "75%      0.73    1.00    0.64  ...    0.00                           1.00    1.00\n",
              "max      2.40    1.00    2.79  ...    1.00                           1.00    1.00\n",
              "\n",
              "[8 rows x 29 columns]"
            ]
          },
          "metadata": {},
          "execution_count": 46
        }
      ]
    },
    {
      "cell_type": "code",
      "metadata": {
        "id": "1GoQyDRV8Yr6",
        "colab": {
          "base_uri": "https://localhost:8080/",
          "height": 320
        },
        "outputId": "37b721d0-52ec-4705-9263-8f7bf64ce264"
      },
      "source": [
        "columns = ['age','trtbps','chol','thalachh','oldpeak']\n",
        "dados_amostra70_normalizado = dados_amostra70.loc[:,columns]\n",
        "dados_amostra70_normalizado = dados_amostra70.drop(columns=['output'])\n",
        "mapper = DataFrameMapper([(dados_amostra70_normalizado.columns, StandardScaler())])\n",
        "scaled_features = mapper.fit_transform(dados_amostra70_normalizado.copy())\n",
        "scaled_features_df = pd.DataFrame(scaled_features, index=dados_amostra70_normalizado.index, columns=dados_amostra70_normalizado.columns)\n",
        "dados_amostra70_normalizado = scaled_features_df.copy()\n",
        "dados_amostra70_normalizado['sex'] = dados_amostra70['sex']\n",
        "dados_amostra70_normalizado['fbs'] = dados_amostra70['fbs']\n",
        "dados_amostra70_normalizado['exng'] = dados_amostra70['exng']\n",
        "dados_amostra70_normalizado['restecg__Normal'] = dados_amostra70['restecg__Normal']\n",
        "dados_amostra70_normalizado['restecg__Possui_anormalidades'] = dados_amostra70['restecg__Possui_anormalidade']\n",
        "dados_amostra70_normalizado['restecg__Provável_hipertrofia'] = dados_amostra70['restecg__Provável_hipertrofia']\n",
        "dados_amostra70_normalizado['cp__Angina_atipica'] = dados_amostra70['cp__Angina_atipica']\n",
        "dados_amostra70_normalizado['cp__Angina_tipica'] = dados_amostra70['cp__Angina_tipica']\n",
        "dados_amostra70_normalizado['cp__Assintomatico'] = dados_amostra70['cp__Assintomatico']\n",
        "dados_amostra70_normalizado['cp__Não_Angina'] = dados_amostra70['cp__Não_Angina']\n",
        "dados_amostra70_normalizado['slp__0'] = dados_amostra70['slp__0']\n",
        "dados_amostra70_normalizado['slp__1'] = dados_amostra70['slp__1']\n",
        "dados_amostra70_normalizado['slp__2'] = dados_amostra70['slp__2']\n",
        "dados_amostra70_normalizado['thall__0'] = dados_amostra70['thall__0']\n",
        "dados_amostra70_normalizado['thall__1'] = dados_amostra70['thall__1']\n",
        "dados_amostra70_normalizado['thall__2'] = dados_amostra70['thall__2']\n",
        "dados_amostra70_normalizado['thall__3'] = dados_amostra70['thall__3']\n",
        "dados_amostra70_normalizado['caa__0'] = dados_amostra70['caa__0']\n",
        "dados_amostra70_normalizado['caa__1'] = dados_amostra70['caa__1']\n",
        "dados_amostra70_normalizado['caa__2'] = dados_amostra70['caa__2']\n",
        "dados_amostra70_normalizado['caa__3'] = dados_amostra70['caa__3']\n",
        "dados_amostra70_normalizado['caa__4'] = dados_amostra70['caa__4']\n",
        "dados_amostra70_normalizado['output'] = dados_amostra70['output']\n",
        "dados_amostra70_normalizado.describe().round(2)"
      ],
      "execution_count": 47,
      "outputs": [
        {
          "output_type": "execute_result",
          "data": {
            "text/html": [
              "<div>\n",
              "<style scoped>\n",
              "    .dataframe tbody tr th:only-of-type {\n",
              "        vertical-align: middle;\n",
              "    }\n",
              "\n",
              "    .dataframe tbody tr th {\n",
              "        vertical-align: top;\n",
              "    }\n",
              "\n",
              "    .dataframe thead th {\n",
              "        text-align: right;\n",
              "    }\n",
              "</style>\n",
              "<table border=\"1\" class=\"dataframe\">\n",
              "  <thead>\n",
              "    <tr style=\"text-align: right;\">\n",
              "      <th></th>\n",
              "      <th>age</th>\n",
              "      <th>sex</th>\n",
              "      <th>trtbps</th>\n",
              "      <th>chol</th>\n",
              "      <th>fbs</th>\n",
              "      <th>thalachh</th>\n",
              "      <th>exng</th>\n",
              "      <th>oldpeak</th>\n",
              "      <th>restecg__Normal</th>\n",
              "      <th>restecg__Possui_anormalidade</th>\n",
              "      <th>restecg__Provável_hipertrofia</th>\n",
              "      <th>cp__Angina_atipica</th>\n",
              "      <th>cp__Angina_tipica</th>\n",
              "      <th>cp__Assintomatico</th>\n",
              "      <th>cp__Não_Angina</th>\n",
              "      <th>slp__0</th>\n",
              "      <th>slp__1</th>\n",
              "      <th>slp__2</th>\n",
              "      <th>thall__0</th>\n",
              "      <th>thall__1</th>\n",
              "      <th>thall__2</th>\n",
              "      <th>thall__3</th>\n",
              "      <th>caa__0</th>\n",
              "      <th>caa__1</th>\n",
              "      <th>caa__2</th>\n",
              "      <th>caa__3</th>\n",
              "      <th>caa__4</th>\n",
              "      <th>restecg__Possui_anormalidades</th>\n",
              "      <th>output</th>\n",
              "    </tr>\n",
              "  </thead>\n",
              "  <tbody>\n",
              "    <tr>\n",
              "      <th>count</th>\n",
              "      <td>212.00</td>\n",
              "      <td>212.00</td>\n",
              "      <td>212.00</td>\n",
              "      <td>212.00</td>\n",
              "      <td>212.00</td>\n",
              "      <td>212.00</td>\n",
              "      <td>212.00</td>\n",
              "      <td>212.00</td>\n",
              "      <td>212.00</td>\n",
              "      <td>212.00</td>\n",
              "      <td>212.00</td>\n",
              "      <td>212.00</td>\n",
              "      <td>212.00</td>\n",
              "      <td>212.00</td>\n",
              "      <td>212.00</td>\n",
              "      <td>212.00</td>\n",
              "      <td>212.00</td>\n",
              "      <td>212.00</td>\n",
              "      <td>212.00</td>\n",
              "      <td>212.00</td>\n",
              "      <td>212.00</td>\n",
              "      <td>212.00</td>\n",
              "      <td>212.00</td>\n",
              "      <td>212.00</td>\n",
              "      <td>212.00</td>\n",
              "      <td>212.00</td>\n",
              "      <td>212.00</td>\n",
              "      <td>212.00</td>\n",
              "      <td>212.00</td>\n",
              "    </tr>\n",
              "    <tr>\n",
              "      <th>mean</th>\n",
              "      <td>0.00</td>\n",
              "      <td>0.67</td>\n",
              "      <td>0.00</td>\n",
              "      <td>-0.00</td>\n",
              "      <td>0.16</td>\n",
              "      <td>-0.00</td>\n",
              "      <td>0.35</td>\n",
              "      <td>-0.00</td>\n",
              "      <td>0.48</td>\n",
              "      <td>-0.00</td>\n",
              "      <td>0.01</td>\n",
              "      <td>0.26</td>\n",
              "      <td>0.17</td>\n",
              "      <td>0.48</td>\n",
              "      <td>0.09</td>\n",
              "      <td>0.07</td>\n",
              "      <td>0.42</td>\n",
              "      <td>0.51</td>\n",
              "      <td>0.01</td>\n",
              "      <td>0.06</td>\n",
              "      <td>0.55</td>\n",
              "      <td>0.38</td>\n",
              "      <td>0.55</td>\n",
              "      <td>0.22</td>\n",
              "      <td>0.13</td>\n",
              "      <td>0.08</td>\n",
              "      <td>0.02</td>\n",
              "      <td>0.51</td>\n",
              "      <td>0.54</td>\n",
              "    </tr>\n",
              "    <tr>\n",
              "      <th>std</th>\n",
              "      <td>1.00</td>\n",
              "      <td>0.47</td>\n",
              "      <td>1.00</td>\n",
              "      <td>1.00</td>\n",
              "      <td>0.37</td>\n",
              "      <td>1.00</td>\n",
              "      <td>0.48</td>\n",
              "      <td>1.00</td>\n",
              "      <td>0.50</td>\n",
              "      <td>1.00</td>\n",
              "      <td>0.10</td>\n",
              "      <td>0.44</td>\n",
              "      <td>0.38</td>\n",
              "      <td>0.50</td>\n",
              "      <td>0.29</td>\n",
              "      <td>0.25</td>\n",
              "      <td>0.50</td>\n",
              "      <td>0.50</td>\n",
              "      <td>0.10</td>\n",
              "      <td>0.23</td>\n",
              "      <td>0.50</td>\n",
              "      <td>0.49</td>\n",
              "      <td>0.50</td>\n",
              "      <td>0.42</td>\n",
              "      <td>0.33</td>\n",
              "      <td>0.27</td>\n",
              "      <td>0.15</td>\n",
              "      <td>0.50</td>\n",
              "      <td>0.50</td>\n",
              "    </tr>\n",
              "    <tr>\n",
              "      <th>min</th>\n",
              "      <td>-2.30</td>\n",
              "      <td>0.00</td>\n",
              "      <td>-2.21</td>\n",
              "      <td>-2.17</td>\n",
              "      <td>0.00</td>\n",
              "      <td>-2.68</td>\n",
              "      <td>0.00</td>\n",
              "      <td>-0.84</td>\n",
              "      <td>0.00</td>\n",
              "      <td>-1.03</td>\n",
              "      <td>0.00</td>\n",
              "      <td>0.00</td>\n",
              "      <td>0.00</td>\n",
              "      <td>0.00</td>\n",
              "      <td>0.00</td>\n",
              "      <td>0.00</td>\n",
              "      <td>0.00</td>\n",
              "      <td>0.00</td>\n",
              "      <td>0.00</td>\n",
              "      <td>0.00</td>\n",
              "      <td>0.00</td>\n",
              "      <td>0.00</td>\n",
              "      <td>0.00</td>\n",
              "      <td>0.00</td>\n",
              "      <td>0.00</td>\n",
              "      <td>0.00</td>\n",
              "      <td>0.00</td>\n",
              "      <td>0.00</td>\n",
              "      <td>0.00</td>\n",
              "    </tr>\n",
              "    <tr>\n",
              "      <th>25%</th>\n",
              "      <td>-0.74</td>\n",
              "      <td>0.00</td>\n",
              "      <td>-0.71</td>\n",
              "      <td>-0.68</td>\n",
              "      <td>0.00</td>\n",
              "      <td>-0.65</td>\n",
              "      <td>0.00</td>\n",
              "      <td>-0.84</td>\n",
              "      <td>0.00</td>\n",
              "      <td>-1.03</td>\n",
              "      <td>0.00</td>\n",
              "      <td>0.00</td>\n",
              "      <td>0.00</td>\n",
              "      <td>0.00</td>\n",
              "      <td>0.00</td>\n",
              "      <td>0.00</td>\n",
              "      <td>0.00</td>\n",
              "      <td>0.00</td>\n",
              "      <td>0.00</td>\n",
              "      <td>0.00</td>\n",
              "      <td>0.00</td>\n",
              "      <td>0.00</td>\n",
              "      <td>0.00</td>\n",
              "      <td>0.00</td>\n",
              "      <td>0.00</td>\n",
              "      <td>0.00</td>\n",
              "      <td>0.00</td>\n",
              "      <td>0.00</td>\n",
              "      <td>0.00</td>\n",
              "    </tr>\n",
              "    <tr>\n",
              "      <th>50%</th>\n",
              "      <td>0.15</td>\n",
              "      <td>1.00</td>\n",
              "      <td>-0.13</td>\n",
              "      <td>-0.11</td>\n",
              "      <td>0.00</td>\n",
              "      <td>0.13</td>\n",
              "      <td>0.00</td>\n",
              "      <td>-0.32</td>\n",
              "      <td>0.00</td>\n",
              "      <td>0.97</td>\n",
              "      <td>0.00</td>\n",
              "      <td>0.00</td>\n",
              "      <td>0.00</td>\n",
              "      <td>0.00</td>\n",
              "      <td>0.00</td>\n",
              "      <td>0.00</td>\n",
              "      <td>0.00</td>\n",
              "      <td>1.00</td>\n",
              "      <td>0.00</td>\n",
              "      <td>0.00</td>\n",
              "      <td>1.00</td>\n",
              "      <td>0.00</td>\n",
              "      <td>1.00</td>\n",
              "      <td>0.00</td>\n",
              "      <td>0.00</td>\n",
              "      <td>0.00</td>\n",
              "      <td>0.00</td>\n",
              "      <td>1.00</td>\n",
              "      <td>1.00</td>\n",
              "    </tr>\n",
              "    <tr>\n",
              "      <th>75%</th>\n",
              "      <td>0.74</td>\n",
              "      <td>1.00</td>\n",
              "      <td>0.44</td>\n",
              "      <td>0.46</td>\n",
              "      <td>0.00</td>\n",
              "      <td>0.69</td>\n",
              "      <td>1.00</td>\n",
              "      <td>0.55</td>\n",
              "      <td>1.00</td>\n",
              "      <td>0.97</td>\n",
              "      <td>0.00</td>\n",
              "      <td>1.00</td>\n",
              "      <td>0.00</td>\n",
              "      <td>1.00</td>\n",
              "      <td>0.00</td>\n",
              "      <td>0.00</td>\n",
              "      <td>1.00</td>\n",
              "      <td>1.00</td>\n",
              "      <td>0.00</td>\n",
              "      <td>0.00</td>\n",
              "      <td>1.00</td>\n",
              "      <td>1.00</td>\n",
              "      <td>1.00</td>\n",
              "      <td>0.00</td>\n",
              "      <td>0.00</td>\n",
              "      <td>0.00</td>\n",
              "      <td>0.00</td>\n",
              "      <td>1.00</td>\n",
              "      <td>1.00</td>\n",
              "    </tr>\n",
              "    <tr>\n",
              "      <th>max</th>\n",
              "      <td>2.49</td>\n",
              "      <td>1.00</td>\n",
              "      <td>2.75</td>\n",
              "      <td>5.81</td>\n",
              "      <td>1.00</td>\n",
              "      <td>1.90</td>\n",
              "      <td>1.00</td>\n",
              "      <td>4.53</td>\n",
              "      <td>1.00</td>\n",
              "      <td>0.97</td>\n",
              "      <td>1.00</td>\n",
              "      <td>1.00</td>\n",
              "      <td>1.00</td>\n",
              "      <td>1.00</td>\n",
              "      <td>1.00</td>\n",
              "      <td>1.00</td>\n",
              "      <td>1.00</td>\n",
              "      <td>1.00</td>\n",
              "      <td>1.00</td>\n",
              "      <td>1.00</td>\n",
              "      <td>1.00</td>\n",
              "      <td>1.00</td>\n",
              "      <td>1.00</td>\n",
              "      <td>1.00</td>\n",
              "      <td>1.00</td>\n",
              "      <td>1.00</td>\n",
              "      <td>1.00</td>\n",
              "      <td>1.00</td>\n",
              "      <td>1.00</td>\n",
              "    </tr>\n",
              "  </tbody>\n",
              "</table>\n",
              "</div>"
            ],
            "text/plain": [
              "          age     sex  trtbps  ...  caa__4  restecg__Possui_anormalidades  output\n",
              "count  212.00  212.00  212.00  ...  212.00                         212.00  212.00\n",
              "mean     0.00    0.67    0.00  ...    0.02                           0.51    0.54\n",
              "std      1.00    0.47    1.00  ...    0.15                           0.50    0.50\n",
              "min     -2.30    0.00   -2.21  ...    0.00                           0.00    0.00\n",
              "25%     -0.74    0.00   -0.71  ...    0.00                           0.00    0.00\n",
              "50%      0.15    1.00   -0.13  ...    0.00                           1.00    1.00\n",
              "75%      0.74    1.00    0.44  ...    0.00                           1.00    1.00\n",
              "max      2.49    1.00    2.75  ...    1.00                           1.00    1.00\n",
              "\n",
              "[8 rows x 29 columns]"
            ]
          },
          "metadata": {},
          "execution_count": 47
        }
      ]
    },
    {
      "cell_type": "code",
      "metadata": {
        "colab": {
          "base_uri": "https://localhost:8080/"
        },
        "id": "BO5aYaFr9SXM",
        "outputId": "ae6a5eeb-1ff6-4748-8304-43ceb511a1ae"
      },
      "source": [
        "mlp1 = MLPClassifier(alpha=0.0001,learning_rate='constant',activation='identity', hidden_layer_sizes=(20,), solver='sgd')\n",
        "X = dados_originais_normalizados.drop(columns=['output'])\n",
        "X_train,X_test,Y_train,Y_test = train_test_split(X,dados_originais_normalizados.output,test_size=0.3,stratify=dados_originais_normalizados.output)\n",
        "mlp1.fit(X_train,Y_train)\n",
        "y_pred = mlp1.predict(X_test)\n",
        "acuracia1 = accuracy_score(Y_test,y_pred)\n",
        "print(\"Acuracia para n=1,70/30 :\",acuracia1)\n",
        "mlp2 = MLPClassifier(alpha=0.0001,learning_rate='constant',activation='identity', hidden_layer_sizes=(20,), solver='sgd')\n",
        "X_train,X_test,Y_train,Y_test = train_test_split(X,dados_originais_normalizados.output,test_size=0.2,stratify=dados_originais_normalizados.output)\n",
        "mlp2.fit(X_train,Y_train)\n",
        "y_pred = mlp2.predict(X_test)\n",
        "acuracia2 = accuracy_score(Y_test,y_pred)\n",
        "print(\"Acuracia para n=1,80/20 :\",acuracia2)\n",
        "mlp3 = MLPClassifier(alpha=0.0001,learning_rate='constant',activation='identity', hidden_layer_sizes=(20,), solver='sgd')\n",
        "X_train,X_test,Y_train,Y_test = train_test_split(X,dados_originais_normalizados.output,test_size=0.2,stratify=dados_originais_normalizados.output)\n",
        "mlp3.fit(X_train,Y_train)\n",
        "y_pred = mlp3.predict(X_test)\n",
        "acuracia3 = accuracy_score(Y_test,y_pred)\n",
        "print(\"Acuracia para n=1,90/10 :\",acuracia3)\n",
        "y = dados_originais_normalizados['output']\n",
        "mlp4 = MLPClassifier(alpha=0.0001,learning_rate='constant',activation='identity', hidden_layer_sizes=(20,), solver='sgd')\n",
        "scores = cross_val_score(mlp4, X, y, cv=10)\n",
        "print(\"acurácia %0.2f para kfold, 10 folds\",scores.mean()) \n"
      ],
      "execution_count": 48,
      "outputs": [
        {
          "output_type": "stream",
          "text": [
            "/usr/local/lib/python3.7/dist-packages/sklearn/neural_network/_multilayer_perceptron.py:571: ConvergenceWarning: Stochastic Optimizer: Maximum iterations (200) reached and the optimization hasn't converged yet.\n",
            "  % self.max_iter, ConvergenceWarning)\n",
            "/usr/local/lib/python3.7/dist-packages/sklearn/neural_network/_multilayer_perceptron.py:571: ConvergenceWarning: Stochastic Optimizer: Maximum iterations (200) reached and the optimization hasn't converged yet.\n",
            "  % self.max_iter, ConvergenceWarning)\n"
          ],
          "name": "stderr"
        },
        {
          "output_type": "stream",
          "text": [
            "Acuracia para n=1,70/30 : 0.8021978021978022\n",
            "Acuracia para n=1,80/20 : 0.8524590163934426\n"
          ],
          "name": "stdout"
        },
        {
          "output_type": "stream",
          "text": [
            "/usr/local/lib/python3.7/dist-packages/sklearn/neural_network/_multilayer_perceptron.py:571: ConvergenceWarning: Stochastic Optimizer: Maximum iterations (200) reached and the optimization hasn't converged yet.\n",
            "  % self.max_iter, ConvergenceWarning)\n",
            "/usr/local/lib/python3.7/dist-packages/sklearn/neural_network/_multilayer_perceptron.py:571: ConvergenceWarning: Stochastic Optimizer: Maximum iterations (200) reached and the optimization hasn't converged yet.\n",
            "  % self.max_iter, ConvergenceWarning)\n"
          ],
          "name": "stderr"
        },
        {
          "output_type": "stream",
          "text": [
            "Acuracia para n=1,90/10 : 0.8032786885245902\n"
          ],
          "name": "stdout"
        },
        {
          "output_type": "stream",
          "text": [
            "/usr/local/lib/python3.7/dist-packages/sklearn/neural_network/_multilayer_perceptron.py:571: ConvergenceWarning: Stochastic Optimizer: Maximum iterations (200) reached and the optimization hasn't converged yet.\n",
            "  % self.max_iter, ConvergenceWarning)\n",
            "/usr/local/lib/python3.7/dist-packages/sklearn/neural_network/_multilayer_perceptron.py:571: ConvergenceWarning: Stochastic Optimizer: Maximum iterations (200) reached and the optimization hasn't converged yet.\n",
            "  % self.max_iter, ConvergenceWarning)\n",
            "/usr/local/lib/python3.7/dist-packages/sklearn/neural_network/_multilayer_perceptron.py:571: ConvergenceWarning: Stochastic Optimizer: Maximum iterations (200) reached and the optimization hasn't converged yet.\n",
            "  % self.max_iter, ConvergenceWarning)\n",
            "/usr/local/lib/python3.7/dist-packages/sklearn/neural_network/_multilayer_perceptron.py:571: ConvergenceWarning: Stochastic Optimizer: Maximum iterations (200) reached and the optimization hasn't converged yet.\n",
            "  % self.max_iter, ConvergenceWarning)\n",
            "/usr/local/lib/python3.7/dist-packages/sklearn/neural_network/_multilayer_perceptron.py:571: ConvergenceWarning: Stochastic Optimizer: Maximum iterations (200) reached and the optimization hasn't converged yet.\n",
            "  % self.max_iter, ConvergenceWarning)\n",
            "/usr/local/lib/python3.7/dist-packages/sklearn/neural_network/_multilayer_perceptron.py:571: ConvergenceWarning: Stochastic Optimizer: Maximum iterations (200) reached and the optimization hasn't converged yet.\n",
            "  % self.max_iter, ConvergenceWarning)\n",
            "/usr/local/lib/python3.7/dist-packages/sklearn/neural_network/_multilayer_perceptron.py:571: ConvergenceWarning: Stochastic Optimizer: Maximum iterations (200) reached and the optimization hasn't converged yet.\n",
            "  % self.max_iter, ConvergenceWarning)\n",
            "/usr/local/lib/python3.7/dist-packages/sklearn/neural_network/_multilayer_perceptron.py:571: ConvergenceWarning: Stochastic Optimizer: Maximum iterations (200) reached and the optimization hasn't converged yet.\n",
            "  % self.max_iter, ConvergenceWarning)\n"
          ],
          "name": "stderr"
        },
        {
          "output_type": "stream",
          "text": [
            "acurácia %0.2f para kfold, 10 folds 0.8282795698924732\n"
          ],
          "name": "stdout"
        },
        {
          "output_type": "stream",
          "text": [
            "/usr/local/lib/python3.7/dist-packages/sklearn/neural_network/_multilayer_perceptron.py:571: ConvergenceWarning: Stochastic Optimizer: Maximum iterations (200) reached and the optimization hasn't converged yet.\n",
            "  % self.max_iter, ConvergenceWarning)\n"
          ],
          "name": "stderr"
        }
      ]
    },
    {
      "cell_type": "code",
      "metadata": {
        "colab": {
          "base_uri": "https://localhost:8080/"
        },
        "id": "Wo_K-VDG8oJZ",
        "outputId": "c8b52a69-0b21-4ab4-9f84-91a31946ef84"
      },
      "source": [
        "mlp1 = MLPClassifier(alpha=0.0001,learning_rate='constant',activation='identity', hidden_layer_sizes=(21,), solver='sgd')\n",
        "X = dados_originais_normalizados.drop(columns=['output'])\n",
        "X_train,X_test,Y_train,Y_test = train_test_split(X,dados_originais_normalizados.output,test_size=0.3,stratify=dados_originais_normalizados.output)\n",
        "mlp1.fit(X_train,Y_train)\n",
        "y_pred = mlp1.predict(X_test)\n",
        "acuracia1 = accuracy_score(Y_test,y_pred)\n",
        "print(\"Acuracia para n=1,70/30 :\",acuracia1)\n",
        "mlp2 = MLPClassifier(alpha=0.0001,learning_rate='constant',activation='identity', hidden_layer_sizes=(21,), solver='sgd')\n",
        "X_train,X_test,Y_train,Y_test = train_test_split(X,dados_originais_normalizados.output,test_size=0.2,stratify=dados_originais_normalizados.output)\n",
        "mlp2.fit(X_train,Y_train)\n",
        "y_pred = mlp2.predict(X_test)\n",
        "acuracia2 = accuracy_score(Y_test,y_pred)\n",
        "print(\"Acuracia para n=1,80/20 :\",acuracia2)\n",
        "mlp3 = MLPClassifier(alpha=0.0001,learning_rate='constant',activation='identity', hidden_layer_sizes=(21,), solver='sgd')\n",
        "X_train,X_test,Y_train,Y_test = train_test_split(X,dados_originais_normalizados.output,test_size=0.2,stratify=dados_originais_normalizados.output)\n",
        "mlp3.fit(X_train,Y_train)\n",
        "y_pred = mlp3.predict(X_test)\n",
        "acuracia3 = accuracy_score(Y_test,y_pred)\n",
        "print(\"Acuracia para n=1,90/10 :\",acuracia3)\n",
        "y = dados_originais_normalizados['output']\n",
        "mlp4 = MLPClassifier(alpha=0.0001,learning_rate='constant',activation='identity', hidden_layer_sizes=(21,), solver='sgd')\n",
        "scores = cross_val_score(mlp4, X, y, cv=10)\n",
        "print(\"acurácia %0.2f para kfold, 10 folds\",scores.mean()) "
      ],
      "execution_count": 50,
      "outputs": [
        {
          "output_type": "stream",
          "text": [
            "/usr/local/lib/python3.7/dist-packages/sklearn/neural_network/_multilayer_perceptron.py:571: ConvergenceWarning: Stochastic Optimizer: Maximum iterations (200) reached and the optimization hasn't converged yet.\n",
            "  % self.max_iter, ConvergenceWarning)\n",
            "/usr/local/lib/python3.7/dist-packages/sklearn/neural_network/_multilayer_perceptron.py:571: ConvergenceWarning: Stochastic Optimizer: Maximum iterations (200) reached and the optimization hasn't converged yet.\n",
            "  % self.max_iter, ConvergenceWarning)\n"
          ],
          "name": "stderr"
        },
        {
          "output_type": "stream",
          "text": [
            "Acuracia para n=1,70/30 : 0.8461538461538461\n",
            "Acuracia para n=1,80/20 : 0.8032786885245902\n"
          ],
          "name": "stdout"
        },
        {
          "output_type": "stream",
          "text": [
            "/usr/local/lib/python3.7/dist-packages/sklearn/neural_network/_multilayer_perceptron.py:571: ConvergenceWarning: Stochastic Optimizer: Maximum iterations (200) reached and the optimization hasn't converged yet.\n",
            "  % self.max_iter, ConvergenceWarning)\n",
            "/usr/local/lib/python3.7/dist-packages/sklearn/neural_network/_multilayer_perceptron.py:571: ConvergenceWarning: Stochastic Optimizer: Maximum iterations (200) reached and the optimization hasn't converged yet.\n",
            "  % self.max_iter, ConvergenceWarning)\n"
          ],
          "name": "stderr"
        },
        {
          "output_type": "stream",
          "text": [
            "Acuracia para n=1,90/10 : 0.8032786885245902\n"
          ],
          "name": "stdout"
        },
        {
          "output_type": "stream",
          "text": [
            "/usr/local/lib/python3.7/dist-packages/sklearn/neural_network/_multilayer_perceptron.py:571: ConvergenceWarning: Stochastic Optimizer: Maximum iterations (200) reached and the optimization hasn't converged yet.\n",
            "  % self.max_iter, ConvergenceWarning)\n",
            "/usr/local/lib/python3.7/dist-packages/sklearn/neural_network/_multilayer_perceptron.py:571: ConvergenceWarning: Stochastic Optimizer: Maximum iterations (200) reached and the optimization hasn't converged yet.\n",
            "  % self.max_iter, ConvergenceWarning)\n",
            "/usr/local/lib/python3.7/dist-packages/sklearn/neural_network/_multilayer_perceptron.py:571: ConvergenceWarning: Stochastic Optimizer: Maximum iterations (200) reached and the optimization hasn't converged yet.\n",
            "  % self.max_iter, ConvergenceWarning)\n",
            "/usr/local/lib/python3.7/dist-packages/sklearn/neural_network/_multilayer_perceptron.py:571: ConvergenceWarning: Stochastic Optimizer: Maximum iterations (200) reached and the optimization hasn't converged yet.\n",
            "  % self.max_iter, ConvergenceWarning)\n",
            "/usr/local/lib/python3.7/dist-packages/sklearn/neural_network/_multilayer_perceptron.py:571: ConvergenceWarning: Stochastic Optimizer: Maximum iterations (200) reached and the optimization hasn't converged yet.\n",
            "  % self.max_iter, ConvergenceWarning)\n",
            "/usr/local/lib/python3.7/dist-packages/sklearn/neural_network/_multilayer_perceptron.py:571: ConvergenceWarning: Stochastic Optimizer: Maximum iterations (200) reached and the optimization hasn't converged yet.\n",
            "  % self.max_iter, ConvergenceWarning)\n",
            "/usr/local/lib/python3.7/dist-packages/sklearn/neural_network/_multilayer_perceptron.py:571: ConvergenceWarning: Stochastic Optimizer: Maximum iterations (200) reached and the optimization hasn't converged yet.\n",
            "  % self.max_iter, ConvergenceWarning)\n",
            "/usr/local/lib/python3.7/dist-packages/sklearn/neural_network/_multilayer_perceptron.py:571: ConvergenceWarning: Stochastic Optimizer: Maximum iterations (200) reached and the optimization hasn't converged yet.\n",
            "  % self.max_iter, ConvergenceWarning)\n"
          ],
          "name": "stderr"
        },
        {
          "output_type": "stream",
          "text": [
            "acurácia %0.2f para kfold, 10 folds 0.8217204301075268\n"
          ],
          "name": "stdout"
        },
        {
          "output_type": "stream",
          "text": [
            "/usr/local/lib/python3.7/dist-packages/sklearn/neural_network/_multilayer_perceptron.py:571: ConvergenceWarning: Stochastic Optimizer: Maximum iterations (200) reached and the optimization hasn't converged yet.\n",
            "  % self.max_iter, ConvergenceWarning)\n"
          ],
          "name": "stderr"
        }
      ]
    },
    {
      "cell_type": "code",
      "metadata": {
        "colab": {
          "base_uri": "https://localhost:8080/"
        },
        "id": "2YoLgJar-yx7",
        "outputId": "f5a6516c-70eb-4796-9931-8ca8cc451b4c"
      },
      "source": [
        "mlp1 = MLPClassifier(alpha=0.0001,learning_rate='constant',activation='identity', hidden_layer_sizes=(22,), solver='sgd')\n",
        "X = dados_originais_normalizados.drop(columns=['output'])\n",
        "X_train,X_test,Y_train,Y_test = train_test_split(X,dados_originais_normalizados.output,test_size=0.3,stratify=dados_originais_normalizados.output)\n",
        "mlp1.fit(X_train,Y_train)\n",
        "y_pred = mlp1.predict(X_test)\n",
        "acuracia1 = accuracy_score(Y_test,y_pred)\n",
        "print(\"Acuracia para n=1,70/30 :\",acuracia1)\n",
        "mlp2 = MLPClassifier(alpha=0.0001,learning_rate='constant',activation='identity', hidden_layer_sizes=(22,), solver='sgd')\n",
        "X_train,X_test,Y_train,Y_test = train_test_split(X,dados_originais_normalizados.output,test_size=0.2,stratify=dados_originais_normalizados.output)\n",
        "mlp2.fit(X_train,Y_train)\n",
        "y_pred = mlp2.predict(X_test)\n",
        "acuracia2 = accuracy_score(Y_test,y_pred)\n",
        "print(\"Acuracia para n=1,80/20 :\",acuracia2)\n",
        "mlp3 = MLPClassifier(alpha=0.0001,learning_rate='constant',activation='identity', hidden_layer_sizes=(22,), solver='sgd')\n",
        "X_train,X_test,Y_train,Y_test = train_test_split(X,dados_originais_normalizados.output,test_size=0.2,stratify=dados_originais_normalizados.output)\n",
        "mlp3.fit(X_train,Y_train)\n",
        "y_pred = mlp3.predict(X_test)\n",
        "acuracia3 = accuracy_score(Y_test,y_pred)\n",
        "print(\"Acuracia para n=1,90/10 :\",acuracia3)\n",
        "y = dados_originais_normalizados['output']\n",
        "mlp4 = MLPClassifier(alpha=0.0001,learning_rate='constant',activation='identity', hidden_layer_sizes=(22,), solver='sgd')\n",
        "scores = cross_val_score(mlp4, X, y, cv=10)\n",
        "print(\"acurácia %0.2f para kfold, 10 folds\",scores.mean()) "
      ],
      "execution_count": 51,
      "outputs": [
        {
          "output_type": "stream",
          "text": [
            "/usr/local/lib/python3.7/dist-packages/sklearn/neural_network/_multilayer_perceptron.py:571: ConvergenceWarning: Stochastic Optimizer: Maximum iterations (200) reached and the optimization hasn't converged yet.\n",
            "  % self.max_iter, ConvergenceWarning)\n"
          ],
          "name": "stderr"
        },
        {
          "output_type": "stream",
          "text": [
            "Acuracia para n=1,70/30 : 0.8131868131868132\n"
          ],
          "name": "stdout"
        },
        {
          "output_type": "stream",
          "text": [
            "/usr/local/lib/python3.7/dist-packages/sklearn/neural_network/_multilayer_perceptron.py:571: ConvergenceWarning: Stochastic Optimizer: Maximum iterations (200) reached and the optimization hasn't converged yet.\n",
            "  % self.max_iter, ConvergenceWarning)\n"
          ],
          "name": "stderr"
        },
        {
          "output_type": "stream",
          "text": [
            "Acuracia para n=1,80/20 : 0.819672131147541\n"
          ],
          "name": "stdout"
        },
        {
          "output_type": "stream",
          "text": [
            "/usr/local/lib/python3.7/dist-packages/sklearn/neural_network/_multilayer_perceptron.py:571: ConvergenceWarning: Stochastic Optimizer: Maximum iterations (200) reached and the optimization hasn't converged yet.\n",
            "  % self.max_iter, ConvergenceWarning)\n"
          ],
          "name": "stderr"
        },
        {
          "output_type": "stream",
          "text": [
            "Acuracia para n=1,90/10 : 0.7540983606557377\n"
          ],
          "name": "stdout"
        },
        {
          "output_type": "stream",
          "text": [
            "/usr/local/lib/python3.7/dist-packages/sklearn/neural_network/_multilayer_perceptron.py:571: ConvergenceWarning: Stochastic Optimizer: Maximum iterations (200) reached and the optimization hasn't converged yet.\n",
            "  % self.max_iter, ConvergenceWarning)\n",
            "/usr/local/lib/python3.7/dist-packages/sklearn/neural_network/_multilayer_perceptron.py:571: ConvergenceWarning: Stochastic Optimizer: Maximum iterations (200) reached and the optimization hasn't converged yet.\n",
            "  % self.max_iter, ConvergenceWarning)\n",
            "/usr/local/lib/python3.7/dist-packages/sklearn/neural_network/_multilayer_perceptron.py:571: ConvergenceWarning: Stochastic Optimizer: Maximum iterations (200) reached and the optimization hasn't converged yet.\n",
            "  % self.max_iter, ConvergenceWarning)\n",
            "/usr/local/lib/python3.7/dist-packages/sklearn/neural_network/_multilayer_perceptron.py:571: ConvergenceWarning: Stochastic Optimizer: Maximum iterations (200) reached and the optimization hasn't converged yet.\n",
            "  % self.max_iter, ConvergenceWarning)\n",
            "/usr/local/lib/python3.7/dist-packages/sklearn/neural_network/_multilayer_perceptron.py:571: ConvergenceWarning: Stochastic Optimizer: Maximum iterations (200) reached and the optimization hasn't converged yet.\n",
            "  % self.max_iter, ConvergenceWarning)\n",
            "/usr/local/lib/python3.7/dist-packages/sklearn/neural_network/_multilayer_perceptron.py:571: ConvergenceWarning: Stochastic Optimizer: Maximum iterations (200) reached and the optimization hasn't converged yet.\n",
            "  % self.max_iter, ConvergenceWarning)\n",
            "/usr/local/lib/python3.7/dist-packages/sklearn/neural_network/_multilayer_perceptron.py:571: ConvergenceWarning: Stochastic Optimizer: Maximum iterations (200) reached and the optimization hasn't converged yet.\n",
            "  % self.max_iter, ConvergenceWarning)\n",
            "/usr/local/lib/python3.7/dist-packages/sklearn/neural_network/_multilayer_perceptron.py:571: ConvergenceWarning: Stochastic Optimizer: Maximum iterations (200) reached and the optimization hasn't converged yet.\n",
            "  % self.max_iter, ConvergenceWarning)\n",
            "/usr/local/lib/python3.7/dist-packages/sklearn/neural_network/_multilayer_perceptron.py:571: ConvergenceWarning: Stochastic Optimizer: Maximum iterations (200) reached and the optimization hasn't converged yet.\n",
            "  % self.max_iter, ConvergenceWarning)\n"
          ],
          "name": "stderr"
        },
        {
          "output_type": "stream",
          "text": [
            "acurácia %0.2f para kfold, 10 folds 0.8351612903225807\n"
          ],
          "name": "stdout"
        },
        {
          "output_type": "stream",
          "text": [
            "/usr/local/lib/python3.7/dist-packages/sklearn/neural_network/_multilayer_perceptron.py:571: ConvergenceWarning: Stochastic Optimizer: Maximum iterations (200) reached and the optimization hasn't converged yet.\n",
            "  % self.max_iter, ConvergenceWarning)\n"
          ],
          "name": "stderr"
        }
      ]
    },
    {
      "cell_type": "code",
      "metadata": {
        "colab": {
          "base_uri": "https://localhost:8080/"
        },
        "id": "a5qANrcK-zdQ",
        "outputId": "a4c04e20-2221-419e-ba9c-8a1d5530fc2a"
      },
      "source": [
        "mlp1 = MLPClassifier(alpha=0.0001,learning_rate='constant',activation='identity', hidden_layer_sizes=(23,), solver='sgd')\n",
        "X = dados_originais_normalizados.drop(columns=['output'])\n",
        "X_train,X_test,Y_train,Y_test = train_test_split(X,dados_originais_normalizados.output,test_size=0.3,stratify=dados_originais_normalizados.output)\n",
        "mlp1.fit(X_train,Y_train)\n",
        "y_pred = mlp1.predict(X_test)\n",
        "acuracia1 = accuracy_score(Y_test,y_pred)\n",
        "print(\"Acuracia para n=1,70/30 :\",acuracia1)\n",
        "mlp2 = MLPClassifier(alpha=0.0001,learning_rate='constant',activation='identity', hidden_layer_sizes=(23,), solver='sgd')\n",
        "X_train,X_test,Y_train,Y_test = train_test_split(X,dados_originais_normalizados.output,test_size=0.2,stratify=dados_originais_normalizados.output)\n",
        "mlp2.fit(X_train,Y_train)\n",
        "y_pred = mlp2.predict(X_test)\n",
        "acuracia2 = accuracy_score(Y_test,y_pred)\n",
        "print(\"Acuracia para n=1,80/20 :\",acuracia2)\n",
        "mlp3 = MLPClassifier(alpha=0.0001,learning_rate='constant',activation='identity', hidden_layer_sizes=(23,), solver='sgd')\n",
        "X_train,X_test,Y_train,Y_test = train_test_split(X,dados_originais_normalizados.output,test_size=0.2,stratify=dados_originais_normalizados.output)\n",
        "mlp3.fit(X_train,Y_train)\n",
        "y_pred = mlp3.predict(X_test)\n",
        "acuracia3 = accuracy_score(Y_test,y_pred)\n",
        "print(\"Acuracia para n=1,90/10 :\",acuracia3)\n",
        "y = dados_originais_normalizados['output']\n",
        "mlp4 = MLPClassifier(alpha=0.0001,learning_rate='constant',activation='identity', hidden_layer_sizes=(23,), solver='sgd')\n",
        "scores = cross_val_score(mlp4, X, y, cv=10)\n",
        "print(\"acurácia %0.2f para kfold, 10 folds\",scores.mean()) "
      ],
      "execution_count": 52,
      "outputs": [
        {
          "output_type": "stream",
          "text": [
            "/usr/local/lib/python3.7/dist-packages/sklearn/neural_network/_multilayer_perceptron.py:571: ConvergenceWarning: Stochastic Optimizer: Maximum iterations (200) reached and the optimization hasn't converged yet.\n",
            "  % self.max_iter, ConvergenceWarning)\n",
            "/usr/local/lib/python3.7/dist-packages/sklearn/neural_network/_multilayer_perceptron.py:571: ConvergenceWarning: Stochastic Optimizer: Maximum iterations (200) reached and the optimization hasn't converged yet.\n",
            "  % self.max_iter, ConvergenceWarning)\n"
          ],
          "name": "stderr"
        },
        {
          "output_type": "stream",
          "text": [
            "Acuracia para n=1,70/30 : 0.8461538461538461\n",
            "Acuracia para n=1,80/20 : 0.7868852459016393\n"
          ],
          "name": "stdout"
        },
        {
          "output_type": "stream",
          "text": [
            "/usr/local/lib/python3.7/dist-packages/sklearn/neural_network/_multilayer_perceptron.py:571: ConvergenceWarning: Stochastic Optimizer: Maximum iterations (200) reached and the optimization hasn't converged yet.\n",
            "  % self.max_iter, ConvergenceWarning)\n",
            "/usr/local/lib/python3.7/dist-packages/sklearn/neural_network/_multilayer_perceptron.py:571: ConvergenceWarning: Stochastic Optimizer: Maximum iterations (200) reached and the optimization hasn't converged yet.\n",
            "  % self.max_iter, ConvergenceWarning)\n"
          ],
          "name": "stderr"
        },
        {
          "output_type": "stream",
          "text": [
            "Acuracia para n=1,90/10 : 0.8524590163934426\n"
          ],
          "name": "stdout"
        },
        {
          "output_type": "stream",
          "text": [
            "/usr/local/lib/python3.7/dist-packages/sklearn/neural_network/_multilayer_perceptron.py:571: ConvergenceWarning: Stochastic Optimizer: Maximum iterations (200) reached and the optimization hasn't converged yet.\n",
            "  % self.max_iter, ConvergenceWarning)\n",
            "/usr/local/lib/python3.7/dist-packages/sklearn/neural_network/_multilayer_perceptron.py:571: ConvergenceWarning: Stochastic Optimizer: Maximum iterations (200) reached and the optimization hasn't converged yet.\n",
            "  % self.max_iter, ConvergenceWarning)\n",
            "/usr/local/lib/python3.7/dist-packages/sklearn/neural_network/_multilayer_perceptron.py:571: ConvergenceWarning: Stochastic Optimizer: Maximum iterations (200) reached and the optimization hasn't converged yet.\n",
            "  % self.max_iter, ConvergenceWarning)\n",
            "/usr/local/lib/python3.7/dist-packages/sklearn/neural_network/_multilayer_perceptron.py:571: ConvergenceWarning: Stochastic Optimizer: Maximum iterations (200) reached and the optimization hasn't converged yet.\n",
            "  % self.max_iter, ConvergenceWarning)\n",
            "/usr/local/lib/python3.7/dist-packages/sklearn/neural_network/_multilayer_perceptron.py:571: ConvergenceWarning: Stochastic Optimizer: Maximum iterations (200) reached and the optimization hasn't converged yet.\n",
            "  % self.max_iter, ConvergenceWarning)\n",
            "/usr/local/lib/python3.7/dist-packages/sklearn/neural_network/_multilayer_perceptron.py:571: ConvergenceWarning: Stochastic Optimizer: Maximum iterations (200) reached and the optimization hasn't converged yet.\n",
            "  % self.max_iter, ConvergenceWarning)\n",
            "/usr/local/lib/python3.7/dist-packages/sklearn/neural_network/_multilayer_perceptron.py:571: ConvergenceWarning: Stochastic Optimizer: Maximum iterations (200) reached and the optimization hasn't converged yet.\n",
            "  % self.max_iter, ConvergenceWarning)\n",
            "/usr/local/lib/python3.7/dist-packages/sklearn/neural_network/_multilayer_perceptron.py:571: ConvergenceWarning: Stochastic Optimizer: Maximum iterations (200) reached and the optimization hasn't converged yet.\n",
            "  % self.max_iter, ConvergenceWarning)\n"
          ],
          "name": "stderr"
        },
        {
          "output_type": "stream",
          "text": [
            "acurácia %0.2f para kfold, 10 folds 0.8250537634408601\n"
          ],
          "name": "stdout"
        },
        {
          "output_type": "stream",
          "text": [
            "/usr/local/lib/python3.7/dist-packages/sklearn/neural_network/_multilayer_perceptron.py:571: ConvergenceWarning: Stochastic Optimizer: Maximum iterations (200) reached and the optimization hasn't converged yet.\n",
            "  % self.max_iter, ConvergenceWarning)\n"
          ],
          "name": "stderr"
        }
      ]
    },
    {
      "cell_type": "code",
      "metadata": {
        "colab": {
          "base_uri": "https://localhost:8080/"
        },
        "id": "hlDfKkLQ-0SG",
        "outputId": "1ad34867-c41d-49bb-9f78-cd923da24d04"
      },
      "source": [
        "mlp1 = MLPClassifier(alpha=0.0001,learning_rate='constant',activation='identity', hidden_layer_sizes=(24,), solver='sgd')\n",
        "X = dados_originais_normalizados.drop(columns=['output'])\n",
        "X_train,X_test,Y_train,Y_test = train_test_split(X,dados_originais_normalizados.output,test_size=0.3,stratify=dados_originais_normalizados.output)\n",
        "mlp1.fit(X_train,Y_train)\n",
        "y_pred = mlp1.predict(X_test)\n",
        "acuracia1 = accuracy_score(Y_test,y_pred)\n",
        "print(\"Acuracia para n=1,70/30 :\",acuracia1)\n",
        "mlp2 = MLPClassifier(alpha=0.0001,learning_rate='constant',activation='identity', hidden_layer_sizes=(24,), solver='sgd')\n",
        "X_train,X_test,Y_train,Y_test = train_test_split(X,dados_originais_normalizados.output,test_size=0.2,stratify=dados_originais_normalizados.output)\n",
        "mlp2.fit(X_train,Y_train)\n",
        "y_pred = mlp2.predict(X_test)\n",
        "acuracia2 = accuracy_score(Y_test,y_pred)\n",
        "print(\"Acuracia para n=1,80/20 :\",acuracia2)\n",
        "mlp3 = MLPClassifier(alpha=0.0001,learning_rate='constant',activation='identity', hidden_layer_sizes=(24,), solver='sgd')\n",
        "X_train,X_test,Y_train,Y_test = train_test_split(X,dados_originais_normalizados.output,test_size=0.2,stratify=dados_originais_normalizados.output)\n",
        "mlp3.fit(X_train,Y_train)\n",
        "y_pred = mlp3.predict(X_test)\n",
        "acuracia3 = accuracy_score(Y_test,y_pred)\n",
        "print(\"Acuracia para n=1,90/10 :\",acuracia3)\n",
        "y = dados_originais_normalizados['output']\n",
        "mlp4 = MLPClassifier(alpha=0.0001,learning_rate='constant',activation='identity', hidden_layer_sizes=(24,), solver='sgd')\n",
        "scores = cross_val_score(mlp4, X, y, cv=10)\n",
        "print(\"acurácia %0.2f para kfold, 10 folds\",scores.mean()) "
      ],
      "execution_count": 53,
      "outputs": [
        {
          "output_type": "stream",
          "text": [
            "/usr/local/lib/python3.7/dist-packages/sklearn/neural_network/_multilayer_perceptron.py:571: ConvergenceWarning: Stochastic Optimizer: Maximum iterations (200) reached and the optimization hasn't converged yet.\n",
            "  % self.max_iter, ConvergenceWarning)\n"
          ],
          "name": "stderr"
        },
        {
          "output_type": "stream",
          "text": [
            "Acuracia para n=1,70/30 : 0.8461538461538461\n"
          ],
          "name": "stdout"
        },
        {
          "output_type": "stream",
          "text": [
            "/usr/local/lib/python3.7/dist-packages/sklearn/neural_network/_multilayer_perceptron.py:571: ConvergenceWarning: Stochastic Optimizer: Maximum iterations (200) reached and the optimization hasn't converged yet.\n",
            "  % self.max_iter, ConvergenceWarning)\n"
          ],
          "name": "stderr"
        },
        {
          "output_type": "stream",
          "text": [
            "Acuracia para n=1,80/20 : 0.7868852459016393\n"
          ],
          "name": "stdout"
        },
        {
          "output_type": "stream",
          "text": [
            "/usr/local/lib/python3.7/dist-packages/sklearn/neural_network/_multilayer_perceptron.py:571: ConvergenceWarning: Stochastic Optimizer: Maximum iterations (200) reached and the optimization hasn't converged yet.\n",
            "  % self.max_iter, ConvergenceWarning)\n"
          ],
          "name": "stderr"
        },
        {
          "output_type": "stream",
          "text": [
            "Acuracia para n=1,90/10 : 0.8852459016393442\n"
          ],
          "name": "stdout"
        },
        {
          "output_type": "stream",
          "text": [
            "/usr/local/lib/python3.7/dist-packages/sklearn/neural_network/_multilayer_perceptron.py:571: ConvergenceWarning: Stochastic Optimizer: Maximum iterations (200) reached and the optimization hasn't converged yet.\n",
            "  % self.max_iter, ConvergenceWarning)\n",
            "/usr/local/lib/python3.7/dist-packages/sklearn/neural_network/_multilayer_perceptron.py:571: ConvergenceWarning: Stochastic Optimizer: Maximum iterations (200) reached and the optimization hasn't converged yet.\n",
            "  % self.max_iter, ConvergenceWarning)\n",
            "/usr/local/lib/python3.7/dist-packages/sklearn/neural_network/_multilayer_perceptron.py:571: ConvergenceWarning: Stochastic Optimizer: Maximum iterations (200) reached and the optimization hasn't converged yet.\n",
            "  % self.max_iter, ConvergenceWarning)\n",
            "/usr/local/lib/python3.7/dist-packages/sklearn/neural_network/_multilayer_perceptron.py:571: ConvergenceWarning: Stochastic Optimizer: Maximum iterations (200) reached and the optimization hasn't converged yet.\n",
            "  % self.max_iter, ConvergenceWarning)\n",
            "/usr/local/lib/python3.7/dist-packages/sklearn/neural_network/_multilayer_perceptron.py:571: ConvergenceWarning: Stochastic Optimizer: Maximum iterations (200) reached and the optimization hasn't converged yet.\n",
            "  % self.max_iter, ConvergenceWarning)\n",
            "/usr/local/lib/python3.7/dist-packages/sklearn/neural_network/_multilayer_perceptron.py:571: ConvergenceWarning: Stochastic Optimizer: Maximum iterations (200) reached and the optimization hasn't converged yet.\n",
            "  % self.max_iter, ConvergenceWarning)\n",
            "/usr/local/lib/python3.7/dist-packages/sklearn/neural_network/_multilayer_perceptron.py:571: ConvergenceWarning: Stochastic Optimizer: Maximum iterations (200) reached and the optimization hasn't converged yet.\n",
            "  % self.max_iter, ConvergenceWarning)\n",
            "/usr/local/lib/python3.7/dist-packages/sklearn/neural_network/_multilayer_perceptron.py:571: ConvergenceWarning: Stochastic Optimizer: Maximum iterations (200) reached and the optimization hasn't converged yet.\n",
            "  % self.max_iter, ConvergenceWarning)\n",
            "/usr/local/lib/python3.7/dist-packages/sklearn/neural_network/_multilayer_perceptron.py:571: ConvergenceWarning: Stochastic Optimizer: Maximum iterations (200) reached and the optimization hasn't converged yet.\n",
            "  % self.max_iter, ConvergenceWarning)\n"
          ],
          "name": "stderr"
        },
        {
          "output_type": "stream",
          "text": [
            "acurácia %0.2f para kfold, 10 folds 0.8416129032258064\n"
          ],
          "name": "stdout"
        },
        {
          "output_type": "stream",
          "text": [
            "/usr/local/lib/python3.7/dist-packages/sklearn/neural_network/_multilayer_perceptron.py:571: ConvergenceWarning: Stochastic Optimizer: Maximum iterations (200) reached and the optimization hasn't converged yet.\n",
            "  % self.max_iter, ConvergenceWarning)\n"
          ],
          "name": "stderr"
        }
      ]
    },
    {
      "cell_type": "markdown",
      "metadata": {
        "id": "kyhk6t4e_Raa"
      },
      "source": [
        "## amostra 30\n",
        "---\n"
      ]
    },
    {
      "cell_type": "code",
      "metadata": {
        "colab": {
          "base_uri": "https://localhost:8080/"
        },
        "id": "gaV6W0ru_VOH",
        "outputId": "d69b9b51-0bc0-427c-c58d-55f222ad35a0"
      },
      "source": [
        "mlp1 = MLPClassifier(alpha=0.0001,learning_rate='constant',activation='identity', hidden_layer_sizes=(20,), solver='sgd')\n",
        "X = dados_amostra30_normalizado.drop(columns=['output'])\n",
        "X_train,X_test,Y_train,Y_test = train_test_split(X,dados_amostra30_normalizado.output,test_size=0.3,stratify=dados_amostra30_normalizado.output)\n",
        "mlp1.fit(X_train,Y_train)\n",
        "y_pred = mlp1.predict(X_test)\n",
        "acuracia1 = accuracy_score(Y_test,y_pred)\n",
        "print(\"Acuracia para n=1,70/30 :\",acuracia1)\n",
        "X = dados_amostra30_normalizado.drop(columns=['output'])\n",
        "X_train,X_test,Y_train,Y_test = train_test_split(X,dados_amostra30_normalizado.output,test_size=0.2,stratify=dados_amostra30_normalizado.output)\n",
        "mlp2 = MLPClassifier(alpha=0.0001,learning_rate='constant',activation='identity', hidden_layer_sizes=(20,), solver='sgd')\n",
        "mlp2.fit(X_train,Y_train)\n",
        "y_pred = mlp2.predict(X_test)\n",
        "acuracia2 = accuracy_score(Y_test,y_pred)\n",
        "print(\"Acuracia para n=1,80/20 :\",acuracia2)\n",
        "X = dados_amostra30_normalizado.drop(columns=['output'])\n",
        "X_train,X_test,Y_train,Y_test = train_test_split(X,dados_amostra30_normalizado.output,test_size=0.1,stratify=dados_amostra30_normalizado.output)\n",
        "mlp3 = MLPClassifier(alpha=0.0001,learning_rate='constant',activation='identity', hidden_layer_sizes=(20,), solver='sgd')\n",
        "mlp3.fit(X_train,Y_train)\n",
        "y_pred = mlp3.predict(X_test)\n",
        "acuracia3 = accuracy_score(Y_test,y_pred)\n",
        "print(\"Acuracia para n=1,90/10 :\",acuracia3)\n",
        "y = dados_amostra30_normalizado['output']\n",
        "mlp4 = MLPClassifier(alpha=0.0001,learning_rate='constant',activation='identity', hidden_layer_sizes=(20,), solver='sgd')\n",
        "scores = cross_val_score(mlp4, X, y, cv=10)\n",
        "print(\"acurácia %0.2f para kfold, 10 folds\",scores.mean()) "
      ],
      "execution_count": 54,
      "outputs": [
        {
          "output_type": "stream",
          "text": [
            "/usr/local/lib/python3.7/dist-packages/sklearn/neural_network/_multilayer_perceptron.py:571: ConvergenceWarning: Stochastic Optimizer: Maximum iterations (200) reached and the optimization hasn't converged yet.\n",
            "  % self.max_iter, ConvergenceWarning)\n"
          ],
          "name": "stderr"
        },
        {
          "output_type": "stream",
          "text": [
            "Acuracia para n=1,70/30 : 0.8214285714285714\n"
          ],
          "name": "stdout"
        },
        {
          "output_type": "stream",
          "text": [
            "/usr/local/lib/python3.7/dist-packages/sklearn/neural_network/_multilayer_perceptron.py:571: ConvergenceWarning: Stochastic Optimizer: Maximum iterations (200) reached and the optimization hasn't converged yet.\n",
            "  % self.max_iter, ConvergenceWarning)\n",
            "/usr/local/lib/python3.7/dist-packages/sklearn/neural_network/_multilayer_perceptron.py:571: ConvergenceWarning: Stochastic Optimizer: Maximum iterations (200) reached and the optimization hasn't converged yet.\n",
            "  % self.max_iter, ConvergenceWarning)\n"
          ],
          "name": "stderr"
        },
        {
          "output_type": "stream",
          "text": [
            "Acuracia para n=1,80/20 : 0.6842105263157895\n",
            "Acuracia para n=1,90/10 : 0.8\n"
          ],
          "name": "stdout"
        },
        {
          "output_type": "stream",
          "text": [
            "/usr/local/lib/python3.7/dist-packages/sklearn/neural_network/_multilayer_perceptron.py:571: ConvergenceWarning: Stochastic Optimizer: Maximum iterations (200) reached and the optimization hasn't converged yet.\n",
            "  % self.max_iter, ConvergenceWarning)\n",
            "/usr/local/lib/python3.7/dist-packages/sklearn/neural_network/_multilayer_perceptron.py:571: ConvergenceWarning: Stochastic Optimizer: Maximum iterations (200) reached and the optimization hasn't converged yet.\n",
            "  % self.max_iter, ConvergenceWarning)\n",
            "/usr/local/lib/python3.7/dist-packages/sklearn/neural_network/_multilayer_perceptron.py:571: ConvergenceWarning: Stochastic Optimizer: Maximum iterations (200) reached and the optimization hasn't converged yet.\n",
            "  % self.max_iter, ConvergenceWarning)\n",
            "/usr/local/lib/python3.7/dist-packages/sklearn/neural_network/_multilayer_perceptron.py:571: ConvergenceWarning: Stochastic Optimizer: Maximum iterations (200) reached and the optimization hasn't converged yet.\n",
            "  % self.max_iter, ConvergenceWarning)\n",
            "/usr/local/lib/python3.7/dist-packages/sklearn/neural_network/_multilayer_perceptron.py:571: ConvergenceWarning: Stochastic Optimizer: Maximum iterations (200) reached and the optimization hasn't converged yet.\n",
            "  % self.max_iter, ConvergenceWarning)\n",
            "/usr/local/lib/python3.7/dist-packages/sklearn/neural_network/_multilayer_perceptron.py:571: ConvergenceWarning: Stochastic Optimizer: Maximum iterations (200) reached and the optimization hasn't converged yet.\n",
            "  % self.max_iter, ConvergenceWarning)\n",
            "/usr/local/lib/python3.7/dist-packages/sklearn/neural_network/_multilayer_perceptron.py:571: ConvergenceWarning: Stochastic Optimizer: Maximum iterations (200) reached and the optimization hasn't converged yet.\n",
            "  % self.max_iter, ConvergenceWarning)\n",
            "/usr/local/lib/python3.7/dist-packages/sklearn/neural_network/_multilayer_perceptron.py:571: ConvergenceWarning: Stochastic Optimizer: Maximum iterations (200) reached and the optimization hasn't converged yet.\n",
            "  % self.max_iter, ConvergenceWarning)\n",
            "/usr/local/lib/python3.7/dist-packages/sklearn/neural_network/_multilayer_perceptron.py:571: ConvergenceWarning: Stochastic Optimizer: Maximum iterations (200) reached and the optimization hasn't converged yet.\n",
            "  % self.max_iter, ConvergenceWarning)\n"
          ],
          "name": "stderr"
        },
        {
          "output_type": "stream",
          "text": [
            "acurácia %0.2f para kfold, 10 folds 0.7699999999999999\n"
          ],
          "name": "stdout"
        },
        {
          "output_type": "stream",
          "text": [
            "/usr/local/lib/python3.7/dist-packages/sklearn/neural_network/_multilayer_perceptron.py:571: ConvergenceWarning: Stochastic Optimizer: Maximum iterations (200) reached and the optimization hasn't converged yet.\n",
            "  % self.max_iter, ConvergenceWarning)\n"
          ],
          "name": "stderr"
        }
      ]
    },
    {
      "cell_type": "code",
      "metadata": {
        "colab": {
          "base_uri": "https://localhost:8080/"
        },
        "id": "zjU9cM2zAQ4k",
        "outputId": "625679c9-8c54-479a-da5d-f1374792b825"
      },
      "source": [
        "mlp1 = MLPClassifier(alpha=0.0001,learning_rate='constant',activation='identity', hidden_layer_sizes=(21,), solver='sgd')\n",
        "X = dados_amostra30_normalizado.drop(columns=['output'])\n",
        "X_train,X_test,Y_train,Y_test = train_test_split(X,dados_amostra30_normalizado.output,test_size=0.3,stratify=dados_amostra30_normalizado.output)\n",
        "mlp1.fit(X_train,Y_train)\n",
        "y_pred = mlp1.predict(X_test)\n",
        "acuracia1 = accuracy_score(Y_test,y_pred)\n",
        "print(\"Acuracia para n=1,70/30 :\",acuracia1)\n",
        "X = dados_amostra30_normalizado.drop(columns=['output'])\n",
        "X_train,X_test,Y_train,Y_test = train_test_split(X,dados_amostra30_normalizado.output,test_size=0.2,stratify=dados_amostra30_normalizado.output)\n",
        "mlp2 = MLPClassifier(alpha=0.0001,learning_rate='constant',activation='identity', hidden_layer_sizes=(21,), solver='sgd')\n",
        "mlp2.fit(X_train,Y_train)\n",
        "y_pred = mlp2.predict(X_test)\n",
        "acuracia2 = accuracy_score(Y_test,y_pred)\n",
        "print(\"Acuracia para n=1,80/20 :\",acuracia2)\n",
        "X = dados_amostra30_normalizado.drop(columns=['output'])\n",
        "X_train,X_test,Y_train,Y_test = train_test_split(X,dados_amostra30_normalizado.output,test_size=0.1,stratify=dados_amostra30_normalizado.output)\n",
        "mlp3 = MLPClassifier(alpha=0.0001,learning_rate='constant',activation='identity', hidden_layer_sizes=(21,), solver='sgd')\n",
        "mlp3.fit(X_train,Y_train)\n",
        "y_pred = mlp3.predict(X_test)\n",
        "acuracia3 = accuracy_score(Y_test,y_pred)\n",
        "print(\"Acuracia para n=1,90/10 :\",acuracia3)\n",
        "y = dados_amostra30_normalizado['output']\n",
        "mlp4 = MLPClassifier(alpha=0.0001,learning_rate='constant',activation='identity', hidden_layer_sizes=(21,), solver='sgd')\n",
        "scores = cross_val_score(mlp4, X, y, cv=10)\n",
        "print(\"acurácia %0.2f para kfold, 10 folds\",scores.mean())"
      ],
      "execution_count": 55,
      "outputs": [
        {
          "output_type": "stream",
          "text": [
            "/usr/local/lib/python3.7/dist-packages/sklearn/neural_network/_multilayer_perceptron.py:571: ConvergenceWarning: Stochastic Optimizer: Maximum iterations (200) reached and the optimization hasn't converged yet.\n",
            "  % self.max_iter, ConvergenceWarning)\n"
          ],
          "name": "stderr"
        },
        {
          "output_type": "stream",
          "text": [
            "Acuracia para n=1,70/30 : 0.75\n"
          ],
          "name": "stdout"
        },
        {
          "output_type": "stream",
          "text": [
            "/usr/local/lib/python3.7/dist-packages/sklearn/neural_network/_multilayer_perceptron.py:571: ConvergenceWarning: Stochastic Optimizer: Maximum iterations (200) reached and the optimization hasn't converged yet.\n",
            "  % self.max_iter, ConvergenceWarning)\n",
            "/usr/local/lib/python3.7/dist-packages/sklearn/neural_network/_multilayer_perceptron.py:571: ConvergenceWarning: Stochastic Optimizer: Maximum iterations (200) reached and the optimization hasn't converged yet.\n",
            "  % self.max_iter, ConvergenceWarning)\n"
          ],
          "name": "stderr"
        },
        {
          "output_type": "stream",
          "text": [
            "Acuracia para n=1,80/20 : 0.7368421052631579\n",
            "Acuracia para n=1,90/10 : 0.7\n"
          ],
          "name": "stdout"
        },
        {
          "output_type": "stream",
          "text": [
            "/usr/local/lib/python3.7/dist-packages/sklearn/neural_network/_multilayer_perceptron.py:571: ConvergenceWarning: Stochastic Optimizer: Maximum iterations (200) reached and the optimization hasn't converged yet.\n",
            "  % self.max_iter, ConvergenceWarning)\n",
            "/usr/local/lib/python3.7/dist-packages/sklearn/neural_network/_multilayer_perceptron.py:571: ConvergenceWarning: Stochastic Optimizer: Maximum iterations (200) reached and the optimization hasn't converged yet.\n",
            "  % self.max_iter, ConvergenceWarning)\n",
            "/usr/local/lib/python3.7/dist-packages/sklearn/neural_network/_multilayer_perceptron.py:571: ConvergenceWarning: Stochastic Optimizer: Maximum iterations (200) reached and the optimization hasn't converged yet.\n",
            "  % self.max_iter, ConvergenceWarning)\n",
            "/usr/local/lib/python3.7/dist-packages/sklearn/neural_network/_multilayer_perceptron.py:571: ConvergenceWarning: Stochastic Optimizer: Maximum iterations (200) reached and the optimization hasn't converged yet.\n",
            "  % self.max_iter, ConvergenceWarning)\n",
            "/usr/local/lib/python3.7/dist-packages/sklearn/neural_network/_multilayer_perceptron.py:571: ConvergenceWarning: Stochastic Optimizer: Maximum iterations (200) reached and the optimization hasn't converged yet.\n",
            "  % self.max_iter, ConvergenceWarning)\n",
            "/usr/local/lib/python3.7/dist-packages/sklearn/neural_network/_multilayer_perceptron.py:571: ConvergenceWarning: Stochastic Optimizer: Maximum iterations (200) reached and the optimization hasn't converged yet.\n",
            "  % self.max_iter, ConvergenceWarning)\n",
            "/usr/local/lib/python3.7/dist-packages/sklearn/neural_network/_multilayer_perceptron.py:571: ConvergenceWarning: Stochastic Optimizer: Maximum iterations (200) reached and the optimization hasn't converged yet.\n",
            "  % self.max_iter, ConvergenceWarning)\n",
            "/usr/local/lib/python3.7/dist-packages/sklearn/neural_network/_multilayer_perceptron.py:571: ConvergenceWarning: Stochastic Optimizer: Maximum iterations (200) reached and the optimization hasn't converged yet.\n",
            "  % self.max_iter, ConvergenceWarning)\n",
            "/usr/local/lib/python3.7/dist-packages/sklearn/neural_network/_multilayer_perceptron.py:571: ConvergenceWarning: Stochastic Optimizer: Maximum iterations (200) reached and the optimization hasn't converged yet.\n",
            "  % self.max_iter, ConvergenceWarning)\n"
          ],
          "name": "stderr"
        },
        {
          "output_type": "stream",
          "text": [
            "acurácia %0.2f para kfold, 10 folds 0.7588888888888888\n"
          ],
          "name": "stdout"
        },
        {
          "output_type": "stream",
          "text": [
            "/usr/local/lib/python3.7/dist-packages/sklearn/neural_network/_multilayer_perceptron.py:571: ConvergenceWarning: Stochastic Optimizer: Maximum iterations (200) reached and the optimization hasn't converged yet.\n",
            "  % self.max_iter, ConvergenceWarning)\n"
          ],
          "name": "stderr"
        }
      ]
    },
    {
      "cell_type": "code",
      "metadata": {
        "colab": {
          "base_uri": "https://localhost:8080/"
        },
        "id": "XYo9krO7AUEo",
        "outputId": "70dbf6e5-8216-4f71-a99d-5998c01a2670"
      },
      "source": [
        "mlp1 = MLPClassifier(alpha=0.0001,learning_rate='constant',activation='identity', hidden_layer_sizes=(22,), solver='sgd')\n",
        "X = dados_amostra30_normalizado.drop(columns=['output'])\n",
        "X_train,X_test,Y_train,Y_test = train_test_split(X,dados_amostra30_normalizado.output,test_size=0.3,stratify=dados_amostra30_normalizado.output)\n",
        "mlp1.fit(X_train,Y_train)\n",
        "y_pred = mlp1.predict(X_test)\n",
        "acuracia1 = accuracy_score(Y_test,y_pred)\n",
        "print(\"Acuracia para n=1,70/30 :\",acuracia1)\n",
        "X = dados_amostra30_normalizado.drop(columns=['output'])\n",
        "X_train,X_test,Y_train,Y_test = train_test_split(X,dados_amostra30_normalizado.output,test_size=0.2,stratify=dados_amostra30_normalizado.output)\n",
        "mlp2 = MLPClassifier(alpha=0.0001,learning_rate='constant',activation='identity', hidden_layer_sizes=(22,), solver='sgd')\n",
        "mlp2.fit(X_train,Y_train)\n",
        "y_pred = mlp2.predict(X_test)\n",
        "acuracia2 = accuracy_score(Y_test,y_pred)\n",
        "print(\"Acuracia para n=1,80/20 :\",acuracia2)\n",
        "X = dados_amostra30_normalizado.drop(columns=['output'])\n",
        "X_train,X_test,Y_train,Y_test = train_test_split(X,dados_amostra30_normalizado.output,test_size=0.1,stratify=dados_amostra30_normalizado.output)\n",
        "mlp3 = MLPClassifier(alpha=0.0001,learning_rate='constant',activation='identity', hidden_layer_sizes=(22,), solver='sgd')\n",
        "mlp3.fit(X_train,Y_train)\n",
        "y_pred = mlp3.predict(X_test)\n",
        "acuracia3 = accuracy_score(Y_test,y_pred)\n",
        "print(\"Acuracia para n=1,90/10 :\",acuracia3)\n",
        "y = dados_amostra30_normalizado['output']\n",
        "mlp4 = MLPClassifier(alpha=0.0001,learning_rate='constant',activation='identity', hidden_layer_sizes=(22,), solver='sgd')\n",
        "scores = cross_val_score(mlp4, X, y, cv=10)\n",
        "print(\"acurácia %0.2f para kfold, 10 folds\",scores.mean())"
      ],
      "execution_count": 56,
      "outputs": [
        {
          "output_type": "stream",
          "text": [
            "/usr/local/lib/python3.7/dist-packages/sklearn/neural_network/_multilayer_perceptron.py:571: ConvergenceWarning: Stochastic Optimizer: Maximum iterations (200) reached and the optimization hasn't converged yet.\n",
            "  % self.max_iter, ConvergenceWarning)\n"
          ],
          "name": "stderr"
        },
        {
          "output_type": "stream",
          "text": [
            "Acuracia para n=1,70/30 : 0.7857142857142857\n"
          ],
          "name": "stdout"
        },
        {
          "output_type": "stream",
          "text": [
            "/usr/local/lib/python3.7/dist-packages/sklearn/neural_network/_multilayer_perceptron.py:571: ConvergenceWarning: Stochastic Optimizer: Maximum iterations (200) reached and the optimization hasn't converged yet.\n",
            "  % self.max_iter, ConvergenceWarning)\n",
            "/usr/local/lib/python3.7/dist-packages/sklearn/neural_network/_multilayer_perceptron.py:571: ConvergenceWarning: Stochastic Optimizer: Maximum iterations (200) reached and the optimization hasn't converged yet.\n",
            "  % self.max_iter, ConvergenceWarning)\n"
          ],
          "name": "stderr"
        },
        {
          "output_type": "stream",
          "text": [
            "Acuracia para n=1,80/20 : 0.7894736842105263\n",
            "Acuracia para n=1,90/10 : 0.8\n"
          ],
          "name": "stdout"
        },
        {
          "output_type": "stream",
          "text": [
            "/usr/local/lib/python3.7/dist-packages/sklearn/neural_network/_multilayer_perceptron.py:571: ConvergenceWarning: Stochastic Optimizer: Maximum iterations (200) reached and the optimization hasn't converged yet.\n",
            "  % self.max_iter, ConvergenceWarning)\n",
            "/usr/local/lib/python3.7/dist-packages/sklearn/neural_network/_multilayer_perceptron.py:571: ConvergenceWarning: Stochastic Optimizer: Maximum iterations (200) reached and the optimization hasn't converged yet.\n",
            "  % self.max_iter, ConvergenceWarning)\n",
            "/usr/local/lib/python3.7/dist-packages/sklearn/neural_network/_multilayer_perceptron.py:571: ConvergenceWarning: Stochastic Optimizer: Maximum iterations (200) reached and the optimization hasn't converged yet.\n",
            "  % self.max_iter, ConvergenceWarning)\n",
            "/usr/local/lib/python3.7/dist-packages/sklearn/neural_network/_multilayer_perceptron.py:571: ConvergenceWarning: Stochastic Optimizer: Maximum iterations (200) reached and the optimization hasn't converged yet.\n",
            "  % self.max_iter, ConvergenceWarning)\n",
            "/usr/local/lib/python3.7/dist-packages/sklearn/neural_network/_multilayer_perceptron.py:571: ConvergenceWarning: Stochastic Optimizer: Maximum iterations (200) reached and the optimization hasn't converged yet.\n",
            "  % self.max_iter, ConvergenceWarning)\n",
            "/usr/local/lib/python3.7/dist-packages/sklearn/neural_network/_multilayer_perceptron.py:571: ConvergenceWarning: Stochastic Optimizer: Maximum iterations (200) reached and the optimization hasn't converged yet.\n",
            "  % self.max_iter, ConvergenceWarning)\n",
            "/usr/local/lib/python3.7/dist-packages/sklearn/neural_network/_multilayer_perceptron.py:571: ConvergenceWarning: Stochastic Optimizer: Maximum iterations (200) reached and the optimization hasn't converged yet.\n",
            "  % self.max_iter, ConvergenceWarning)\n",
            "/usr/local/lib/python3.7/dist-packages/sklearn/neural_network/_multilayer_perceptron.py:571: ConvergenceWarning: Stochastic Optimizer: Maximum iterations (200) reached and the optimization hasn't converged yet.\n",
            "  % self.max_iter, ConvergenceWarning)\n",
            "/usr/local/lib/python3.7/dist-packages/sklearn/neural_network/_multilayer_perceptron.py:571: ConvergenceWarning: Stochastic Optimizer: Maximum iterations (200) reached and the optimization hasn't converged yet.\n",
            "  % self.max_iter, ConvergenceWarning)\n"
          ],
          "name": "stderr"
        },
        {
          "output_type": "stream",
          "text": [
            "acurácia %0.2f para kfold, 10 folds 0.8022222222222224\n"
          ],
          "name": "stdout"
        },
        {
          "output_type": "stream",
          "text": [
            "/usr/local/lib/python3.7/dist-packages/sklearn/neural_network/_multilayer_perceptron.py:571: ConvergenceWarning: Stochastic Optimizer: Maximum iterations (200) reached and the optimization hasn't converged yet.\n",
            "  % self.max_iter, ConvergenceWarning)\n"
          ],
          "name": "stderr"
        }
      ]
    },
    {
      "cell_type": "code",
      "metadata": {
        "colab": {
          "base_uri": "https://localhost:8080/"
        },
        "id": "9qIjQx0uAU1Q",
        "outputId": "61d5f2e5-2934-4e4e-9b80-5426cf01cef9"
      },
      "source": [
        "mlp1 = MLPClassifier(alpha=0.0001,learning_rate='constant',activation='identity', hidden_layer_sizes=(23,), solver='sgd')\n",
        "X = dados_amostra30_normalizado.drop(columns=['output'])\n",
        "X_train,X_test,Y_train,Y_test = train_test_split(X,dados_amostra30_normalizado.output,test_size=0.3,stratify=dados_amostra30_normalizado.output)\n",
        "mlp1.fit(X_train,Y_train)\n",
        "y_pred = mlp1.predict(X_test)\n",
        "acuracia1 = accuracy_score(Y_test,y_pred)\n",
        "print(\"Acuracia para n=1,70/30 :\",acuracia1)\n",
        "X = dados_amostra30_normalizado.drop(columns=['output'])\n",
        "X_train,X_test,Y_train,Y_test = train_test_split(X,dados_amostra30_normalizado.output,test_size=0.2,stratify=dados_amostra30_normalizado.output)\n",
        "mlp2 = MLPClassifier(alpha=0.0001,learning_rate='constant',activation='identity', hidden_layer_sizes=(23,), solver='sgd')\n",
        "mlp2.fit(X_train,Y_train)\n",
        "y_pred = mlp2.predict(X_test)\n",
        "acuracia2 = accuracy_score(Y_test,y_pred)\n",
        "print(\"Acuracia para n=1,80/20 :\",acuracia2)\n",
        "X = dados_amostra30_normalizado.drop(columns=['output'])\n",
        "X_train,X_test,Y_train,Y_test = train_test_split(X,dados_amostra30_normalizado.output,test_size=0.1,stratify=dados_amostra30_normalizado.output)\n",
        "mlp3 = MLPClassifier(alpha=0.0001,learning_rate='constant',activation='identity', hidden_layer_sizes=(23,), solver='sgd')\n",
        "mlp3.fit(X_train,Y_train)\n",
        "y_pred = mlp3.predict(X_test)\n",
        "acuracia3 = accuracy_score(Y_test,y_pred)\n",
        "print(\"Acuracia para n=1,90/10 :\",acuracia3)\n",
        "y = dados_amostra30_normalizado['output']\n",
        "mlp4 = MLPClassifier(alpha=0.0001,learning_rate='constant',activation='identity', hidden_layer_sizes=(23,), solver='sgd')\n",
        "scores = cross_val_score(mlp4, X, y, cv=10)\n",
        "print(\"acurácia %0.2f para kfold, 10 folds\",scores.mean())"
      ],
      "execution_count": 57,
      "outputs": [
        {
          "output_type": "stream",
          "text": [
            "/usr/local/lib/python3.7/dist-packages/sklearn/neural_network/_multilayer_perceptron.py:571: ConvergenceWarning: Stochastic Optimizer: Maximum iterations (200) reached and the optimization hasn't converged yet.\n",
            "  % self.max_iter, ConvergenceWarning)\n"
          ],
          "name": "stderr"
        },
        {
          "output_type": "stream",
          "text": [
            "Acuracia para n=1,70/30 : 0.7857142857142857\n"
          ],
          "name": "stdout"
        },
        {
          "output_type": "stream",
          "text": [
            "/usr/local/lib/python3.7/dist-packages/sklearn/neural_network/_multilayer_perceptron.py:571: ConvergenceWarning: Stochastic Optimizer: Maximum iterations (200) reached and the optimization hasn't converged yet.\n",
            "  % self.max_iter, ConvergenceWarning)\n",
            "/usr/local/lib/python3.7/dist-packages/sklearn/neural_network/_multilayer_perceptron.py:571: ConvergenceWarning: Stochastic Optimizer: Maximum iterations (200) reached and the optimization hasn't converged yet.\n",
            "  % self.max_iter, ConvergenceWarning)\n"
          ],
          "name": "stderr"
        },
        {
          "output_type": "stream",
          "text": [
            "Acuracia para n=1,80/20 : 0.7368421052631579\n",
            "Acuracia para n=1,90/10 : 1.0\n"
          ],
          "name": "stdout"
        },
        {
          "output_type": "stream",
          "text": [
            "/usr/local/lib/python3.7/dist-packages/sklearn/neural_network/_multilayer_perceptron.py:571: ConvergenceWarning: Stochastic Optimizer: Maximum iterations (200) reached and the optimization hasn't converged yet.\n",
            "  % self.max_iter, ConvergenceWarning)\n",
            "/usr/local/lib/python3.7/dist-packages/sklearn/neural_network/_multilayer_perceptron.py:571: ConvergenceWarning: Stochastic Optimizer: Maximum iterations (200) reached and the optimization hasn't converged yet.\n",
            "  % self.max_iter, ConvergenceWarning)\n",
            "/usr/local/lib/python3.7/dist-packages/sklearn/neural_network/_multilayer_perceptron.py:571: ConvergenceWarning: Stochastic Optimizer: Maximum iterations (200) reached and the optimization hasn't converged yet.\n",
            "  % self.max_iter, ConvergenceWarning)\n",
            "/usr/local/lib/python3.7/dist-packages/sklearn/neural_network/_multilayer_perceptron.py:571: ConvergenceWarning: Stochastic Optimizer: Maximum iterations (200) reached and the optimization hasn't converged yet.\n",
            "  % self.max_iter, ConvergenceWarning)\n",
            "/usr/local/lib/python3.7/dist-packages/sklearn/neural_network/_multilayer_perceptron.py:571: ConvergenceWarning: Stochastic Optimizer: Maximum iterations (200) reached and the optimization hasn't converged yet.\n",
            "  % self.max_iter, ConvergenceWarning)\n",
            "/usr/local/lib/python3.7/dist-packages/sklearn/neural_network/_multilayer_perceptron.py:571: ConvergenceWarning: Stochastic Optimizer: Maximum iterations (200) reached and the optimization hasn't converged yet.\n",
            "  % self.max_iter, ConvergenceWarning)\n",
            "/usr/local/lib/python3.7/dist-packages/sklearn/neural_network/_multilayer_perceptron.py:571: ConvergenceWarning: Stochastic Optimizer: Maximum iterations (200) reached and the optimization hasn't converged yet.\n",
            "  % self.max_iter, ConvergenceWarning)\n",
            "/usr/local/lib/python3.7/dist-packages/sklearn/neural_network/_multilayer_perceptron.py:571: ConvergenceWarning: Stochastic Optimizer: Maximum iterations (200) reached and the optimization hasn't converged yet.\n",
            "  % self.max_iter, ConvergenceWarning)\n",
            "/usr/local/lib/python3.7/dist-packages/sklearn/neural_network/_multilayer_perceptron.py:571: ConvergenceWarning: Stochastic Optimizer: Maximum iterations (200) reached and the optimization hasn't converged yet.\n",
            "  % self.max_iter, ConvergenceWarning)\n"
          ],
          "name": "stderr"
        },
        {
          "output_type": "stream",
          "text": [
            "acurácia %0.2f para kfold, 10 folds 0.8144444444444444\n"
          ],
          "name": "stdout"
        },
        {
          "output_type": "stream",
          "text": [
            "/usr/local/lib/python3.7/dist-packages/sklearn/neural_network/_multilayer_perceptron.py:571: ConvergenceWarning: Stochastic Optimizer: Maximum iterations (200) reached and the optimization hasn't converged yet.\n",
            "  % self.max_iter, ConvergenceWarning)\n"
          ],
          "name": "stderr"
        }
      ]
    },
    {
      "cell_type": "code",
      "metadata": {
        "colab": {
          "base_uri": "https://localhost:8080/"
        },
        "id": "XS_A_615AVGr",
        "outputId": "05a9b74a-2120-4d37-af4d-e50421946f92"
      },
      "source": [
        "mlp1 = MLPClassifier(alpha=0.0001,learning_rate='constant',activation='identity', hidden_layer_sizes=(24,), solver='sgd')\n",
        "X = dados_amostra30_normalizado.drop(columns=['output'])\n",
        "X_train,X_test,Y_train,Y_test = train_test_split(X,dados_amostra30_normalizado.output,test_size=0.3,stratify=dados_amostra30_normalizado.output)\n",
        "mlp1.fit(X_train,Y_train)\n",
        "y_pred = mlp1.predict(X_test)\n",
        "acuracia1 = accuracy_score(Y_test,y_pred)\n",
        "print(\"Acuracia para n=1,70/30 :\",acuracia1)\n",
        "X = dados_amostra30_normalizado.drop(columns=['output'])\n",
        "X_train,X_test,Y_train,Y_test = train_test_split(X,dados_amostra30_normalizado.output,test_size=0.2,stratify=dados_amostra30_normalizado.output)\n",
        "mlp2 = MLPClassifier(alpha=0.0001,learning_rate='constant',activation='identity', hidden_layer_sizes=(24,), solver='sgd')\n",
        "mlp2.fit(X_train,Y_train)\n",
        "y_pred = mlp2.predict(X_test)\n",
        "acuracia2 = accuracy_score(Y_test,y_pred)\n",
        "print(\"Acuracia para n=1,80/20 :\",acuracia2)\n",
        "X = dados_amostra30_normalizado.drop(columns=['output'])\n",
        "X_train,X_test,Y_train,Y_test = train_test_split(X,dados_amostra30_normalizado.output,test_size=0.1,stratify=dados_amostra30_normalizado.output)\n",
        "mlp3 = MLPClassifier(alpha=0.0001,learning_rate='constant',activation='identity', hidden_layer_sizes=(24,), solver='sgd')\n",
        "mlp3.fit(X_train,Y_train)\n",
        "y_pred = mlp3.predict(X_test)\n",
        "acuracia3 = accuracy_score(Y_test,y_pred)\n",
        "print(\"Acuracia para n=1,90/10 :\",acuracia3)\n",
        "y = dados_amostra30_normalizado['output']\n",
        "mlp4 = MLPClassifier(alpha=0.0001,learning_rate='constant',activation='identity', hidden_layer_sizes=(24,), solver='sgd')\n",
        "scores = cross_val_score(mlp4, X, y, cv=10)\n",
        "print(\"acurácia %0.2f para kfold, 10 folds\",scores.mean())"
      ],
      "execution_count": 58,
      "outputs": [
        {
          "output_type": "stream",
          "text": [
            "/usr/local/lib/python3.7/dist-packages/sklearn/neural_network/_multilayer_perceptron.py:571: ConvergenceWarning: Stochastic Optimizer: Maximum iterations (200) reached and the optimization hasn't converged yet.\n",
            "  % self.max_iter, ConvergenceWarning)\n",
            "/usr/local/lib/python3.7/dist-packages/sklearn/neural_network/_multilayer_perceptron.py:571: ConvergenceWarning: Stochastic Optimizer: Maximum iterations (200) reached and the optimization hasn't converged yet.\n",
            "  % self.max_iter, ConvergenceWarning)\n"
          ],
          "name": "stderr"
        },
        {
          "output_type": "stream",
          "text": [
            "Acuracia para n=1,70/30 : 0.8571428571428571\n"
          ],
          "name": "stdout"
        },
        {
          "output_type": "stream",
          "text": [
            "/usr/local/lib/python3.7/dist-packages/sklearn/neural_network/_multilayer_perceptron.py:571: ConvergenceWarning: Stochastic Optimizer: Maximum iterations (200) reached and the optimization hasn't converged yet.\n",
            "  % self.max_iter, ConvergenceWarning)\n"
          ],
          "name": "stderr"
        },
        {
          "output_type": "stream",
          "text": [
            "Acuracia para n=1,80/20 : 0.6842105263157895\n",
            "Acuracia para n=1,90/10 : 0.7\n"
          ],
          "name": "stdout"
        },
        {
          "output_type": "stream",
          "text": [
            "/usr/local/lib/python3.7/dist-packages/sklearn/neural_network/_multilayer_perceptron.py:571: ConvergenceWarning: Stochastic Optimizer: Maximum iterations (200) reached and the optimization hasn't converged yet.\n",
            "  % self.max_iter, ConvergenceWarning)\n",
            "/usr/local/lib/python3.7/dist-packages/sklearn/neural_network/_multilayer_perceptron.py:571: ConvergenceWarning: Stochastic Optimizer: Maximum iterations (200) reached and the optimization hasn't converged yet.\n",
            "  % self.max_iter, ConvergenceWarning)\n",
            "/usr/local/lib/python3.7/dist-packages/sklearn/neural_network/_multilayer_perceptron.py:571: ConvergenceWarning: Stochastic Optimizer: Maximum iterations (200) reached and the optimization hasn't converged yet.\n",
            "  % self.max_iter, ConvergenceWarning)\n",
            "/usr/local/lib/python3.7/dist-packages/sklearn/neural_network/_multilayer_perceptron.py:571: ConvergenceWarning: Stochastic Optimizer: Maximum iterations (200) reached and the optimization hasn't converged yet.\n",
            "  % self.max_iter, ConvergenceWarning)\n",
            "/usr/local/lib/python3.7/dist-packages/sklearn/neural_network/_multilayer_perceptron.py:571: ConvergenceWarning: Stochastic Optimizer: Maximum iterations (200) reached and the optimization hasn't converged yet.\n",
            "  % self.max_iter, ConvergenceWarning)\n",
            "/usr/local/lib/python3.7/dist-packages/sklearn/neural_network/_multilayer_perceptron.py:571: ConvergenceWarning: Stochastic Optimizer: Maximum iterations (200) reached and the optimization hasn't converged yet.\n",
            "  % self.max_iter, ConvergenceWarning)\n",
            "/usr/local/lib/python3.7/dist-packages/sklearn/neural_network/_multilayer_perceptron.py:571: ConvergenceWarning: Stochastic Optimizer: Maximum iterations (200) reached and the optimization hasn't converged yet.\n",
            "  % self.max_iter, ConvergenceWarning)\n",
            "/usr/local/lib/python3.7/dist-packages/sklearn/neural_network/_multilayer_perceptron.py:571: ConvergenceWarning: Stochastic Optimizer: Maximum iterations (200) reached and the optimization hasn't converged yet.\n",
            "  % self.max_iter, ConvergenceWarning)\n",
            "/usr/local/lib/python3.7/dist-packages/sklearn/neural_network/_multilayer_perceptron.py:571: ConvergenceWarning: Stochastic Optimizer: Maximum iterations (200) reached and the optimization hasn't converged yet.\n",
            "  % self.max_iter, ConvergenceWarning)\n"
          ],
          "name": "stderr"
        },
        {
          "output_type": "stream",
          "text": [
            "acurácia %0.2f para kfold, 10 folds 0.8022222222222222\n"
          ],
          "name": "stdout"
        },
        {
          "output_type": "stream",
          "text": [
            "/usr/local/lib/python3.7/dist-packages/sklearn/neural_network/_multilayer_perceptron.py:571: ConvergenceWarning: Stochastic Optimizer: Maximum iterations (200) reached and the optimization hasn't converged yet.\n",
            "  % self.max_iter, ConvergenceWarning)\n"
          ],
          "name": "stderr"
        }
      ]
    },
    {
      "cell_type": "markdown",
      "metadata": {
        "id": "Vo7JlOyFBSBe"
      },
      "source": [
        "## Amostra 50\n",
        "---"
      ]
    },
    {
      "cell_type": "code",
      "metadata": {
        "colab": {
          "base_uri": "https://localhost:8080/"
        },
        "id": "A4gdDLI7BV-F",
        "outputId": "3779423c-18b0-4fcf-9490-faa3d982cb5d"
      },
      "source": [
        "mlp1 = MLPClassifier(alpha=0.0001,learning_rate='constant',activation='identity', hidden_layer_sizes=(20,), solver='sgd')\n",
        "X = dados_amostra50_normalizado.drop(columns=['output'])\n",
        "X_train,X_test,Y_train,Y_test = train_test_split(X,dados_amostra50_normalizado.output,test_size=0.3,stratify=dados_amostra50_normalizado.output)\n",
        "mlp1.fit(X_train,Y_train)\n",
        "y_pred = mlp1.predict(X_test)\n",
        "acuracia1 = accuracy_score(Y_test,y_pred)\n",
        "print(\"Acuracia para n=1,70/30 :\",acuracia1)\n",
        "X = dados_amostra50_normalizado.drop(columns=['output'])\n",
        "X_train,X_test,Y_train,Y_test = train_test_split(X,dados_amostra50_normalizado.output,test_size=0.2,stratify=dados_amostra50_normalizado.output)\n",
        "mlp2 = MLPClassifier(alpha=0.0001,learning_rate='constant',activation='identity', hidden_layer_sizes=(20,), solver='sgd')\n",
        "mlp2.fit(X_train,Y_train)\n",
        "y_pred = mlp2.predict(X_test)\n",
        "acuracia2 = accuracy_score(Y_test,y_pred)\n",
        "print(\"Acuracia para n=1,80/20 :\",acuracia2)\n",
        "X = dados_amostra50_normalizado.drop(columns=['output'])\n",
        "X_train,X_test,Y_train,Y_test = train_test_split(X,dados_amostra50_normalizado.output,test_size=0.1,stratify=dados_amostra50_normalizado.output)\n",
        "mlp3 = MLPClassifier(alpha=0.0001,learning_rate='constant',activation='identity', hidden_layer_sizes=(20,), solver='sgd')\n",
        "mlp3.fit(X_train,Y_train)\n",
        "y_pred = mlp3.predict(X_test)\n",
        "acuracia3 = accuracy_score(Y_test,y_pred)\n",
        "print(\"Acuracia para n=1,90/10 :\",acuracia3)\n",
        "y = dados_amostra50_normalizado['output']\n",
        "mlp4 = MLPClassifier(alpha=0.0001,learning_rate='constant',activation='identity', hidden_layer_sizes=(20,), solver='sgd')\n",
        "scores = cross_val_score(mlp4, X, y, cv=10)\n",
        "print(\"acurácia %0.2f para kfold, 10 folds\",scores.mean())"
      ],
      "execution_count": 59,
      "outputs": [
        {
          "output_type": "stream",
          "text": [
            "/usr/local/lib/python3.7/dist-packages/sklearn/neural_network/_multilayer_perceptron.py:571: ConvergenceWarning: Stochastic Optimizer: Maximum iterations (200) reached and the optimization hasn't converged yet.\n",
            "  % self.max_iter, ConvergenceWarning)\n",
            "/usr/local/lib/python3.7/dist-packages/sklearn/neural_network/_multilayer_perceptron.py:571: ConvergenceWarning: Stochastic Optimizer: Maximum iterations (200) reached and the optimization hasn't converged yet.\n",
            "  % self.max_iter, ConvergenceWarning)\n"
          ],
          "name": "stderr"
        },
        {
          "output_type": "stream",
          "text": [
            "Acuracia para n=1,70/30 : 0.7391304347826086\n",
            "Acuracia para n=1,80/20 : 0.8387096774193549\n",
            "Acuracia para n=1,90/10 : 0.6875\n"
          ],
          "name": "stdout"
        },
        {
          "output_type": "stream",
          "text": [
            "/usr/local/lib/python3.7/dist-packages/sklearn/neural_network/_multilayer_perceptron.py:571: ConvergenceWarning: Stochastic Optimizer: Maximum iterations (200) reached and the optimization hasn't converged yet.\n",
            "  % self.max_iter, ConvergenceWarning)\n",
            "/usr/local/lib/python3.7/dist-packages/sklearn/neural_network/_multilayer_perceptron.py:571: ConvergenceWarning: Stochastic Optimizer: Maximum iterations (200) reached and the optimization hasn't converged yet.\n",
            "  % self.max_iter, ConvergenceWarning)\n",
            "/usr/local/lib/python3.7/dist-packages/sklearn/neural_network/_multilayer_perceptron.py:571: ConvergenceWarning: Stochastic Optimizer: Maximum iterations (200) reached and the optimization hasn't converged yet.\n",
            "  % self.max_iter, ConvergenceWarning)\n",
            "/usr/local/lib/python3.7/dist-packages/sklearn/neural_network/_multilayer_perceptron.py:571: ConvergenceWarning: Stochastic Optimizer: Maximum iterations (200) reached and the optimization hasn't converged yet.\n",
            "  % self.max_iter, ConvergenceWarning)\n",
            "/usr/local/lib/python3.7/dist-packages/sklearn/neural_network/_multilayer_perceptron.py:571: ConvergenceWarning: Stochastic Optimizer: Maximum iterations (200) reached and the optimization hasn't converged yet.\n",
            "  % self.max_iter, ConvergenceWarning)\n",
            "/usr/local/lib/python3.7/dist-packages/sklearn/neural_network/_multilayer_perceptron.py:571: ConvergenceWarning: Stochastic Optimizer: Maximum iterations (200) reached and the optimization hasn't converged yet.\n",
            "  % self.max_iter, ConvergenceWarning)\n",
            "/usr/local/lib/python3.7/dist-packages/sklearn/neural_network/_multilayer_perceptron.py:571: ConvergenceWarning: Stochastic Optimizer: Maximum iterations (200) reached and the optimization hasn't converged yet.\n",
            "  % self.max_iter, ConvergenceWarning)\n",
            "/usr/local/lib/python3.7/dist-packages/sklearn/neural_network/_multilayer_perceptron.py:571: ConvergenceWarning: Stochastic Optimizer: Maximum iterations (200) reached and the optimization hasn't converged yet.\n",
            "  % self.max_iter, ConvergenceWarning)\n",
            "/usr/local/lib/python3.7/dist-packages/sklearn/neural_network/_multilayer_perceptron.py:571: ConvergenceWarning: Stochastic Optimizer: Maximum iterations (200) reached and the optimization hasn't converged yet.\n",
            "  % self.max_iter, ConvergenceWarning)\n",
            "/usr/local/lib/python3.7/dist-packages/sklearn/neural_network/_multilayer_perceptron.py:571: ConvergenceWarning: Stochastic Optimizer: Maximum iterations (200) reached and the optimization hasn't converged yet.\n",
            "  % self.max_iter, ConvergenceWarning)\n"
          ],
          "name": "stderr"
        },
        {
          "output_type": "stream",
          "text": [
            "acurácia %0.2f para kfold, 10 folds 0.79375\n"
          ],
          "name": "stdout"
        },
        {
          "output_type": "stream",
          "text": [
            "/usr/local/lib/python3.7/dist-packages/sklearn/neural_network/_multilayer_perceptron.py:571: ConvergenceWarning: Stochastic Optimizer: Maximum iterations (200) reached and the optimization hasn't converged yet.\n",
            "  % self.max_iter, ConvergenceWarning)\n"
          ],
          "name": "stderr"
        }
      ]
    },
    {
      "cell_type": "code",
      "metadata": {
        "colab": {
          "base_uri": "https://localhost:8080/"
        },
        "id": "zRm1Ber5Bpi6",
        "outputId": "213afbb8-00b6-4761-d546-023a3e871222"
      },
      "source": [
        "mlp1 = MLPClassifier(alpha=0.0001,learning_rate='constant',activation='identity', hidden_layer_sizes=(21,), solver='sgd')\n",
        "X = dados_amostra50_normalizado.drop(columns=['output'])\n",
        "X_train,X_test,Y_train,Y_test = train_test_split(X,dados_amostra50_normalizado.output,test_size=0.3,stratify=dados_amostra50_normalizado.output)\n",
        "mlp1.fit(X_train,Y_train)\n",
        "y_pred = mlp1.predict(X_test)\n",
        "acuracia1 = accuracy_score(Y_test,y_pred)\n",
        "print(\"Acuracia para n=1,70/30 :\",acuracia1)\n",
        "X = dados_amostra50_normalizado.drop(columns=['output'])\n",
        "X_train,X_test,Y_train,Y_test = train_test_split(X,dados_amostra50_normalizado.output,test_size=0.2,stratify=dados_amostra50_normalizado.output)\n",
        "mlp2 = MLPClassifier(alpha=0.0001,learning_rate='constant',activation='identity', hidden_layer_sizes=(21,), solver='sgd')\n",
        "mlp2.fit(X_train,Y_train)\n",
        "y_pred = mlp2.predict(X_test)\n",
        "acuracia2 = accuracy_score(Y_test,y_pred)\n",
        "print(\"Acuracia para n=1,80/20 :\",acuracia2)\n",
        "X = dados_amostra50_normalizado.drop(columns=['output'])\n",
        "X_train,X_test,Y_train,Y_test = train_test_split(X,dados_amostra50_normalizado.output,test_size=0.1,stratify=dados_amostra50_normalizado.output)\n",
        "mlp3 = MLPClassifier(alpha=0.0001,learning_rate='constant',activation='identity', hidden_layer_sizes=(21,), solver='sgd')\n",
        "mlp3.fit(X_train,Y_train)\n",
        "y_pred = mlp3.predict(X_test)\n",
        "acuracia3 = accuracy_score(Y_test,y_pred)\n",
        "print(\"Acuracia para n=1,90/10 :\",acuracia3)\n",
        "y = dados_amostra50_normalizado['output']\n",
        "mlp4 = MLPClassifier(alpha=0.0001,learning_rate='constant',activation='identity', hidden_layer_sizes=(21,), solver='sgd')\n",
        "scores = cross_val_score(mlp4, X, y, cv=10)\n",
        "print(\"acurácia %0.2f para kfold, 10 folds\",scores.mean())"
      ],
      "execution_count": 60,
      "outputs": [
        {
          "output_type": "stream",
          "text": [
            "/usr/local/lib/python3.7/dist-packages/sklearn/neural_network/_multilayer_perceptron.py:571: ConvergenceWarning: Stochastic Optimizer: Maximum iterations (200) reached and the optimization hasn't converged yet.\n",
            "  % self.max_iter, ConvergenceWarning)\n"
          ],
          "name": "stderr"
        },
        {
          "output_type": "stream",
          "text": [
            "Acuracia para n=1,70/30 : 0.8260869565217391\n"
          ],
          "name": "stdout"
        },
        {
          "output_type": "stream",
          "text": [
            "/usr/local/lib/python3.7/dist-packages/sklearn/neural_network/_multilayer_perceptron.py:571: ConvergenceWarning: Stochastic Optimizer: Maximum iterations (200) reached and the optimization hasn't converged yet.\n",
            "  % self.max_iter, ConvergenceWarning)\n",
            "/usr/local/lib/python3.7/dist-packages/sklearn/neural_network/_multilayer_perceptron.py:571: ConvergenceWarning: Stochastic Optimizer: Maximum iterations (200) reached and the optimization hasn't converged yet.\n",
            "  % self.max_iter, ConvergenceWarning)\n"
          ],
          "name": "stderr"
        },
        {
          "output_type": "stream",
          "text": [
            "Acuracia para n=1,80/20 : 0.8064516129032258\n",
            "Acuracia para n=1,90/10 : 0.8125\n"
          ],
          "name": "stdout"
        },
        {
          "output_type": "stream",
          "text": [
            "/usr/local/lib/python3.7/dist-packages/sklearn/neural_network/_multilayer_perceptron.py:571: ConvergenceWarning: Stochastic Optimizer: Maximum iterations (200) reached and the optimization hasn't converged yet.\n",
            "  % self.max_iter, ConvergenceWarning)\n",
            "/usr/local/lib/python3.7/dist-packages/sklearn/neural_network/_multilayer_perceptron.py:571: ConvergenceWarning: Stochastic Optimizer: Maximum iterations (200) reached and the optimization hasn't converged yet.\n",
            "  % self.max_iter, ConvergenceWarning)\n",
            "/usr/local/lib/python3.7/dist-packages/sklearn/neural_network/_multilayer_perceptron.py:571: ConvergenceWarning: Stochastic Optimizer: Maximum iterations (200) reached and the optimization hasn't converged yet.\n",
            "  % self.max_iter, ConvergenceWarning)\n",
            "/usr/local/lib/python3.7/dist-packages/sklearn/neural_network/_multilayer_perceptron.py:571: ConvergenceWarning: Stochastic Optimizer: Maximum iterations (200) reached and the optimization hasn't converged yet.\n",
            "  % self.max_iter, ConvergenceWarning)\n",
            "/usr/local/lib/python3.7/dist-packages/sklearn/neural_network/_multilayer_perceptron.py:571: ConvergenceWarning: Stochastic Optimizer: Maximum iterations (200) reached and the optimization hasn't converged yet.\n",
            "  % self.max_iter, ConvergenceWarning)\n",
            "/usr/local/lib/python3.7/dist-packages/sklearn/neural_network/_multilayer_perceptron.py:571: ConvergenceWarning: Stochastic Optimizer: Maximum iterations (200) reached and the optimization hasn't converged yet.\n",
            "  % self.max_iter, ConvergenceWarning)\n",
            "/usr/local/lib/python3.7/dist-packages/sklearn/neural_network/_multilayer_perceptron.py:571: ConvergenceWarning: Stochastic Optimizer: Maximum iterations (200) reached and the optimization hasn't converged yet.\n",
            "  % self.max_iter, ConvergenceWarning)\n",
            "/usr/local/lib/python3.7/dist-packages/sklearn/neural_network/_multilayer_perceptron.py:571: ConvergenceWarning: Stochastic Optimizer: Maximum iterations (200) reached and the optimization hasn't converged yet.\n",
            "  % self.max_iter, ConvergenceWarning)\n",
            "/usr/local/lib/python3.7/dist-packages/sklearn/neural_network/_multilayer_perceptron.py:571: ConvergenceWarning: Stochastic Optimizer: Maximum iterations (200) reached and the optimization hasn't converged yet.\n",
            "  % self.max_iter, ConvergenceWarning)\n"
          ],
          "name": "stderr"
        },
        {
          "output_type": "stream",
          "text": [
            "acurácia %0.2f para kfold, 10 folds 0.8070833333333335\n"
          ],
          "name": "stdout"
        },
        {
          "output_type": "stream",
          "text": [
            "/usr/local/lib/python3.7/dist-packages/sklearn/neural_network/_multilayer_perceptron.py:571: ConvergenceWarning: Stochastic Optimizer: Maximum iterations (200) reached and the optimization hasn't converged yet.\n",
            "  % self.max_iter, ConvergenceWarning)\n"
          ],
          "name": "stderr"
        }
      ]
    },
    {
      "cell_type": "code",
      "metadata": {
        "colab": {
          "base_uri": "https://localhost:8080/"
        },
        "id": "Hl_bqezSBvMe",
        "outputId": "b1783619-874e-44c4-b0f3-ac5356a0ae5d"
      },
      "source": [
        "mlp1 = MLPClassifier(alpha=0.0001,learning_rate='constant',activation='identity', hidden_layer_sizes=(22,), solver='sgd')\n",
        "X = dados_amostra50_normalizado.drop(columns=['output'])\n",
        "X_train,X_test,Y_train,Y_test = train_test_split(X,dados_amostra50_normalizado.output,test_size=0.3,stratify=dados_amostra50_normalizado.output)\n",
        "mlp1.fit(X_train,Y_train)\n",
        "y_pred = mlp1.predict(X_test)\n",
        "acuracia1 = accuracy_score(Y_test,y_pred)\n",
        "print(\"Acuracia para n=1,70/30 :\",acuracia1)\n",
        "X = dados_amostra50_normalizado.drop(columns=['output'])\n",
        "X_train,X_test,Y_train,Y_test = train_test_split(X,dados_amostra50_normalizado.output,test_size=0.2,stratify=dados_amostra50_normalizado.output)\n",
        "mlp2 = MLPClassifier(alpha=0.0001,learning_rate='constant',activation='identity', hidden_layer_sizes=(22,), solver='sgd')\n",
        "mlp2.fit(X_train,Y_train)\n",
        "y_pred = mlp2.predict(X_test)\n",
        "acuracia2 = accuracy_score(Y_test,y_pred)\n",
        "print(\"Acuracia para n=1,80/20 :\",acuracia2)\n",
        "X = dados_amostra50_normalizado.drop(columns=['output'])\n",
        "X_train,X_test,Y_train,Y_test = train_test_split(X,dados_amostra50_normalizado.output,test_size=0.1,stratify=dados_amostra50_normalizado.output)\n",
        "mlp3 = MLPClassifier(alpha=0.0001,learning_rate='constant',activation='identity', hidden_layer_sizes=(22,), solver='sgd')\n",
        "mlp3.fit(X_train,Y_train)\n",
        "y_pred = mlp3.predict(X_test)\n",
        "acuracia3 = accuracy_score(Y_test,y_pred)\n",
        "print(\"Acuracia para n=1,90/10 :\",acuracia3)\n",
        "y = dados_amostra50_normalizado['output']\n",
        "mlp4 = MLPClassifier(alpha=0.0001,learning_rate='constant',activation='identity', hidden_layer_sizes=(22,), solver='sgd')\n",
        "scores = cross_val_score(mlp4, X, y, cv=10)\n",
        "print(\"acurácia %0.2f para kfold, 10 folds\",scores.mean())"
      ],
      "execution_count": 61,
      "outputs": [
        {
          "output_type": "stream",
          "text": [
            "/usr/local/lib/python3.7/dist-packages/sklearn/neural_network/_multilayer_perceptron.py:571: ConvergenceWarning: Stochastic Optimizer: Maximum iterations (200) reached and the optimization hasn't converged yet.\n",
            "  % self.max_iter, ConvergenceWarning)\n"
          ],
          "name": "stderr"
        },
        {
          "output_type": "stream",
          "text": [
            "Acuracia para n=1,70/30 : 0.8043478260869565\n"
          ],
          "name": "stdout"
        },
        {
          "output_type": "stream",
          "text": [
            "/usr/local/lib/python3.7/dist-packages/sklearn/neural_network/_multilayer_perceptron.py:571: ConvergenceWarning: Stochastic Optimizer: Maximum iterations (200) reached and the optimization hasn't converged yet.\n",
            "  % self.max_iter, ConvergenceWarning)\n",
            "/usr/local/lib/python3.7/dist-packages/sklearn/neural_network/_multilayer_perceptron.py:571: ConvergenceWarning: Stochastic Optimizer: Maximum iterations (200) reached and the optimization hasn't converged yet.\n",
            "  % self.max_iter, ConvergenceWarning)\n"
          ],
          "name": "stderr"
        },
        {
          "output_type": "stream",
          "text": [
            "Acuracia para n=1,80/20 : 0.8387096774193549\n",
            "Acuracia para n=1,90/10 : 0.8125\n"
          ],
          "name": "stdout"
        },
        {
          "output_type": "stream",
          "text": [
            "/usr/local/lib/python3.7/dist-packages/sklearn/neural_network/_multilayer_perceptron.py:571: ConvergenceWarning: Stochastic Optimizer: Maximum iterations (200) reached and the optimization hasn't converged yet.\n",
            "  % self.max_iter, ConvergenceWarning)\n",
            "/usr/local/lib/python3.7/dist-packages/sklearn/neural_network/_multilayer_perceptron.py:571: ConvergenceWarning: Stochastic Optimizer: Maximum iterations (200) reached and the optimization hasn't converged yet.\n",
            "  % self.max_iter, ConvergenceWarning)\n",
            "/usr/local/lib/python3.7/dist-packages/sklearn/neural_network/_multilayer_perceptron.py:571: ConvergenceWarning: Stochastic Optimizer: Maximum iterations (200) reached and the optimization hasn't converged yet.\n",
            "  % self.max_iter, ConvergenceWarning)\n",
            "/usr/local/lib/python3.7/dist-packages/sklearn/neural_network/_multilayer_perceptron.py:571: ConvergenceWarning: Stochastic Optimizer: Maximum iterations (200) reached and the optimization hasn't converged yet.\n",
            "  % self.max_iter, ConvergenceWarning)\n",
            "/usr/local/lib/python3.7/dist-packages/sklearn/neural_network/_multilayer_perceptron.py:571: ConvergenceWarning: Stochastic Optimizer: Maximum iterations (200) reached and the optimization hasn't converged yet.\n",
            "  % self.max_iter, ConvergenceWarning)\n",
            "/usr/local/lib/python3.7/dist-packages/sklearn/neural_network/_multilayer_perceptron.py:571: ConvergenceWarning: Stochastic Optimizer: Maximum iterations (200) reached and the optimization hasn't converged yet.\n",
            "  % self.max_iter, ConvergenceWarning)\n",
            "/usr/local/lib/python3.7/dist-packages/sklearn/neural_network/_multilayer_perceptron.py:571: ConvergenceWarning: Stochastic Optimizer: Maximum iterations (200) reached and the optimization hasn't converged yet.\n",
            "  % self.max_iter, ConvergenceWarning)\n",
            "/usr/local/lib/python3.7/dist-packages/sklearn/neural_network/_multilayer_perceptron.py:571: ConvergenceWarning: Stochastic Optimizer: Maximum iterations (200) reached and the optimization hasn't converged yet.\n",
            "  % self.max_iter, ConvergenceWarning)\n",
            "/usr/local/lib/python3.7/dist-packages/sklearn/neural_network/_multilayer_perceptron.py:571: ConvergenceWarning: Stochastic Optimizer: Maximum iterations (200) reached and the optimization hasn't converged yet.\n",
            "  % self.max_iter, ConvergenceWarning)\n"
          ],
          "name": "stderr"
        },
        {
          "output_type": "stream",
          "text": [
            "acurácia %0.2f para kfold, 10 folds 0.7804166666666668\n"
          ],
          "name": "stdout"
        },
        {
          "output_type": "stream",
          "text": [
            "/usr/local/lib/python3.7/dist-packages/sklearn/neural_network/_multilayer_perceptron.py:571: ConvergenceWarning: Stochastic Optimizer: Maximum iterations (200) reached and the optimization hasn't converged yet.\n",
            "  % self.max_iter, ConvergenceWarning)\n"
          ],
          "name": "stderr"
        }
      ]
    },
    {
      "cell_type": "code",
      "metadata": {
        "colab": {
          "base_uri": "https://localhost:8080/"
        },
        "id": "O_g1seoaBy_O",
        "outputId": "7d261450-e277-4baf-f67e-4acbf5f6f5b9"
      },
      "source": [
        "mlp1 = MLPClassifier(alpha=0.0001,learning_rate='constant',activation='identity', hidden_layer_sizes=(23,), solver='sgd')\n",
        "X = dados_amostra50_normalizado.drop(columns=['output'])\n",
        "X_train,X_test,Y_train,Y_test = train_test_split(X,dados_amostra50_normalizado.output,test_size=0.3,stratify=dados_amostra50_normalizado.output)\n",
        "mlp1.fit(X_train,Y_train)\n",
        "y_pred = mlp1.predict(X_test)\n",
        "acuracia1 = accuracy_score(Y_test,y_pred)\n",
        "print(\"Acuracia para n=1,70/30 :\",acuracia1)\n",
        "X = dados_amostra50_normalizado.drop(columns=['output'])\n",
        "X_train,X_test,Y_train,Y_test = train_test_split(X,dados_amostra50_normalizado.output,test_size=0.2,stratify=dados_amostra50_normalizado.output)\n",
        "mlp2 = MLPClassifier(alpha=0.0001,learning_rate='constant',activation='identity', hidden_layer_sizes=(23,), solver='sgd')\n",
        "mlp2.fit(X_train,Y_train)\n",
        "y_pred = mlp2.predict(X_test)\n",
        "acuracia2 = accuracy_score(Y_test,y_pred)\n",
        "print(\"Acuracia para n=1,80/20 :\",acuracia2)\n",
        "X = dados_amostra50_normalizado.drop(columns=['output'])\n",
        "X_train,X_test,Y_train,Y_test = train_test_split(X,dados_amostra50_normalizado.output,test_size=0.1,stratify=dados_amostra50_normalizado.output)\n",
        "mlp3 = MLPClassifier(alpha=0.0001,learning_rate='constant',activation='identity', hidden_layer_sizes=(23,), solver='sgd')\n",
        "mlp3.fit(X_train,Y_train)\n",
        "y_pred = mlp3.predict(X_test)\n",
        "acuracia3 = accuracy_score(Y_test,y_pred)\n",
        "print(\"Acuracia para n=1,90/10 :\",acuracia3)\n",
        "y = dados_amostra50_normalizado['output']\n",
        "mlp4 = MLPClassifier(alpha=0.0001,learning_rate='constant',activation='identity', hidden_layer_sizes=(23,), solver='sgd')\n",
        "scores = cross_val_score(mlp4, X, y, cv=10)\n",
        "print(\"acurácia %0.2f para kfold, 10 folds\",scores.mean())"
      ],
      "execution_count": 62,
      "outputs": [
        {
          "output_type": "stream",
          "text": [
            "/usr/local/lib/python3.7/dist-packages/sklearn/neural_network/_multilayer_perceptron.py:571: ConvergenceWarning: Stochastic Optimizer: Maximum iterations (200) reached and the optimization hasn't converged yet.\n",
            "  % self.max_iter, ConvergenceWarning)\n"
          ],
          "name": "stderr"
        },
        {
          "output_type": "stream",
          "text": [
            "Acuracia para n=1,70/30 : 0.6739130434782609\n"
          ],
          "name": "stdout"
        },
        {
          "output_type": "stream",
          "text": [
            "/usr/local/lib/python3.7/dist-packages/sklearn/neural_network/_multilayer_perceptron.py:571: ConvergenceWarning: Stochastic Optimizer: Maximum iterations (200) reached and the optimization hasn't converged yet.\n",
            "  % self.max_iter, ConvergenceWarning)\n",
            "/usr/local/lib/python3.7/dist-packages/sklearn/neural_network/_multilayer_perceptron.py:571: ConvergenceWarning: Stochastic Optimizer: Maximum iterations (200) reached and the optimization hasn't converged yet.\n",
            "  % self.max_iter, ConvergenceWarning)\n"
          ],
          "name": "stderr"
        },
        {
          "output_type": "stream",
          "text": [
            "Acuracia para n=1,80/20 : 0.7419354838709677\n",
            "Acuracia para n=1,90/10 : 0.625\n"
          ],
          "name": "stdout"
        },
        {
          "output_type": "stream",
          "text": [
            "/usr/local/lib/python3.7/dist-packages/sklearn/neural_network/_multilayer_perceptron.py:571: ConvergenceWarning: Stochastic Optimizer: Maximum iterations (200) reached and the optimization hasn't converged yet.\n",
            "  % self.max_iter, ConvergenceWarning)\n",
            "/usr/local/lib/python3.7/dist-packages/sklearn/neural_network/_multilayer_perceptron.py:571: ConvergenceWarning: Stochastic Optimizer: Maximum iterations (200) reached and the optimization hasn't converged yet.\n",
            "  % self.max_iter, ConvergenceWarning)\n",
            "/usr/local/lib/python3.7/dist-packages/sklearn/neural_network/_multilayer_perceptron.py:571: ConvergenceWarning: Stochastic Optimizer: Maximum iterations (200) reached and the optimization hasn't converged yet.\n",
            "  % self.max_iter, ConvergenceWarning)\n",
            "/usr/local/lib/python3.7/dist-packages/sklearn/neural_network/_multilayer_perceptron.py:571: ConvergenceWarning: Stochastic Optimizer: Maximum iterations (200) reached and the optimization hasn't converged yet.\n",
            "  % self.max_iter, ConvergenceWarning)\n",
            "/usr/local/lib/python3.7/dist-packages/sklearn/neural_network/_multilayer_perceptron.py:571: ConvergenceWarning: Stochastic Optimizer: Maximum iterations (200) reached and the optimization hasn't converged yet.\n",
            "  % self.max_iter, ConvergenceWarning)\n",
            "/usr/local/lib/python3.7/dist-packages/sklearn/neural_network/_multilayer_perceptron.py:571: ConvergenceWarning: Stochastic Optimizer: Maximum iterations (200) reached and the optimization hasn't converged yet.\n",
            "  % self.max_iter, ConvergenceWarning)\n",
            "/usr/local/lib/python3.7/dist-packages/sklearn/neural_network/_multilayer_perceptron.py:571: ConvergenceWarning: Stochastic Optimizer: Maximum iterations (200) reached and the optimization hasn't converged yet.\n",
            "  % self.max_iter, ConvergenceWarning)\n",
            "/usr/local/lib/python3.7/dist-packages/sklearn/neural_network/_multilayer_perceptron.py:571: ConvergenceWarning: Stochastic Optimizer: Maximum iterations (200) reached and the optimization hasn't converged yet.\n",
            "  % self.max_iter, ConvergenceWarning)\n",
            "/usr/local/lib/python3.7/dist-packages/sklearn/neural_network/_multilayer_perceptron.py:571: ConvergenceWarning: Stochastic Optimizer: Maximum iterations (200) reached and the optimization hasn't converged yet.\n",
            "  % self.max_iter, ConvergenceWarning)\n"
          ],
          "name": "stderr"
        },
        {
          "output_type": "stream",
          "text": [
            "acurácia %0.2f para kfold, 10 folds 0.7804166666666666\n"
          ],
          "name": "stdout"
        },
        {
          "output_type": "stream",
          "text": [
            "/usr/local/lib/python3.7/dist-packages/sklearn/neural_network/_multilayer_perceptron.py:571: ConvergenceWarning: Stochastic Optimizer: Maximum iterations (200) reached and the optimization hasn't converged yet.\n",
            "  % self.max_iter, ConvergenceWarning)\n"
          ],
          "name": "stderr"
        }
      ]
    },
    {
      "cell_type": "code",
      "metadata": {
        "colab": {
          "base_uri": "https://localhost:8080/"
        },
        "id": "Hft8cpPoB4GK",
        "outputId": "b53d7435-ca7f-4090-bfb2-fa7982c3a6fe"
      },
      "source": [
        "mlp1 = MLPClassifier(alpha=0.0001,learning_rate='constant',activation='identity', hidden_layer_sizes=(24,), solver='sgd')\n",
        "X = dados_amostra50_normalizado.drop(columns=['output'])\n",
        "X_train,X_test,Y_train,Y_test = train_test_split(X,dados_amostra50_normalizado.output,test_size=0.3,stratify=dados_amostra50_normalizado.output)\n",
        "mlp1.fit(X_train,Y_train)\n",
        "y_pred = mlp1.predict(X_test)\n",
        "acuracia1 = accuracy_score(Y_test,y_pred)\n",
        "print(\"Acuracia para n=1,70/30 :\",acuracia1)\n",
        "X = dados_amostra50_normalizado.drop(columns=['output'])\n",
        "X_train,X_test,Y_train,Y_test = train_test_split(X,dados_amostra50_normalizado.output,test_size=0.2,stratify=dados_amostra50_normalizado.output)\n",
        "mlp2 = MLPClassifier(alpha=0.0001,learning_rate='constant',activation='identity', hidden_layer_sizes=(24,), solver='sgd')\n",
        "mlp2.fit(X_train,Y_train)\n",
        "y_pred = mlp2.predict(X_test)\n",
        "acuracia2 = accuracy_score(Y_test,y_pred)\n",
        "print(\"Acuracia para n=1,80/20 :\",acuracia2)\n",
        "X = dados_amostra50_normalizado.drop(columns=['output'])\n",
        "X_train,X_test,Y_train,Y_test = train_test_split(X,dados_amostra50_normalizado.output,test_size=0.1,stratify=dados_amostra50_normalizado.output)\n",
        "mlp3 = MLPClassifier(alpha=0.0001,learning_rate='constant',activation='identity', hidden_layer_sizes=(24,), solver='sgd')\n",
        "mlp3.fit(X_train,Y_train)\n",
        "y_pred = mlp3.predict(X_test)\n",
        "acuracia3 = accuracy_score(Y_test,y_pred)\n",
        "print(\"Acuracia para n=1,90/10 :\",acuracia3)\n",
        "y = dados_amostra50_normalizado['output']\n",
        "mlp4 = MLPClassifier(alpha=0.0001,learning_rate='constant',activation='identity', hidden_layer_sizes=(24,), solver='sgd')\n",
        "scores = cross_val_score(mlp4, X, y, cv=10)\n",
        "print(\"acurácia %0.2f para kfold, 10 folds\",scores.mean())"
      ],
      "execution_count": 63,
      "outputs": [
        {
          "output_type": "stream",
          "text": [
            "/usr/local/lib/python3.7/dist-packages/sklearn/neural_network/_multilayer_perceptron.py:571: ConvergenceWarning: Stochastic Optimizer: Maximum iterations (200) reached and the optimization hasn't converged yet.\n",
            "  % self.max_iter, ConvergenceWarning)\n"
          ],
          "name": "stderr"
        },
        {
          "output_type": "stream",
          "text": [
            "Acuracia para n=1,70/30 : 0.8043478260869565\n"
          ],
          "name": "stdout"
        },
        {
          "output_type": "stream",
          "text": [
            "/usr/local/lib/python3.7/dist-packages/sklearn/neural_network/_multilayer_perceptron.py:571: ConvergenceWarning: Stochastic Optimizer: Maximum iterations (200) reached and the optimization hasn't converged yet.\n",
            "  % self.max_iter, ConvergenceWarning)\n",
            "/usr/local/lib/python3.7/dist-packages/sklearn/neural_network/_multilayer_perceptron.py:571: ConvergenceWarning: Stochastic Optimizer: Maximum iterations (200) reached and the optimization hasn't converged yet.\n",
            "  % self.max_iter, ConvergenceWarning)\n"
          ],
          "name": "stderr"
        },
        {
          "output_type": "stream",
          "text": [
            "Acuracia para n=1,80/20 : 0.7741935483870968\n",
            "Acuracia para n=1,90/10 : 0.875\n"
          ],
          "name": "stdout"
        },
        {
          "output_type": "stream",
          "text": [
            "/usr/local/lib/python3.7/dist-packages/sklearn/neural_network/_multilayer_perceptron.py:571: ConvergenceWarning: Stochastic Optimizer: Maximum iterations (200) reached and the optimization hasn't converged yet.\n",
            "  % self.max_iter, ConvergenceWarning)\n",
            "/usr/local/lib/python3.7/dist-packages/sklearn/neural_network/_multilayer_perceptron.py:571: ConvergenceWarning: Stochastic Optimizer: Maximum iterations (200) reached and the optimization hasn't converged yet.\n",
            "  % self.max_iter, ConvergenceWarning)\n",
            "/usr/local/lib/python3.7/dist-packages/sklearn/neural_network/_multilayer_perceptron.py:571: ConvergenceWarning: Stochastic Optimizer: Maximum iterations (200) reached and the optimization hasn't converged yet.\n",
            "  % self.max_iter, ConvergenceWarning)\n",
            "/usr/local/lib/python3.7/dist-packages/sklearn/neural_network/_multilayer_perceptron.py:571: ConvergenceWarning: Stochastic Optimizer: Maximum iterations (200) reached and the optimization hasn't converged yet.\n",
            "  % self.max_iter, ConvergenceWarning)\n",
            "/usr/local/lib/python3.7/dist-packages/sklearn/neural_network/_multilayer_perceptron.py:571: ConvergenceWarning: Stochastic Optimizer: Maximum iterations (200) reached and the optimization hasn't converged yet.\n",
            "  % self.max_iter, ConvergenceWarning)\n",
            "/usr/local/lib/python3.7/dist-packages/sklearn/neural_network/_multilayer_perceptron.py:571: ConvergenceWarning: Stochastic Optimizer: Maximum iterations (200) reached and the optimization hasn't converged yet.\n",
            "  % self.max_iter, ConvergenceWarning)\n",
            "/usr/local/lib/python3.7/dist-packages/sklearn/neural_network/_multilayer_perceptron.py:571: ConvergenceWarning: Stochastic Optimizer: Maximum iterations (200) reached and the optimization hasn't converged yet.\n",
            "  % self.max_iter, ConvergenceWarning)\n",
            "/usr/local/lib/python3.7/dist-packages/sklearn/neural_network/_multilayer_perceptron.py:571: ConvergenceWarning: Stochastic Optimizer: Maximum iterations (200) reached and the optimization hasn't converged yet.\n",
            "  % self.max_iter, ConvergenceWarning)\n",
            "/usr/local/lib/python3.7/dist-packages/sklearn/neural_network/_multilayer_perceptron.py:571: ConvergenceWarning: Stochastic Optimizer: Maximum iterations (200) reached and the optimization hasn't converged yet.\n",
            "  % self.max_iter, ConvergenceWarning)\n"
          ],
          "name": "stderr"
        },
        {
          "output_type": "stream",
          "text": [
            "acurácia %0.2f para kfold, 10 folds 0.8074999999999999\n"
          ],
          "name": "stdout"
        },
        {
          "output_type": "stream",
          "text": [
            "/usr/local/lib/python3.7/dist-packages/sklearn/neural_network/_multilayer_perceptron.py:571: ConvergenceWarning: Stochastic Optimizer: Maximum iterations (200) reached and the optimization hasn't converged yet.\n",
            "  % self.max_iter, ConvergenceWarning)\n"
          ],
          "name": "stderr"
        }
      ]
    },
    {
      "cell_type": "markdown",
      "metadata": {
        "id": "kGsUIJjFB9fz"
      },
      "source": [
        "## Amostra 70%\n",
        "---"
      ]
    },
    {
      "cell_type": "code",
      "metadata": {
        "colab": {
          "base_uri": "https://localhost:8080/"
        },
        "id": "QEA7hfPUCApT",
        "outputId": "eadbcf83-66d3-4998-9cbc-5db4aa898b45"
      },
      "source": [
        "mlp1 = MLPClassifier(alpha=0.0001,learning_rate='constant',activation='identity', hidden_layer_sizes=(20,), solver='sgd')\n",
        "X = dados_amostra70_normalizado.drop(columns=['output'])\n",
        "X_train,X_test,Y_train,Y_test = train_test_split(X,dados_amostra70_normalizado.output,test_size=0.3,stratify=dados_amostra70_normalizado.output)\n",
        "mlp1.fit(X_train,Y_train)\n",
        "y_pred = mlp1.predict(X_test)\n",
        "acuracia1 = accuracy_score(Y_test,y_pred)\n",
        "print(\"Acuracia para n=1,70/30 :\",acuracia1)\n",
        "X = dados_amostra70_normalizado.drop(columns=['output'])\n",
        "X_train,X_test,Y_train,Y_test = train_test_split(X,dados_amostra70_normalizado.output,test_size=0.2,stratify=dados_amostra70_normalizado.output)\n",
        "mlp2 = MLPClassifier(alpha=0.0001,learning_rate='constant',activation='identity', hidden_layer_sizes=(20,), solver='sgd')\n",
        "mlp2.fit(X_train,Y_train)\n",
        "y_pred = mlp2.predict(X_test)\n",
        "acuracia2 = accuracy_score(Y_test,y_pred)\n",
        "print(\"Acuracia para n=1,80/20 :\",acuracia2)\n",
        "X = dados_amostra70_normalizado.drop(columns=['output'])\n",
        "X_train,X_test,Y_train,Y_test = train_test_split(X,dados_amostra70_normalizado.output,test_size=0.1,stratify=dados_amostra70_normalizado.output)\n",
        "mlp3 = MLPClassifier(alpha=0.0001,learning_rate='constant',activation='identity', hidden_layer_sizes=(20,), solver='sgd')\n",
        "mlp3.fit(X_train,Y_train)\n",
        "y_pred = mlp3.predict(X_test)\n",
        "acuracia3 = accuracy_score(Y_test,y_pred)\n",
        "print(\"Acuracia para n=1,90/10 :\",acuracia3)\n",
        "y = dados_amostra70_normalizado['output']\n",
        "mlp4 = MLPClassifier(alpha=0.0001,learning_rate='constant',activation='identity', hidden_layer_sizes=(20,), solver='sgd')\n",
        "scores = cross_val_score(mlp4, X, y, cv=10)\n",
        "print(\"acurácia %0.2f para kfold, 10 folds\",scores.mean())"
      ],
      "execution_count": 64,
      "outputs": [
        {
          "output_type": "stream",
          "text": [
            "/usr/local/lib/python3.7/dist-packages/sklearn/neural_network/_multilayer_perceptron.py:571: ConvergenceWarning: Stochastic Optimizer: Maximum iterations (200) reached and the optimization hasn't converged yet.\n",
            "  % self.max_iter, ConvergenceWarning)\n"
          ],
          "name": "stderr"
        },
        {
          "output_type": "stream",
          "text": [
            "Acuracia para n=1,70/30 : 0.796875\n"
          ],
          "name": "stdout"
        },
        {
          "output_type": "stream",
          "text": [
            "/usr/local/lib/python3.7/dist-packages/sklearn/neural_network/_multilayer_perceptron.py:571: ConvergenceWarning: Stochastic Optimizer: Maximum iterations (200) reached and the optimization hasn't converged yet.\n",
            "  % self.max_iter, ConvergenceWarning)\n",
            "/usr/local/lib/python3.7/dist-packages/sklearn/neural_network/_multilayer_perceptron.py:571: ConvergenceWarning: Stochastic Optimizer: Maximum iterations (200) reached and the optimization hasn't converged yet.\n",
            "  % self.max_iter, ConvergenceWarning)\n"
          ],
          "name": "stderr"
        },
        {
          "output_type": "stream",
          "text": [
            "Acuracia para n=1,80/20 : 0.813953488372093\n",
            "Acuracia para n=1,90/10 : 0.9090909090909091\n"
          ],
          "name": "stdout"
        },
        {
          "output_type": "stream",
          "text": [
            "/usr/local/lib/python3.7/dist-packages/sklearn/neural_network/_multilayer_perceptron.py:571: ConvergenceWarning: Stochastic Optimizer: Maximum iterations (200) reached and the optimization hasn't converged yet.\n",
            "  % self.max_iter, ConvergenceWarning)\n",
            "/usr/local/lib/python3.7/dist-packages/sklearn/neural_network/_multilayer_perceptron.py:571: ConvergenceWarning: Stochastic Optimizer: Maximum iterations (200) reached and the optimization hasn't converged yet.\n",
            "  % self.max_iter, ConvergenceWarning)\n",
            "/usr/local/lib/python3.7/dist-packages/sklearn/neural_network/_multilayer_perceptron.py:571: ConvergenceWarning: Stochastic Optimizer: Maximum iterations (200) reached and the optimization hasn't converged yet.\n",
            "  % self.max_iter, ConvergenceWarning)\n",
            "/usr/local/lib/python3.7/dist-packages/sklearn/neural_network/_multilayer_perceptron.py:571: ConvergenceWarning: Stochastic Optimizer: Maximum iterations (200) reached and the optimization hasn't converged yet.\n",
            "  % self.max_iter, ConvergenceWarning)\n",
            "/usr/local/lib/python3.7/dist-packages/sklearn/neural_network/_multilayer_perceptron.py:571: ConvergenceWarning: Stochastic Optimizer: Maximum iterations (200) reached and the optimization hasn't converged yet.\n",
            "  % self.max_iter, ConvergenceWarning)\n",
            "/usr/local/lib/python3.7/dist-packages/sklearn/neural_network/_multilayer_perceptron.py:571: ConvergenceWarning: Stochastic Optimizer: Maximum iterations (200) reached and the optimization hasn't converged yet.\n",
            "  % self.max_iter, ConvergenceWarning)\n",
            "/usr/local/lib/python3.7/dist-packages/sklearn/neural_network/_multilayer_perceptron.py:571: ConvergenceWarning: Stochastic Optimizer: Maximum iterations (200) reached and the optimization hasn't converged yet.\n",
            "  % self.max_iter, ConvergenceWarning)\n",
            "/usr/local/lib/python3.7/dist-packages/sklearn/neural_network/_multilayer_perceptron.py:571: ConvergenceWarning: Stochastic Optimizer: Maximum iterations (200) reached and the optimization hasn't converged yet.\n",
            "  % self.max_iter, ConvergenceWarning)\n",
            "/usr/local/lib/python3.7/dist-packages/sklearn/neural_network/_multilayer_perceptron.py:571: ConvergenceWarning: Stochastic Optimizer: Maximum iterations (200) reached and the optimization hasn't converged yet.\n",
            "  % self.max_iter, ConvergenceWarning)\n"
          ],
          "name": "stderr"
        },
        {
          "output_type": "stream",
          "text": [
            "acurácia %0.2f para kfold, 10 folds 0.7822510822510822\n"
          ],
          "name": "stdout"
        },
        {
          "output_type": "stream",
          "text": [
            "/usr/local/lib/python3.7/dist-packages/sklearn/neural_network/_multilayer_perceptron.py:571: ConvergenceWarning: Stochastic Optimizer: Maximum iterations (200) reached and the optimization hasn't converged yet.\n",
            "  % self.max_iter, ConvergenceWarning)\n"
          ],
          "name": "stderr"
        }
      ]
    },
    {
      "cell_type": "code",
      "metadata": {
        "colab": {
          "base_uri": "https://localhost:8080/"
        },
        "id": "_cd9a8-jCPNI",
        "outputId": "40107790-eb9f-4d58-b4a0-8cd36d67e433"
      },
      "source": [
        "mlp1 = MLPClassifier(alpha=0.0001,learning_rate='constant',activation='identity', hidden_layer_sizes=(21,), solver='sgd')\n",
        "X = dados_amostra70_normalizado.drop(columns=['output'])\n",
        "X_train,X_test,Y_train,Y_test = train_test_split(X,dados_amostra70_normalizado.output,test_size=0.3,stratify=dados_amostra70_normalizado.output)\n",
        "mlp1.fit(X_train,Y_train)\n",
        "y_pred = mlp1.predict(X_test)\n",
        "acuracia1 = accuracy_score(Y_test,y_pred)\n",
        "print(\"Acuracia para n=1,70/30 :\",acuracia1)\n",
        "X = dados_amostra70_normalizado.drop(columns=['output'])\n",
        "X_train,X_test,Y_train,Y_test = train_test_split(X,dados_amostra70_normalizado.output,test_size=0.2,stratify=dados_amostra70_normalizado.output)\n",
        "mlp2 = MLPClassifier(alpha=0.0001,learning_rate='constant',activation='identity', hidden_layer_sizes=(21,), solver='sgd')\n",
        "mlp2.fit(X_train,Y_train)\n",
        "y_pred = mlp2.predict(X_test)\n",
        "acuracia2 = accuracy_score(Y_test,y_pred)\n",
        "print(\"Acuracia para n=1,80/20 :\",acuracia2)\n",
        "X = dados_amostra70_normalizado.drop(columns=['output'])\n",
        "X_train,X_test,Y_train,Y_test = train_test_split(X,dados_amostra70_normalizado.output,test_size=0.1,stratify=dados_amostra70_normalizado.output)\n",
        "mlp3 = MLPClassifier(alpha=0.0001,learning_rate='constant',activation='identity', hidden_layer_sizes=(21,), solver='sgd')\n",
        "mlp3.fit(X_train,Y_train)\n",
        "y_pred = mlp3.predict(X_test)\n",
        "acuracia3 = accuracy_score(Y_test,y_pred)\n",
        "print(\"Acuracia para n=1,90/10 :\",acuracia3)\n",
        "y = dados_amostra70_normalizado['output']\n",
        "mlp4 = MLPClassifier(alpha=0.0001,learning_rate='constant',activation='identity', hidden_layer_sizes=(21,), solver='sgd')\n",
        "scores = cross_val_score(mlp4, X, y, cv=10)\n",
        "print(\"acurácia %0.2f para kfold, 10 folds\",scores.mean())"
      ],
      "execution_count": 65,
      "outputs": [
        {
          "output_type": "stream",
          "text": [
            "/usr/local/lib/python3.7/dist-packages/sklearn/neural_network/_multilayer_perceptron.py:571: ConvergenceWarning: Stochastic Optimizer: Maximum iterations (200) reached and the optimization hasn't converged yet.\n",
            "  % self.max_iter, ConvergenceWarning)\n"
          ],
          "name": "stderr"
        },
        {
          "output_type": "stream",
          "text": [
            "Acuracia para n=1,70/30 : 0.84375\n"
          ],
          "name": "stdout"
        },
        {
          "output_type": "stream",
          "text": [
            "/usr/local/lib/python3.7/dist-packages/sklearn/neural_network/_multilayer_perceptron.py:571: ConvergenceWarning: Stochastic Optimizer: Maximum iterations (200) reached and the optimization hasn't converged yet.\n",
            "  % self.max_iter, ConvergenceWarning)\n"
          ],
          "name": "stderr"
        },
        {
          "output_type": "stream",
          "text": [
            "Acuracia para n=1,80/20 : 0.7209302325581395\n"
          ],
          "name": "stdout"
        },
        {
          "output_type": "stream",
          "text": [
            "/usr/local/lib/python3.7/dist-packages/sklearn/neural_network/_multilayer_perceptron.py:571: ConvergenceWarning: Stochastic Optimizer: Maximum iterations (200) reached and the optimization hasn't converged yet.\n",
            "  % self.max_iter, ConvergenceWarning)\n"
          ],
          "name": "stderr"
        },
        {
          "output_type": "stream",
          "text": [
            "Acuracia para n=1,90/10 : 0.9090909090909091\n"
          ],
          "name": "stdout"
        },
        {
          "output_type": "stream",
          "text": [
            "/usr/local/lib/python3.7/dist-packages/sklearn/neural_network/_multilayer_perceptron.py:571: ConvergenceWarning: Stochastic Optimizer: Maximum iterations (200) reached and the optimization hasn't converged yet.\n",
            "  % self.max_iter, ConvergenceWarning)\n",
            "/usr/local/lib/python3.7/dist-packages/sklearn/neural_network/_multilayer_perceptron.py:571: ConvergenceWarning: Stochastic Optimizer: Maximum iterations (200) reached and the optimization hasn't converged yet.\n",
            "  % self.max_iter, ConvergenceWarning)\n",
            "/usr/local/lib/python3.7/dist-packages/sklearn/neural_network/_multilayer_perceptron.py:571: ConvergenceWarning: Stochastic Optimizer: Maximum iterations (200) reached and the optimization hasn't converged yet.\n",
            "  % self.max_iter, ConvergenceWarning)\n",
            "/usr/local/lib/python3.7/dist-packages/sklearn/neural_network/_multilayer_perceptron.py:571: ConvergenceWarning: Stochastic Optimizer: Maximum iterations (200) reached and the optimization hasn't converged yet.\n",
            "  % self.max_iter, ConvergenceWarning)\n",
            "/usr/local/lib/python3.7/dist-packages/sklearn/neural_network/_multilayer_perceptron.py:571: ConvergenceWarning: Stochastic Optimizer: Maximum iterations (200) reached and the optimization hasn't converged yet.\n",
            "  % self.max_iter, ConvergenceWarning)\n",
            "/usr/local/lib/python3.7/dist-packages/sklearn/neural_network/_multilayer_perceptron.py:571: ConvergenceWarning: Stochastic Optimizer: Maximum iterations (200) reached and the optimization hasn't converged yet.\n",
            "  % self.max_iter, ConvergenceWarning)\n",
            "/usr/local/lib/python3.7/dist-packages/sklearn/neural_network/_multilayer_perceptron.py:571: ConvergenceWarning: Stochastic Optimizer: Maximum iterations (200) reached and the optimization hasn't converged yet.\n",
            "  % self.max_iter, ConvergenceWarning)\n",
            "/usr/local/lib/python3.7/dist-packages/sklearn/neural_network/_multilayer_perceptron.py:571: ConvergenceWarning: Stochastic Optimizer: Maximum iterations (200) reached and the optimization hasn't converged yet.\n",
            "  % self.max_iter, ConvergenceWarning)\n",
            "/usr/local/lib/python3.7/dist-packages/sklearn/neural_network/_multilayer_perceptron.py:571: ConvergenceWarning: Stochastic Optimizer: Maximum iterations (200) reached and the optimization hasn't converged yet.\n",
            "  % self.max_iter, ConvergenceWarning)\n"
          ],
          "name": "stderr"
        },
        {
          "output_type": "stream",
          "text": [
            "acurácia %0.2f para kfold, 10 folds 0.7824675324675325\n"
          ],
          "name": "stdout"
        },
        {
          "output_type": "stream",
          "text": [
            "/usr/local/lib/python3.7/dist-packages/sklearn/neural_network/_multilayer_perceptron.py:571: ConvergenceWarning: Stochastic Optimizer: Maximum iterations (200) reached and the optimization hasn't converged yet.\n",
            "  % self.max_iter, ConvergenceWarning)\n"
          ],
          "name": "stderr"
        }
      ]
    },
    {
      "cell_type": "code",
      "metadata": {
        "colab": {
          "base_uri": "https://localhost:8080/"
        },
        "id": "lzts7d9OCSIb",
        "outputId": "99d2b3b7-4c94-4065-c0a0-b60e6d67935b"
      },
      "source": [
        "mlp1 = MLPClassifier(alpha=0.0001,learning_rate='constant',activation='identity', hidden_layer_sizes=(22,), solver='sgd')\n",
        "X = dados_amostra70_normalizado.drop(columns=['output'])\n",
        "X_train,X_test,Y_train,Y_test = train_test_split(X,dados_amostra70_normalizado.output,test_size=0.3,stratify=dados_amostra70_normalizado.output)\n",
        "mlp1.fit(X_train,Y_train)\n",
        "y_pred = mlp1.predict(X_test)\n",
        "acuracia1 = accuracy_score(Y_test,y_pred)\n",
        "print(\"Acuracia para n=1,70/30 :\",acuracia1)\n",
        "X = dados_amostra70_normalizado.drop(columns=['output'])\n",
        "X_train,X_test,Y_train,Y_test = train_test_split(X,dados_amostra70_normalizado.output,test_size=0.2,stratify=dados_amostra70_normalizado.output)\n",
        "mlp2 = MLPClassifier(alpha=0.0001,learning_rate='constant',activation='identity', hidden_layer_sizes=(22,), solver='sgd')\n",
        "mlp2.fit(X_train,Y_train)\n",
        "y_pred = mlp2.predict(X_test)\n",
        "acuracia2 = accuracy_score(Y_test,y_pred)\n",
        "print(\"Acuracia para n=1,80/20 :\",acuracia2)\n",
        "X = dados_amostra70_normalizado.drop(columns=['output'])\n",
        "X_train,X_test,Y_train,Y_test = train_test_split(X,dados_amostra70_normalizado.output,test_size=0.1,stratify=dados_amostra70_normalizado.output)\n",
        "mlp3 = MLPClassifier(alpha=0.0001,learning_rate='constant',activation='identity', hidden_layer_sizes=(22,), solver='sgd')\n",
        "mlp3.fit(X_train,Y_train)\n",
        "y_pred = mlp3.predict(X_test)\n",
        "acuracia3 = accuracy_score(Y_test,y_pred)\n",
        "print(\"Acuracia para n=1,90/10 :\",acuracia3)\n",
        "y = dados_amostra70_normalizado['output']\n",
        "mlp4 = MLPClassifier(alpha=0.0001,learning_rate='constant',activation='identity', hidden_layer_sizes=(22,), solver='sgd')\n",
        "scores = cross_val_score(mlp4, X, y, cv=10)\n",
        "print(\"acurácia %0.2f para kfold, 10 folds\",scores.mean())"
      ],
      "execution_count": 66,
      "outputs": [
        {
          "output_type": "stream",
          "text": [
            "/usr/local/lib/python3.7/dist-packages/sklearn/neural_network/_multilayer_perceptron.py:571: ConvergenceWarning: Stochastic Optimizer: Maximum iterations (200) reached and the optimization hasn't converged yet.\n",
            "  % self.max_iter, ConvergenceWarning)\n"
          ],
          "name": "stderr"
        },
        {
          "output_type": "stream",
          "text": [
            "Acuracia para n=1,70/30 : 0.75\n"
          ],
          "name": "stdout"
        },
        {
          "output_type": "stream",
          "text": [
            "/usr/local/lib/python3.7/dist-packages/sklearn/neural_network/_multilayer_perceptron.py:571: ConvergenceWarning: Stochastic Optimizer: Maximum iterations (200) reached and the optimization hasn't converged yet.\n",
            "  % self.max_iter, ConvergenceWarning)\n"
          ],
          "name": "stderr"
        },
        {
          "output_type": "stream",
          "text": [
            "Acuracia para n=1,80/20 : 0.7441860465116279\n"
          ],
          "name": "stdout"
        },
        {
          "output_type": "stream",
          "text": [
            "/usr/local/lib/python3.7/dist-packages/sklearn/neural_network/_multilayer_perceptron.py:571: ConvergenceWarning: Stochastic Optimizer: Maximum iterations (200) reached and the optimization hasn't converged yet.\n",
            "  % self.max_iter, ConvergenceWarning)\n"
          ],
          "name": "stderr"
        },
        {
          "output_type": "stream",
          "text": [
            "Acuracia para n=1,90/10 : 0.7727272727272727\n"
          ],
          "name": "stdout"
        },
        {
          "output_type": "stream",
          "text": [
            "/usr/local/lib/python3.7/dist-packages/sklearn/neural_network/_multilayer_perceptron.py:571: ConvergenceWarning: Stochastic Optimizer: Maximum iterations (200) reached and the optimization hasn't converged yet.\n",
            "  % self.max_iter, ConvergenceWarning)\n",
            "/usr/local/lib/python3.7/dist-packages/sklearn/neural_network/_multilayer_perceptron.py:571: ConvergenceWarning: Stochastic Optimizer: Maximum iterations (200) reached and the optimization hasn't converged yet.\n",
            "  % self.max_iter, ConvergenceWarning)\n",
            "/usr/local/lib/python3.7/dist-packages/sklearn/neural_network/_multilayer_perceptron.py:571: ConvergenceWarning: Stochastic Optimizer: Maximum iterations (200) reached and the optimization hasn't converged yet.\n",
            "  % self.max_iter, ConvergenceWarning)\n",
            "/usr/local/lib/python3.7/dist-packages/sklearn/neural_network/_multilayer_perceptron.py:571: ConvergenceWarning: Stochastic Optimizer: Maximum iterations (200) reached and the optimization hasn't converged yet.\n",
            "  % self.max_iter, ConvergenceWarning)\n",
            "/usr/local/lib/python3.7/dist-packages/sklearn/neural_network/_multilayer_perceptron.py:571: ConvergenceWarning: Stochastic Optimizer: Maximum iterations (200) reached and the optimization hasn't converged yet.\n",
            "  % self.max_iter, ConvergenceWarning)\n",
            "/usr/local/lib/python3.7/dist-packages/sklearn/neural_network/_multilayer_perceptron.py:571: ConvergenceWarning: Stochastic Optimizer: Maximum iterations (200) reached and the optimization hasn't converged yet.\n",
            "  % self.max_iter, ConvergenceWarning)\n",
            "/usr/local/lib/python3.7/dist-packages/sklearn/neural_network/_multilayer_perceptron.py:571: ConvergenceWarning: Stochastic Optimizer: Maximum iterations (200) reached and the optimization hasn't converged yet.\n",
            "  % self.max_iter, ConvergenceWarning)\n",
            "/usr/local/lib/python3.7/dist-packages/sklearn/neural_network/_multilayer_perceptron.py:571: ConvergenceWarning: Stochastic Optimizer: Maximum iterations (200) reached and the optimization hasn't converged yet.\n",
            "  % self.max_iter, ConvergenceWarning)\n",
            "/usr/local/lib/python3.7/dist-packages/sklearn/neural_network/_multilayer_perceptron.py:571: ConvergenceWarning: Stochastic Optimizer: Maximum iterations (200) reached and the optimization hasn't converged yet.\n",
            "  % self.max_iter, ConvergenceWarning)\n"
          ],
          "name": "stderr"
        },
        {
          "output_type": "stream",
          "text": [
            "acurácia %0.2f para kfold, 10 folds 0.7774891774891775\n"
          ],
          "name": "stdout"
        },
        {
          "output_type": "stream",
          "text": [
            "/usr/local/lib/python3.7/dist-packages/sklearn/neural_network/_multilayer_perceptron.py:571: ConvergenceWarning: Stochastic Optimizer: Maximum iterations (200) reached and the optimization hasn't converged yet.\n",
            "  % self.max_iter, ConvergenceWarning)\n"
          ],
          "name": "stderr"
        }
      ]
    },
    {
      "cell_type": "code",
      "metadata": {
        "colab": {
          "base_uri": "https://localhost:8080/"
        },
        "id": "jlWESZMqCSaY",
        "outputId": "6b69efb3-10b5-494d-e151-7e0c2cc37958"
      },
      "source": [
        "mlp1 = MLPClassifier(alpha=0.0001,learning_rate='constant',activation='identity', hidden_layer_sizes=(23,), solver='sgd')\n",
        "X = dados_amostra70_normalizado.drop(columns=['output'])\n",
        "X_train,X_test,Y_train,Y_test = train_test_split(X,dados_amostra70_normalizado.output,test_size=0.3,stratify=dados_amostra70_normalizado.output)\n",
        "mlp1.fit(X_train,Y_train)\n",
        "y_pred = mlp1.predict(X_test)\n",
        "acuracia1 = accuracy_score(Y_test,y_pred)\n",
        "print(\"Acuracia para n=1,70/30 :\",acuracia1)\n",
        "X = dados_amostra70_normalizado.drop(columns=['output'])\n",
        "X_train,X_test,Y_train,Y_test = train_test_split(X,dados_amostra70_normalizado.output,test_size=0.2,stratify=dados_amostra70_normalizado.output)\n",
        "mlp2 = MLPClassifier(alpha=0.0001,learning_rate='constant',activation='identity', hidden_layer_sizes=(23,), solver='sgd')\n",
        "mlp2.fit(X_train,Y_train)\n",
        "y_pred = mlp2.predict(X_test)\n",
        "acuracia2 = accuracy_score(Y_test,y_pred)\n",
        "print(\"Acuracia para n=1,80/20 :\",acuracia2)\n",
        "X = dados_amostra70_normalizado.drop(columns=['output'])\n",
        "X_train,X_test,Y_train,Y_test = train_test_split(X,dados_amostra70_normalizado.output,test_size=0.1,stratify=dados_amostra70_normalizado.output)\n",
        "mlp3 = MLPClassifier(alpha=0.0001,learning_rate='constant',activation='identity', hidden_layer_sizes=(23,), solver='sgd')\n",
        "mlp3.fit(X_train,Y_train)\n",
        "y_pred = mlp3.predict(X_test)\n",
        "acuracia3 = accuracy_score(Y_test,y_pred)\n",
        "print(\"Acuracia para n=1,90/10 :\",acuracia3)\n",
        "y = dados_amostra70_normalizado['output']\n",
        "mlp4 = MLPClassifier(alpha=0.0001,learning_rate='constant',activation='identity', hidden_layer_sizes=(23,), solver='sgd')\n",
        "scores = cross_val_score(mlp4, X, y, cv=10)\n",
        "print(\"acurácia %0.2f para kfold, 10 folds\",scores.mean())"
      ],
      "execution_count": 67,
      "outputs": [
        {
          "output_type": "stream",
          "text": [
            "/usr/local/lib/python3.7/dist-packages/sklearn/neural_network/_multilayer_perceptron.py:571: ConvergenceWarning: Stochastic Optimizer: Maximum iterations (200) reached and the optimization hasn't converged yet.\n",
            "  % self.max_iter, ConvergenceWarning)\n"
          ],
          "name": "stderr"
        },
        {
          "output_type": "stream",
          "text": [
            "Acuracia para n=1,70/30 : 0.796875\n"
          ],
          "name": "stdout"
        },
        {
          "output_type": "stream",
          "text": [
            "/usr/local/lib/python3.7/dist-packages/sklearn/neural_network/_multilayer_perceptron.py:571: ConvergenceWarning: Stochastic Optimizer: Maximum iterations (200) reached and the optimization hasn't converged yet.\n",
            "  % self.max_iter, ConvergenceWarning)\n"
          ],
          "name": "stderr"
        },
        {
          "output_type": "stream",
          "text": [
            "Acuracia para n=1,80/20 : 0.813953488372093\n"
          ],
          "name": "stdout"
        },
        {
          "output_type": "stream",
          "text": [
            "/usr/local/lib/python3.7/dist-packages/sklearn/neural_network/_multilayer_perceptron.py:571: ConvergenceWarning: Stochastic Optimizer: Maximum iterations (200) reached and the optimization hasn't converged yet.\n",
            "  % self.max_iter, ConvergenceWarning)\n"
          ],
          "name": "stderr"
        },
        {
          "output_type": "stream",
          "text": [
            "Acuracia para n=1,90/10 : 0.7272727272727273\n"
          ],
          "name": "stdout"
        },
        {
          "output_type": "stream",
          "text": [
            "/usr/local/lib/python3.7/dist-packages/sklearn/neural_network/_multilayer_perceptron.py:571: ConvergenceWarning: Stochastic Optimizer: Maximum iterations (200) reached and the optimization hasn't converged yet.\n",
            "  % self.max_iter, ConvergenceWarning)\n",
            "/usr/local/lib/python3.7/dist-packages/sklearn/neural_network/_multilayer_perceptron.py:571: ConvergenceWarning: Stochastic Optimizer: Maximum iterations (200) reached and the optimization hasn't converged yet.\n",
            "  % self.max_iter, ConvergenceWarning)\n",
            "/usr/local/lib/python3.7/dist-packages/sklearn/neural_network/_multilayer_perceptron.py:571: ConvergenceWarning: Stochastic Optimizer: Maximum iterations (200) reached and the optimization hasn't converged yet.\n",
            "  % self.max_iter, ConvergenceWarning)\n",
            "/usr/local/lib/python3.7/dist-packages/sklearn/neural_network/_multilayer_perceptron.py:571: ConvergenceWarning: Stochastic Optimizer: Maximum iterations (200) reached and the optimization hasn't converged yet.\n",
            "  % self.max_iter, ConvergenceWarning)\n",
            "/usr/local/lib/python3.7/dist-packages/sklearn/neural_network/_multilayer_perceptron.py:571: ConvergenceWarning: Stochastic Optimizer: Maximum iterations (200) reached and the optimization hasn't converged yet.\n",
            "  % self.max_iter, ConvergenceWarning)\n",
            "/usr/local/lib/python3.7/dist-packages/sklearn/neural_network/_multilayer_perceptron.py:571: ConvergenceWarning: Stochastic Optimizer: Maximum iterations (200) reached and the optimization hasn't converged yet.\n",
            "  % self.max_iter, ConvergenceWarning)\n",
            "/usr/local/lib/python3.7/dist-packages/sklearn/neural_network/_multilayer_perceptron.py:571: ConvergenceWarning: Stochastic Optimizer: Maximum iterations (200) reached and the optimization hasn't converged yet.\n",
            "  % self.max_iter, ConvergenceWarning)\n",
            "/usr/local/lib/python3.7/dist-packages/sklearn/neural_network/_multilayer_perceptron.py:571: ConvergenceWarning: Stochastic Optimizer: Maximum iterations (200) reached and the optimization hasn't converged yet.\n",
            "  % self.max_iter, ConvergenceWarning)\n",
            "/usr/local/lib/python3.7/dist-packages/sklearn/neural_network/_multilayer_perceptron.py:571: ConvergenceWarning: Stochastic Optimizer: Maximum iterations (200) reached and the optimization hasn't converged yet.\n",
            "  % self.max_iter, ConvergenceWarning)\n"
          ],
          "name": "stderr"
        },
        {
          "output_type": "stream",
          "text": [
            "acurácia %0.2f para kfold, 10 folds 0.814935064935065\n"
          ],
          "name": "stdout"
        },
        {
          "output_type": "stream",
          "text": [
            "/usr/local/lib/python3.7/dist-packages/sklearn/neural_network/_multilayer_perceptron.py:571: ConvergenceWarning: Stochastic Optimizer: Maximum iterations (200) reached and the optimization hasn't converged yet.\n",
            "  % self.max_iter, ConvergenceWarning)\n"
          ],
          "name": "stderr"
        }
      ]
    },
    {
      "cell_type": "code",
      "metadata": {
        "colab": {
          "base_uri": "https://localhost:8080/"
        },
        "id": "stIrhzjxCSoQ",
        "outputId": "0b539949-c598-473d-b439-d55d6c887b8e"
      },
      "source": [
        "mlp1 = MLPClassifier(alpha=0.0001,learning_rate='constant',activation='identity', hidden_layer_sizes=(24,), solver='sgd')\n",
        "X = dados_amostra70_normalizado.drop(columns=['output'])\n",
        "X_train,X_test,Y_train,Y_test = train_test_split(X,dados_amostra70_normalizado.output,test_size=0.3,stratify=dados_amostra70_normalizado.output)\n",
        "mlp1.fit(X_train,Y_train)\n",
        "y_pred = mlp1.predict(X_test)\n",
        "acuracia1 = accuracy_score(Y_test,y_pred)\n",
        "print(\"Acuracia para n=1,70/30 :\",acuracia1)\n",
        "X = dados_amostra70_normalizado.drop(columns=['output'])\n",
        "X_train,X_test,Y_train,Y_test = train_test_split(X,dados_amostra70_normalizado.output,test_size=0.2,stratify=dados_amostra70_normalizado.output)\n",
        "mlp2 = MLPClassifier(alpha=0.0001,learning_rate='constant',activation='identity', hidden_layer_sizes=(24,), solver='sgd')\n",
        "mlp2.fit(X_train,Y_train)\n",
        "y_pred = mlp2.predict(X_test)\n",
        "acuracia2 = accuracy_score(Y_test,y_pred)\n",
        "print(\"Acuracia para n=1,80/20 :\",acuracia2)\n",
        "X = dados_amostra70_normalizado.drop(columns=['output'])\n",
        "X_train,X_test,Y_train,Y_test = train_test_split(X,dados_amostra70_normalizado.output,test_size=0.1,stratify=dados_amostra70_normalizado.output)\n",
        "mlp3 = MLPClassifier(alpha=0.0001,learning_rate='constant',activation='identity', hidden_layer_sizes=(24,), solver='sgd')\n",
        "mlp3.fit(X_train,Y_train)\n",
        "y_pred = mlp3.predict(X_test)\n",
        "acuracia3 = accuracy_score(Y_test,y_pred)\n",
        "print(\"Acuracia para n=1,90/10 :\",acuracia3)\n",
        "y = dados_amostra70_normalizado['output']\n",
        "mlp4 = MLPClassifier(alpha=0.0001,learning_rate='constant',activation='identity', hidden_layer_sizes=(24,), solver='sgd')\n",
        "scores = cross_val_score(mlp4, X, y, cv=10)\n",
        "print(\"acurácia %0.2f para kfold, 10 folds\",scores.mean())"
      ],
      "execution_count": 68,
      "outputs": [
        {
          "output_type": "stream",
          "text": [
            "/usr/local/lib/python3.7/dist-packages/sklearn/neural_network/_multilayer_perceptron.py:571: ConvergenceWarning: Stochastic Optimizer: Maximum iterations (200) reached and the optimization hasn't converged yet.\n",
            "  % self.max_iter, ConvergenceWarning)\n"
          ],
          "name": "stderr"
        },
        {
          "output_type": "stream",
          "text": [
            "Acuracia para n=1,70/30 : 0.84375\n"
          ],
          "name": "stdout"
        },
        {
          "output_type": "stream",
          "text": [
            "/usr/local/lib/python3.7/dist-packages/sklearn/neural_network/_multilayer_perceptron.py:571: ConvergenceWarning: Stochastic Optimizer: Maximum iterations (200) reached and the optimization hasn't converged yet.\n",
            "  % self.max_iter, ConvergenceWarning)\n"
          ],
          "name": "stderr"
        },
        {
          "output_type": "stream",
          "text": [
            "Acuracia para n=1,80/20 : 0.8604651162790697\n"
          ],
          "name": "stdout"
        },
        {
          "output_type": "stream",
          "text": [
            "/usr/local/lib/python3.7/dist-packages/sklearn/neural_network/_multilayer_perceptron.py:571: ConvergenceWarning: Stochastic Optimizer: Maximum iterations (200) reached and the optimization hasn't converged yet.\n",
            "  % self.max_iter, ConvergenceWarning)\n"
          ],
          "name": "stderr"
        },
        {
          "output_type": "stream",
          "text": [
            "Acuracia para n=1,90/10 : 0.7272727272727273\n"
          ],
          "name": "stdout"
        },
        {
          "output_type": "stream",
          "text": [
            "/usr/local/lib/python3.7/dist-packages/sklearn/neural_network/_multilayer_perceptron.py:571: ConvergenceWarning: Stochastic Optimizer: Maximum iterations (200) reached and the optimization hasn't converged yet.\n",
            "  % self.max_iter, ConvergenceWarning)\n",
            "/usr/local/lib/python3.7/dist-packages/sklearn/neural_network/_multilayer_perceptron.py:571: ConvergenceWarning: Stochastic Optimizer: Maximum iterations (200) reached and the optimization hasn't converged yet.\n",
            "  % self.max_iter, ConvergenceWarning)\n",
            "/usr/local/lib/python3.7/dist-packages/sklearn/neural_network/_multilayer_perceptron.py:571: ConvergenceWarning: Stochastic Optimizer: Maximum iterations (200) reached and the optimization hasn't converged yet.\n",
            "  % self.max_iter, ConvergenceWarning)\n",
            "/usr/local/lib/python3.7/dist-packages/sklearn/neural_network/_multilayer_perceptron.py:571: ConvergenceWarning: Stochastic Optimizer: Maximum iterations (200) reached and the optimization hasn't converged yet.\n",
            "  % self.max_iter, ConvergenceWarning)\n",
            "/usr/local/lib/python3.7/dist-packages/sklearn/neural_network/_multilayer_perceptron.py:571: ConvergenceWarning: Stochastic Optimizer: Maximum iterations (200) reached and the optimization hasn't converged yet.\n",
            "  % self.max_iter, ConvergenceWarning)\n",
            "/usr/local/lib/python3.7/dist-packages/sklearn/neural_network/_multilayer_perceptron.py:571: ConvergenceWarning: Stochastic Optimizer: Maximum iterations (200) reached and the optimization hasn't converged yet.\n",
            "  % self.max_iter, ConvergenceWarning)\n",
            "/usr/local/lib/python3.7/dist-packages/sklearn/neural_network/_multilayer_perceptron.py:571: ConvergenceWarning: Stochastic Optimizer: Maximum iterations (200) reached and the optimization hasn't converged yet.\n",
            "  % self.max_iter, ConvergenceWarning)\n",
            "/usr/local/lib/python3.7/dist-packages/sklearn/neural_network/_multilayer_perceptron.py:571: ConvergenceWarning: Stochastic Optimizer: Maximum iterations (200) reached and the optimization hasn't converged yet.\n",
            "  % self.max_iter, ConvergenceWarning)\n",
            "/usr/local/lib/python3.7/dist-packages/sklearn/neural_network/_multilayer_perceptron.py:571: ConvergenceWarning: Stochastic Optimizer: Maximum iterations (200) reached and the optimization hasn't converged yet.\n",
            "  % self.max_iter, ConvergenceWarning)\n"
          ],
          "name": "stderr"
        },
        {
          "output_type": "stream",
          "text": [
            "acurácia %0.2f para kfold, 10 folds 0.7965367965367964\n"
          ],
          "name": "stdout"
        },
        {
          "output_type": "stream",
          "text": [
            "/usr/local/lib/python3.7/dist-packages/sklearn/neural_network/_multilayer_perceptron.py:571: ConvergenceWarning: Stochastic Optimizer: Maximum iterations (200) reached and the optimization hasn't converged yet.\n",
            "  % self.max_iter, ConvergenceWarning)\n"
          ],
          "name": "stderr"
        }
      ]
    }
  ]
}