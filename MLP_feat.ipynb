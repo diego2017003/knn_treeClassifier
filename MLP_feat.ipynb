{
  "nbformat": 4,
  "nbformat_minor": 0,
  "metadata": {
    "colab": {
      "name": "MLP_feat.ipynb",
      "provenance": [],
      "authorship_tag": "ABX9TyP23sbojnwGMKcnb44rtpZY",
      "include_colab_link": true
    },
    "kernelspec": {
      "name": "python3",
      "display_name": "Python 3"
    },
    "language_info": {
      "name": "python"
    }
  },
  "cells": [
    {
      "cell_type": "markdown",
      "metadata": {
        "id": "view-in-github",
        "colab_type": "text"
      },
      "source": [
        "<a href=\"https://colab.research.google.com/github/diego2017003/knn_treeClassifier/blob/main/MLP_feat.ipynb\" target=\"_parent\"><img src=\"https://colab.research.google.com/assets/colab-badge.svg\" alt=\"Open In Colab\"/></a>"
      ]
    },
    {
      "cell_type": "code",
      "metadata": {
        "colab": {
          "base_uri": "https://localhost:8080/",
          "height": 206
        },
        "id": "HNU8EeSN8aMF",
        "outputId": "ac922f66-e344-41c5-ac3a-6de2fb08df86"
      },
      "source": [
        "import pandas as pd\n",
        "dados_preProcessado = pd.read_csv('https://raw.githubusercontent.com/diego2017003/knn_treeClassifier/main/dados_preProcessados.csv')\n",
        "dados_originais = pd.read_csv('https://raw.githubusercontent.com/diego2017003/knn_treeClassifier/main/heart.csv')\n",
        "dados_preProcessado.drop(columns=['Unnamed: 0'],inplace=True)\n",
        "dados_amostra30 = pd.read_csv('https://raw.githubusercontent.com/diego2017003/knn_treeClassifier/main/amostra_30_sr.csv?token=AHICD57VCQG2JACG2W6CH6DA4HQEE')\n",
        "dados_amostra50 = pd.read_csv('https://raw.githubusercontent.com/diego2017003/knn_treeClassifier/main/amostra_50_estratificada.csv?token=AHICD577TFMYIROBCPV67PDA4HQHY')\n",
        "dados_amostra70 = pd.read_csv('https://raw.githubusercontent.com/diego2017003/knn_treeClassifier/main/amostra_70_estratificada.csv?token=AHICD52TMNHP253IGVDF243A4HQP4')\n",
        "\n",
        "dados_originais.head()"
      ],
      "execution_count": 7,
      "outputs": [
        {
          "output_type": "execute_result",
          "data": {
            "text/html": [
              "<div>\n",
              "<style scoped>\n",
              "    .dataframe tbody tr th:only-of-type {\n",
              "        vertical-align: middle;\n",
              "    }\n",
              "\n",
              "    .dataframe tbody tr th {\n",
              "        vertical-align: top;\n",
              "    }\n",
              "\n",
              "    .dataframe thead th {\n",
              "        text-align: right;\n",
              "    }\n",
              "</style>\n",
              "<table border=\"1\" class=\"dataframe\">\n",
              "  <thead>\n",
              "    <tr style=\"text-align: right;\">\n",
              "      <th></th>\n",
              "      <th>age</th>\n",
              "      <th>sex</th>\n",
              "      <th>cp</th>\n",
              "      <th>trtbps</th>\n",
              "      <th>chol</th>\n",
              "      <th>fbs</th>\n",
              "      <th>restecg</th>\n",
              "      <th>thalachh</th>\n",
              "      <th>exng</th>\n",
              "      <th>oldpeak</th>\n",
              "      <th>slp</th>\n",
              "      <th>caa</th>\n",
              "      <th>thall</th>\n",
              "      <th>output</th>\n",
              "    </tr>\n",
              "  </thead>\n",
              "  <tbody>\n",
              "    <tr>\n",
              "      <th>0</th>\n",
              "      <td>63</td>\n",
              "      <td>1</td>\n",
              "      <td>3</td>\n",
              "      <td>145</td>\n",
              "      <td>233</td>\n",
              "      <td>1</td>\n",
              "      <td>0</td>\n",
              "      <td>150</td>\n",
              "      <td>0</td>\n",
              "      <td>2.3</td>\n",
              "      <td>0</td>\n",
              "      <td>0</td>\n",
              "      <td>1</td>\n",
              "      <td>1</td>\n",
              "    </tr>\n",
              "    <tr>\n",
              "      <th>1</th>\n",
              "      <td>37</td>\n",
              "      <td>1</td>\n",
              "      <td>2</td>\n",
              "      <td>130</td>\n",
              "      <td>250</td>\n",
              "      <td>0</td>\n",
              "      <td>1</td>\n",
              "      <td>187</td>\n",
              "      <td>0</td>\n",
              "      <td>3.5</td>\n",
              "      <td>0</td>\n",
              "      <td>0</td>\n",
              "      <td>2</td>\n",
              "      <td>1</td>\n",
              "    </tr>\n",
              "    <tr>\n",
              "      <th>2</th>\n",
              "      <td>41</td>\n",
              "      <td>0</td>\n",
              "      <td>1</td>\n",
              "      <td>130</td>\n",
              "      <td>204</td>\n",
              "      <td>0</td>\n",
              "      <td>0</td>\n",
              "      <td>172</td>\n",
              "      <td>0</td>\n",
              "      <td>1.4</td>\n",
              "      <td>2</td>\n",
              "      <td>0</td>\n",
              "      <td>2</td>\n",
              "      <td>1</td>\n",
              "    </tr>\n",
              "    <tr>\n",
              "      <th>3</th>\n",
              "      <td>56</td>\n",
              "      <td>1</td>\n",
              "      <td>1</td>\n",
              "      <td>120</td>\n",
              "      <td>236</td>\n",
              "      <td>0</td>\n",
              "      <td>1</td>\n",
              "      <td>178</td>\n",
              "      <td>0</td>\n",
              "      <td>0.8</td>\n",
              "      <td>2</td>\n",
              "      <td>0</td>\n",
              "      <td>2</td>\n",
              "      <td>1</td>\n",
              "    </tr>\n",
              "    <tr>\n",
              "      <th>4</th>\n",
              "      <td>57</td>\n",
              "      <td>0</td>\n",
              "      <td>0</td>\n",
              "      <td>120</td>\n",
              "      <td>354</td>\n",
              "      <td>0</td>\n",
              "      <td>1</td>\n",
              "      <td>163</td>\n",
              "      <td>1</td>\n",
              "      <td>0.6</td>\n",
              "      <td>2</td>\n",
              "      <td>0</td>\n",
              "      <td>2</td>\n",
              "      <td>1</td>\n",
              "    </tr>\n",
              "  </tbody>\n",
              "</table>\n",
              "</div>"
            ],
            "text/plain": [
              "   age  sex  cp  trtbps  chol  fbs  ...  exng  oldpeak  slp  caa  thall  output\n",
              "0   63    1   3     145   233    1  ...     0      2.3    0    0      1       1\n",
              "1   37    1   2     130   250    0  ...     0      3.5    0    0      2       1\n",
              "2   41    0   1     130   204    0  ...     0      1.4    2    0      2       1\n",
              "3   56    1   1     120   236    0  ...     0      0.8    2    0      2       1\n",
              "4   57    0   0     120   354    0  ...     1      0.6    2    0      2       1\n",
              "\n",
              "[5 rows x 14 columns]"
            ]
          },
          "metadata": {},
          "execution_count": 7
        }
      ]
    },
    {
      "cell_type": "code",
      "metadata": {
        "id": "C52OjAFR7bCm"
      },
      "source": [
        "dados_originais_tratados = dados_originais.copy()\n",
        "dados_originais_tratados.restecg.replace({0:'Normal',1:'Possui_anormalidade',2:'Provável_hipertrofia'}, inplace=True)\n",
        "dados_originais_tratados.cp.replace({1:'Angina_tipica',2:'Angina_atipica',3:'Não_Angina',0:'Assintomatico'}, inplace=True)\n",
        "dados_originais_tratados = pd.get_dummies(dados_originais_tratados , columns=['restecg','cp'] , prefix=['restecg_','cp_'])\n",
        "dados_amostra30.drop(columns=['Unnamed: 0'],inplace=True)\n",
        "dados_amostra50.drop(columns=['Unnamed: 0'],inplace=True)\n",
        "dados_amostra70.drop(columns=['Unnamed: 0'],inplace=True) "
      ],
      "execution_count": 8,
      "outputs": []
    },
    {
      "cell_type": "code",
      "metadata": {
        "id": "JzPvm8wf-SWn"
      },
      "source": [
        "#!pip install pycaret"
      ],
      "execution_count": 9,
      "outputs": []
    },
    {
      "cell_type": "code",
      "metadata": {
        "id": "idKiLbPB-doD"
      },
      "source": [
        "#from pycaret.classification import *"
      ],
      "execution_count": 10,
      "outputs": []
    },
    {
      "cell_type": "code",
      "metadata": {
        "id": "3p3DgEhy-_vE"
      },
      "source": [
        "#s = setup(data=dados_originais,target='output')"
      ],
      "execution_count": 11,
      "outputs": []
    },
    {
      "cell_type": "code",
      "metadata": {
        "id": "nJPkZbXs_sFP"
      },
      "source": [
        "#compare_models()"
      ],
      "execution_count": 12,
      "outputs": []
    },
    {
      "cell_type": "code",
      "metadata": {
        "id": "XKwj_K5K8vrs"
      },
      "source": [
        "# dados_originais_tratados = pd.get_dummies(dados_originais_tratados , columns=['slp','thall','caa'] , prefix=['slp_','thall_','caa_'])\n",
        "# dados_amostra30 = pd.get_dummies(dados_amostra30 , columns=['slp','thall','caa'] , prefix=['slp_','thall_','caa_'])\n",
        "# dados_amostra50 = pd.get_dummies(dados_amostra50 , columns=['slp','thall','caa'] , prefix=['slp_','thall_','caa_'])\n",
        "# dados_amostra70 = pd.get_dummies(dados_amostra70 , columns=['slp','thall','caa'] , prefix=['slp_','thall_','caa_'])\n",
        "from sklearn.preprocessing import StandardScaler\n",
        "from sklearn_pandas import DataFrameMapper\n",
        "from sklearn.neural_network import MLPClassifier\n",
        "from sklearn.model_selection import train_test_split\n",
        "from sklearn.metrics import accuracy_score\n",
        "from sklearn.model_selection import cross_val_score"
      ],
      "execution_count": 13,
      "outputs": []
    },
    {
      "cell_type": "markdown",
      "metadata": {
        "id": "SV1abFX69i2C"
      },
      "source": [
        ""
      ]
    },
    {
      "cell_type": "code",
      "metadata": {
        "id": "ozs2egyK7yfG"
      },
      "source": [
        "columns = ['age','trtbps','chol','thalachh','oldpeak']\n",
        "#dados_originais_normalizados = dados_originais_tratados.loc[:,columns]\n",
        "dados_originais_normalizados = dados_originais_tratados#.drop(columns=['output'])\n",
        "# mapper = DataFrameMapper([(dados_originais_normalizados.columns, StandardScaler())])\n",
        "# scaled_features = mapper.fit_transform(dados_originais_normalizados.copy())\n",
        "# scaled_features_df = pd.DataFrame(scaled_features, index=dados_originais_normalizados.index, columns=dados_originais_normalizados.columns)\n",
        "# dados_originais_normalizados = scaled_features_df.copy()\n",
        "# '''dados_originais_normalizados['sex'] = dados_originais_tratados['sex']\n",
        "# dados_originais_normalizados['fbs'] = dados_originais_tratados['fbs']\n",
        "# dados_originais_normalizados['exng'] = dados_originais_tratados['exng']\n",
        "# dados_originais_normalizados['restecg__Normal'] = dados_originais_tratados['restecg__Normal']\n",
        "# dados_originais_normalizados['restecg__Possui_anormalidades'] = dados_originais_tratados['restecg__Possui_anormalidade']\n",
        "# dados_originais_normalizados['restecg__Provável_hipertrofia'] = dados_originais_tratados['restecg__Provável_hipertrofia']\n",
        "# dados_originais_normalizados['cp__Angina_atipica'] = dados_originais_tratados['cp__Angina_atipica']\n",
        "# dados_originais_normalizados['cp__Angina_tipica'] = dados_originais_tratados['cp__Angina_tipica']\n",
        "# dados_originais_normalizados['cp__Assintomatico'] = dados_originais_tratados['cp__Assintomatico']\n",
        "# dados_originais_normalizados['cp__Não_Angina'] = dados_originais_tratados['cp__Não_Angina']\n",
        "# dados_originais_normalizados['slp__0'] = dados_originais_tratados['slp__0']\n",
        "# dados_originais_normalizados['slp__1'] = dados_originais_tratados['slp__1']\n",
        "# dados_originais_normalizados['slp__2'] = dados_originais_tratados['slp__2']\n",
        "# dados_originais_normalizados['thall__0'] = dados_originais_tratados['thall__0']\n",
        "# dados_originais_normalizados['thall__1'] = dados_originais_tratados['thall__1']\n",
        "# dados_originais_normalizados['thall__2'] = dados_originais_tratados['thall__2']\n",
        "# dados_originais_normalizados['thall__3'] = dados_originais_tratados['thall__3']\n",
        "# dados_originais_normalizados['caa__0'] = dados_originais_tratados['caa__0']\n",
        "# dados_originais_normalizados['caa__1'] = dados_originais_tratados['caa__1']\n",
        "# dados_originais_normalizados['caa__2'] = dados_originais_tratados['caa__2']\n",
        "# dados_originais_normalizados['caa__3'] = dados_originais_tratados['caa__3']\n",
        "# dados_originais_normalizados['caa__4'] = dados_originais_tratados['caa__4']'''\n",
        "# dados_originais_normalizados['output'] = dados_originais_tratados['output']\n",
        "# dados_originais_normalizados.describe().round(2)"
      ],
      "execution_count": 14,
      "outputs": []
    },
    {
      "cell_type": "code",
      "metadata": {
        "id": "6wv-OhYG79Pi"
      },
      "source": [
        "columns = ['age','trtbps','chol','thalachh','oldpeak']\n",
        "#dados_amostra30_normalizado = dados_amostra30.loc[:,columns]\n",
        "dados_amostra30_normalizado = dados_amostra30#.drop(columns=['output'])\n",
        "# mapper = DataFrameMapper([(dados_amostra30_normalizado.columns, StandardScaler())])\n",
        "# scaled_features = mapper.fit_transform(dados_amostra30_normalizado.copy())\n",
        "# scaled_features_df = pd.DataFrame(scaled_features, index=dados_amostra30_normalizado.index, columns=dados_amostra30_normalizado.columns)\n",
        "# dados_amostra30_normalizado = scaled_features_df.copy()\n",
        "# dados_amostra30_normalizado['sex'] = dados_amostra30['sex']\n",
        "# dados_amostra30_normalizado['fbs'] = dados_amostra30['fbs']\n",
        "# dados_amostra30_normalizado['exng'] = dados_amostra30['exng']\n",
        "# dados_amostra30_normalizado['restecg__Normal'] = dados_amostra30['restecg__Normal']\n",
        "# dados_amostra30_normalizado['restecg__Possui_anormalidades'] = dados_amostra30['restecg__Possui_anormalidade']\n",
        "# dados_amostra30_normalizado['restecg__Provável_hipertrofia'] = dados_amostra30['restecg__Provável_hipertrofia']\n",
        "# dados_amostra30_normalizado['cp__Angina_atipica'] = dados_amostra30['cp__Angina_atipica']\n",
        "# dados_amostra30_normalizado['cp__Angina_tipica'] = dados_amostra30['cp__Angina_tipica']\n",
        "# dados_amostra30_normalizado['cp__Assintomatico'] = dados_amostra30['cp__Assintomatico']\n",
        "# dados_amostra30_normalizado['cp__Não_Angina'] = dados_amostra30['cp__Não_Angina']\n",
        "# dados_amostra30_normalizado['slp__0'] = dados_amostra30['slp__0']\n",
        "# dados_amostra30_normalizado['slp__1'] = dados_amostra30['slp__1']\n",
        "# dados_amostra30_normalizado['slp__2'] = dados_amostra30['slp__2']\n",
        "# #dados_amostra30_normalizado['thall__0'] = dados_amostra30['thall__0']\n",
        "# dados_amostra30_normalizado['thall__1'] = dados_amostra30['thall__1']\n",
        "# dados_amostra30_normalizado['thall__2'] = dados_amostra30['thall__2']\n",
        "# dados_amostra30_normalizado['thall__3'] = dados_amostra30['thall__3']\n",
        "# dados_amostra30_normalizado['caa__0'] = dados_amostra30['caa__0']\n",
        "# dados_amostra30_normalizado['caa__1'] = dados_amostra30['caa__1']\n",
        "# dados_amostra30_normalizado['caa__2'] = dados_amostra30['caa__2']\n",
        "# dados_amostra30_normalizado['caa__3'] = dados_amostra30['caa__3']\n",
        "# dados_amostra30_normalizado['caa__4'] = dados_amostra30['caa__4']\n",
        "# dados_amostra30_normalizado['output'] = dados_amostra30['output']\n",
        "# dados_amostra30_normalizado.describe().round(2)"
      ],
      "execution_count": 15,
      "outputs": []
    },
    {
      "cell_type": "code",
      "metadata": {
        "id": "KgRI929C8GK4"
      },
      "source": [
        "columns = ['age','trtbps','chol','thalachh','oldpeak']\n",
        "#dados_amostra50_normalizado = dados_amostra50.loc[:,columns]\n",
        "dados_amostra50_normalizado = dados_amostra50#.drop(columns=['output'])\n",
        "# mapper = DataFrameMapper([(dados_amostra50_normalizado.columns, StandardScaler())])\n",
        "# scaled_features = mapper.fit_transform(dados_amostra50_normalizado.copy())\n",
        "# scaled_features_df = pd.DataFrame(scaled_features, index=dados_amostra50_normalizado.index, columns=dados_amostra50_normalizado.columns)\n",
        "# dados_amostra50_normalizado = scaled_features_df.copy()\n",
        "# dados_amostra50_normalizado['sex'] = dados_amostra50['sex']\n",
        "# dados_amostra50_normalizado['fbs'] = dados_amostra50['fbs']\n",
        "# dados_amostra50_normalizado['exng'] = dados_amostra50['exng']\n",
        "# dados_amostra50_normalizado['restecg__Normal'] = dados_amostra50['restecg__Normal']\n",
        "# dados_amostra50_normalizado['restecg__Possui_anormalidades'] = dados_amostra50['restecg__Possui_anormalidade']\n",
        "# dados_amostra50_normalizado['restecg__Provável_hipertrofia'] = dados_amostra50['restecg__Provável_hipertrofia']\n",
        "# dados_amostra50_normalizado['cp__Angina_atipica'] = dados_amostra50['cp__Angina_atipica']\n",
        "# dados_amostra50_normalizado['cp__Angina_tipica'] = dados_amostra50['cp__Angina_tipica']\n",
        "# dados_amostra50_normalizado['cp__Assintomatico'] = dados_amostra50['cp__Assintomatico']\n",
        "# dados_amostra50_normalizado['cp__Não_Angina'] = dados_amostra50['cp__Não_Angina']\n",
        "# dados_amostra50_normalizado['slp__0'] = dados_amostra50['slp__0']\n",
        "# dados_amostra50_normalizado['slp__1'] = dados_amostra50['slp__1']\n",
        "# dados_amostra50_normalizado['slp__2'] = dados_amostra50['slp__2']\n",
        "# dados_amostra50_normalizado['thall__0'] = dados_amostra50['thall__0']\n",
        "# dados_amostra50_normalizado['thall__1'] = dados_amostra50['thall__1']\n",
        "# dados_amostra50_normalizado['thall__2'] = dados_amostra50['thall__2']\n",
        "# dados_amostra50_normalizado['thall__3'] = dados_amostra50['thall__3']\n",
        "# dados_amostra50_normalizado['caa__0'] = dados_amostra50['caa__0']\n",
        "# dados_amostra50_normalizado['caa__1'] = dados_amostra50['caa__1']\n",
        "# dados_amostra50_normalizado['caa__2'] = dados_amostra50['caa__2']\n",
        "# dados_amostra50_normalizado['caa__3'] = dados_amostra50['caa__3']\n",
        "# dados_amostra50_normalizado['caa__4'] = dados_amostra50['caa__4']\n",
        "# dados_amostra50_normalizado['output'] = dados_amostra50['output']\n",
        "# dados_amostra50_normalizado.describe().round(2)"
      ],
      "execution_count": 16,
      "outputs": []
    },
    {
      "cell_type": "code",
      "metadata": {
        "id": "1GoQyDRV8Yr6"
      },
      "source": [
        "columns = ['age','trtbps','chol','thalachh','oldpeak']\n",
        "#dados_amostra70_normalizado = dados_amostra70.loc[:,columns]\n",
        "dados_amostra70_normalizado = dados_amostra70#.drop(columns=['output'])\n",
        "# mapper = DataFrameMapper([(dados_amostra70_normalizado.columns, StandardScaler())])\n",
        "# scaled_features = mapper.fit_transform(dados_amostra70_normalizado.copy())\n",
        "# scaled_features_df = pd.DataFrame(scaled_features, index=dados_amostra70_normalizado.index, columns=dados_amostra70_normalizado.columns)\n",
        "# dados_amostra70_normalizado = scaled_features_df.copy()\n",
        "# dados_amostra70_normalizado['sex'] = dados_amostra70['sex']\n",
        "# dados_amostra70_normalizado['fbs'] = dados_amostra70['fbs']\n",
        "# dados_amostra70_normalizado['exng'] = dados_amostra70['exng']\n",
        "# dados_amostra70_normalizado['restecg__Normal'] = dados_amostra70['restecg__Normal']\n",
        "# dados_amostra70_normalizado['restecg__Possui_anormalidades'] = dados_amostra70['restecg__Possui_anormalidade']\n",
        "# dados_amostra70_normalizado['restecg__Provável_hipertrofia'] = dados_amostra70['restecg__Provável_hipertrofia']\n",
        "# dados_amostra70_normalizado['cp__Angina_atipica'] = dados_amostra70['cp__Angina_atipica']\n",
        "# dados_amostra70_normalizado['cp__Angina_tipica'] = dados_amostra70['cp__Angina_tipica']\n",
        "# dados_amostra70_normalizado['cp__Assintomatico'] = dados_amostra70['cp__Assintomatico']\n",
        "# dados_amostra70_normalizado['cp__Não_Angina'] = dados_amostra70['cp__Não_Angina']\n",
        "# dados_amostra70_normalizado['slp__0'] = dados_amostra70['slp__0']\n",
        "# dados_amostra70_normalizado['slp__1'] = dados_amostra70['slp__1']\n",
        "# dados_amostra70_normalizado['slp__2'] = dados_amostra70['slp__2']\n",
        "# dados_amostra70_normalizado['thall__0'] = dados_amostra70['thall__0']\n",
        "# dados_amostra70_normalizado['thall__1'] = dados_amostra70['thall__1']\n",
        "# dados_amostra70_normalizado['thall__2'] = dados_amostra70['thall__2']\n",
        "# dados_amostra70_normalizado['thall__3'] = dados_amostra70['thall__3']\n",
        "# dados_amostra70_normalizado['caa__0'] = dados_amostra70['caa__0']\n",
        "# dados_amostra70_normalizado['caa__1'] = dados_amostra70['caa__1']\n",
        "# dados_amostra70_normalizado['caa__2'] = dados_amostra70['caa__2']\n",
        "# dados_amostra70_normalizado['caa__3'] = dados_amostra70['caa__3']\n",
        "# dados_amostra70_normalizado['caa__4'] = dados_amostra70['caa__4']\n",
        "# dados_amostra70_normalizado['output'] = dados_amostra70['output']\n",
        "# dados_amostra70_normalizado.describe().round(2)"
      ],
      "execution_count": 17,
      "outputs": []
    },
    {
      "cell_type": "code",
      "metadata": {
        "colab": {
          "base_uri": "https://localhost:8080/"
        },
        "id": "BO5aYaFr9SXM",
        "outputId": "c45ab6ae-7ad3-4a26-eca6-578b5a62df2a"
      },
      "source": [
        "mlp1 = MLPClassifier(hidden_layer_sizes=(20,), activation='relu', solver='adam')\n",
        "X = dados_originais_normalizados.drop(columns=['output'])\n",
        "X_train,X_test,Y_train,Y_test = train_test_split(X,dados_originais_normalizados.output,test_size=0.3,stratify=dados_originais_normalizados.output)\n",
        "mlp1.fit(X_train,Y_train)\n",
        "y_pred = mlp1.predict(X_test)\n",
        "acuracia1 = accuracy_score(Y_test,y_pred)\n",
        "print(\"Acuracia para n=1,70/30 :\",acuracia1)\n",
        "mlp2 = MLPClassifier(hidden_layer_sizes=(20,), activation='relu', solver='adam')\n",
        "X_train,X_test,Y_train,Y_test = train_test_split(X,dados_originais_normalizados.output,test_size=0.2,stratify=dados_originais_normalizados.output)\n",
        "mlp2.fit(X_train,Y_train)\n",
        "y_pred = mlp2.predict(X_test)\n",
        "acuracia2 = accuracy_score(Y_test,y_pred)\n",
        "print(\"Acuracia para n=1,80/20 :\",acuracia2)\n",
        "mlp3 = MLPClassifier(hidden_layer_sizes=(20,), activation='relu', solver='adam')\n",
        "X_train,X_test,Y_train,Y_test = train_test_split(X,dados_originais_normalizados.output,test_size=0.2,stratify=dados_originais_normalizados.output)\n",
        "mlp3.fit(X_train,Y_train)\n",
        "y_pred = mlp3.predict(X_test)\n",
        "acuracia3 = accuracy_score(Y_test,y_pred)\n",
        "print(\"Acuracia para n=1,90/10 :\",acuracia3)\n",
        "y = dados_originais_normalizados['output']\n",
        "mlp4 = MLPClassifier(hidden_layer_sizes=(20,), activation='relu', solver='adam')\n",
        "scores = cross_val_score(mlp4, X, y, cv=10)\n",
        "print(\"acurácia %0.2f para kfold, 10 folds\",scores.mean()) \n"
      ],
      "execution_count": 20,
      "outputs": [
        {
          "output_type": "stream",
          "text": [
            "/usr/local/lib/python3.7/dist-packages/sklearn/neural_network/_multilayer_perceptron.py:571: ConvergenceWarning: Stochastic Optimizer: Maximum iterations (200) reached and the optimization hasn't converged yet.\n",
            "  % self.max_iter, ConvergenceWarning)\n",
            "/usr/local/lib/python3.7/dist-packages/sklearn/neural_network/_multilayer_perceptron.py:571: ConvergenceWarning: Stochastic Optimizer: Maximum iterations (200) reached and the optimization hasn't converged yet.\n",
            "  % self.max_iter, ConvergenceWarning)\n"
          ],
          "name": "stderr"
        },
        {
          "output_type": "stream",
          "text": [
            "Acuracia para n=1,70/30 : 0.7802197802197802\n",
            "Acuracia para n=1,80/20 : 0.8852459016393442\n"
          ],
          "name": "stdout"
        },
        {
          "output_type": "stream",
          "text": [
            "/usr/local/lib/python3.7/dist-packages/sklearn/neural_network/_multilayer_perceptron.py:571: ConvergenceWarning: Stochastic Optimizer: Maximum iterations (200) reached and the optimization hasn't converged yet.\n",
            "  % self.max_iter, ConvergenceWarning)\n",
            "/usr/local/lib/python3.7/dist-packages/sklearn/neural_network/_multilayer_perceptron.py:571: ConvergenceWarning: Stochastic Optimizer: Maximum iterations (200) reached and the optimization hasn't converged yet.\n",
            "  % self.max_iter, ConvergenceWarning)\n"
          ],
          "name": "stderr"
        },
        {
          "output_type": "stream",
          "text": [
            "Acuracia para n=1,90/10 : 0.6229508196721312\n"
          ],
          "name": "stdout"
        },
        {
          "output_type": "stream",
          "text": [
            "/usr/local/lib/python3.7/dist-packages/sklearn/neural_network/_multilayer_perceptron.py:571: ConvergenceWarning: Stochastic Optimizer: Maximum iterations (200) reached and the optimization hasn't converged yet.\n",
            "  % self.max_iter, ConvergenceWarning)\n",
            "/usr/local/lib/python3.7/dist-packages/sklearn/neural_network/_multilayer_perceptron.py:571: ConvergenceWarning: Stochastic Optimizer: Maximum iterations (200) reached and the optimization hasn't converged yet.\n",
            "  % self.max_iter, ConvergenceWarning)\n",
            "/usr/local/lib/python3.7/dist-packages/sklearn/neural_network/_multilayer_perceptron.py:571: ConvergenceWarning: Stochastic Optimizer: Maximum iterations (200) reached and the optimization hasn't converged yet.\n",
            "  % self.max_iter, ConvergenceWarning)\n",
            "/usr/local/lib/python3.7/dist-packages/sklearn/neural_network/_multilayer_perceptron.py:571: ConvergenceWarning: Stochastic Optimizer: Maximum iterations (200) reached and the optimization hasn't converged yet.\n",
            "  % self.max_iter, ConvergenceWarning)\n",
            "/usr/local/lib/python3.7/dist-packages/sklearn/neural_network/_multilayer_perceptron.py:571: ConvergenceWarning: Stochastic Optimizer: Maximum iterations (200) reached and the optimization hasn't converged yet.\n",
            "  % self.max_iter, ConvergenceWarning)\n",
            "/usr/local/lib/python3.7/dist-packages/sklearn/neural_network/_multilayer_perceptron.py:571: ConvergenceWarning: Stochastic Optimizer: Maximum iterations (200) reached and the optimization hasn't converged yet.\n",
            "  % self.max_iter, ConvergenceWarning)\n",
            "/usr/local/lib/python3.7/dist-packages/sklearn/neural_network/_multilayer_perceptron.py:571: ConvergenceWarning: Stochastic Optimizer: Maximum iterations (200) reached and the optimization hasn't converged yet.\n",
            "  % self.max_iter, ConvergenceWarning)\n",
            "/usr/local/lib/python3.7/dist-packages/sklearn/neural_network/_multilayer_perceptron.py:571: ConvergenceWarning: Stochastic Optimizer: Maximum iterations (200) reached and the optimization hasn't converged yet.\n",
            "  % self.max_iter, ConvergenceWarning)\n"
          ],
          "name": "stderr"
        },
        {
          "output_type": "stream",
          "text": [
            "acurácia %0.2f para kfold, 10 folds 0.7461290322580645\n"
          ],
          "name": "stdout"
        },
        {
          "output_type": "stream",
          "text": [
            "/usr/local/lib/python3.7/dist-packages/sklearn/neural_network/_multilayer_perceptron.py:571: ConvergenceWarning: Stochastic Optimizer: Maximum iterations (200) reached and the optimization hasn't converged yet.\n",
            "  % self.max_iter, ConvergenceWarning)\n"
          ],
          "name": "stderr"
        }
      ]
    },
    {
      "cell_type": "code",
      "metadata": {
        "colab": {
          "base_uri": "https://localhost:8080/"
        },
        "id": "Wo_K-VDG8oJZ",
        "outputId": "674b53ee-e385-451b-e2ea-b88e007e8fd5"
      },
      "source": [
        "mlp1 = MLPClassifier(hidden_layer_sizes=(21,), activation='relu', solver='adam')\n",
        "X = dados_originais_normalizados.drop(columns=['output'])\n",
        "X_train,X_test,Y_train,Y_test = train_test_split(X,dados_originais_normalizados.output,test_size=0.3,stratify=dados_originais_normalizados.output)\n",
        "mlp1.fit(X_train,Y_train)\n",
        "y_pred = mlp1.predict(X_test)\n",
        "acuracia1 = accuracy_score(Y_test,y_pred)\n",
        "print(\"Acuracia para n=1,70/30 :\",acuracia1)\n",
        "mlp2 = MLPClassifier(hidden_layer_sizes=(21,), activation='relu', solver='adam')\n",
        "X_train,X_test,Y_train,Y_test = train_test_split(X,dados_originais_normalizados.output,test_size=0.2,stratify=dados_originais_normalizados.output)\n",
        "mlp2.fit(X_train,Y_train)\n",
        "y_pred = mlp2.predict(X_test)\n",
        "acuracia2 = accuracy_score(Y_test,y_pred)\n",
        "print(\"Acuracia para n=1,80/20 :\",acuracia2)\n",
        "mlp3 = MLPClassifier(hidden_layer_sizes=(21,), activation='relu', solver='adam')\n",
        "X_train,X_test,Y_train,Y_test = train_test_split(X,dados_originais_normalizados.output,test_size=0.2,stratify=dados_originais_normalizados.output)\n",
        "mlp3.fit(X_train,Y_train)\n",
        "y_pred = mlp3.predict(X_test)\n",
        "acuracia3 = accuracy_score(Y_test,y_pred)\n",
        "print(\"Acuracia para n=1,90/10 :\",acuracia3)\n",
        "y = dados_originais_normalizados['output']\n",
        "mlp4 = MLPClassifier(hidden_layer_sizes=(21,), activation='relu', solver='adam')\n",
        "scores = cross_val_score(mlp4, X, y, cv=10)\n",
        "print(\"acurácia %0.2f para kfold, 10 folds\",scores.mean()) "
      ],
      "execution_count": 21,
      "outputs": [
        {
          "output_type": "stream",
          "text": [
            "/usr/local/lib/python3.7/dist-packages/sklearn/neural_network/_multilayer_perceptron.py:571: ConvergenceWarning: Stochastic Optimizer: Maximum iterations (200) reached and the optimization hasn't converged yet.\n",
            "  % self.max_iter, ConvergenceWarning)\n",
            "/usr/local/lib/python3.7/dist-packages/sklearn/neural_network/_multilayer_perceptron.py:571: ConvergenceWarning: Stochastic Optimizer: Maximum iterations (200) reached and the optimization hasn't converged yet.\n",
            "  % self.max_iter, ConvergenceWarning)\n"
          ],
          "name": "stderr"
        },
        {
          "output_type": "stream",
          "text": [
            "Acuracia para n=1,70/30 : 0.7582417582417582\n",
            "Acuracia para n=1,80/20 : 0.7868852459016393\n"
          ],
          "name": "stdout"
        },
        {
          "output_type": "stream",
          "text": [
            "/usr/local/lib/python3.7/dist-packages/sklearn/neural_network/_multilayer_perceptron.py:571: ConvergenceWarning: Stochastic Optimizer: Maximum iterations (200) reached and the optimization hasn't converged yet.\n",
            "  % self.max_iter, ConvergenceWarning)\n",
            "/usr/local/lib/python3.7/dist-packages/sklearn/neural_network/_multilayer_perceptron.py:571: ConvergenceWarning: Stochastic Optimizer: Maximum iterations (200) reached and the optimization hasn't converged yet.\n",
            "  % self.max_iter, ConvergenceWarning)\n"
          ],
          "name": "stderr"
        },
        {
          "output_type": "stream",
          "text": [
            "Acuracia para n=1,90/10 : 0.7540983606557377\n"
          ],
          "name": "stdout"
        },
        {
          "output_type": "stream",
          "text": [
            "/usr/local/lib/python3.7/dist-packages/sklearn/neural_network/_multilayer_perceptron.py:571: ConvergenceWarning: Stochastic Optimizer: Maximum iterations (200) reached and the optimization hasn't converged yet.\n",
            "  % self.max_iter, ConvergenceWarning)\n",
            "/usr/local/lib/python3.7/dist-packages/sklearn/neural_network/_multilayer_perceptron.py:571: ConvergenceWarning: Stochastic Optimizer: Maximum iterations (200) reached and the optimization hasn't converged yet.\n",
            "  % self.max_iter, ConvergenceWarning)\n",
            "/usr/local/lib/python3.7/dist-packages/sklearn/neural_network/_multilayer_perceptron.py:571: ConvergenceWarning: Stochastic Optimizer: Maximum iterations (200) reached and the optimization hasn't converged yet.\n",
            "  % self.max_iter, ConvergenceWarning)\n",
            "/usr/local/lib/python3.7/dist-packages/sklearn/neural_network/_multilayer_perceptron.py:571: ConvergenceWarning: Stochastic Optimizer: Maximum iterations (200) reached and the optimization hasn't converged yet.\n",
            "  % self.max_iter, ConvergenceWarning)\n",
            "/usr/local/lib/python3.7/dist-packages/sklearn/neural_network/_multilayer_perceptron.py:571: ConvergenceWarning: Stochastic Optimizer: Maximum iterations (200) reached and the optimization hasn't converged yet.\n",
            "  % self.max_iter, ConvergenceWarning)\n",
            "/usr/local/lib/python3.7/dist-packages/sklearn/neural_network/_multilayer_perceptron.py:571: ConvergenceWarning: Stochastic Optimizer: Maximum iterations (200) reached and the optimization hasn't converged yet.\n",
            "  % self.max_iter, ConvergenceWarning)\n"
          ],
          "name": "stderr"
        },
        {
          "output_type": "stream",
          "text": [
            "acurácia %0.2f para kfold, 10 folds 0.7321505376344086\n"
          ],
          "name": "stdout"
        },
        {
          "output_type": "stream",
          "text": [
            "/usr/local/lib/python3.7/dist-packages/sklearn/neural_network/_multilayer_perceptron.py:571: ConvergenceWarning: Stochastic Optimizer: Maximum iterations (200) reached and the optimization hasn't converged yet.\n",
            "  % self.max_iter, ConvergenceWarning)\n"
          ],
          "name": "stderr"
        }
      ]
    },
    {
      "cell_type": "code",
      "metadata": {
        "colab": {
          "base_uri": "https://localhost:8080/"
        },
        "id": "2YoLgJar-yx7",
        "outputId": "136a4a12-8818-4b93-bca0-0b4f344800c7"
      },
      "source": [
        "mlp1 = MLPClassifier(hidden_layer_sizes=(22,), activation='relu', solver='adam')\n",
        "X = dados_originais_normalizados.drop(columns=['output'])\n",
        "X_train,X_test,Y_train,Y_test = train_test_split(X,dados_originais_normalizados.output,test_size=0.3,stratify=dados_originais_normalizados.output)\n",
        "mlp1.fit(X_train,Y_train)\n",
        "y_pred = mlp1.predict(X_test)\n",
        "acuracia1 = accuracy_score(Y_test,y_pred)\n",
        "print(\"Acuracia para n=1,70/30 :\",acuracia1)\n",
        "mlp2 = MLPClassifier(hidden_layer_sizes=(22,), activation='relu', solver='adam')\n",
        "X_train,X_test,Y_train,Y_test = train_test_split(X,dados_originais_normalizados.output,test_size=0.2,stratify=dados_originais_normalizados.output)\n",
        "mlp2.fit(X_train,Y_train)\n",
        "y_pred = mlp2.predict(X_test)\n",
        "acuracia2 = accuracy_score(Y_test,y_pred)\n",
        "print(\"Acuracia para n=1,80/20 :\",acuracia2)\n",
        "mlp3 = MLPClassifier(hidden_layer_sizes=(22,), activation='relu', solver='adam')\n",
        "X_train,X_test,Y_train,Y_test = train_test_split(X,dados_originais_normalizados.output,test_size=0.2,stratify=dados_originais_normalizados.output)\n",
        "mlp3.fit(X_train,Y_train)\n",
        "y_pred = mlp3.predict(X_test)\n",
        "acuracia3 = accuracy_score(Y_test,y_pred)\n",
        "print(\"Acuracia para n=1,90/10 :\",acuracia3)\n",
        "y = dados_originais_normalizados['output']\n",
        "mlp4 = MLPClassifier(hidden_layer_sizes=(22,), activation='relu', solver='adam')\n",
        "scores = cross_val_score(mlp4, X, y, cv=10)\n",
        "print(\"acurácia %0.2f para kfold, 10 folds\",scores.mean()) "
      ],
      "execution_count": 22,
      "outputs": [
        {
          "output_type": "stream",
          "text": [
            "/usr/local/lib/python3.7/dist-packages/sklearn/neural_network/_multilayer_perceptron.py:571: ConvergenceWarning: Stochastic Optimizer: Maximum iterations (200) reached and the optimization hasn't converged yet.\n",
            "  % self.max_iter, ConvergenceWarning)\n"
          ],
          "name": "stderr"
        },
        {
          "output_type": "stream",
          "text": [
            "Acuracia para n=1,70/30 : 0.7582417582417582\n"
          ],
          "name": "stdout"
        },
        {
          "output_type": "stream",
          "text": [
            "/usr/local/lib/python3.7/dist-packages/sklearn/neural_network/_multilayer_perceptron.py:571: ConvergenceWarning: Stochastic Optimizer: Maximum iterations (200) reached and the optimization hasn't converged yet.\n",
            "  % self.max_iter, ConvergenceWarning)\n"
          ],
          "name": "stderr"
        },
        {
          "output_type": "stream",
          "text": [
            "Acuracia para n=1,80/20 : 0.7540983606557377\n"
          ],
          "name": "stdout"
        },
        {
          "output_type": "stream",
          "text": [
            "/usr/local/lib/python3.7/dist-packages/sklearn/neural_network/_multilayer_perceptron.py:571: ConvergenceWarning: Stochastic Optimizer: Maximum iterations (200) reached and the optimization hasn't converged yet.\n",
            "  % self.max_iter, ConvergenceWarning)\n"
          ],
          "name": "stderr"
        },
        {
          "output_type": "stream",
          "text": [
            "Acuracia para n=1,90/10 : 0.7704918032786885\n"
          ],
          "name": "stdout"
        },
        {
          "output_type": "stream",
          "text": [
            "/usr/local/lib/python3.7/dist-packages/sklearn/neural_network/_multilayer_perceptron.py:571: ConvergenceWarning: Stochastic Optimizer: Maximum iterations (200) reached and the optimization hasn't converged yet.\n",
            "  % self.max_iter, ConvergenceWarning)\n",
            "/usr/local/lib/python3.7/dist-packages/sklearn/neural_network/_multilayer_perceptron.py:571: ConvergenceWarning: Stochastic Optimizer: Maximum iterations (200) reached and the optimization hasn't converged yet.\n",
            "  % self.max_iter, ConvergenceWarning)\n",
            "/usr/local/lib/python3.7/dist-packages/sklearn/neural_network/_multilayer_perceptron.py:571: ConvergenceWarning: Stochastic Optimizer: Maximum iterations (200) reached and the optimization hasn't converged yet.\n",
            "  % self.max_iter, ConvergenceWarning)\n",
            "/usr/local/lib/python3.7/dist-packages/sklearn/neural_network/_multilayer_perceptron.py:571: ConvergenceWarning: Stochastic Optimizer: Maximum iterations (200) reached and the optimization hasn't converged yet.\n",
            "  % self.max_iter, ConvergenceWarning)\n",
            "/usr/local/lib/python3.7/dist-packages/sklearn/neural_network/_multilayer_perceptron.py:571: ConvergenceWarning: Stochastic Optimizer: Maximum iterations (200) reached and the optimization hasn't converged yet.\n",
            "  % self.max_iter, ConvergenceWarning)\n",
            "/usr/local/lib/python3.7/dist-packages/sklearn/neural_network/_multilayer_perceptron.py:571: ConvergenceWarning: Stochastic Optimizer: Maximum iterations (200) reached and the optimization hasn't converged yet.\n",
            "  % self.max_iter, ConvergenceWarning)\n",
            "/usr/local/lib/python3.7/dist-packages/sklearn/neural_network/_multilayer_perceptron.py:571: ConvergenceWarning: Stochastic Optimizer: Maximum iterations (200) reached and the optimization hasn't converged yet.\n",
            "  % self.max_iter, ConvergenceWarning)\n",
            "/usr/local/lib/python3.7/dist-packages/sklearn/neural_network/_multilayer_perceptron.py:571: ConvergenceWarning: Stochastic Optimizer: Maximum iterations (200) reached and the optimization hasn't converged yet.\n",
            "  % self.max_iter, ConvergenceWarning)\n",
            "/usr/local/lib/python3.7/dist-packages/sklearn/neural_network/_multilayer_perceptron.py:571: ConvergenceWarning: Stochastic Optimizer: Maximum iterations (200) reached and the optimization hasn't converged yet.\n",
            "  % self.max_iter, ConvergenceWarning)\n"
          ],
          "name": "stderr"
        },
        {
          "output_type": "stream",
          "text": [
            "acurácia %0.2f para kfold, 10 folds 0.7691397849462365\n"
          ],
          "name": "stdout"
        },
        {
          "output_type": "stream",
          "text": [
            "/usr/local/lib/python3.7/dist-packages/sklearn/neural_network/_multilayer_perceptron.py:571: ConvergenceWarning: Stochastic Optimizer: Maximum iterations (200) reached and the optimization hasn't converged yet.\n",
            "  % self.max_iter, ConvergenceWarning)\n"
          ],
          "name": "stderr"
        }
      ]
    },
    {
      "cell_type": "code",
      "metadata": {
        "colab": {
          "base_uri": "https://localhost:8080/"
        },
        "id": "a5qANrcK-zdQ",
        "outputId": "b391db2c-4f45-47db-ea12-91ededf06521"
      },
      "source": [
        "mlp1 = MLPClassifier(hidden_layer_sizes=(23,), activation='relu', solver='adam')\n",
        "X = dados_originais_normalizados.drop(columns=['output'])\n",
        "X_train,X_test,Y_train,Y_test = train_test_split(X,dados_originais_normalizados.output,test_size=0.3,stratify=dados_originais_normalizados.output)\n",
        "mlp1.fit(X_train,Y_train)\n",
        "y_pred = mlp1.predict(X_test)\n",
        "acuracia1 = accuracy_score(Y_test,y_pred)\n",
        "print(\"Acuracia para n=1,70/30 :\",acuracia1)\n",
        "mlp2 = MLPClassifier(hidden_layer_sizes=(23,), activation='relu', solver='adam')\n",
        "X_train,X_test,Y_train,Y_test = train_test_split(X,dados_originais_normalizados.output,test_size=0.2,stratify=dados_originais_normalizados.output)\n",
        "mlp2.fit(X_train,Y_train)\n",
        "y_pred = mlp2.predict(X_test)\n",
        "acuracia2 = accuracy_score(Y_test,y_pred)\n",
        "print(\"Acuracia para n=1,80/20 :\",acuracia2)\n",
        "mlp3 = MLPClassifier(hidden_layer_sizes=(23,), activation='relu', solver='adam')\n",
        "X_train,X_test,Y_train,Y_test = train_test_split(X,dados_originais_normalizados.output,test_size=0.2,stratify=dados_originais_normalizados.output)\n",
        "mlp3.fit(X_train,Y_train)\n",
        "y_pred = mlp3.predict(X_test)\n",
        "acuracia3 = accuracy_score(Y_test,y_pred)\n",
        "print(\"Acuracia para n=1,90/10 :\",acuracia3)\n",
        "y = dados_originais_normalizados['output']\n",
        "mlp4 = MLPClassifier(hidden_layer_sizes=(23,), activation='relu', solver='adam')\n",
        "scores = cross_val_score(mlp4, X, y, cv=10)\n",
        "print(\"acurácia %0.2f para kfold, 10 folds\",scores.mean()) "
      ],
      "execution_count": 23,
      "outputs": [
        {
          "output_type": "stream",
          "text": [
            "Acuracia para n=1,70/30 : 0.7802197802197802\n",
            "Acuracia para n=1,80/20 : 0.8032786885245902\n"
          ],
          "name": "stdout"
        },
        {
          "output_type": "stream",
          "text": [
            "/usr/local/lib/python3.7/dist-packages/sklearn/neural_network/_multilayer_perceptron.py:571: ConvergenceWarning: Stochastic Optimizer: Maximum iterations (200) reached and the optimization hasn't converged yet.\n",
            "  % self.max_iter, ConvergenceWarning)\n",
            "/usr/local/lib/python3.7/dist-packages/sklearn/neural_network/_multilayer_perceptron.py:571: ConvergenceWarning: Stochastic Optimizer: Maximum iterations (200) reached and the optimization hasn't converged yet.\n",
            "  % self.max_iter, ConvergenceWarning)\n"
          ],
          "name": "stderr"
        },
        {
          "output_type": "stream",
          "text": [
            "Acuracia para n=1,90/10 : 0.7540983606557377\n"
          ],
          "name": "stdout"
        },
        {
          "output_type": "stream",
          "text": [
            "/usr/local/lib/python3.7/dist-packages/sklearn/neural_network/_multilayer_perceptron.py:571: ConvergenceWarning: Stochastic Optimizer: Maximum iterations (200) reached and the optimization hasn't converged yet.\n",
            "  % self.max_iter, ConvergenceWarning)\n",
            "/usr/local/lib/python3.7/dist-packages/sklearn/neural_network/_multilayer_perceptron.py:571: ConvergenceWarning: Stochastic Optimizer: Maximum iterations (200) reached and the optimization hasn't converged yet.\n",
            "  % self.max_iter, ConvergenceWarning)\n",
            "/usr/local/lib/python3.7/dist-packages/sklearn/neural_network/_multilayer_perceptron.py:571: ConvergenceWarning: Stochastic Optimizer: Maximum iterations (200) reached and the optimization hasn't converged yet.\n",
            "  % self.max_iter, ConvergenceWarning)\n",
            "/usr/local/lib/python3.7/dist-packages/sklearn/neural_network/_multilayer_perceptron.py:571: ConvergenceWarning: Stochastic Optimizer: Maximum iterations (200) reached and the optimization hasn't converged yet.\n",
            "  % self.max_iter, ConvergenceWarning)\n",
            "/usr/local/lib/python3.7/dist-packages/sklearn/neural_network/_multilayer_perceptron.py:571: ConvergenceWarning: Stochastic Optimizer: Maximum iterations (200) reached and the optimization hasn't converged yet.\n",
            "  % self.max_iter, ConvergenceWarning)\n",
            "/usr/local/lib/python3.7/dist-packages/sklearn/neural_network/_multilayer_perceptron.py:571: ConvergenceWarning: Stochastic Optimizer: Maximum iterations (200) reached and the optimization hasn't converged yet.\n",
            "  % self.max_iter, ConvergenceWarning)\n",
            "/usr/local/lib/python3.7/dist-packages/sklearn/neural_network/_multilayer_perceptron.py:571: ConvergenceWarning: Stochastic Optimizer: Maximum iterations (200) reached and the optimization hasn't converged yet.\n",
            "  % self.max_iter, ConvergenceWarning)\n",
            "/usr/local/lib/python3.7/dist-packages/sklearn/neural_network/_multilayer_perceptron.py:571: ConvergenceWarning: Stochastic Optimizer: Maximum iterations (200) reached and the optimization hasn't converged yet.\n",
            "  % self.max_iter, ConvergenceWarning)\n"
          ],
          "name": "stderr"
        },
        {
          "output_type": "stream",
          "text": [
            "acurácia %0.2f para kfold, 10 folds 0.8121505376344086\n"
          ],
          "name": "stdout"
        },
        {
          "output_type": "stream",
          "text": [
            "/usr/local/lib/python3.7/dist-packages/sklearn/neural_network/_multilayer_perceptron.py:571: ConvergenceWarning: Stochastic Optimizer: Maximum iterations (200) reached and the optimization hasn't converged yet.\n",
            "  % self.max_iter, ConvergenceWarning)\n",
            "/usr/local/lib/python3.7/dist-packages/sklearn/neural_network/_multilayer_perceptron.py:571: ConvergenceWarning: Stochastic Optimizer: Maximum iterations (200) reached and the optimization hasn't converged yet.\n",
            "  % self.max_iter, ConvergenceWarning)\n"
          ],
          "name": "stderr"
        }
      ]
    },
    {
      "cell_type": "code",
      "metadata": {
        "colab": {
          "base_uri": "https://localhost:8080/"
        },
        "id": "hlDfKkLQ-0SG",
        "outputId": "65273f79-117a-4437-f566-54cc4371cd9e"
      },
      "source": [
        "mlp1 = MLPClassifier(hidden_layer_sizes=(24,), activation='relu', solver='adam')\n",
        "X = dados_originais_normalizados.drop(columns=['output'])\n",
        "X_train,X_test,Y_train,Y_test = train_test_split(X,dados_originais_normalizados.output,test_size=0.3,stratify=dados_originais_normalizados.output)\n",
        "mlp1.fit(X_train,Y_train)\n",
        "y_pred = mlp1.predict(X_test)\n",
        "acuracia1 = accuracy_score(Y_test,y_pred)\n",
        "print(\"Acuracia para n=1,70/30 :\",acuracia1)\n",
        "mlp2 = MLPClassifier(hidden_layer_sizes=(24,), activation='relu', solver='adam')\n",
        "X_train,X_test,Y_train,Y_test = train_test_split(X,dados_originais_normalizados.output,test_size=0.2,stratify=dados_originais_normalizados.output)\n",
        "mlp2.fit(X_train,Y_train)\n",
        "y_pred = mlp2.predict(X_test)\n",
        "acuracia2 = accuracy_score(Y_test,y_pred)\n",
        "print(\"Acuracia para n=1,80/20 :\",acuracia2)\n",
        "mlp3 = MLPClassifier(hidden_layer_sizes=(24,), activation='relu', solver='adam')\n",
        "X_train,X_test,Y_train,Y_test = train_test_split(X,dados_originais_normalizados.output,test_size=0.2,stratify=dados_originais_normalizados.output)\n",
        "mlp3.fit(X_train,Y_train)\n",
        "y_pred = mlp3.predict(X_test)\n",
        "acuracia3 = accuracy_score(Y_test,y_pred)\n",
        "print(\"Acuracia para n=1,90/10 :\",acuracia3)\n",
        "y = dados_originais_normalizados['output']\n",
        "mlp4 = MLPClassifier(hidden_layer_sizes=(24,), activation='relu', solver='adam')\n",
        "scores = cross_val_score(mlp4, X, y, cv=10)\n",
        "print(\"acurácia %0.2f para kfold, 10 folds\",scores.mean()) "
      ],
      "execution_count": 24,
      "outputs": [
        {
          "output_type": "stream",
          "text": [
            "/usr/local/lib/python3.7/dist-packages/sklearn/neural_network/_multilayer_perceptron.py:571: ConvergenceWarning: Stochastic Optimizer: Maximum iterations (200) reached and the optimization hasn't converged yet.\n",
            "  % self.max_iter, ConvergenceWarning)\n",
            "/usr/local/lib/python3.7/dist-packages/sklearn/neural_network/_multilayer_perceptron.py:571: ConvergenceWarning: Stochastic Optimizer: Maximum iterations (200) reached and the optimization hasn't converged yet.\n",
            "  % self.max_iter, ConvergenceWarning)\n"
          ],
          "name": "stderr"
        },
        {
          "output_type": "stream",
          "text": [
            "Acuracia para n=1,70/30 : 0.8461538461538461\n",
            "Acuracia para n=1,80/20 : 0.7377049180327869\n"
          ],
          "name": "stdout"
        },
        {
          "output_type": "stream",
          "text": [
            "/usr/local/lib/python3.7/dist-packages/sklearn/neural_network/_multilayer_perceptron.py:571: ConvergenceWarning: Stochastic Optimizer: Maximum iterations (200) reached and the optimization hasn't converged yet.\n",
            "  % self.max_iter, ConvergenceWarning)\n",
            "/usr/local/lib/python3.7/dist-packages/sklearn/neural_network/_multilayer_perceptron.py:571: ConvergenceWarning: Stochastic Optimizer: Maximum iterations (200) reached and the optimization hasn't converged yet.\n",
            "  % self.max_iter, ConvergenceWarning)\n"
          ],
          "name": "stderr"
        },
        {
          "output_type": "stream",
          "text": [
            "Acuracia para n=1,90/10 : 0.7213114754098361\n"
          ],
          "name": "stdout"
        },
        {
          "output_type": "stream",
          "text": [
            "/usr/local/lib/python3.7/dist-packages/sklearn/neural_network/_multilayer_perceptron.py:571: ConvergenceWarning: Stochastic Optimizer: Maximum iterations (200) reached and the optimization hasn't converged yet.\n",
            "  % self.max_iter, ConvergenceWarning)\n",
            "/usr/local/lib/python3.7/dist-packages/sklearn/neural_network/_multilayer_perceptron.py:571: ConvergenceWarning: Stochastic Optimizer: Maximum iterations (200) reached and the optimization hasn't converged yet.\n",
            "  % self.max_iter, ConvergenceWarning)\n",
            "/usr/local/lib/python3.7/dist-packages/sklearn/neural_network/_multilayer_perceptron.py:571: ConvergenceWarning: Stochastic Optimizer: Maximum iterations (200) reached and the optimization hasn't converged yet.\n",
            "  % self.max_iter, ConvergenceWarning)\n",
            "/usr/local/lib/python3.7/dist-packages/sklearn/neural_network/_multilayer_perceptron.py:571: ConvergenceWarning: Stochastic Optimizer: Maximum iterations (200) reached and the optimization hasn't converged yet.\n",
            "  % self.max_iter, ConvergenceWarning)\n",
            "/usr/local/lib/python3.7/dist-packages/sklearn/neural_network/_multilayer_perceptron.py:571: ConvergenceWarning: Stochastic Optimizer: Maximum iterations (200) reached and the optimization hasn't converged yet.\n",
            "  % self.max_iter, ConvergenceWarning)\n",
            "/usr/local/lib/python3.7/dist-packages/sklearn/neural_network/_multilayer_perceptron.py:571: ConvergenceWarning: Stochastic Optimizer: Maximum iterations (200) reached and the optimization hasn't converged yet.\n",
            "  % self.max_iter, ConvergenceWarning)\n",
            "/usr/local/lib/python3.7/dist-packages/sklearn/neural_network/_multilayer_perceptron.py:571: ConvergenceWarning: Stochastic Optimizer: Maximum iterations (200) reached and the optimization hasn't converged yet.\n",
            "  % self.max_iter, ConvergenceWarning)\n",
            "/usr/local/lib/python3.7/dist-packages/sklearn/neural_network/_multilayer_perceptron.py:571: ConvergenceWarning: Stochastic Optimizer: Maximum iterations (200) reached and the optimization hasn't converged yet.\n",
            "  % self.max_iter, ConvergenceWarning)\n"
          ],
          "name": "stderr"
        },
        {
          "output_type": "stream",
          "text": [
            "acurácia %0.2f para kfold, 10 folds 0.8117204301075269\n"
          ],
          "name": "stdout"
        },
        {
          "output_type": "stream",
          "text": [
            "/usr/local/lib/python3.7/dist-packages/sklearn/neural_network/_multilayer_perceptron.py:571: ConvergenceWarning: Stochastic Optimizer: Maximum iterations (200) reached and the optimization hasn't converged yet.\n",
            "  % self.max_iter, ConvergenceWarning)\n"
          ],
          "name": "stderr"
        }
      ]
    },
    {
      "cell_type": "markdown",
      "metadata": {
        "id": "kyhk6t4e_Raa"
      },
      "source": [
        "## amostra 30\n",
        "---\n"
      ]
    },
    {
      "cell_type": "code",
      "metadata": {
        "colab": {
          "base_uri": "https://localhost:8080/"
        },
        "id": "gaV6W0ru_VOH",
        "outputId": "02a93aba-4822-4515-83f3-20a9c7ab9bfc"
      },
      "source": [
        "mlp1 = MLPClassifier(hidden_layer_sizes=(20,), activation='relu', solver='adam')\n",
        "X = dados_amostra30_normalizado.drop(columns=['output'])\n",
        "X_train,X_test,Y_train,Y_test = train_test_split(X,dados_amostra30_normalizado.output,test_size=0.3,stratify=dados_amostra30_normalizado.output)\n",
        "mlp1.fit(X_train,Y_train)\n",
        "y_pred = mlp1.predict(X_test)\n",
        "acuracia1 = accuracy_score(Y_test,y_pred)\n",
        "print(\"Acuracia para n=1,70/30 :\",acuracia1)\n",
        "X = dados_amostra30_normalizado.drop(columns=['output'])\n",
        "X_train,X_test,Y_train,Y_test = train_test_split(X,dados_amostra30_normalizado.output,test_size=0.2,stratify=dados_amostra30_normalizado.output)\n",
        "mlp2 = MLPClassifier(hidden_layer_sizes=(20,), activation='relu', solver='adam')\n",
        "mlp2.fit(X_train,Y_train)\n",
        "y_pred = mlp2.predict(X_test)\n",
        "acuracia2 = accuracy_score(Y_test,y_pred)\n",
        "print(\"Acuracia para n=1,80/20 :\",acuracia2)\n",
        "X = dados_amostra30_normalizado.drop(columns=['output'])\n",
        "X_train,X_test,Y_train,Y_test = train_test_split(X,dados_amostra30_normalizado.output,test_size=0.1,stratify=dados_amostra30_normalizado.output)\n",
        "mlp3 = MLPClassifier(hidden_layer_sizes=(20,), activation='relu', solver='adam')\n",
        "mlp3.fit(X_train,Y_train)\n",
        "y_pred = mlp3.predict(X_test)\n",
        "acuracia3 = accuracy_score(Y_test,y_pred)\n",
        "print(\"Acuracia para n=1,90/10 :\",acuracia3)\n",
        "y = dados_amostra30_normalizado['output']\n",
        "mlp4 = MLPClassifier(hidden_layer_sizes=(20,), activation='relu', solver='adam')\n",
        "scores = cross_val_score(mlp4, X, y, cv=10)\n",
        "print(\"acurácia %0.2f para kfold, 10 folds\",scores.mean()) "
      ],
      "execution_count": 26,
      "outputs": [
        {
          "output_type": "stream",
          "text": [
            "/usr/local/lib/python3.7/dist-packages/sklearn/neural_network/_multilayer_perceptron.py:571: ConvergenceWarning: Stochastic Optimizer: Maximum iterations (200) reached and the optimization hasn't converged yet.\n",
            "  % self.max_iter, ConvergenceWarning)\n",
            "/usr/local/lib/python3.7/dist-packages/sklearn/neural_network/_multilayer_perceptron.py:571: ConvergenceWarning: Stochastic Optimizer: Maximum iterations (200) reached and the optimization hasn't converged yet.\n",
            "  % self.max_iter, ConvergenceWarning)\n"
          ],
          "name": "stderr"
        },
        {
          "output_type": "stream",
          "text": [
            "Acuracia para n=1,70/30 : 0.5357142857142857\n",
            "Acuracia para n=1,80/20 : 0.5263157894736842\n",
            "Acuracia para n=1,90/10 : 0.5\n",
            "acurácia %0.2f para kfold, 10 folds 0.4955555555555556\n"
          ],
          "name": "stdout"
        },
        {
          "output_type": "stream",
          "text": [
            "/usr/local/lib/python3.7/dist-packages/sklearn/neural_network/_multilayer_perceptron.py:571: ConvergenceWarning: Stochastic Optimizer: Maximum iterations (200) reached and the optimization hasn't converged yet.\n",
            "  % self.max_iter, ConvergenceWarning)\n"
          ],
          "name": "stderr"
        }
      ]
    },
    {
      "cell_type": "code",
      "metadata": {
        "colab": {
          "base_uri": "https://localhost:8080/"
        },
        "id": "zjU9cM2zAQ4k",
        "outputId": "48d155fc-fe40-4e4d-be00-cd5f484a57f8"
      },
      "source": [
        "mlp1 = MLPClassifier(hidden_layer_sizes=(21,), activation='relu', solver='adam')\n",
        "X = dados_amostra30_normalizado.drop(columns=['output'])\n",
        "X_train,X_test,Y_train,Y_test = train_test_split(X,dados_amostra30_normalizado.output,test_size=0.3,stratify=dados_amostra30_normalizado.output)\n",
        "mlp1.fit(X_train,Y_train)\n",
        "y_pred = mlp1.predict(X_test)\n",
        "acuracia1 = accuracy_score(Y_test,y_pred)\n",
        "print(\"Acuracia para n=1,70/30 :\",acuracia1)\n",
        "X = dados_amostra30_normalizado.drop(columns=['output'])\n",
        "X_train,X_test,Y_train,Y_test = train_test_split(X,dados_amostra30_normalizado.output,test_size=0.2,stratify=dados_amostra30_normalizado.output)\n",
        "mlp2 = MLPClassifier(hidden_layer_sizes=(21,), activation='relu', solver='adam')\n",
        "mlp2.fit(X_train,Y_train)\n",
        "y_pred = mlp2.predict(X_test)\n",
        "acuracia2 = accuracy_score(Y_test,y_pred)\n",
        "print(\"Acuracia para n=1,80/20 :\",acuracia2)\n",
        "X = dados_amostra30_normalizado.drop(columns=['output'])\n",
        "X_train,X_test,Y_train,Y_test = train_test_split(X,dados_amostra30_normalizado.output,test_size=0.1,stratify=dados_amostra30_normalizado.output)\n",
        "mlp3 = MLPClassifier(hidden_layer_sizes=(21,), activation='relu', solver='adam')\n",
        "mlp3.fit(X_train,Y_train)\n",
        "y_pred = mlp3.predict(X_test)\n",
        "acuracia3 = accuracy_score(Y_test,y_pred)\n",
        "print(\"Acuracia para n=1,90/10 :\",acuracia3)\n",
        "y = dados_amostra30_normalizado['output']\n",
        "mlp4 = MLPClassifier(hidden_layer_sizes=(21,), activation='relu', solver='adam')\n",
        "scores = cross_val_score(mlp4, X, y, cv=10)\n",
        "print(\"acurácia %0.2f para kfold, 10 folds\",scores.mean())"
      ],
      "execution_count": 27,
      "outputs": [
        {
          "output_type": "stream",
          "text": [
            "/usr/local/lib/python3.7/dist-packages/sklearn/neural_network/_multilayer_perceptron.py:571: ConvergenceWarning: Stochastic Optimizer: Maximum iterations (200) reached and the optimization hasn't converged yet.\n",
            "  % self.max_iter, ConvergenceWarning)\n",
            "/usr/local/lib/python3.7/dist-packages/sklearn/neural_network/_multilayer_perceptron.py:571: ConvergenceWarning: Stochastic Optimizer: Maximum iterations (200) reached and the optimization hasn't converged yet.\n",
            "  % self.max_iter, ConvergenceWarning)\n"
          ],
          "name": "stderr"
        },
        {
          "output_type": "stream",
          "text": [
            "Acuracia para n=1,70/30 : 0.7142857142857143\n",
            "Acuracia para n=1,80/20 : 0.631578947368421\n",
            "Acuracia para n=1,90/10 : 0.6\n"
          ],
          "name": "stdout"
        },
        {
          "output_type": "stream",
          "text": [
            "/usr/local/lib/python3.7/dist-packages/sklearn/neural_network/_multilayer_perceptron.py:571: ConvergenceWarning: Stochastic Optimizer: Maximum iterations (200) reached and the optimization hasn't converged yet.\n",
            "  % self.max_iter, ConvergenceWarning)\n",
            "/usr/local/lib/python3.7/dist-packages/sklearn/neural_network/_multilayer_perceptron.py:571: ConvergenceWarning: Stochastic Optimizer: Maximum iterations (200) reached and the optimization hasn't converged yet.\n",
            "  % self.max_iter, ConvergenceWarning)\n",
            "/usr/local/lib/python3.7/dist-packages/sklearn/neural_network/_multilayer_perceptron.py:571: ConvergenceWarning: Stochastic Optimizer: Maximum iterations (200) reached and the optimization hasn't converged yet.\n",
            "  % self.max_iter, ConvergenceWarning)\n"
          ],
          "name": "stderr"
        },
        {
          "output_type": "stream",
          "text": [
            "acurácia %0.2f para kfold, 10 folds 0.7377777777777776\n"
          ],
          "name": "stdout"
        },
        {
          "output_type": "stream",
          "text": [
            "/usr/local/lib/python3.7/dist-packages/sklearn/neural_network/_multilayer_perceptron.py:571: ConvergenceWarning: Stochastic Optimizer: Maximum iterations (200) reached and the optimization hasn't converged yet.\n",
            "  % self.max_iter, ConvergenceWarning)\n",
            "/usr/local/lib/python3.7/dist-packages/sklearn/neural_network/_multilayer_perceptron.py:571: ConvergenceWarning: Stochastic Optimizer: Maximum iterations (200) reached and the optimization hasn't converged yet.\n",
            "  % self.max_iter, ConvergenceWarning)\n"
          ],
          "name": "stderr"
        }
      ]
    },
    {
      "cell_type": "code",
      "metadata": {
        "colab": {
          "base_uri": "https://localhost:8080/"
        },
        "id": "XYo9krO7AUEo",
        "outputId": "09a215ea-426c-4036-ff45-067eb8e9706f"
      },
      "source": [
        "mlp1 = MLPClassifier(hidden_layer_sizes=(22,), activation='relu', solver='adam')\n",
        "X = dados_amostra30_normalizado.drop(columns=['output'])\n",
        "X_train,X_test,Y_train,Y_test = train_test_split(X,dados_amostra30_normalizado.output,test_size=0.3,stratify=dados_amostra30_normalizado.output)\n",
        "mlp1.fit(X_train,Y_train)\n",
        "y_pred = mlp1.predict(X_test)\n",
        "acuracia1 = accuracy_score(Y_test,y_pred)\n",
        "print(\"Acuracia para n=1,70/30 :\",acuracia1)\n",
        "X = dados_amostra30_normalizado.drop(columns=['output'])\n",
        "X_train,X_test,Y_train,Y_test = train_test_split(X,dados_amostra30_normalizado.output,test_size=0.2,stratify=dados_amostra30_normalizado.output)\n",
        "mlp2 = MLPClassifier(hidden_layer_sizes=(22,), activation='relu', solver='adam')\n",
        "mlp2.fit(X_train,Y_train)\n",
        "y_pred = mlp2.predict(X_test)\n",
        "acuracia2 = accuracy_score(Y_test,y_pred)\n",
        "print(\"Acuracia para n=1,80/20 :\",acuracia2)\n",
        "X = dados_amostra30_normalizado.drop(columns=['output'])\n",
        "X_train,X_test,Y_train,Y_test = train_test_split(X,dados_amostra30_normalizado.output,test_size=0.1,stratify=dados_amostra30_normalizado.output)\n",
        "mlp3 = MLPClassifier(hidden_layer_sizes=(22,), activation='relu', solver='adam')\n",
        "mlp3.fit(X_train,Y_train)\n",
        "y_pred = mlp3.predict(X_test)\n",
        "acuracia3 = accuracy_score(Y_test,y_pred)\n",
        "print(\"Acuracia para n=1,90/10 :\",acuracia3)\n",
        "y = dados_amostra30_normalizado['output']\n",
        "mlp4 = MLPClassifier(hidden_layer_sizes=(22,), activation='relu', solver='adam')\n",
        "scores = cross_val_score(mlp4, X, y, cv=10)\n",
        "print(\"acurácia %0.2f para kfold, 10 folds\",scores.mean())"
      ],
      "execution_count": 28,
      "outputs": [
        {
          "output_type": "stream",
          "text": [
            "Acuracia para n=1,70/30 : 0.35714285714285715\n",
            "Acuracia para n=1,80/20 : 0.47368421052631576\n",
            "Acuracia para n=1,90/10 : 0.5\n"
          ],
          "name": "stdout"
        },
        {
          "output_type": "stream",
          "text": [
            "/usr/local/lib/python3.7/dist-packages/sklearn/neural_network/_multilayer_perceptron.py:571: ConvergenceWarning: Stochastic Optimizer: Maximum iterations (200) reached and the optimization hasn't converged yet.\n",
            "  % self.max_iter, ConvergenceWarning)\n",
            "/usr/local/lib/python3.7/dist-packages/sklearn/neural_network/_multilayer_perceptron.py:571: ConvergenceWarning: Stochastic Optimizer: Maximum iterations (200) reached and the optimization hasn't converged yet.\n",
            "  % self.max_iter, ConvergenceWarning)\n",
            "/usr/local/lib/python3.7/dist-packages/sklearn/neural_network/_multilayer_perceptron.py:571: ConvergenceWarning: Stochastic Optimizer: Maximum iterations (200) reached and the optimization hasn't converged yet.\n",
            "  % self.max_iter, ConvergenceWarning)\n"
          ],
          "name": "stderr"
        },
        {
          "output_type": "stream",
          "text": [
            "acurácia %0.2f para kfold, 10 folds 0.5844444444444443\n"
          ],
          "name": "stdout"
        }
      ]
    },
    {
      "cell_type": "code",
      "metadata": {
        "colab": {
          "base_uri": "https://localhost:8080/"
        },
        "id": "9qIjQx0uAU1Q",
        "outputId": "ab234819-ffa4-4ab4-d832-f7473134bc57"
      },
      "source": [
        "mlp1 = MLPClassifier(hidden_layer_sizes=(23,), activation='relu', solver='adam')\n",
        "X = dados_amostra30_normalizado.drop(columns=['output'])\n",
        "X_train,X_test,Y_train,Y_test = train_test_split(X,dados_amostra30_normalizado.output,test_size=0.3,stratify=dados_amostra30_normalizado.output)\n",
        "mlp1.fit(X_train,Y_train)\n",
        "y_pred = mlp1.predict(X_test)\n",
        "acuracia1 = accuracy_score(Y_test,y_pred)\n",
        "print(\"Acuracia para n=1,70/30 :\",acuracia1)\n",
        "X = dados_amostra30_normalizado.drop(columns=['output'])\n",
        "X_train,X_test,Y_train,Y_test = train_test_split(X,dados_amostra30_normalizado.output,test_size=0.2,stratify=dados_amostra30_normalizado.output)\n",
        "mlp2 = MLPClassifier(hidden_layer_sizes=(23,), activation='relu', solver='adam')\n",
        "mlp2.fit(X_train,Y_train)\n",
        "y_pred = mlp2.predict(X_test)\n",
        "acuracia2 = accuracy_score(Y_test,y_pred)\n",
        "print(\"Acuracia para n=1,80/20 :\",acuracia2)\n",
        "X = dados_amostra30_normalizado.drop(columns=['output'])\n",
        "X_train,X_test,Y_train,Y_test = train_test_split(X,dados_amostra30_normalizado.output,test_size=0.1,stratify=dados_amostra30_normalizado.output)\n",
        "mlp3 = MLPClassifier(hidden_layer_sizes=(23,), activation='relu', solver='adam')\n",
        "mlp3.fit(X_train,Y_train)\n",
        "y_pred = mlp3.predict(X_test)\n",
        "acuracia3 = accuracy_score(Y_test,y_pred)\n",
        "print(\"Acuracia para n=1,90/10 :\",acuracia3)\n",
        "y = dados_amostra30_normalizado['output']\n",
        "mlp4 = MLPClassifier(hidden_layer_sizes=(23,), activation='relu', solver='adam')\n",
        "scores = cross_val_score(mlp4, X, y, cv=10)\n",
        "print(\"acurácia %0.2f para kfold, 10 folds\",scores.mean())"
      ],
      "execution_count": 29,
      "outputs": [
        {
          "output_type": "stream",
          "text": [
            "Acuracia para n=1,70/30 : 0.5714285714285714\n",
            "Acuracia para n=1,80/20 : 0.7894736842105263\n",
            "Acuracia para n=1,90/10 : 0.7\n",
            "acurácia %0.2f para kfold, 10 folds 0.55\n"
          ],
          "name": "stdout"
        },
        {
          "output_type": "stream",
          "text": [
            "/usr/local/lib/python3.7/dist-packages/sklearn/neural_network/_multilayer_perceptron.py:571: ConvergenceWarning: Stochastic Optimizer: Maximum iterations (200) reached and the optimization hasn't converged yet.\n",
            "  % self.max_iter, ConvergenceWarning)\n"
          ],
          "name": "stderr"
        }
      ]
    },
    {
      "cell_type": "code",
      "metadata": {
        "colab": {
          "base_uri": "https://localhost:8080/"
        },
        "id": "XS_A_615AVGr",
        "outputId": "cab52b3d-8338-460c-c820-3f8e6fc50bbd"
      },
      "source": [
        "mlp1 = MLPClassifier(hidden_layer_sizes=(24,), activation='relu', solver='adam')\n",
        "X = dados_amostra30_normalizado.drop(columns=['output'])\n",
        "X_train,X_test,Y_train,Y_test = train_test_split(X,dados_amostra30_normalizado.output,test_size=0.3,stratify=dados_amostra30_normalizado.output)\n",
        "mlp1.fit(X_train,Y_train)\n",
        "y_pred = mlp1.predict(X_test)\n",
        "acuracia1 = accuracy_score(Y_test,y_pred)\n",
        "print(\"Acuracia para n=1,70/30 :\",acuracia1)\n",
        "X = dados_amostra30_normalizado.drop(columns=['output'])\n",
        "X_train,X_test,Y_train,Y_test = train_test_split(X,dados_amostra30_normalizado.output,test_size=0.2,stratify=dados_amostra30_normalizado.output)\n",
        "mlp2 = MLPClassifier(hidden_layer_sizes=(24,), activation='relu', solver='adam')\n",
        "mlp2.fit(X_train,Y_train)\n",
        "y_pred = mlp2.predict(X_test)\n",
        "acuracia2 = accuracy_score(Y_test,y_pred)\n",
        "print(\"Acuracia para n=1,80/20 :\",acuracia2)\n",
        "X = dados_amostra30_normalizado.drop(columns=['output'])\n",
        "X_train,X_test,Y_train,Y_test = train_test_split(X,dados_amostra30_normalizado.output,test_size=0.1,stratify=dados_amostra30_normalizado.output)\n",
        "mlp3 = MLPClassifier(hidden_layer_sizes=(24,), activation='relu', solver='adam')\n",
        "mlp3.fit(X_train,Y_train)\n",
        "y_pred = mlp3.predict(X_test)\n",
        "acuracia3 = accuracy_score(Y_test,y_pred)\n",
        "print(\"Acuracia para n=1,90/10 :\",acuracia3)\n",
        "y = dados_amostra30_normalizado['output']\n",
        "mlp4 = MLPClassifier(hidden_layer_sizes=(24,), activation='relu', solver='adam')\n",
        "scores = cross_val_score(mlp4, X, y, cv=10)\n",
        "print(\"acurácia %0.2f para kfold, 10 folds\",scores.mean())"
      ],
      "execution_count": 30,
      "outputs": [
        {
          "output_type": "stream",
          "text": [
            "Acuracia para n=1,70/30 : 0.7142857142857143\n",
            "Acuracia para n=1,80/20 : 0.631578947368421\n",
            "Acuracia para n=1,90/10 : 0.8\n"
          ],
          "name": "stdout"
        },
        {
          "output_type": "stream",
          "text": [
            "/usr/local/lib/python3.7/dist-packages/sklearn/neural_network/_multilayer_perceptron.py:571: ConvergenceWarning: Stochastic Optimizer: Maximum iterations (200) reached and the optimization hasn't converged yet.\n",
            "  % self.max_iter, ConvergenceWarning)\n",
            "/usr/local/lib/python3.7/dist-packages/sklearn/neural_network/_multilayer_perceptron.py:571: ConvergenceWarning: Stochastic Optimizer: Maximum iterations (200) reached and the optimization hasn't converged yet.\n",
            "  % self.max_iter, ConvergenceWarning)\n",
            "/usr/local/lib/python3.7/dist-packages/sklearn/neural_network/_multilayer_perceptron.py:571: ConvergenceWarning: Stochastic Optimizer: Maximum iterations (200) reached and the optimization hasn't converged yet.\n",
            "  % self.max_iter, ConvergenceWarning)\n",
            "/usr/local/lib/python3.7/dist-packages/sklearn/neural_network/_multilayer_perceptron.py:571: ConvergenceWarning: Stochastic Optimizer: Maximum iterations (200) reached and the optimization hasn't converged yet.\n",
            "  % self.max_iter, ConvergenceWarning)\n",
            "/usr/local/lib/python3.7/dist-packages/sklearn/neural_network/_multilayer_perceptron.py:571: ConvergenceWarning: Stochastic Optimizer: Maximum iterations (200) reached and the optimization hasn't converged yet.\n",
            "  % self.max_iter, ConvergenceWarning)\n",
            "/usr/local/lib/python3.7/dist-packages/sklearn/neural_network/_multilayer_perceptron.py:571: ConvergenceWarning: Stochastic Optimizer: Maximum iterations (200) reached and the optimization hasn't converged yet.\n",
            "  % self.max_iter, ConvergenceWarning)\n"
          ],
          "name": "stderr"
        },
        {
          "output_type": "stream",
          "text": [
            "acurácia %0.2f para kfold, 10 folds 0.6477777777777778\n"
          ],
          "name": "stdout"
        },
        {
          "output_type": "stream",
          "text": [
            "/usr/local/lib/python3.7/dist-packages/sklearn/neural_network/_multilayer_perceptron.py:571: ConvergenceWarning: Stochastic Optimizer: Maximum iterations (200) reached and the optimization hasn't converged yet.\n",
            "  % self.max_iter, ConvergenceWarning)\n",
            "/usr/local/lib/python3.7/dist-packages/sklearn/neural_network/_multilayer_perceptron.py:571: ConvergenceWarning: Stochastic Optimizer: Maximum iterations (200) reached and the optimization hasn't converged yet.\n",
            "  % self.max_iter, ConvergenceWarning)\n"
          ],
          "name": "stderr"
        }
      ]
    },
    {
      "cell_type": "markdown",
      "metadata": {
        "id": "Vo7JlOyFBSBe"
      },
      "source": [
        "## Amostra 50\n",
        "---"
      ]
    },
    {
      "cell_type": "code",
      "metadata": {
        "colab": {
          "base_uri": "https://localhost:8080/"
        },
        "id": "A4gdDLI7BV-F",
        "outputId": "4959b750-8bfd-4f9c-afa7-0302c33d15b3"
      },
      "source": [
        "mlp1 = MLPClassifier(hidden_layer_sizes=(20,), activation='relu', solver='adam')\n",
        "X = dados_amostra50_normalizado.drop(columns=['output'])\n",
        "X_train,X_test,Y_train,Y_test = train_test_split(X,dados_amostra50_normalizado.output,test_size=0.3,stratify=dados_amostra50_normalizado.output)\n",
        "mlp1.fit(X_train,Y_train)\n",
        "y_pred = mlp1.predict(X_test)\n",
        "acuracia1 = accuracy_score(Y_test,y_pred)\n",
        "print(\"Acuracia para n=1,70/30 :\",acuracia1)\n",
        "X = dados_amostra50_normalizado.drop(columns=['output'])\n",
        "X_train,X_test,Y_train,Y_test = train_test_split(X,dados_amostra50_normalizado.output,test_size=0.2,stratify=dados_amostra50_normalizado.output)\n",
        "mlp2 = MLPClassifier(hidden_layer_sizes=(20,), activation='relu', solver='adam')\n",
        "mlp2.fit(X_train,Y_train)\n",
        "y_pred = mlp2.predict(X_test)\n",
        "acuracia2 = accuracy_score(Y_test,y_pred)\n",
        "print(\"Acuracia para n=1,80/20 :\",acuracia2)\n",
        "X = dados_amostra50_normalizado.drop(columns=['output'])\n",
        "X_train,X_test,Y_train,Y_test = train_test_split(X,dados_amostra50_normalizado.output,test_size=0.1,stratify=dados_amostra50_normalizado.output)\n",
        "mlp3 = MLPClassifier(hidden_layer_sizes=(20,), activation='relu', solver='adam')\n",
        "mlp3.fit(X_train,Y_train)\n",
        "y_pred = mlp3.predict(X_test)\n",
        "acuracia3 = accuracy_score(Y_test,y_pred)\n",
        "print(\"Acuracia para n=1,90/10 :\",acuracia3)\n",
        "y = dados_amostra50_normalizado['output']\n",
        "mlp4 = MLPClassifier(hidden_layer_sizes=(20,), activation='relu', solver='adam')\n",
        "scores = cross_val_score(mlp4, X, y, cv=10)\n",
        "print(\"acurácia %0.2f para kfold, 10 folds\",scores.mean())"
      ],
      "execution_count": 32,
      "outputs": [
        {
          "output_type": "stream",
          "text": [
            "/usr/local/lib/python3.7/dist-packages/sklearn/neural_network/_multilayer_perceptron.py:571: ConvergenceWarning: Stochastic Optimizer: Maximum iterations (200) reached and the optimization hasn't converged yet.\n",
            "  % self.max_iter, ConvergenceWarning)\n",
            "/usr/local/lib/python3.7/dist-packages/sklearn/neural_network/_multilayer_perceptron.py:571: ConvergenceWarning: Stochastic Optimizer: Maximum iterations (200) reached and the optimization hasn't converged yet.\n",
            "  % self.max_iter, ConvergenceWarning)\n"
          ],
          "name": "stderr"
        },
        {
          "output_type": "stream",
          "text": [
            "Acuracia para n=1,70/30 : 0.5434782608695652\n",
            "Acuracia para n=1,80/20 : 0.5483870967741935\n",
            "Acuracia para n=1,90/10 : 0.6875\n"
          ],
          "name": "stdout"
        },
        {
          "output_type": "stream",
          "text": [
            "/usr/local/lib/python3.7/dist-packages/sklearn/neural_network/_multilayer_perceptron.py:571: ConvergenceWarning: Stochastic Optimizer: Maximum iterations (200) reached and the optimization hasn't converged yet.\n",
            "  % self.max_iter, ConvergenceWarning)\n",
            "/usr/local/lib/python3.7/dist-packages/sklearn/neural_network/_multilayer_perceptron.py:571: ConvergenceWarning: Stochastic Optimizer: Maximum iterations (200) reached and the optimization hasn't converged yet.\n",
            "  % self.max_iter, ConvergenceWarning)\n"
          ],
          "name": "stderr"
        },
        {
          "output_type": "stream",
          "text": [
            "acurácia %0.2f para kfold, 10 folds 0.6229166666666666\n"
          ],
          "name": "stdout"
        },
        {
          "output_type": "stream",
          "text": [
            "/usr/local/lib/python3.7/dist-packages/sklearn/neural_network/_multilayer_perceptron.py:571: ConvergenceWarning: Stochastic Optimizer: Maximum iterations (200) reached and the optimization hasn't converged yet.\n",
            "  % self.max_iter, ConvergenceWarning)\n"
          ],
          "name": "stderr"
        }
      ]
    },
    {
      "cell_type": "code",
      "metadata": {
        "colab": {
          "base_uri": "https://localhost:8080/"
        },
        "id": "zRm1Ber5Bpi6",
        "outputId": "28fc5226-eee0-4511-ca9c-47ae73eac4f2"
      },
      "source": [
        "mlp1 = MLPClassifier(hidden_layer_sizes=(21,), activation='relu', solver='adam')\n",
        "X = dados_amostra50_normalizado.drop(columns=['output'])\n",
        "X_train,X_test,Y_train,Y_test = train_test_split(X,dados_amostra50_normalizado.output,test_size=0.3,stratify=dados_amostra50_normalizado.output)\n",
        "mlp1.fit(X_train,Y_train)\n",
        "y_pred = mlp1.predict(X_test)\n",
        "acuracia1 = accuracy_score(Y_test,y_pred)\n",
        "print(\"Acuracia para n=1,70/30 :\",acuracia1)\n",
        "X = dados_amostra50_normalizado.drop(columns=['output'])\n",
        "X_train,X_test,Y_train,Y_test = train_test_split(X,dados_amostra50_normalizado.output,test_size=0.2,stratify=dados_amostra50_normalizado.output)\n",
        "mlp2 = MLPClassifier(hidden_layer_sizes=(21,), activation='relu', solver='adam')\n",
        "mlp2.fit(X_train,Y_train)\n",
        "y_pred = mlp2.predict(X_test)\n",
        "acuracia2 = accuracy_score(Y_test,y_pred)\n",
        "print(\"Acuracia para n=1,80/20 :\",acuracia2)\n",
        "X = dados_amostra50_normalizado.drop(columns=['output'])\n",
        "X_train,X_test,Y_train,Y_test = train_test_split(X,dados_amostra50_normalizado.output,test_size=0.1,stratify=dados_amostra50_normalizado.output)\n",
        "mlp3 = MLPClassifier(hidden_layer_sizes=(21,), activation='relu', solver='adam')\n",
        "mlp3.fit(X_train,Y_train)\n",
        "y_pred = mlp3.predict(X_test)\n",
        "acuracia3 = accuracy_score(Y_test,y_pred)\n",
        "print(\"Acuracia para n=1,90/10 :\",acuracia3)\n",
        "y = dados_amostra50_normalizado['output']\n",
        "mlp4 = MLPClassifier(hidden_layer_sizes=(21,), activation='relu', solver='adam')\n",
        "scores = cross_val_score(mlp4, X, y, cv=10)\n",
        "print(\"acurácia %0.2f para kfold, 10 folds\",scores.mean())"
      ],
      "execution_count": 33,
      "outputs": [
        {
          "output_type": "stream",
          "text": [
            "/usr/local/lib/python3.7/dist-packages/sklearn/neural_network/_multilayer_perceptron.py:571: ConvergenceWarning: Stochastic Optimizer: Maximum iterations (200) reached and the optimization hasn't converged yet.\n",
            "  % self.max_iter, ConvergenceWarning)\n",
            "/usr/local/lib/python3.7/dist-packages/sklearn/neural_network/_multilayer_perceptron.py:571: ConvergenceWarning: Stochastic Optimizer: Maximum iterations (200) reached and the optimization hasn't converged yet.\n",
            "  % self.max_iter, ConvergenceWarning)\n"
          ],
          "name": "stderr"
        },
        {
          "output_type": "stream",
          "text": [
            "Acuracia para n=1,70/30 : 0.7608695652173914\n",
            "Acuracia para n=1,80/20 : 0.5483870967741935\n",
            "Acuracia para n=1,90/10 : 0.375\n"
          ],
          "name": "stdout"
        },
        {
          "output_type": "stream",
          "text": [
            "/usr/local/lib/python3.7/dist-packages/sklearn/neural_network/_multilayer_perceptron.py:571: ConvergenceWarning: Stochastic Optimizer: Maximum iterations (200) reached and the optimization hasn't converged yet.\n",
            "  % self.max_iter, ConvergenceWarning)\n",
            "/usr/local/lib/python3.7/dist-packages/sklearn/neural_network/_multilayer_perceptron.py:571: ConvergenceWarning: Stochastic Optimizer: Maximum iterations (200) reached and the optimization hasn't converged yet.\n",
            "  % self.max_iter, ConvergenceWarning)\n",
            "/usr/local/lib/python3.7/dist-packages/sklearn/neural_network/_multilayer_perceptron.py:571: ConvergenceWarning: Stochastic Optimizer: Maximum iterations (200) reached and the optimization hasn't converged yet.\n",
            "  % self.max_iter, ConvergenceWarning)\n"
          ],
          "name": "stderr"
        },
        {
          "output_type": "stream",
          "text": [
            "acurácia %0.2f para kfold, 10 folds 0.6616666666666667\n"
          ],
          "name": "stdout"
        }
      ]
    },
    {
      "cell_type": "code",
      "metadata": {
        "colab": {
          "base_uri": "https://localhost:8080/"
        },
        "id": "Hl_bqezSBvMe",
        "outputId": "14b1bdab-d5e8-4e67-dcf6-026ca7bc1bf3"
      },
      "source": [
        "mlp1 = MLPClassifier(hidden_layer_sizes=(22,), activation='relu', solver='adam')\n",
        "X = dados_amostra50_normalizado.drop(columns=['output'])\n",
        "X_train,X_test,Y_train,Y_test = train_test_split(X,dados_amostra50_normalizado.output,test_size=0.3,stratify=dados_amostra50_normalizado.output)\n",
        "mlp1.fit(X_train,Y_train)\n",
        "y_pred = mlp1.predict(X_test)\n",
        "acuracia1 = accuracy_score(Y_test,y_pred)\n",
        "print(\"Acuracia para n=1,70/30 :\",acuracia1)\n",
        "X = dados_amostra50_normalizado.drop(columns=['output'])\n",
        "X_train,X_test,Y_train,Y_test = train_test_split(X,dados_amostra50_normalizado.output,test_size=0.2,stratify=dados_amostra50_normalizado.output)\n",
        "mlp2 = MLPClassifier(hidden_layer_sizes=(22,), activation='relu', solver='adam')\n",
        "mlp2.fit(X_train,Y_train)\n",
        "y_pred = mlp2.predict(X_test)\n",
        "acuracia2 = accuracy_score(Y_test,y_pred)\n",
        "print(\"Acuracia para n=1,80/20 :\",acuracia2)\n",
        "X = dados_amostra50_normalizado.drop(columns=['output'])\n",
        "X_train,X_test,Y_train,Y_test = train_test_split(X,dados_amostra50_normalizado.output,test_size=0.1,stratify=dados_amostra50_normalizado.output)\n",
        "mlp3 = MLPClassifier(hidden_layer_sizes=(22,), activation='relu', solver='adam')\n",
        "mlp3.fit(X_train,Y_train)\n",
        "y_pred = mlp3.predict(X_test)\n",
        "acuracia3 = accuracy_score(Y_test,y_pred)\n",
        "print(\"Acuracia para n=1,90/10 :\",acuracia3)\n",
        "y = dados_amostra50_normalizado['output']\n",
        "mlp4 = MLPClassifier(hidden_layer_sizes=(22,), activation='relu', solver='adam')\n",
        "scores = cross_val_score(mlp4, X, y, cv=10)\n",
        "print(\"acurácia %0.2f para kfold, 10 folds\",scores.mean())"
      ],
      "execution_count": 34,
      "outputs": [
        {
          "output_type": "stream",
          "text": [
            "Acuracia para n=1,70/30 : 0.6304347826086957\n",
            "Acuracia para n=1,80/20 : 0.45161290322580644\n",
            "Acuracia para n=1,90/10 : 0.75\n"
          ],
          "name": "stdout"
        },
        {
          "output_type": "stream",
          "text": [
            "/usr/local/lib/python3.7/dist-packages/sklearn/neural_network/_multilayer_perceptron.py:571: ConvergenceWarning: Stochastic Optimizer: Maximum iterations (200) reached and the optimization hasn't converged yet.\n",
            "  % self.max_iter, ConvergenceWarning)\n",
            "/usr/local/lib/python3.7/dist-packages/sklearn/neural_network/_multilayer_perceptron.py:571: ConvergenceWarning: Stochastic Optimizer: Maximum iterations (200) reached and the optimization hasn't converged yet.\n",
            "  % self.max_iter, ConvergenceWarning)\n"
          ],
          "name": "stderr"
        },
        {
          "output_type": "stream",
          "text": [
            "acurácia %0.2f para kfold, 10 folds 0.6095833333333334\n"
          ],
          "name": "stdout"
        },
        {
          "output_type": "stream",
          "text": [
            "/usr/local/lib/python3.7/dist-packages/sklearn/neural_network/_multilayer_perceptron.py:571: ConvergenceWarning: Stochastic Optimizer: Maximum iterations (200) reached and the optimization hasn't converged yet.\n",
            "  % self.max_iter, ConvergenceWarning)\n"
          ],
          "name": "stderr"
        }
      ]
    },
    {
      "cell_type": "code",
      "metadata": {
        "colab": {
          "base_uri": "https://localhost:8080/"
        },
        "id": "O_g1seoaBy_O",
        "outputId": "75c4fded-2294-44cb-9bdf-6032819f3424"
      },
      "source": [
        "mlp1 = MLPClassifier(hidden_layer_sizes=(23,), activation='relu', solver='adam')\n",
        "X = dados_amostra50_normalizado.drop(columns=['output'])\n",
        "X_train,X_test,Y_train,Y_test = train_test_split(X,dados_amostra50_normalizado.output,test_size=0.3,stratify=dados_amostra50_normalizado.output)\n",
        "mlp1.fit(X_train,Y_train)\n",
        "y_pred = mlp1.predict(X_test)\n",
        "acuracia1 = accuracy_score(Y_test,y_pred)\n",
        "print(\"Acuracia para n=1,70/30 :\",acuracia1)\n",
        "X = dados_amostra50_normalizado.drop(columns=['output'])\n",
        "X_train,X_test,Y_train,Y_test = train_test_split(X,dados_amostra50_normalizado.output,test_size=0.2,stratify=dados_amostra50_normalizado.output)\n",
        "mlp2 = MLPClassifier(hidden_layer_sizes=(23,), activation='relu', solver='adam')\n",
        "mlp2.fit(X_train,Y_train)\n",
        "y_pred = mlp2.predict(X_test)\n",
        "acuracia2 = accuracy_score(Y_test,y_pred)\n",
        "print(\"Acuracia para n=1,80/20 :\",acuracia2)\n",
        "X = dados_amostra50_normalizado.drop(columns=['output'])\n",
        "X_train,X_test,Y_train,Y_test = train_test_split(X,dados_amostra50_normalizado.output,test_size=0.1,stratify=dados_amostra50_normalizado.output)\n",
        "mlp3 = MLPClassifier(hidden_layer_sizes=(23,), activation='relu', solver='adam')\n",
        "mlp3.fit(X_train,Y_train)\n",
        "y_pred = mlp3.predict(X_test)\n",
        "acuracia3 = accuracy_score(Y_test,y_pred)\n",
        "print(\"Acuracia para n=1,90/10 :\",acuracia3)\n",
        "y = dados_amostra50_normalizado['output']\n",
        "mlp4 = MLPClassifier(hidden_layer_sizes=(23,), activation='relu', solver='adam')\n",
        "scores = cross_val_score(mlp4, X, y, cv=10)\n",
        "print(\"acurácia %0.2f para kfold, 10 folds\",scores.mean())"
      ],
      "execution_count": 35,
      "outputs": [
        {
          "output_type": "stream",
          "text": [
            "/usr/local/lib/python3.7/dist-packages/sklearn/neural_network/_multilayer_perceptron.py:571: ConvergenceWarning: Stochastic Optimizer: Maximum iterations (200) reached and the optimization hasn't converged yet.\n",
            "  % self.max_iter, ConvergenceWarning)\n",
            "/usr/local/lib/python3.7/dist-packages/sklearn/neural_network/_multilayer_perceptron.py:571: ConvergenceWarning: Stochastic Optimizer: Maximum iterations (200) reached and the optimization hasn't converged yet.\n",
            "  % self.max_iter, ConvergenceWarning)\n"
          ],
          "name": "stderr"
        },
        {
          "output_type": "stream",
          "text": [
            "Acuracia para n=1,70/30 : 0.717391304347826\n",
            "Acuracia para n=1,80/20 : 0.5483870967741935\n",
            "Acuracia para n=1,90/10 : 0.625\n"
          ],
          "name": "stdout"
        },
        {
          "output_type": "stream",
          "text": [
            "/usr/local/lib/python3.7/dist-packages/sklearn/neural_network/_multilayer_perceptron.py:571: ConvergenceWarning: Stochastic Optimizer: Maximum iterations (200) reached and the optimization hasn't converged yet.\n",
            "  % self.max_iter, ConvergenceWarning)\n",
            "/usr/local/lib/python3.7/dist-packages/sklearn/neural_network/_multilayer_perceptron.py:571: ConvergenceWarning: Stochastic Optimizer: Maximum iterations (200) reached and the optimization hasn't converged yet.\n",
            "  % self.max_iter, ConvergenceWarning)\n"
          ],
          "name": "stderr"
        },
        {
          "output_type": "stream",
          "text": [
            "acurácia %0.2f para kfold, 10 folds 0.5716666666666667\n"
          ],
          "name": "stdout"
        },
        {
          "output_type": "stream",
          "text": [
            "/usr/local/lib/python3.7/dist-packages/sklearn/neural_network/_multilayer_perceptron.py:571: ConvergenceWarning: Stochastic Optimizer: Maximum iterations (200) reached and the optimization hasn't converged yet.\n",
            "  % self.max_iter, ConvergenceWarning)\n"
          ],
          "name": "stderr"
        }
      ]
    },
    {
      "cell_type": "code",
      "metadata": {
        "colab": {
          "base_uri": "https://localhost:8080/"
        },
        "id": "Hft8cpPoB4GK",
        "outputId": "72252e6a-4332-410b-f0e3-7c2b7c43d50f"
      },
      "source": [
        "mlp1 = MLPClassifier(hidden_layer_sizes=(24,), activation='relu', solver='adam')\n",
        "X = dados_amostra50_normalizado.drop(columns=['output'])\n",
        "X_train,X_test,Y_train,Y_test = train_test_split(X,dados_amostra50_normalizado.output,test_size=0.3,stratify=dados_amostra50_normalizado.output)\n",
        "mlp1.fit(X_train,Y_train)\n",
        "y_pred = mlp1.predict(X_test)\n",
        "acuracia1 = accuracy_score(Y_test,y_pred)\n",
        "print(\"Acuracia para n=1,70/30 :\",acuracia1)\n",
        "X = dados_amostra50_normalizado.drop(columns=['output'])\n",
        "X_train,X_test,Y_train,Y_test = train_test_split(X,dados_amostra50_normalizado.output,test_size=0.2,stratify=dados_amostra50_normalizado.output)\n",
        "mlp2 = MLPClassifier(hidden_layer_sizes=(24,), activation='relu', solver='adam')\n",
        "mlp2.fit(X_train,Y_train)\n",
        "y_pred = mlp2.predict(X_test)\n",
        "acuracia2 = accuracy_score(Y_test,y_pred)\n",
        "print(\"Acuracia para n=1,80/20 :\",acuracia2)\n",
        "X = dados_amostra50_normalizado.drop(columns=['output'])\n",
        "X_train,X_test,Y_train,Y_test = train_test_split(X,dados_amostra50_normalizado.output,test_size=0.1,stratify=dados_amostra50_normalizado.output)\n",
        "mlp3 = MLPClassifier(hidden_layer_sizes=(24,), activation='relu', solver='adam')\n",
        "mlp3.fit(X_train,Y_train)\n",
        "y_pred = mlp3.predict(X_test)\n",
        "acuracia3 = accuracy_score(Y_test,y_pred)\n",
        "print(\"Acuracia para n=1,90/10 :\",acuracia3)\n",
        "y = dados_amostra50_normalizado['output']\n",
        "mlp4 = MLPClassifier(hidden_layer_sizes=(24,), activation='relu', solver='adam')\n",
        "scores = cross_val_score(mlp4, X, y, cv=10)\n",
        "print(\"acurácia %0.2f para kfold, 10 folds\",scores.mean())"
      ],
      "execution_count": 36,
      "outputs": [
        {
          "output_type": "stream",
          "text": [
            "/usr/local/lib/python3.7/dist-packages/sklearn/neural_network/_multilayer_perceptron.py:571: ConvergenceWarning: Stochastic Optimizer: Maximum iterations (200) reached and the optimization hasn't converged yet.\n",
            "  % self.max_iter, ConvergenceWarning)\n",
            "/usr/local/lib/python3.7/dist-packages/sklearn/neural_network/_multilayer_perceptron.py:571: ConvergenceWarning: Stochastic Optimizer: Maximum iterations (200) reached and the optimization hasn't converged yet.\n",
            "  % self.max_iter, ConvergenceWarning)\n"
          ],
          "name": "stderr"
        },
        {
          "output_type": "stream",
          "text": [
            "Acuracia para n=1,70/30 : 0.6304347826086957\n",
            "Acuracia para n=1,80/20 : 0.5483870967741935\n",
            "Acuracia para n=1,90/10 : 0.5625\n",
            "acurácia %0.2f para kfold, 10 folds 0.5654166666666666\n"
          ],
          "name": "stdout"
        }
      ]
    },
    {
      "cell_type": "markdown",
      "metadata": {
        "id": "kGsUIJjFB9fz"
      },
      "source": [
        "## Amostra 70%\n",
        "---"
      ]
    },
    {
      "cell_type": "code",
      "metadata": {
        "colab": {
          "base_uri": "https://localhost:8080/"
        },
        "id": "QEA7hfPUCApT",
        "outputId": "8aee3710-5722-4ae7-f422-9ad345b7d04b"
      },
      "source": [
        "mlp1 = MLPClassifier(hidden_layer_sizes=(20,), activation='relu', solver='adam')\n",
        "X = dados_amostra70_normalizado.drop(columns=['output'])\n",
        "X_train,X_test,Y_train,Y_test = train_test_split(X,dados_amostra70_normalizado.output,test_size=0.3,stratify=dados_amostra70_normalizado.output)\n",
        "mlp1.fit(X_train,Y_train)\n",
        "y_pred = mlp1.predict(X_test)\n",
        "acuracia1 = accuracy_score(Y_test,y_pred)\n",
        "print(\"Acuracia para n=1,70/30 :\",acuracia1)\n",
        "X = dados_amostra70_normalizado.drop(columns=['output'])\n",
        "X_train,X_test,Y_train,Y_test = train_test_split(X,dados_amostra70_normalizado.output,test_size=0.2,stratify=dados_amostra70_normalizado.output)\n",
        "mlp2 = MLPClassifier(hidden_layer_sizes=(20,), activation='relu', solver='adam')\n",
        "mlp2.fit(X_train,Y_train)\n",
        "y_pred = mlp2.predict(X_test)\n",
        "acuracia2 = accuracy_score(Y_test,y_pred)\n",
        "print(\"Acuracia para n=1,80/20 :\",acuracia2)\n",
        "X = dados_amostra70_normalizado.drop(columns=['output'])\n",
        "X_train,X_test,Y_train,Y_test = train_test_split(X,dados_amostra70_normalizado.output,test_size=0.1,stratify=dados_amostra70_normalizado.output)\n",
        "mlp3 = MLPClassifier(hidden_layer_sizes=(20,), activation='relu', solver='adam')\n",
        "mlp3.fit(X_train,Y_train)\n",
        "y_pred = mlp3.predict(X_test)\n",
        "acuracia3 = accuracy_score(Y_test,y_pred)\n",
        "print(\"Acuracia para n=1,90/10 :\",acuracia3)\n",
        "y = dados_amostra70_normalizado['output']\n",
        "mlp4 = MLPClassifier(hidden_layer_sizes=(20,), activation='relu', solver='adam')\n",
        "scores = cross_val_score(mlp4, X, y, cv=10)\n",
        "print(\"acurácia %0.2f para kfold, 10 folds\",scores.mean())"
      ],
      "execution_count": 37,
      "outputs": [
        {
          "output_type": "stream",
          "text": [
            "Acuracia para n=1,70/30 : 0.390625\n",
            "Acuracia para n=1,80/20 : 0.4186046511627907\n",
            "Acuracia para n=1,90/10 : 0.5909090909090909\n"
          ],
          "name": "stdout"
        },
        {
          "output_type": "stream",
          "text": [
            "/usr/local/lib/python3.7/dist-packages/sklearn/neural_network/_multilayer_perceptron.py:571: ConvergenceWarning: Stochastic Optimizer: Maximum iterations (200) reached and the optimization hasn't converged yet.\n",
            "  % self.max_iter, ConvergenceWarning)\n",
            "/usr/local/lib/python3.7/dist-packages/sklearn/neural_network/_multilayer_perceptron.py:571: ConvergenceWarning: Stochastic Optimizer: Maximum iterations (200) reached and the optimization hasn't converged yet.\n",
            "  % self.max_iter, ConvergenceWarning)\n"
          ],
          "name": "stderr"
        },
        {
          "output_type": "stream",
          "text": [
            "acurácia %0.2f para kfold, 10 folds 0.6123376623376623\n"
          ],
          "name": "stdout"
        },
        {
          "output_type": "stream",
          "text": [
            "/usr/local/lib/python3.7/dist-packages/sklearn/neural_network/_multilayer_perceptron.py:571: ConvergenceWarning: Stochastic Optimizer: Maximum iterations (200) reached and the optimization hasn't converged yet.\n",
            "  % self.max_iter, ConvergenceWarning)\n",
            "/usr/local/lib/python3.7/dist-packages/sklearn/neural_network/_multilayer_perceptron.py:571: ConvergenceWarning: Stochastic Optimizer: Maximum iterations (200) reached and the optimization hasn't converged yet.\n",
            "  % self.max_iter, ConvergenceWarning)\n"
          ],
          "name": "stderr"
        }
      ]
    },
    {
      "cell_type": "code",
      "metadata": {
        "colab": {
          "base_uri": "https://localhost:8080/"
        },
        "id": "_cd9a8-jCPNI",
        "outputId": "5a0cd70b-b1e9-4b02-e811-b7b6daca68c0"
      },
      "source": [
        "mlp1 = MLPClassifier(hidden_layer_sizes=(21,), activation='relu', solver='adam')\n",
        "X = dados_amostra70_normalizado.drop(columns=['output'])\n",
        "X_train,X_test,Y_train,Y_test = train_test_split(X,dados_amostra70_normalizado.output,test_size=0.3,stratify=dados_amostra70_normalizado.output)\n",
        "mlp1.fit(X_train,Y_train)\n",
        "y_pred = mlp1.predict(X_test)\n",
        "acuracia1 = accuracy_score(Y_test,y_pred)\n",
        "print(\"Acuracia para n=1,70/30 :\",acuracia1)\n",
        "X = dados_amostra70_normalizado.drop(columns=['output'])\n",
        "X_train,X_test,Y_train,Y_test = train_test_split(X,dados_amostra70_normalizado.output,test_size=0.2,stratify=dados_amostra70_normalizado.output)\n",
        "mlp2 = MLPClassifier(hidden_layer_sizes=(21,), activation='relu', solver='adam')\n",
        "mlp2.fit(X_train,Y_train)\n",
        "y_pred = mlp2.predict(X_test)\n",
        "acuracia2 = accuracy_score(Y_test,y_pred)\n",
        "print(\"Acuracia para n=1,80/20 :\",acuracia2)\n",
        "X = dados_amostra70_normalizado.drop(columns=['output'])\n",
        "X_train,X_test,Y_train,Y_test = train_test_split(X,dados_amostra70_normalizado.output,test_size=0.1,stratify=dados_amostra70_normalizado.output)\n",
        "mlp3 = MLPClassifier(hidden_layer_sizes=(21,), activation='relu', solver='adam')\n",
        "mlp3.fit(X_train,Y_train)\n",
        "y_pred = mlp3.predict(X_test)\n",
        "acuracia3 = accuracy_score(Y_test,y_pred)\n",
        "print(\"Acuracia para n=1,90/10 :\",acuracia3)\n",
        "y = dados_amostra70_normalizado['output']\n",
        "mlp4 = MLPClassifier(hidden_layer_sizes=(21,), activation='relu', solver='adam')\n",
        "scores = cross_val_score(mlp4, X, y, cv=10)\n",
        "print(\"acurácia %0.2f para kfold, 10 folds\",scores.mean())"
      ],
      "execution_count": 38,
      "outputs": [
        {
          "output_type": "stream",
          "text": [
            "Acuracia para n=1,70/30 : 0.515625\n",
            "Acuracia para n=1,80/20 : 0.8604651162790697\n"
          ],
          "name": "stdout"
        },
        {
          "output_type": "stream",
          "text": [
            "/usr/local/lib/python3.7/dist-packages/sklearn/neural_network/_multilayer_perceptron.py:571: ConvergenceWarning: Stochastic Optimizer: Maximum iterations (200) reached and the optimization hasn't converged yet.\n",
            "  % self.max_iter, ConvergenceWarning)\n",
            "/usr/local/lib/python3.7/dist-packages/sklearn/neural_network/_multilayer_perceptron.py:571: ConvergenceWarning: Stochastic Optimizer: Maximum iterations (200) reached and the optimization hasn't converged yet.\n",
            "  % self.max_iter, ConvergenceWarning)\n"
          ],
          "name": "stderr"
        },
        {
          "output_type": "stream",
          "text": [
            "Acuracia para n=1,90/10 : 0.7272727272727273\n"
          ],
          "name": "stdout"
        },
        {
          "output_type": "stream",
          "text": [
            "/usr/local/lib/python3.7/dist-packages/sklearn/neural_network/_multilayer_perceptron.py:571: ConvergenceWarning: Stochastic Optimizer: Maximum iterations (200) reached and the optimization hasn't converged yet.\n",
            "  % self.max_iter, ConvergenceWarning)\n",
            "/usr/local/lib/python3.7/dist-packages/sklearn/neural_network/_multilayer_perceptron.py:571: ConvergenceWarning: Stochastic Optimizer: Maximum iterations (200) reached and the optimization hasn't converged yet.\n",
            "  % self.max_iter, ConvergenceWarning)\n"
          ],
          "name": "stderr"
        },
        {
          "output_type": "stream",
          "text": [
            "acurácia %0.2f para kfold, 10 folds 0.5833333333333333\n"
          ],
          "name": "stdout"
        },
        {
          "output_type": "stream",
          "text": [
            "/usr/local/lib/python3.7/dist-packages/sklearn/neural_network/_multilayer_perceptron.py:571: ConvergenceWarning: Stochastic Optimizer: Maximum iterations (200) reached and the optimization hasn't converged yet.\n",
            "  % self.max_iter, ConvergenceWarning)\n"
          ],
          "name": "stderr"
        }
      ]
    },
    {
      "cell_type": "code",
      "metadata": {
        "colab": {
          "base_uri": "https://localhost:8080/"
        },
        "id": "lzts7d9OCSIb",
        "outputId": "46493d38-aa07-41ce-b213-e2dc3eca8ba0"
      },
      "source": [
        "mlp1 = MLPClassifier(hidden_layer_sizes=(22,), activation='relu', solver='adam')\n",
        "X = dados_amostra70_normalizado.drop(columns=['output'])\n",
        "X_train,X_test,Y_train,Y_test = train_test_split(X,dados_amostra70_normalizado.output,test_size=0.3,stratify=dados_amostra70_normalizado.output)\n",
        "mlp1.fit(X_train,Y_train)\n",
        "y_pred = mlp1.predict(X_test)\n",
        "acuracia1 = accuracy_score(Y_test,y_pred)\n",
        "print(\"Acuracia para n=1,70/30 :\",acuracia1)\n",
        "X = dados_amostra70_normalizado.drop(columns=['output'])\n",
        "X_train,X_test,Y_train,Y_test = train_test_split(X,dados_amostra70_normalizado.output,test_size=0.2,stratify=dados_amostra70_normalizado.output)\n",
        "mlp2 = MLPClassifier(hidden_layer_sizes=(22,), activation='relu', solver='adam')\n",
        "mlp2.fit(X_train,Y_train)\n",
        "y_pred = mlp2.predict(X_test)\n",
        "acuracia2 = accuracy_score(Y_test,y_pred)\n",
        "print(\"Acuracia para n=1,80/20 :\",acuracia2)\n",
        "X = dados_amostra70_normalizado.drop(columns=['output'])\n",
        "X_train,X_test,Y_train,Y_test = train_test_split(X,dados_amostra70_normalizado.output,test_size=0.1,stratify=dados_amostra70_normalizado.output)\n",
        "mlp3 = MLPClassifier(hidden_layer_sizes=(22,), activation='relu', solver='adam')\n",
        "mlp3.fit(X_train,Y_train)\n",
        "y_pred = mlp3.predict(X_test)\n",
        "acuracia3 = accuracy_score(Y_test,y_pred)\n",
        "print(\"Acuracia para n=1,90/10 :\",acuracia3)\n",
        "y = dados_amostra70_normalizado['output']\n",
        "mlp4 = MLPClassifier(hidden_layer_sizes=(22,), activation='relu', solver='adam')\n",
        "scores = cross_val_score(mlp4, X, y, cv=10)\n",
        "print(\"acurácia %0.2f para kfold, 10 folds\",scores.mean())"
      ],
      "execution_count": 39,
      "outputs": [
        {
          "output_type": "stream",
          "text": [
            "/usr/local/lib/python3.7/dist-packages/sklearn/neural_network/_multilayer_perceptron.py:571: ConvergenceWarning: Stochastic Optimizer: Maximum iterations (200) reached and the optimization hasn't converged yet.\n",
            "  % self.max_iter, ConvergenceWarning)\n"
          ],
          "name": "stderr"
        },
        {
          "output_type": "stream",
          "text": [
            "Acuracia para n=1,70/30 : 0.65625\n",
            "Acuracia para n=1,80/20 : 0.4186046511627907\n",
            "Acuracia para n=1,90/10 : 0.7272727272727273\n"
          ],
          "name": "stdout"
        },
        {
          "output_type": "stream",
          "text": [
            "/usr/local/lib/python3.7/dist-packages/sklearn/neural_network/_multilayer_perceptron.py:571: ConvergenceWarning: Stochastic Optimizer: Maximum iterations (200) reached and the optimization hasn't converged yet.\n",
            "  % self.max_iter, ConvergenceWarning)\n"
          ],
          "name": "stderr"
        },
        {
          "output_type": "stream",
          "text": [
            "acurácia %0.2f para kfold, 10 folds 0.5848484848484847\n"
          ],
          "name": "stdout"
        },
        {
          "output_type": "stream",
          "text": [
            "/usr/local/lib/python3.7/dist-packages/sklearn/neural_network/_multilayer_perceptron.py:571: ConvergenceWarning: Stochastic Optimizer: Maximum iterations (200) reached and the optimization hasn't converged yet.\n",
            "  % self.max_iter, ConvergenceWarning)\n",
            "/usr/local/lib/python3.7/dist-packages/sklearn/neural_network/_multilayer_perceptron.py:571: ConvergenceWarning: Stochastic Optimizer: Maximum iterations (200) reached and the optimization hasn't converged yet.\n",
            "  % self.max_iter, ConvergenceWarning)\n"
          ],
          "name": "stderr"
        }
      ]
    },
    {
      "cell_type": "code",
      "metadata": {
        "colab": {
          "base_uri": "https://localhost:8080/"
        },
        "id": "jlWESZMqCSaY",
        "outputId": "63cedfa4-9cb7-4ab2-c209-bc4294635989"
      },
      "source": [
        "mlp1 = MLPClassifier(hidden_layer_sizes=(23,), activation='relu', solver='adam')\n",
        "X = dados_amostra70_normalizado.drop(columns=['output'])\n",
        "X_train,X_test,Y_train,Y_test = train_test_split(X,dados_amostra70_normalizado.output,test_size=0.3,stratify=dados_amostra70_normalizado.output)\n",
        "mlp1.fit(X_train,Y_train)\n",
        "y_pred = mlp1.predict(X_test)\n",
        "acuracia1 = accuracy_score(Y_test,y_pred)\n",
        "print(\"Acuracia para n=1,70/30 :\",acuracia1)\n",
        "X = dados_amostra70_normalizado.drop(columns=['output'])\n",
        "X_train,X_test,Y_train,Y_test = train_test_split(X,dados_amostra70_normalizado.output,test_size=0.2,stratify=dados_amostra70_normalizado.output)\n",
        "mlp2 = MLPClassifier(hidden_layer_sizes=(23,), activation='relu', solver='adam')\n",
        "mlp2.fit(X_train,Y_train)\n",
        "y_pred = mlp2.predict(X_test)\n",
        "acuracia2 = accuracy_score(Y_test,y_pred)\n",
        "print(\"Acuracia para n=1,80/20 :\",acuracia2)\n",
        "X = dados_amostra70_normalizado.drop(columns=['output'])\n",
        "X_train,X_test,Y_train,Y_test = train_test_split(X,dados_amostra70_normalizado.output,test_size=0.1,stratify=dados_amostra70_normalizado.output)\n",
        "mlp3 = MLPClassifier(hidden_layer_sizes=(23,), activation='relu', solver='adam')\n",
        "mlp3.fit(X_train,Y_train)\n",
        "y_pred = mlp3.predict(X_test)\n",
        "acuracia3 = accuracy_score(Y_test,y_pred)\n",
        "print(\"Acuracia para n=1,90/10 :\",acuracia3)\n",
        "y = dados_amostra70_normalizado['output']\n",
        "mlp4 = MLPClassifier(hidden_layer_sizes=(23,), activation='relu', solver='adam')\n",
        "scores = cross_val_score(mlp4, X, y, cv=10)\n",
        "print(\"acurácia %0.2f para kfold, 10 folds\",scores.mean())"
      ],
      "execution_count": 40,
      "outputs": [
        {
          "output_type": "stream",
          "text": [
            "Acuracia para n=1,70/30 : 0.4375\n",
            "Acuracia para n=1,80/20 : 0.4883720930232558\n",
            "Acuracia para n=1,90/10 : 0.6363636363636364\n"
          ],
          "name": "stdout"
        },
        {
          "output_type": "stream",
          "text": [
            "/usr/local/lib/python3.7/dist-packages/sklearn/neural_network/_multilayer_perceptron.py:571: ConvergenceWarning: Stochastic Optimizer: Maximum iterations (200) reached and the optimization hasn't converged yet.\n",
            "  % self.max_iter, ConvergenceWarning)\n",
            "/usr/local/lib/python3.7/dist-packages/sklearn/neural_network/_multilayer_perceptron.py:571: ConvergenceWarning: Stochastic Optimizer: Maximum iterations (200) reached and the optimization hasn't converged yet.\n",
            "  % self.max_iter, ConvergenceWarning)\n",
            "/usr/local/lib/python3.7/dist-packages/sklearn/neural_network/_multilayer_perceptron.py:571: ConvergenceWarning: Stochastic Optimizer: Maximum iterations (200) reached and the optimization hasn't converged yet.\n",
            "  % self.max_iter, ConvergenceWarning)\n",
            "/usr/local/lib/python3.7/dist-packages/sklearn/neural_network/_multilayer_perceptron.py:571: ConvergenceWarning: Stochastic Optimizer: Maximum iterations (200) reached and the optimization hasn't converged yet.\n",
            "  % self.max_iter, ConvergenceWarning)\n"
          ],
          "name": "stderr"
        },
        {
          "output_type": "stream",
          "text": [
            "acurácia %0.2f para kfold, 10 folds 0.6696969696969697\n"
          ],
          "name": "stdout"
        },
        {
          "output_type": "stream",
          "text": [
            "/usr/local/lib/python3.7/dist-packages/sklearn/neural_network/_multilayer_perceptron.py:571: ConvergenceWarning: Stochastic Optimizer: Maximum iterations (200) reached and the optimization hasn't converged yet.\n",
            "  % self.max_iter, ConvergenceWarning)\n"
          ],
          "name": "stderr"
        }
      ]
    },
    {
      "cell_type": "code",
      "metadata": {
        "colab": {
          "base_uri": "https://localhost:8080/"
        },
        "id": "stIrhzjxCSoQ",
        "outputId": "09fc17e9-9a9b-44c2-a669-5d1eaa8f6dec"
      },
      "source": [
        "mlp1 = MLPClassifier(hidden_layer_sizes=(24,), activation='relu', solver='adam')\n",
        "X = dados_amostra70_normalizado.drop(columns=['output'])\n",
        "X_train,X_test,Y_train,Y_test = train_test_split(X,dados_amostra70_normalizado.output,test_size=0.3,stratify=dados_amostra70_normalizado.output)\n",
        "mlp1.fit(X_train,Y_train)\n",
        "y_pred = mlp1.predict(X_test)\n",
        "acuracia1 = accuracy_score(Y_test,y_pred)\n",
        "print(\"Acuracia para n=1,70/30 :\",acuracia1)\n",
        "X = dados_amostra70_normalizado.drop(columns=['output'])\n",
        "X_train,X_test,Y_train,Y_test = train_test_split(X,dados_amostra70_normalizado.output,test_size=0.2,stratify=dados_amostra70_normalizado.output)\n",
        "mlp2 = MLPClassifier(hidden_layer_sizes=(24,), activation='relu', solver='adam')\n",
        "mlp2.fit(X_train,Y_train)\n",
        "y_pred = mlp2.predict(X_test)\n",
        "acuracia2 = accuracy_score(Y_test,y_pred)\n",
        "print(\"Acuracia para n=1,80/20 :\",acuracia2)\n",
        "X = dados_amostra70_normalizado.drop(columns=['output'])\n",
        "X_train,X_test,Y_train,Y_test = train_test_split(X,dados_amostra70_normalizado.output,test_size=0.1,stratify=dados_amostra70_normalizado.output)\n",
        "mlp3 = MLPClassifier(hidden_layer_sizes=(24,), activation='relu', solver='adam')\n",
        "mlp3.fit(X_train,Y_train)\n",
        "y_pred = mlp3.predict(X_test)\n",
        "acuracia3 = accuracy_score(Y_test,y_pred)\n",
        "print(\"Acuracia para n=1,90/10 :\",acuracia3)\n",
        "y = dados_amostra70_normalizado['output']\n",
        "mlp4 = MLPClassifier(hidden_layer_sizes=(24,), activation='relu', solver='adam')\n",
        "scores = cross_val_score(mlp4, X, y, cv=10)\n",
        "print(\"acurácia %0.2f para kfold, 10 folds\",scores.mean())"
      ],
      "execution_count": 41,
      "outputs": [
        {
          "output_type": "stream",
          "text": [
            "/usr/local/lib/python3.7/dist-packages/sklearn/neural_network/_multilayer_perceptron.py:571: ConvergenceWarning: Stochastic Optimizer: Maximum iterations (200) reached and the optimization hasn't converged yet.\n",
            "  % self.max_iter, ConvergenceWarning)\n"
          ],
          "name": "stderr"
        },
        {
          "output_type": "stream",
          "text": [
            "Acuracia para n=1,70/30 : 0.796875\n",
            "Acuracia para n=1,80/20 : 0.6046511627906976\n"
          ],
          "name": "stdout"
        },
        {
          "output_type": "stream",
          "text": [
            "/usr/local/lib/python3.7/dist-packages/sklearn/neural_network/_multilayer_perceptron.py:571: ConvergenceWarning: Stochastic Optimizer: Maximum iterations (200) reached and the optimization hasn't converged yet.\n",
            "  % self.max_iter, ConvergenceWarning)\n"
          ],
          "name": "stderr"
        },
        {
          "output_type": "stream",
          "text": [
            "Acuracia para n=1,90/10 : 0.4090909090909091\n"
          ],
          "name": "stdout"
        },
        {
          "output_type": "stream",
          "text": [
            "/usr/local/lib/python3.7/dist-packages/sklearn/neural_network/_multilayer_perceptron.py:571: ConvergenceWarning: Stochastic Optimizer: Maximum iterations (200) reached and the optimization hasn't converged yet.\n",
            "  % self.max_iter, ConvergenceWarning)\n",
            "/usr/local/lib/python3.7/dist-packages/sklearn/neural_network/_multilayer_perceptron.py:571: ConvergenceWarning: Stochastic Optimizer: Maximum iterations (200) reached and the optimization hasn't converged yet.\n",
            "  % self.max_iter, ConvergenceWarning)\n",
            "/usr/local/lib/python3.7/dist-packages/sklearn/neural_network/_multilayer_perceptron.py:571: ConvergenceWarning: Stochastic Optimizer: Maximum iterations (200) reached and the optimization hasn't converged yet.\n",
            "  % self.max_iter, ConvergenceWarning)\n"
          ],
          "name": "stderr"
        },
        {
          "output_type": "stream",
          "text": [
            "acurácia %0.2f para kfold, 10 folds 0.7015151515151515\n"
          ],
          "name": "stdout"
        },
        {
          "output_type": "stream",
          "text": [
            "/usr/local/lib/python3.7/dist-packages/sklearn/neural_network/_multilayer_perceptron.py:571: ConvergenceWarning: Stochastic Optimizer: Maximum iterations (200) reached and the optimization hasn't converged yet.\n",
            "  % self.max_iter, ConvergenceWarning)\n"
          ],
          "name": "stderr"
        }
      ]
    }
  ]
}