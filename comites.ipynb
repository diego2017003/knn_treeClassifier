{
  "nbformat": 4,
  "nbformat_minor": 0,
  "metadata": {
    "colab": {
      "name": "comites.ipynb",
      "provenance": [],
      "collapsed_sections": [],
      "include_colab_link": true
    },
    "kernelspec": {
      "name": "python3",
      "display_name": "Python 3"
    },
    "language_info": {
      "name": "python"
    }
  },
  "cells": [
    {
      "cell_type": "markdown",
      "metadata": {
        "id": "view-in-github",
        "colab_type": "text"
      },
      "source": [
        "<a href=\"https://colab.research.google.com/github/diego2017003/knn_treeClassifier/blob/main/comites.ipynb\" target=\"_parent\"><img src=\"https://colab.research.google.com/assets/colab-badge.svg\" alt=\"Open In Colab\"/></a>"
      ]
    },
    {
      "cell_type": "code",
      "metadata": {
        "colab": {
          "base_uri": "https://localhost:8080/",
          "height": 206
        },
        "id": "BmUrHS6h946h",
        "outputId": "a71b26fa-11c8-4c0f-c7bc-d5acd4bd31c6"
      },
      "source": [
        "import pandas as pd\n",
        "dados_preProcessado = pd.read_csv('https://raw.githubusercontent.com/diego2017003/knn_treeClassifier/main/dados_preProcessados.csv')\n",
        "dados_originais = pd.read_csv('https://raw.githubusercontent.com/diego2017003/knn_treeClassifier/main/heart.csv')\n",
        "dados_preProcessado.drop(columns=['Unnamed: 0'],inplace=True)\n",
        "dados_originais.head()"
      ],
      "execution_count": null,
      "outputs": [
        {
          "output_type": "execute_result",
          "data": {
            "text/html": [
              "<div>\n",
              "<style scoped>\n",
              "    .dataframe tbody tr th:only-of-type {\n",
              "        vertical-align: middle;\n",
              "    }\n",
              "\n",
              "    .dataframe tbody tr th {\n",
              "        vertical-align: top;\n",
              "    }\n",
              "\n",
              "    .dataframe thead th {\n",
              "        text-align: right;\n",
              "    }\n",
              "</style>\n",
              "<table border=\"1\" class=\"dataframe\">\n",
              "  <thead>\n",
              "    <tr style=\"text-align: right;\">\n",
              "      <th></th>\n",
              "      <th>age</th>\n",
              "      <th>sex</th>\n",
              "      <th>cp</th>\n",
              "      <th>trtbps</th>\n",
              "      <th>chol</th>\n",
              "      <th>fbs</th>\n",
              "      <th>restecg</th>\n",
              "      <th>thalachh</th>\n",
              "      <th>exng</th>\n",
              "      <th>oldpeak</th>\n",
              "      <th>slp</th>\n",
              "      <th>caa</th>\n",
              "      <th>thall</th>\n",
              "      <th>output</th>\n",
              "    </tr>\n",
              "  </thead>\n",
              "  <tbody>\n",
              "    <tr>\n",
              "      <th>0</th>\n",
              "      <td>63</td>\n",
              "      <td>1</td>\n",
              "      <td>3</td>\n",
              "      <td>145</td>\n",
              "      <td>233</td>\n",
              "      <td>1</td>\n",
              "      <td>0</td>\n",
              "      <td>150</td>\n",
              "      <td>0</td>\n",
              "      <td>2.3</td>\n",
              "      <td>0</td>\n",
              "      <td>0</td>\n",
              "      <td>1</td>\n",
              "      <td>1</td>\n",
              "    </tr>\n",
              "    <tr>\n",
              "      <th>1</th>\n",
              "      <td>37</td>\n",
              "      <td>1</td>\n",
              "      <td>2</td>\n",
              "      <td>130</td>\n",
              "      <td>250</td>\n",
              "      <td>0</td>\n",
              "      <td>1</td>\n",
              "      <td>187</td>\n",
              "      <td>0</td>\n",
              "      <td>3.5</td>\n",
              "      <td>0</td>\n",
              "      <td>0</td>\n",
              "      <td>2</td>\n",
              "      <td>1</td>\n",
              "    </tr>\n",
              "    <tr>\n",
              "      <th>2</th>\n",
              "      <td>41</td>\n",
              "      <td>0</td>\n",
              "      <td>1</td>\n",
              "      <td>130</td>\n",
              "      <td>204</td>\n",
              "      <td>0</td>\n",
              "      <td>0</td>\n",
              "      <td>172</td>\n",
              "      <td>0</td>\n",
              "      <td>1.4</td>\n",
              "      <td>2</td>\n",
              "      <td>0</td>\n",
              "      <td>2</td>\n",
              "      <td>1</td>\n",
              "    </tr>\n",
              "    <tr>\n",
              "      <th>3</th>\n",
              "      <td>56</td>\n",
              "      <td>1</td>\n",
              "      <td>1</td>\n",
              "      <td>120</td>\n",
              "      <td>236</td>\n",
              "      <td>0</td>\n",
              "      <td>1</td>\n",
              "      <td>178</td>\n",
              "      <td>0</td>\n",
              "      <td>0.8</td>\n",
              "      <td>2</td>\n",
              "      <td>0</td>\n",
              "      <td>2</td>\n",
              "      <td>1</td>\n",
              "    </tr>\n",
              "    <tr>\n",
              "      <th>4</th>\n",
              "      <td>57</td>\n",
              "      <td>0</td>\n",
              "      <td>0</td>\n",
              "      <td>120</td>\n",
              "      <td>354</td>\n",
              "      <td>0</td>\n",
              "      <td>1</td>\n",
              "      <td>163</td>\n",
              "      <td>1</td>\n",
              "      <td>0.6</td>\n",
              "      <td>2</td>\n",
              "      <td>0</td>\n",
              "      <td>2</td>\n",
              "      <td>1</td>\n",
              "    </tr>\n",
              "  </tbody>\n",
              "</table>\n",
              "</div>"
            ],
            "text/plain": [
              "   age  sex  cp  trtbps  chol  fbs  ...  exng  oldpeak  slp  caa  thall  output\n",
              "0   63    1   3     145   233    1  ...     0      2.3    0    0      1       1\n",
              "1   37    1   2     130   250    0  ...     0      3.5    0    0      2       1\n",
              "2   41    0   1     130   204    0  ...     0      1.4    2    0      2       1\n",
              "3   56    1   1     120   236    0  ...     0      0.8    2    0      2       1\n",
              "4   57    0   0     120   354    0  ...     1      0.6    2    0      2       1\n",
              "\n",
              "[5 rows x 14 columns]"
            ]
          },
          "metadata": {},
          "execution_count": 1
        }
      ]
    },
    {
      "cell_type": "code",
      "metadata": {
        "colab": {
          "base_uri": "https://localhost:8080/",
          "height": 226
        },
        "id": "XbsFmT7aelKu",
        "outputId": "6d0fcc12-d2e7-4c40-ec75-b0ca907e0fe4"
      },
      "source": [
        "dados_preProcessado.head()"
      ],
      "execution_count": null,
      "outputs": [
        {
          "output_type": "execute_result",
          "data": {
            "text/html": [
              "<div>\n",
              "<style scoped>\n",
              "    .dataframe tbody tr th:only-of-type {\n",
              "        vertical-align: middle;\n",
              "    }\n",
              "\n",
              "    .dataframe tbody tr th {\n",
              "        vertical-align: top;\n",
              "    }\n",
              "\n",
              "    .dataframe thead th {\n",
              "        text-align: right;\n",
              "    }\n",
              "</style>\n",
              "<table border=\"1\" class=\"dataframe\">\n",
              "  <thead>\n",
              "    <tr style=\"text-align: right;\">\n",
              "      <th></th>\n",
              "      <th>age</th>\n",
              "      <th>sex</th>\n",
              "      <th>trtbps</th>\n",
              "      <th>chol</th>\n",
              "      <th>fbs</th>\n",
              "      <th>thalachh</th>\n",
              "      <th>exng</th>\n",
              "      <th>oldpeak</th>\n",
              "      <th>slp_0</th>\n",
              "      <th>slp_1</th>\n",
              "      <th>slp_2</th>\n",
              "      <th>thall_0</th>\n",
              "      <th>thall_1</th>\n",
              "      <th>thall_2</th>\n",
              "      <th>thall_3</th>\n",
              "      <th>caa_0</th>\n",
              "      <th>caa_1</th>\n",
              "      <th>caa_2</th>\n",
              "      <th>caa_3</th>\n",
              "      <th>caa_4</th>\n",
              "      <th>restecg_Normal</th>\n",
              "      <th>restecg_Possui_anormalidade</th>\n",
              "      <th>restecg_Provável_hipertrofia</th>\n",
              "      <th>cp_Angina_atipica</th>\n",
              "      <th>cp_Angina_tipica</th>\n",
              "      <th>cp_Assintomatico</th>\n",
              "      <th>cp_Não_Angina</th>\n",
              "      <th>restecg_Possui_anormalidades</th>\n",
              "      <th>output</th>\n",
              "    </tr>\n",
              "  </thead>\n",
              "  <tbody>\n",
              "    <tr>\n",
              "      <th>0</th>\n",
              "      <td>0.952197</td>\n",
              "      <td>1</td>\n",
              "      <td>0.763956</td>\n",
              "      <td>-0.256334</td>\n",
              "      <td>1</td>\n",
              "      <td>0.015443</td>\n",
              "      <td>0</td>\n",
              "      <td>1.087338</td>\n",
              "      <td>1</td>\n",
              "      <td>0</td>\n",
              "      <td>0</td>\n",
              "      <td>0</td>\n",
              "      <td>1</td>\n",
              "      <td>0</td>\n",
              "      <td>0</td>\n",
              "      <td>1</td>\n",
              "      <td>0</td>\n",
              "      <td>0</td>\n",
              "      <td>0</td>\n",
              "      <td>0</td>\n",
              "      <td>1</td>\n",
              "      <td>-1.003306</td>\n",
              "      <td>0</td>\n",
              "      <td>0</td>\n",
              "      <td>0</td>\n",
              "      <td>0</td>\n",
              "      <td>1</td>\n",
              "      <td>0</td>\n",
              "      <td>1</td>\n",
              "    </tr>\n",
              "    <tr>\n",
              "      <th>1</th>\n",
              "      <td>-1.915313</td>\n",
              "      <td>1</td>\n",
              "      <td>-0.092738</td>\n",
              "      <td>0.072199</td>\n",
              "      <td>0</td>\n",
              "      <td>1.633471</td>\n",
              "      <td>0</td>\n",
              "      <td>2.122573</td>\n",
              "      <td>1</td>\n",
              "      <td>0</td>\n",
              "      <td>0</td>\n",
              "      <td>0</td>\n",
              "      <td>0</td>\n",
              "      <td>1</td>\n",
              "      <td>0</td>\n",
              "      <td>1</td>\n",
              "      <td>0</td>\n",
              "      <td>0</td>\n",
              "      <td>0</td>\n",
              "      <td>0</td>\n",
              "      <td>0</td>\n",
              "      <td>0.996705</td>\n",
              "      <td>0</td>\n",
              "      <td>1</td>\n",
              "      <td>0</td>\n",
              "      <td>0</td>\n",
              "      <td>0</td>\n",
              "      <td>1</td>\n",
              "      <td>1</td>\n",
              "    </tr>\n",
              "    <tr>\n",
              "      <th>2</th>\n",
              "      <td>-1.474158</td>\n",
              "      <td>0</td>\n",
              "      <td>-0.092738</td>\n",
              "      <td>-0.816773</td>\n",
              "      <td>0</td>\n",
              "      <td>0.977514</td>\n",
              "      <td>0</td>\n",
              "      <td>0.310912</td>\n",
              "      <td>0</td>\n",
              "      <td>0</td>\n",
              "      <td>1</td>\n",
              "      <td>0</td>\n",
              "      <td>0</td>\n",
              "      <td>1</td>\n",
              "      <td>0</td>\n",
              "      <td>1</td>\n",
              "      <td>0</td>\n",
              "      <td>0</td>\n",
              "      <td>0</td>\n",
              "      <td>0</td>\n",
              "      <td>1</td>\n",
              "      <td>-1.003306</td>\n",
              "      <td>0</td>\n",
              "      <td>0</td>\n",
              "      <td>1</td>\n",
              "      <td>0</td>\n",
              "      <td>0</td>\n",
              "      <td>0</td>\n",
              "      <td>1</td>\n",
              "    </tr>\n",
              "    <tr>\n",
              "      <th>3</th>\n",
              "      <td>0.180175</td>\n",
              "      <td>1</td>\n",
              "      <td>-0.663867</td>\n",
              "      <td>-0.198357</td>\n",
              "      <td>0</td>\n",
              "      <td>1.239897</td>\n",
              "      <td>0</td>\n",
              "      <td>-0.206705</td>\n",
              "      <td>0</td>\n",
              "      <td>0</td>\n",
              "      <td>1</td>\n",
              "      <td>0</td>\n",
              "      <td>0</td>\n",
              "      <td>1</td>\n",
              "      <td>0</td>\n",
              "      <td>1</td>\n",
              "      <td>0</td>\n",
              "      <td>0</td>\n",
              "      <td>0</td>\n",
              "      <td>0</td>\n",
              "      <td>0</td>\n",
              "      <td>0.996705</td>\n",
              "      <td>0</td>\n",
              "      <td>0</td>\n",
              "      <td>1</td>\n",
              "      <td>0</td>\n",
              "      <td>0</td>\n",
              "      <td>1</td>\n",
              "      <td>1</td>\n",
              "    </tr>\n",
              "    <tr>\n",
              "      <th>4</th>\n",
              "      <td>0.290464</td>\n",
              "      <td>0</td>\n",
              "      <td>-0.663867</td>\n",
              "      <td>2.082050</td>\n",
              "      <td>0</td>\n",
              "      <td>0.583939</td>\n",
              "      <td>1</td>\n",
              "      <td>-0.379244</td>\n",
              "      <td>0</td>\n",
              "      <td>0</td>\n",
              "      <td>1</td>\n",
              "      <td>0</td>\n",
              "      <td>0</td>\n",
              "      <td>1</td>\n",
              "      <td>0</td>\n",
              "      <td>1</td>\n",
              "      <td>0</td>\n",
              "      <td>0</td>\n",
              "      <td>0</td>\n",
              "      <td>0</td>\n",
              "      <td>0</td>\n",
              "      <td>0.996705</td>\n",
              "      <td>0</td>\n",
              "      <td>0</td>\n",
              "      <td>0</td>\n",
              "      <td>1</td>\n",
              "      <td>0</td>\n",
              "      <td>1</td>\n",
              "      <td>1</td>\n",
              "    </tr>\n",
              "  </tbody>\n",
              "</table>\n",
              "</div>"
            ],
            "text/plain": [
              "        age  sex    trtbps  ...  cp_Não_Angina  restecg_Possui_anormalidades  output\n",
              "0  0.952197    1  0.763956  ...              1                             0       1\n",
              "1 -1.915313    1 -0.092738  ...              0                             1       1\n",
              "2 -1.474158    0 -0.092738  ...              0                             0       1\n",
              "3  0.180175    1 -0.663867  ...              0                             1       1\n",
              "4  0.290464    0 -0.663867  ...              0                             1       1\n",
              "\n",
              "[5 rows x 29 columns]"
            ]
          },
          "metadata": {},
          "execution_count": 2
        }
      ]
    },
    {
      "cell_type": "markdown",
      "metadata": {
        "id": "eRNn9L9t-2ek"
      },
      "source": [
        "Este notebook terá foco na utilização de comitês para a base de dado que vem sendo trabalhada durante o projeto.     "
      ]
    },
    {
      "cell_type": "markdown",
      "metadata": {
        "id": "e2ro4KccXS2r"
      },
      "source": [
        "##1. **Boost**\n",
        "---"
      ]
    },
    {
      "cell_type": "markdown",
      "metadata": {
        "id": "Hf4ml5g4Y_cq"
      },
      "source": [
        "### 1.1 MLPClassifier "
      ]
    },
    {
      "cell_type": "markdown",
      "metadata": {
        "id": "CkZg3f7c82Ho"
      },
      "source": [
        "#### Dados originais"
      ]
    },
    {
      "cell_type": "code",
      "metadata": {
        "id": "iTrUCuVwX1qz"
      },
      "source": [
        "from sklearn.ensemble import AdaBoostClassifier\n",
        "from sklearn.datasets import make_classification\n",
        "from sklearn.neural_network import MLPClassifier\n",
        "import numpy as np\n",
        "\n",
        "class customMLPClassifer(MLPClassifier):\n",
        "    def resample_with_replacement(self, X_train, y_train, sample_weight):\n",
        "\n",
        "        # normalize sample_weights if not already\n",
        "        sample_weight = sample_weight / sample_weight.sum(dtype=np.float64)\n",
        "\n",
        "        X_train_resampled = np.zeros((len(X_train), len(X_train[0])), dtype=np.float32)\n",
        "        y_train_resampled = np.zeros((len(y_train)), dtype=np.int)\n",
        "        for i in range(len(X_train)):\n",
        "            # draw a number from 0 to len(X_train)-1\n",
        "            draw = np.random.choice(np.arange(len(X_train)), p=sample_weight)\n",
        "\n",
        "            # place the X and y at the drawn number into the resampled X and y\n",
        "            X_train_resampled[i] = X_train[draw]\n",
        "            y_train_resampled[i] = y_train[draw]\n",
        "\n",
        "        return X_train_resampled, y_train_resampled\n",
        "\n",
        "\n",
        "    def fit(self, X, y, sample_weight=None):\n",
        "        if sample_weight is not None:\n",
        "            X, y = self.resample_with_replacement(X, y, sample_weight)\n",
        "\n",
        "        return self._fit(X, y, incremental=(self.warm_start and\n",
        "                                            hasattr(self, \"classes_\")))\n",
        "\n",
        " \n",
        "X = dados_originais.drop(columns=['output'])\n",
        "y = dados_originais.output\n",
        "mlpBoost_10 = AdaBoostClassifier(base_estimator = customMLPClassifer(),n_estimators=10, random_state=7,algorithm='SAMME')\n",
        "mlpBoost_15 = AdaBoostClassifier(base_estimator = customMLPClassifer(),n_estimators=10, random_state=7,algorithm='SAMME')\n",
        "mlpBoost_20 = AdaBoostClassifier(base_estimator = customMLPClassifer(),n_estimators=10, random_state=7,algorithm='SAMME')\n"
      ],
      "execution_count": null,
      "outputs": []
    },
    {
      "cell_type": "code",
      "metadata": {
        "id": "7q1QbjTWfgCi",
        "colab": {
          "base_uri": "https://localhost:8080/",
          "height": 35
        },
        "outputId": "3a9b67df-c2ce-48a2-aa58-c04a6ffc9813"
      },
      "source": [
        "'''conda update anaconda-navigator\n",
        "anaconda-navigator --reset\n",
        "conda update anaconda-client\n",
        "conda update -f anaconda-client'''"
      ],
      "execution_count": null,
      "outputs": [
        {
          "output_type": "execute_result",
          "data": {
            "application/vnd.google.colaboratory.intrinsic+json": {
              "type": "string"
            },
            "text/plain": [
              "'conda update anaconda-navigator\\nanaconda-navigator --reset\\nconda update anaconda-client\\nconda update -f anaconda-client'"
            ]
          },
          "metadata": {},
          "execution_count": 4
        }
      ]
    },
    {
      "cell_type": "code",
      "metadata": {
        "id": "rSTTfR_du9Sz",
        "colab": {
          "base_uri": "https://localhost:8080/"
        },
        "outputId": "55a04512-b7e7-4b0f-a114-e4f25b9fb814"
      },
      "source": [
        "from sklearn.model_selection import cross_validate\n",
        "from sklearn.metrics import recall_score\n",
        "from sklearn.metrics import make_scorer\n",
        "from sklearn.metrics import precision_score\n",
        "import math\n",
        "#scoring = ['precision_macro', 'recall_macro']\n",
        "scoring = {'prec_macro': 'precision_macro',\n",
        "            'rec_macro': make_scorer(recall_score, average='macro')}\n",
        "scores_10 = cross_validate(estimator=mlpBoost_10, X= X, y= y, scoring=scoring,cv=10, return_train_score=True)\n",
        "scores_15 = cross_validate(estimator=mlpBoost_15, X= X, y= y, scoring=scoring,cv=10, return_train_score=True)\n",
        "scores_20 = cross_validate(estimator=mlpBoost_20, X= X, y= y, scoring=scoring,cv=10, return_train_score=True)\n"
      ],
      "execution_count": null,
      "outputs": [
        {
          "output_type": "stream",
          "name": "stderr",
          "text": [
            "/usr/local/lib/python3.7/dist-packages/sklearn/neural_network/_multilayer_perceptron.py:571: ConvergenceWarning: Stochastic Optimizer: Maximum iterations (200) reached and the optimization hasn't converged yet.\n",
            "  % self.max_iter, ConvergenceWarning)\n",
            "/usr/local/lib/python3.7/dist-packages/sklearn/neural_network/_multilayer_perceptron.py:571: ConvergenceWarning: Stochastic Optimizer: Maximum iterations (200) reached and the optimization hasn't converged yet.\n",
            "  % self.max_iter, ConvergenceWarning)\n",
            "/usr/local/lib/python3.7/dist-packages/sklearn/neural_network/_multilayer_perceptron.py:571: ConvergenceWarning: Stochastic Optimizer: Maximum iterations (200) reached and the optimization hasn't converged yet.\n",
            "  % self.max_iter, ConvergenceWarning)\n",
            "/usr/local/lib/python3.7/dist-packages/sklearn/neural_network/_multilayer_perceptron.py:571: ConvergenceWarning: Stochastic Optimizer: Maximum iterations (200) reached and the optimization hasn't converged yet.\n",
            "  % self.max_iter, ConvergenceWarning)\n",
            "/usr/local/lib/python3.7/dist-packages/sklearn/neural_network/_multilayer_perceptron.py:571: ConvergenceWarning: Stochastic Optimizer: Maximum iterations (200) reached and the optimization hasn't converged yet.\n",
            "  % self.max_iter, ConvergenceWarning)\n",
            "/usr/local/lib/python3.7/dist-packages/sklearn/neural_network/_multilayer_perceptron.py:571: ConvergenceWarning: Stochastic Optimizer: Maximum iterations (200) reached and the optimization hasn't converged yet.\n",
            "  % self.max_iter, ConvergenceWarning)\n",
            "/usr/local/lib/python3.7/dist-packages/sklearn/neural_network/_multilayer_perceptron.py:571: ConvergenceWarning: Stochastic Optimizer: Maximum iterations (200) reached and the optimization hasn't converged yet.\n",
            "  % self.max_iter, ConvergenceWarning)\n",
            "/usr/local/lib/python3.7/dist-packages/sklearn/neural_network/_multilayer_perceptron.py:571: ConvergenceWarning: Stochastic Optimizer: Maximum iterations (200) reached and the optimization hasn't converged yet.\n",
            "  % self.max_iter, ConvergenceWarning)\n",
            "/usr/local/lib/python3.7/dist-packages/sklearn/neural_network/_multilayer_perceptron.py:571: ConvergenceWarning: Stochastic Optimizer: Maximum iterations (200) reached and the optimization hasn't converged yet.\n",
            "  % self.max_iter, ConvergenceWarning)\n",
            "/usr/local/lib/python3.7/dist-packages/sklearn/neural_network/_multilayer_perceptron.py:571: ConvergenceWarning: Stochastic Optimizer: Maximum iterations (200) reached and the optimization hasn't converged yet.\n",
            "  % self.max_iter, ConvergenceWarning)\n",
            "/usr/local/lib/python3.7/dist-packages/sklearn/neural_network/_multilayer_perceptron.py:571: ConvergenceWarning: Stochastic Optimizer: Maximum iterations (200) reached and the optimization hasn't converged yet.\n",
            "  % self.max_iter, ConvergenceWarning)\n",
            "/usr/local/lib/python3.7/dist-packages/sklearn/neural_network/_multilayer_perceptron.py:571: ConvergenceWarning: Stochastic Optimizer: Maximum iterations (200) reached and the optimization hasn't converged yet.\n",
            "  % self.max_iter, ConvergenceWarning)\n",
            "/usr/local/lib/python3.7/dist-packages/sklearn/neural_network/_multilayer_perceptron.py:571: ConvergenceWarning: Stochastic Optimizer: Maximum iterations (200) reached and the optimization hasn't converged yet.\n",
            "  % self.max_iter, ConvergenceWarning)\n",
            "/usr/local/lib/python3.7/dist-packages/sklearn/neural_network/_multilayer_perceptron.py:571: ConvergenceWarning: Stochastic Optimizer: Maximum iterations (200) reached and the optimization hasn't converged yet.\n",
            "  % self.max_iter, ConvergenceWarning)\n",
            "/usr/local/lib/python3.7/dist-packages/sklearn/neural_network/_multilayer_perceptron.py:571: ConvergenceWarning: Stochastic Optimizer: Maximum iterations (200) reached and the optimization hasn't converged yet.\n",
            "  % self.max_iter, ConvergenceWarning)\n",
            "/usr/local/lib/python3.7/dist-packages/sklearn/neural_network/_multilayer_perceptron.py:571: ConvergenceWarning: Stochastic Optimizer: Maximum iterations (200) reached and the optimization hasn't converged yet.\n",
            "  % self.max_iter, ConvergenceWarning)\n",
            "/usr/local/lib/python3.7/dist-packages/sklearn/neural_network/_multilayer_perceptron.py:571: ConvergenceWarning: Stochastic Optimizer: Maximum iterations (200) reached and the optimization hasn't converged yet.\n",
            "  % self.max_iter, ConvergenceWarning)\n",
            "/usr/local/lib/python3.7/dist-packages/sklearn/neural_network/_multilayer_perceptron.py:571: ConvergenceWarning: Stochastic Optimizer: Maximum iterations (200) reached and the optimization hasn't converged yet.\n",
            "  % self.max_iter, ConvergenceWarning)\n",
            "/usr/local/lib/python3.7/dist-packages/sklearn/neural_network/_multilayer_perceptron.py:571: ConvergenceWarning: Stochastic Optimizer: Maximum iterations (200) reached and the optimization hasn't converged yet.\n",
            "  % self.max_iter, ConvergenceWarning)\n",
            "/usr/local/lib/python3.7/dist-packages/sklearn/neural_network/_multilayer_perceptron.py:571: ConvergenceWarning: Stochastic Optimizer: Maximum iterations (200) reached and the optimization hasn't converged yet.\n",
            "  % self.max_iter, ConvergenceWarning)\n",
            "/usr/local/lib/python3.7/dist-packages/sklearn/neural_network/_multilayer_perceptron.py:571: ConvergenceWarning: Stochastic Optimizer: Maximum iterations (200) reached and the optimization hasn't converged yet.\n",
            "  % self.max_iter, ConvergenceWarning)\n",
            "/usr/local/lib/python3.7/dist-packages/sklearn/neural_network/_multilayer_perceptron.py:571: ConvergenceWarning: Stochastic Optimizer: Maximum iterations (200) reached and the optimization hasn't converged yet.\n",
            "  % self.max_iter, ConvergenceWarning)\n",
            "/usr/local/lib/python3.7/dist-packages/sklearn/neural_network/_multilayer_perceptron.py:571: ConvergenceWarning: Stochastic Optimizer: Maximum iterations (200) reached and the optimization hasn't converged yet.\n",
            "  % self.max_iter, ConvergenceWarning)\n",
            "/usr/local/lib/python3.7/dist-packages/sklearn/neural_network/_multilayer_perceptron.py:571: ConvergenceWarning: Stochastic Optimizer: Maximum iterations (200) reached and the optimization hasn't converged yet.\n",
            "  % self.max_iter, ConvergenceWarning)\n",
            "/usr/local/lib/python3.7/dist-packages/sklearn/neural_network/_multilayer_perceptron.py:571: ConvergenceWarning: Stochastic Optimizer: Maximum iterations (200) reached and the optimization hasn't converged yet.\n",
            "  % self.max_iter, ConvergenceWarning)\n",
            "/usr/local/lib/python3.7/dist-packages/sklearn/neural_network/_multilayer_perceptron.py:571: ConvergenceWarning: Stochastic Optimizer: Maximum iterations (200) reached and the optimization hasn't converged yet.\n",
            "  % self.max_iter, ConvergenceWarning)\n",
            "/usr/local/lib/python3.7/dist-packages/sklearn/neural_network/_multilayer_perceptron.py:571: ConvergenceWarning: Stochastic Optimizer: Maximum iterations (200) reached and the optimization hasn't converged yet.\n",
            "  % self.max_iter, ConvergenceWarning)\n",
            "/usr/local/lib/python3.7/dist-packages/sklearn/neural_network/_multilayer_perceptron.py:571: ConvergenceWarning: Stochastic Optimizer: Maximum iterations (200) reached and the optimization hasn't converged yet.\n",
            "  % self.max_iter, ConvergenceWarning)\n",
            "/usr/local/lib/python3.7/dist-packages/sklearn/neural_network/_multilayer_perceptron.py:571: ConvergenceWarning: Stochastic Optimizer: Maximum iterations (200) reached and the optimization hasn't converged yet.\n",
            "  % self.max_iter, ConvergenceWarning)\n",
            "/usr/local/lib/python3.7/dist-packages/sklearn/neural_network/_multilayer_perceptron.py:571: ConvergenceWarning: Stochastic Optimizer: Maximum iterations (200) reached and the optimization hasn't converged yet.\n",
            "  % self.max_iter, ConvergenceWarning)\n",
            "/usr/local/lib/python3.7/dist-packages/sklearn/neural_network/_multilayer_perceptron.py:571: ConvergenceWarning: Stochastic Optimizer: Maximum iterations (200) reached and the optimization hasn't converged yet.\n",
            "  % self.max_iter, ConvergenceWarning)\n",
            "/usr/local/lib/python3.7/dist-packages/sklearn/neural_network/_multilayer_perceptron.py:571: ConvergenceWarning: Stochastic Optimizer: Maximum iterations (200) reached and the optimization hasn't converged yet.\n",
            "  % self.max_iter, ConvergenceWarning)\n",
            "/usr/local/lib/python3.7/dist-packages/sklearn/neural_network/_multilayer_perceptron.py:571: ConvergenceWarning: Stochastic Optimizer: Maximum iterations (200) reached and the optimization hasn't converged yet.\n",
            "  % self.max_iter, ConvergenceWarning)\n",
            "/usr/local/lib/python3.7/dist-packages/sklearn/neural_network/_multilayer_perceptron.py:571: ConvergenceWarning: Stochastic Optimizer: Maximum iterations (200) reached and the optimization hasn't converged yet.\n",
            "  % self.max_iter, ConvergenceWarning)\n",
            "/usr/local/lib/python3.7/dist-packages/sklearn/neural_network/_multilayer_perceptron.py:571: ConvergenceWarning: Stochastic Optimizer: Maximum iterations (200) reached and the optimization hasn't converged yet.\n",
            "  % self.max_iter, ConvergenceWarning)\n",
            "/usr/local/lib/python3.7/dist-packages/sklearn/neural_network/_multilayer_perceptron.py:571: ConvergenceWarning: Stochastic Optimizer: Maximum iterations (200) reached and the optimization hasn't converged yet.\n",
            "  % self.max_iter, ConvergenceWarning)\n",
            "/usr/local/lib/python3.7/dist-packages/sklearn/neural_network/_multilayer_perceptron.py:571: ConvergenceWarning: Stochastic Optimizer: Maximum iterations (200) reached and the optimization hasn't converged yet.\n",
            "  % self.max_iter, ConvergenceWarning)\n",
            "/usr/local/lib/python3.7/dist-packages/sklearn/neural_network/_multilayer_perceptron.py:571: ConvergenceWarning: Stochastic Optimizer: Maximum iterations (200) reached and the optimization hasn't converged yet.\n",
            "  % self.max_iter, ConvergenceWarning)\n",
            "/usr/local/lib/python3.7/dist-packages/sklearn/neural_network/_multilayer_perceptron.py:571: ConvergenceWarning: Stochastic Optimizer: Maximum iterations (200) reached and the optimization hasn't converged yet.\n",
            "  % self.max_iter, ConvergenceWarning)\n",
            "/usr/local/lib/python3.7/dist-packages/sklearn/neural_network/_multilayer_perceptron.py:571: ConvergenceWarning: Stochastic Optimizer: Maximum iterations (200) reached and the optimization hasn't converged yet.\n",
            "  % self.max_iter, ConvergenceWarning)\n",
            "/usr/local/lib/python3.7/dist-packages/sklearn/neural_network/_multilayer_perceptron.py:571: ConvergenceWarning: Stochastic Optimizer: Maximum iterations (200) reached and the optimization hasn't converged yet.\n",
            "  % self.max_iter, ConvergenceWarning)\n",
            "/usr/local/lib/python3.7/dist-packages/sklearn/neural_network/_multilayer_perceptron.py:571: ConvergenceWarning: Stochastic Optimizer: Maximum iterations (200) reached and the optimization hasn't converged yet.\n",
            "  % self.max_iter, ConvergenceWarning)\n",
            "/usr/local/lib/python3.7/dist-packages/sklearn/neural_network/_multilayer_perceptron.py:571: ConvergenceWarning: Stochastic Optimizer: Maximum iterations (200) reached and the optimization hasn't converged yet.\n",
            "  % self.max_iter, ConvergenceWarning)\n",
            "/usr/local/lib/python3.7/dist-packages/sklearn/neural_network/_multilayer_perceptron.py:571: ConvergenceWarning: Stochastic Optimizer: Maximum iterations (200) reached and the optimization hasn't converged yet.\n",
            "  % self.max_iter, ConvergenceWarning)\n",
            "/usr/local/lib/python3.7/dist-packages/sklearn/neural_network/_multilayer_perceptron.py:571: ConvergenceWarning: Stochastic Optimizer: Maximum iterations (200) reached and the optimization hasn't converged yet.\n",
            "  % self.max_iter, ConvergenceWarning)\n",
            "/usr/local/lib/python3.7/dist-packages/sklearn/neural_network/_multilayer_perceptron.py:571: ConvergenceWarning: Stochastic Optimizer: Maximum iterations (200) reached and the optimization hasn't converged yet.\n",
            "  % self.max_iter, ConvergenceWarning)\n",
            "/usr/local/lib/python3.7/dist-packages/sklearn/neural_network/_multilayer_perceptron.py:571: ConvergenceWarning: Stochastic Optimizer: Maximum iterations (200) reached and the optimization hasn't converged yet.\n",
            "  % self.max_iter, ConvergenceWarning)\n",
            "/usr/local/lib/python3.7/dist-packages/sklearn/neural_network/_multilayer_perceptron.py:571: ConvergenceWarning: Stochastic Optimizer: Maximum iterations (200) reached and the optimization hasn't converged yet.\n",
            "  % self.max_iter, ConvergenceWarning)\n",
            "/usr/local/lib/python3.7/dist-packages/sklearn/neural_network/_multilayer_perceptron.py:571: ConvergenceWarning: Stochastic Optimizer: Maximum iterations (200) reached and the optimization hasn't converged yet.\n",
            "  % self.max_iter, ConvergenceWarning)\n",
            "/usr/local/lib/python3.7/dist-packages/sklearn/neural_network/_multilayer_perceptron.py:571: ConvergenceWarning: Stochastic Optimizer: Maximum iterations (200) reached and the optimization hasn't converged yet.\n",
            "  % self.max_iter, ConvergenceWarning)\n",
            "/usr/local/lib/python3.7/dist-packages/sklearn/neural_network/_multilayer_perceptron.py:571: ConvergenceWarning: Stochastic Optimizer: Maximum iterations (200) reached and the optimization hasn't converged yet.\n",
            "  % self.max_iter, ConvergenceWarning)\n",
            "/usr/local/lib/python3.7/dist-packages/sklearn/neural_network/_multilayer_perceptron.py:571: ConvergenceWarning: Stochastic Optimizer: Maximum iterations (200) reached and the optimization hasn't converged yet.\n",
            "  % self.max_iter, ConvergenceWarning)\n",
            "/usr/local/lib/python3.7/dist-packages/sklearn/neural_network/_multilayer_perceptron.py:571: ConvergenceWarning: Stochastic Optimizer: Maximum iterations (200) reached and the optimization hasn't converged yet.\n",
            "  % self.max_iter, ConvergenceWarning)\n",
            "/usr/local/lib/python3.7/dist-packages/sklearn/neural_network/_multilayer_perceptron.py:571: ConvergenceWarning: Stochastic Optimizer: Maximum iterations (200) reached and the optimization hasn't converged yet.\n",
            "  % self.max_iter, ConvergenceWarning)\n",
            "/usr/local/lib/python3.7/dist-packages/sklearn/neural_network/_multilayer_perceptron.py:571: ConvergenceWarning: Stochastic Optimizer: Maximum iterations (200) reached and the optimization hasn't converged yet.\n",
            "  % self.max_iter, ConvergenceWarning)\n",
            "/usr/local/lib/python3.7/dist-packages/sklearn/neural_network/_multilayer_perceptron.py:571: ConvergenceWarning: Stochastic Optimizer: Maximum iterations (200) reached and the optimization hasn't converged yet.\n",
            "  % self.max_iter, ConvergenceWarning)\n",
            "/usr/local/lib/python3.7/dist-packages/sklearn/neural_network/_multilayer_perceptron.py:571: ConvergenceWarning: Stochastic Optimizer: Maximum iterations (200) reached and the optimization hasn't converged yet.\n",
            "  % self.max_iter, ConvergenceWarning)\n",
            "/usr/local/lib/python3.7/dist-packages/sklearn/neural_network/_multilayer_perceptron.py:571: ConvergenceWarning: Stochastic Optimizer: Maximum iterations (200) reached and the optimization hasn't converged yet.\n",
            "  % self.max_iter, ConvergenceWarning)\n",
            "/usr/local/lib/python3.7/dist-packages/sklearn/neural_network/_multilayer_perceptron.py:571: ConvergenceWarning: Stochastic Optimizer: Maximum iterations (200) reached and the optimization hasn't converged yet.\n",
            "  % self.max_iter, ConvergenceWarning)\n",
            "/usr/local/lib/python3.7/dist-packages/sklearn/neural_network/_multilayer_perceptron.py:571: ConvergenceWarning: Stochastic Optimizer: Maximum iterations (200) reached and the optimization hasn't converged yet.\n",
            "  % self.max_iter, ConvergenceWarning)\n",
            "/usr/local/lib/python3.7/dist-packages/sklearn/neural_network/_multilayer_perceptron.py:571: ConvergenceWarning: Stochastic Optimizer: Maximum iterations (200) reached and the optimization hasn't converged yet.\n",
            "  % self.max_iter, ConvergenceWarning)\n",
            "/usr/local/lib/python3.7/dist-packages/sklearn/neural_network/_multilayer_perceptron.py:571: ConvergenceWarning: Stochastic Optimizer: Maximum iterations (200) reached and the optimization hasn't converged yet.\n",
            "  % self.max_iter, ConvergenceWarning)\n",
            "/usr/local/lib/python3.7/dist-packages/sklearn/neural_network/_multilayer_perceptron.py:571: ConvergenceWarning: Stochastic Optimizer: Maximum iterations (200) reached and the optimization hasn't converged yet.\n",
            "  % self.max_iter, ConvergenceWarning)\n",
            "/usr/local/lib/python3.7/dist-packages/sklearn/neural_network/_multilayer_perceptron.py:571: ConvergenceWarning: Stochastic Optimizer: Maximum iterations (200) reached and the optimization hasn't converged yet.\n",
            "  % self.max_iter, ConvergenceWarning)\n",
            "/usr/local/lib/python3.7/dist-packages/sklearn/neural_network/_multilayer_perceptron.py:571: ConvergenceWarning: Stochastic Optimizer: Maximum iterations (200) reached and the optimization hasn't converged yet.\n",
            "  % self.max_iter, ConvergenceWarning)\n",
            "/usr/local/lib/python3.7/dist-packages/sklearn/neural_network/_multilayer_perceptron.py:571: ConvergenceWarning: Stochastic Optimizer: Maximum iterations (200) reached and the optimization hasn't converged yet.\n",
            "  % self.max_iter, ConvergenceWarning)\n",
            "/usr/local/lib/python3.7/dist-packages/sklearn/neural_network/_multilayer_perceptron.py:571: ConvergenceWarning: Stochastic Optimizer: Maximum iterations (200) reached and the optimization hasn't converged yet.\n",
            "  % self.max_iter, ConvergenceWarning)\n",
            "/usr/local/lib/python3.7/dist-packages/sklearn/neural_network/_multilayer_perceptron.py:571: ConvergenceWarning: Stochastic Optimizer: Maximum iterations (200) reached and the optimization hasn't converged yet.\n",
            "  % self.max_iter, ConvergenceWarning)\n",
            "/usr/local/lib/python3.7/dist-packages/sklearn/neural_network/_multilayer_perceptron.py:571: ConvergenceWarning: Stochastic Optimizer: Maximum iterations (200) reached and the optimization hasn't converged yet.\n",
            "  % self.max_iter, ConvergenceWarning)\n",
            "/usr/local/lib/python3.7/dist-packages/sklearn/neural_network/_multilayer_perceptron.py:571: ConvergenceWarning: Stochastic Optimizer: Maximum iterations (200) reached and the optimization hasn't converged yet.\n",
            "  % self.max_iter, ConvergenceWarning)\n",
            "/usr/local/lib/python3.7/dist-packages/sklearn/neural_network/_multilayer_perceptron.py:571: ConvergenceWarning: Stochastic Optimizer: Maximum iterations (200) reached and the optimization hasn't converged yet.\n",
            "  % self.max_iter, ConvergenceWarning)\n"
          ]
        }
      ]
    },
    {
      "cell_type": "code",
      "metadata": {
        "colab": {
          "base_uri": "https://localhost:8080/"
        },
        "id": "wn9ToSaw8XAR",
        "outputId": "3ab84520-f185-42fe-b183-1afe8e3b6f06"
      },
      "source": [
        "mean_10 = np.array(scores_10['test_prec_macro']).mean()\n",
        "std_10 = np.array(scores_10['test_prec_macro']).std()\n",
        "print(\"n = 10 Precisão média :\"+str(mean_10)+ \" std: \"+str(std_10))\n",
        "mean_15 = np.array(scores_15['test_prec_macro']).mean()\n",
        "std_15 = np.array(scores_15['test_prec_macro']).std()\n",
        "print(\"n = 15 Precisão média :\"+str(mean_15)+ \" std: \"+str(std_15))\n",
        "mean_20 = np.array(scores_20['test_prec_macro']).mean()\n",
        "std_20 = np.array(scores_20['test_prec_macro']).std()\n",
        "print(\"n = 20 Precisão média :\"+str(mean_20)+ \" std: \"+str(std_20))"
      ],
      "execution_count": null,
      "outputs": [
        {
          "output_type": "stream",
          "name": "stdout",
          "text": [
            "n = 10 Precisão média :0.8355161814449741 std: 0.06163471188346673\n",
            "n = 15 Precisão média :0.8108355108084211 std: 0.058694985745623186\n",
            "n = 20 Precisão média :0.7987703350570998 std: 0.03109644858455377\n"
          ]
        }
      ]
    },
    {
      "cell_type": "markdown",
      "metadata": {
        "id": "xhvjOcwS853A"
      },
      "source": [
        "#### Dados processados"
      ]
    },
    {
      "cell_type": "code",
      "metadata": {
        "id": "cPPCqXZB89aa"
      },
      "source": [
        "X_p = dados_preProcessado.drop(columns=['output'])\n",
        "y_p = dados_preProcessado.output\n",
        "mlpBoost_p_10 = AdaBoostClassifier(base_estimator = customMLPClassifer(alpha=0.0001,learning_rate='constant',activation='identity', hidden_layer_sizes=(21,), solver='sgd'),n_estimators=10, random_state=7,algorithm='SAMME')\n",
        "mlpBoost_p_15 = AdaBoostClassifier(base_estimator = customMLPClassifer(alpha=0.0001,learning_rate='constant',activation='identity', hidden_layer_sizes=(21,), solver='sgd'),n_estimators=15, random_state=7,algorithm='SAMME')\n",
        "mlpBoost_p_20 = AdaBoostClassifier(base_estimator = customMLPClassifer(alpha=0.0001,learning_rate='constant',activation='identity', hidden_layer_sizes=(21,), solver='sgd'),n_estimators=20, random_state=7,algorithm='SAMME')\n",
        "#mlpBoost_p_10 = AdaBoostClassifier(base_estimator = customMLPClassifer(activation='identity', hidden_layer_sizes=(12,), solver='adam'),n_estimators=10, random_state=7,algorithm='SAMME')\n",
        "#mlpBoost_p_15 = AdaBoostClassifier(base_estimator = customMLPClassifer(activation='identity', hidden_layer_sizes=(12,), solver='adam'),n_estimators=15, random_state=7,algorithm='SAMME')\n",
        "#mlpBoost_p_20 = AdaBoostClassifier(base_estimator = customMLPClassifer(activation='identity', hidden_layer_sizes=(12,), solver='adam'),n_estimators=20, random_state=7,algorithm='SAMME')"
      ],
      "execution_count": null,
      "outputs": []
    },
    {
      "cell_type": "code",
      "metadata": {
        "id": "T9j3a3Wec7c4"
      },
      "source": [
        "from sklearn.model_selection import GridSearchCV"
      ],
      "execution_count": null,
      "outputs": []
    },
    {
      "cell_type": "code",
      "metadata": {
        "id": "nsu9lnRGc8vf",
        "colab": {
          "base_uri": "https://localhost:8080/",
          "height": 105
        },
        "outputId": "d9a945ff-4c22-4a77-d46b-b53761bd8a47"
      },
      "source": [
        "'''param_grid = [\n",
        "        {\n",
        "            'activation' : ['identity', 'logistic', 'tanh', 'relu'],\n",
        "            'solver' : ['lbfgs', 'sgd', 'adam'],\n",
        "            'hidden_layer_sizes': [\n",
        "             (1,),(2,),(3,),(4,),(5,),(6,),(7,),(8,),(9,),(10,),(11,), (12,),(13,),(14,),(15,),(16,),(17,),(18,),(19,),(20,),(21,),(22,),(23,),(24,),\n",
        "             (25,),(26,),(27,),(28,),(29,),(30,),(31,),(32,),(33,),(34,),(35,)\n",
        "             ]\n",
        "        }\n",
        "       ]\n",
        "clf = GridSearchCV(MLPClassifier(), param_grid, cv=3,scoring='accuracy')\n",
        "\n",
        "clf.fit(X,y)\n",
        "\n",
        "\n",
        "print(\"Best parameters set found on development set:\")\n",
        "print(clf.best_params_)'''"
      ],
      "execution_count": null,
      "outputs": [
        {
          "output_type": "execute_result",
          "data": {
            "application/vnd.google.colaboratory.intrinsic+json": {
              "type": "string"
            },
            "text/plain": [
              "'param_grid = [\\n        {\\n            \\'activation\\' : [\\'identity\\', \\'logistic\\', \\'tanh\\', \\'relu\\'],\\n            \\'solver\\' : [\\'lbfgs\\', \\'sgd\\', \\'adam\\'],\\n            \\'hidden_layer_sizes\\': [\\n             (1,),(2,),(3,),(4,),(5,),(6,),(7,),(8,),(9,),(10,),(11,), (12,),(13,),(14,),(15,),(16,),(17,),(18,),(19,),(20,),(21,),(22,),(23,),(24,),\\n             (25,),(26,),(27,),(28,),(29,),(30,),(31,),(32,),(33,),(34,),(35,)\\n             ]\\n        }\\n       ]\\nclf = GridSearchCV(MLPClassifier(), param_grid, cv=3,scoring=\\'accuracy\\')\\n\\nclf.fit(X,y)\\n\\n\\nprint(\"Best parameters set found on development set:\")\\nprint(clf.best_params_)'"
            ]
          },
          "metadata": {},
          "execution_count": 9
        }
      ]
    },
    {
      "cell_type": "code",
      "metadata": {
        "id": "7ijM8S0D9H4y",
        "colab": {
          "base_uri": "https://localhost:8080/"
        },
        "outputId": "124a9296-93cf-4d44-ad8a-2e36231ce4c9"
      },
      "source": [
        "scoring = {'prec_macro': 'precision_macro',\n",
        "            'rec_macro': make_scorer(recall_score, average='macro')}\n",
        "scores_p_10 = cross_validate(estimator=mlpBoost_p_10, X= X_p, y= y_p, scoring=scoring,cv=10, return_train_score=True)\n",
        "scores_p_15 = cross_validate(estimator=mlpBoost_p_15, X= X_p, y= y_p, scoring=scoring,cv=10, return_train_score=True)\n",
        "scores_p_20 = cross_validate(estimator=mlpBoost_p_20, X= X_p, y= y_p, scoring=scoring,cv=10, return_train_score=True)"
      ],
      "execution_count": null,
      "outputs": [
        {
          "output_type": "stream",
          "name": "stderr",
          "text": [
            "/usr/local/lib/python3.7/dist-packages/sklearn/neural_network/_multilayer_perceptron.py:571: ConvergenceWarning: Stochastic Optimizer: Maximum iterations (200) reached and the optimization hasn't converged yet.\n",
            "  % self.max_iter, ConvergenceWarning)\n",
            "/usr/local/lib/python3.7/dist-packages/sklearn/neural_network/_multilayer_perceptron.py:571: ConvergenceWarning: Stochastic Optimizer: Maximum iterations (200) reached and the optimization hasn't converged yet.\n",
            "  % self.max_iter, ConvergenceWarning)\n",
            "/usr/local/lib/python3.7/dist-packages/sklearn/neural_network/_multilayer_perceptron.py:571: ConvergenceWarning: Stochastic Optimizer: Maximum iterations (200) reached and the optimization hasn't converged yet.\n",
            "  % self.max_iter, ConvergenceWarning)\n",
            "/usr/local/lib/python3.7/dist-packages/sklearn/neural_network/_multilayer_perceptron.py:571: ConvergenceWarning: Stochastic Optimizer: Maximum iterations (200) reached and the optimization hasn't converged yet.\n",
            "  % self.max_iter, ConvergenceWarning)\n",
            "/usr/local/lib/python3.7/dist-packages/sklearn/neural_network/_multilayer_perceptron.py:571: ConvergenceWarning: Stochastic Optimizer: Maximum iterations (200) reached and the optimization hasn't converged yet.\n",
            "  % self.max_iter, ConvergenceWarning)\n",
            "/usr/local/lib/python3.7/dist-packages/sklearn/neural_network/_multilayer_perceptron.py:571: ConvergenceWarning: Stochastic Optimizer: Maximum iterations (200) reached and the optimization hasn't converged yet.\n",
            "  % self.max_iter, ConvergenceWarning)\n",
            "/usr/local/lib/python3.7/dist-packages/sklearn/neural_network/_multilayer_perceptron.py:571: ConvergenceWarning: Stochastic Optimizer: Maximum iterations (200) reached and the optimization hasn't converged yet.\n",
            "  % self.max_iter, ConvergenceWarning)\n",
            "/usr/local/lib/python3.7/dist-packages/sklearn/neural_network/_multilayer_perceptron.py:571: ConvergenceWarning: Stochastic Optimizer: Maximum iterations (200) reached and the optimization hasn't converged yet.\n",
            "  % self.max_iter, ConvergenceWarning)\n",
            "/usr/local/lib/python3.7/dist-packages/sklearn/neural_network/_multilayer_perceptron.py:571: ConvergenceWarning: Stochastic Optimizer: Maximum iterations (200) reached and the optimization hasn't converged yet.\n",
            "  % self.max_iter, ConvergenceWarning)\n",
            "/usr/local/lib/python3.7/dist-packages/sklearn/neural_network/_multilayer_perceptron.py:571: ConvergenceWarning: Stochastic Optimizer: Maximum iterations (200) reached and the optimization hasn't converged yet.\n",
            "  % self.max_iter, ConvergenceWarning)\n",
            "/usr/local/lib/python3.7/dist-packages/sklearn/neural_network/_multilayer_perceptron.py:571: ConvergenceWarning: Stochastic Optimizer: Maximum iterations (200) reached and the optimization hasn't converged yet.\n",
            "  % self.max_iter, ConvergenceWarning)\n",
            "/usr/local/lib/python3.7/dist-packages/sklearn/neural_network/_multilayer_perceptron.py:571: ConvergenceWarning: Stochastic Optimizer: Maximum iterations (200) reached and the optimization hasn't converged yet.\n",
            "  % self.max_iter, ConvergenceWarning)\n",
            "/usr/local/lib/python3.7/dist-packages/sklearn/neural_network/_multilayer_perceptron.py:571: ConvergenceWarning: Stochastic Optimizer: Maximum iterations (200) reached and the optimization hasn't converged yet.\n",
            "  % self.max_iter, ConvergenceWarning)\n",
            "/usr/local/lib/python3.7/dist-packages/sklearn/neural_network/_multilayer_perceptron.py:571: ConvergenceWarning: Stochastic Optimizer: Maximum iterations (200) reached and the optimization hasn't converged yet.\n",
            "  % self.max_iter, ConvergenceWarning)\n",
            "/usr/local/lib/python3.7/dist-packages/sklearn/neural_network/_multilayer_perceptron.py:571: ConvergenceWarning: Stochastic Optimizer: Maximum iterations (200) reached and the optimization hasn't converged yet.\n",
            "  % self.max_iter, ConvergenceWarning)\n",
            "/usr/local/lib/python3.7/dist-packages/sklearn/neural_network/_multilayer_perceptron.py:571: ConvergenceWarning: Stochastic Optimizer: Maximum iterations (200) reached and the optimization hasn't converged yet.\n",
            "  % self.max_iter, ConvergenceWarning)\n",
            "/usr/local/lib/python3.7/dist-packages/sklearn/neural_network/_multilayer_perceptron.py:571: ConvergenceWarning: Stochastic Optimizer: Maximum iterations (200) reached and the optimization hasn't converged yet.\n",
            "  % self.max_iter, ConvergenceWarning)\n",
            "/usr/local/lib/python3.7/dist-packages/sklearn/neural_network/_multilayer_perceptron.py:571: ConvergenceWarning: Stochastic Optimizer: Maximum iterations (200) reached and the optimization hasn't converged yet.\n",
            "  % self.max_iter, ConvergenceWarning)\n",
            "/usr/local/lib/python3.7/dist-packages/sklearn/neural_network/_multilayer_perceptron.py:571: ConvergenceWarning: Stochastic Optimizer: Maximum iterations (200) reached and the optimization hasn't converged yet.\n",
            "  % self.max_iter, ConvergenceWarning)\n",
            "/usr/local/lib/python3.7/dist-packages/sklearn/neural_network/_multilayer_perceptron.py:571: ConvergenceWarning: Stochastic Optimizer: Maximum iterations (200) reached and the optimization hasn't converged yet.\n",
            "  % self.max_iter, ConvergenceWarning)\n",
            "/usr/local/lib/python3.7/dist-packages/sklearn/neural_network/_multilayer_perceptron.py:571: ConvergenceWarning: Stochastic Optimizer: Maximum iterations (200) reached and the optimization hasn't converged yet.\n",
            "  % self.max_iter, ConvergenceWarning)\n",
            "/usr/local/lib/python3.7/dist-packages/sklearn/neural_network/_multilayer_perceptron.py:571: ConvergenceWarning: Stochastic Optimizer: Maximum iterations (200) reached and the optimization hasn't converged yet.\n",
            "  % self.max_iter, ConvergenceWarning)\n",
            "/usr/local/lib/python3.7/dist-packages/sklearn/neural_network/_multilayer_perceptron.py:571: ConvergenceWarning: Stochastic Optimizer: Maximum iterations (200) reached and the optimization hasn't converged yet.\n",
            "  % self.max_iter, ConvergenceWarning)\n",
            "/usr/local/lib/python3.7/dist-packages/sklearn/neural_network/_multilayer_perceptron.py:571: ConvergenceWarning: Stochastic Optimizer: Maximum iterations (200) reached and the optimization hasn't converged yet.\n",
            "  % self.max_iter, ConvergenceWarning)\n",
            "/usr/local/lib/python3.7/dist-packages/sklearn/neural_network/_multilayer_perceptron.py:571: ConvergenceWarning: Stochastic Optimizer: Maximum iterations (200) reached and the optimization hasn't converged yet.\n",
            "  % self.max_iter, ConvergenceWarning)\n",
            "/usr/local/lib/python3.7/dist-packages/sklearn/neural_network/_multilayer_perceptron.py:571: ConvergenceWarning: Stochastic Optimizer: Maximum iterations (200) reached and the optimization hasn't converged yet.\n",
            "  % self.max_iter, ConvergenceWarning)\n",
            "/usr/local/lib/python3.7/dist-packages/sklearn/neural_network/_multilayer_perceptron.py:571: ConvergenceWarning: Stochastic Optimizer: Maximum iterations (200) reached and the optimization hasn't converged yet.\n",
            "  % self.max_iter, ConvergenceWarning)\n",
            "/usr/local/lib/python3.7/dist-packages/sklearn/neural_network/_multilayer_perceptron.py:571: ConvergenceWarning: Stochastic Optimizer: Maximum iterations (200) reached and the optimization hasn't converged yet.\n",
            "  % self.max_iter, ConvergenceWarning)\n",
            "/usr/local/lib/python3.7/dist-packages/sklearn/neural_network/_multilayer_perceptron.py:571: ConvergenceWarning: Stochastic Optimizer: Maximum iterations (200) reached and the optimization hasn't converged yet.\n",
            "  % self.max_iter, ConvergenceWarning)\n",
            "/usr/local/lib/python3.7/dist-packages/sklearn/neural_network/_multilayer_perceptron.py:571: ConvergenceWarning: Stochastic Optimizer: Maximum iterations (200) reached and the optimization hasn't converged yet.\n",
            "  % self.max_iter, ConvergenceWarning)\n",
            "/usr/local/lib/python3.7/dist-packages/sklearn/neural_network/_multilayer_perceptron.py:571: ConvergenceWarning: Stochastic Optimizer: Maximum iterations (200) reached and the optimization hasn't converged yet.\n",
            "  % self.max_iter, ConvergenceWarning)\n",
            "/usr/local/lib/python3.7/dist-packages/sklearn/neural_network/_multilayer_perceptron.py:571: ConvergenceWarning: Stochastic Optimizer: Maximum iterations (200) reached and the optimization hasn't converged yet.\n",
            "  % self.max_iter, ConvergenceWarning)\n",
            "/usr/local/lib/python3.7/dist-packages/sklearn/neural_network/_multilayer_perceptron.py:571: ConvergenceWarning: Stochastic Optimizer: Maximum iterations (200) reached and the optimization hasn't converged yet.\n",
            "  % self.max_iter, ConvergenceWarning)\n",
            "/usr/local/lib/python3.7/dist-packages/sklearn/neural_network/_multilayer_perceptron.py:571: ConvergenceWarning: Stochastic Optimizer: Maximum iterations (200) reached and the optimization hasn't converged yet.\n",
            "  % self.max_iter, ConvergenceWarning)\n",
            "/usr/local/lib/python3.7/dist-packages/sklearn/neural_network/_multilayer_perceptron.py:571: ConvergenceWarning: Stochastic Optimizer: Maximum iterations (200) reached and the optimization hasn't converged yet.\n",
            "  % self.max_iter, ConvergenceWarning)\n",
            "/usr/local/lib/python3.7/dist-packages/sklearn/neural_network/_multilayer_perceptron.py:571: ConvergenceWarning: Stochastic Optimizer: Maximum iterations (200) reached and the optimization hasn't converged yet.\n",
            "  % self.max_iter, ConvergenceWarning)\n",
            "/usr/local/lib/python3.7/dist-packages/sklearn/neural_network/_multilayer_perceptron.py:571: ConvergenceWarning: Stochastic Optimizer: Maximum iterations (200) reached and the optimization hasn't converged yet.\n",
            "  % self.max_iter, ConvergenceWarning)\n",
            "/usr/local/lib/python3.7/dist-packages/sklearn/neural_network/_multilayer_perceptron.py:571: ConvergenceWarning: Stochastic Optimizer: Maximum iterations (200) reached and the optimization hasn't converged yet.\n",
            "  % self.max_iter, ConvergenceWarning)\n",
            "/usr/local/lib/python3.7/dist-packages/sklearn/neural_network/_multilayer_perceptron.py:571: ConvergenceWarning: Stochastic Optimizer: Maximum iterations (200) reached and the optimization hasn't converged yet.\n",
            "  % self.max_iter, ConvergenceWarning)\n",
            "/usr/local/lib/python3.7/dist-packages/sklearn/neural_network/_multilayer_perceptron.py:571: ConvergenceWarning: Stochastic Optimizer: Maximum iterations (200) reached and the optimization hasn't converged yet.\n",
            "  % self.max_iter, ConvergenceWarning)\n",
            "/usr/local/lib/python3.7/dist-packages/sklearn/neural_network/_multilayer_perceptron.py:571: ConvergenceWarning: Stochastic Optimizer: Maximum iterations (200) reached and the optimization hasn't converged yet.\n",
            "  % self.max_iter, ConvergenceWarning)\n",
            "/usr/local/lib/python3.7/dist-packages/sklearn/neural_network/_multilayer_perceptron.py:571: ConvergenceWarning: Stochastic Optimizer: Maximum iterations (200) reached and the optimization hasn't converged yet.\n",
            "  % self.max_iter, ConvergenceWarning)\n",
            "/usr/local/lib/python3.7/dist-packages/sklearn/neural_network/_multilayer_perceptron.py:571: ConvergenceWarning: Stochastic Optimizer: Maximum iterations (200) reached and the optimization hasn't converged yet.\n",
            "  % self.max_iter, ConvergenceWarning)\n",
            "/usr/local/lib/python3.7/dist-packages/sklearn/neural_network/_multilayer_perceptron.py:571: ConvergenceWarning: Stochastic Optimizer: Maximum iterations (200) reached and the optimization hasn't converged yet.\n",
            "  % self.max_iter, ConvergenceWarning)\n",
            "/usr/local/lib/python3.7/dist-packages/sklearn/neural_network/_multilayer_perceptron.py:571: ConvergenceWarning: Stochastic Optimizer: Maximum iterations (200) reached and the optimization hasn't converged yet.\n",
            "  % self.max_iter, ConvergenceWarning)\n",
            "/usr/local/lib/python3.7/dist-packages/sklearn/neural_network/_multilayer_perceptron.py:571: ConvergenceWarning: Stochastic Optimizer: Maximum iterations (200) reached and the optimization hasn't converged yet.\n",
            "  % self.max_iter, ConvergenceWarning)\n",
            "/usr/local/lib/python3.7/dist-packages/sklearn/neural_network/_multilayer_perceptron.py:571: ConvergenceWarning: Stochastic Optimizer: Maximum iterations (200) reached and the optimization hasn't converged yet.\n",
            "  % self.max_iter, ConvergenceWarning)\n",
            "/usr/local/lib/python3.7/dist-packages/sklearn/neural_network/_multilayer_perceptron.py:571: ConvergenceWarning: Stochastic Optimizer: Maximum iterations (200) reached and the optimization hasn't converged yet.\n",
            "  % self.max_iter, ConvergenceWarning)\n",
            "/usr/local/lib/python3.7/dist-packages/sklearn/neural_network/_multilayer_perceptron.py:571: ConvergenceWarning: Stochastic Optimizer: Maximum iterations (200) reached and the optimization hasn't converged yet.\n",
            "  % self.max_iter, ConvergenceWarning)\n",
            "/usr/local/lib/python3.7/dist-packages/sklearn/neural_network/_multilayer_perceptron.py:571: ConvergenceWarning: Stochastic Optimizer: Maximum iterations (200) reached and the optimization hasn't converged yet.\n",
            "  % self.max_iter, ConvergenceWarning)\n",
            "/usr/local/lib/python3.7/dist-packages/sklearn/neural_network/_multilayer_perceptron.py:571: ConvergenceWarning: Stochastic Optimizer: Maximum iterations (200) reached and the optimization hasn't converged yet.\n",
            "  % self.max_iter, ConvergenceWarning)\n",
            "/usr/local/lib/python3.7/dist-packages/sklearn/neural_network/_multilayer_perceptron.py:571: ConvergenceWarning: Stochastic Optimizer: Maximum iterations (200) reached and the optimization hasn't converged yet.\n",
            "  % self.max_iter, ConvergenceWarning)\n",
            "/usr/local/lib/python3.7/dist-packages/sklearn/neural_network/_multilayer_perceptron.py:571: ConvergenceWarning: Stochastic Optimizer: Maximum iterations (200) reached and the optimization hasn't converged yet.\n",
            "  % self.max_iter, ConvergenceWarning)\n",
            "/usr/local/lib/python3.7/dist-packages/sklearn/neural_network/_multilayer_perceptron.py:571: ConvergenceWarning: Stochastic Optimizer: Maximum iterations (200) reached and the optimization hasn't converged yet.\n",
            "  % self.max_iter, ConvergenceWarning)\n",
            "/usr/local/lib/python3.7/dist-packages/sklearn/neural_network/_multilayer_perceptron.py:571: ConvergenceWarning: Stochastic Optimizer: Maximum iterations (200) reached and the optimization hasn't converged yet.\n",
            "  % self.max_iter, ConvergenceWarning)\n",
            "/usr/local/lib/python3.7/dist-packages/sklearn/neural_network/_multilayer_perceptron.py:571: ConvergenceWarning: Stochastic Optimizer: Maximum iterations (200) reached and the optimization hasn't converged yet.\n",
            "  % self.max_iter, ConvergenceWarning)\n",
            "/usr/local/lib/python3.7/dist-packages/sklearn/neural_network/_multilayer_perceptron.py:571: ConvergenceWarning: Stochastic Optimizer: Maximum iterations (200) reached and the optimization hasn't converged yet.\n",
            "  % self.max_iter, ConvergenceWarning)\n",
            "/usr/local/lib/python3.7/dist-packages/sklearn/neural_network/_multilayer_perceptron.py:571: ConvergenceWarning: Stochastic Optimizer: Maximum iterations (200) reached and the optimization hasn't converged yet.\n",
            "  % self.max_iter, ConvergenceWarning)\n",
            "/usr/local/lib/python3.7/dist-packages/sklearn/neural_network/_multilayer_perceptron.py:571: ConvergenceWarning: Stochastic Optimizer: Maximum iterations (200) reached and the optimization hasn't converged yet.\n",
            "  % self.max_iter, ConvergenceWarning)\n",
            "/usr/local/lib/python3.7/dist-packages/sklearn/neural_network/_multilayer_perceptron.py:571: ConvergenceWarning: Stochastic Optimizer: Maximum iterations (200) reached and the optimization hasn't converged yet.\n",
            "  % self.max_iter, ConvergenceWarning)\n",
            "/usr/local/lib/python3.7/dist-packages/sklearn/neural_network/_multilayer_perceptron.py:571: ConvergenceWarning: Stochastic Optimizer: Maximum iterations (200) reached and the optimization hasn't converged yet.\n",
            "  % self.max_iter, ConvergenceWarning)\n",
            "/usr/local/lib/python3.7/dist-packages/sklearn/neural_network/_multilayer_perceptron.py:571: ConvergenceWarning: Stochastic Optimizer: Maximum iterations (200) reached and the optimization hasn't converged yet.\n",
            "  % self.max_iter, ConvergenceWarning)\n",
            "/usr/local/lib/python3.7/dist-packages/sklearn/neural_network/_multilayer_perceptron.py:571: ConvergenceWarning: Stochastic Optimizer: Maximum iterations (200) reached and the optimization hasn't converged yet.\n",
            "  % self.max_iter, ConvergenceWarning)\n",
            "/usr/local/lib/python3.7/dist-packages/sklearn/neural_network/_multilayer_perceptron.py:571: ConvergenceWarning: Stochastic Optimizer: Maximum iterations (200) reached and the optimization hasn't converged yet.\n",
            "  % self.max_iter, ConvergenceWarning)\n",
            "/usr/local/lib/python3.7/dist-packages/sklearn/neural_network/_multilayer_perceptron.py:571: ConvergenceWarning: Stochastic Optimizer: Maximum iterations (200) reached and the optimization hasn't converged yet.\n",
            "  % self.max_iter, ConvergenceWarning)\n",
            "/usr/local/lib/python3.7/dist-packages/sklearn/neural_network/_multilayer_perceptron.py:571: ConvergenceWarning: Stochastic Optimizer: Maximum iterations (200) reached and the optimization hasn't converged yet.\n",
            "  % self.max_iter, ConvergenceWarning)\n",
            "/usr/local/lib/python3.7/dist-packages/sklearn/neural_network/_multilayer_perceptron.py:571: ConvergenceWarning: Stochastic Optimizer: Maximum iterations (200) reached and the optimization hasn't converged yet.\n",
            "  % self.max_iter, ConvergenceWarning)\n",
            "/usr/local/lib/python3.7/dist-packages/sklearn/neural_network/_multilayer_perceptron.py:571: ConvergenceWarning: Stochastic Optimizer: Maximum iterations (200) reached and the optimization hasn't converged yet.\n",
            "  % self.max_iter, ConvergenceWarning)\n",
            "/usr/local/lib/python3.7/dist-packages/sklearn/neural_network/_multilayer_perceptron.py:571: ConvergenceWarning: Stochastic Optimizer: Maximum iterations (200) reached and the optimization hasn't converged yet.\n",
            "  % self.max_iter, ConvergenceWarning)\n",
            "/usr/local/lib/python3.7/dist-packages/sklearn/neural_network/_multilayer_perceptron.py:571: ConvergenceWarning: Stochastic Optimizer: Maximum iterations (200) reached and the optimization hasn't converged yet.\n",
            "  % self.max_iter, ConvergenceWarning)\n",
            "/usr/local/lib/python3.7/dist-packages/sklearn/neural_network/_multilayer_perceptron.py:571: ConvergenceWarning: Stochastic Optimizer: Maximum iterations (200) reached and the optimization hasn't converged yet.\n",
            "  % self.max_iter, ConvergenceWarning)\n",
            "/usr/local/lib/python3.7/dist-packages/sklearn/neural_network/_multilayer_perceptron.py:571: ConvergenceWarning: Stochastic Optimizer: Maximum iterations (200) reached and the optimization hasn't converged yet.\n",
            "  % self.max_iter, ConvergenceWarning)\n",
            "/usr/local/lib/python3.7/dist-packages/sklearn/neural_network/_multilayer_perceptron.py:571: ConvergenceWarning: Stochastic Optimizer: Maximum iterations (200) reached and the optimization hasn't converged yet.\n",
            "  % self.max_iter, ConvergenceWarning)\n",
            "/usr/local/lib/python3.7/dist-packages/sklearn/neural_network/_multilayer_perceptron.py:571: ConvergenceWarning: Stochastic Optimizer: Maximum iterations (200) reached and the optimization hasn't converged yet.\n",
            "  % self.max_iter, ConvergenceWarning)\n",
            "/usr/local/lib/python3.7/dist-packages/sklearn/neural_network/_multilayer_perceptron.py:571: ConvergenceWarning: Stochastic Optimizer: Maximum iterations (200) reached and the optimization hasn't converged yet.\n",
            "  % self.max_iter, ConvergenceWarning)\n",
            "/usr/local/lib/python3.7/dist-packages/sklearn/neural_network/_multilayer_perceptron.py:571: ConvergenceWarning: Stochastic Optimizer: Maximum iterations (200) reached and the optimization hasn't converged yet.\n",
            "  % self.max_iter, ConvergenceWarning)\n",
            "/usr/local/lib/python3.7/dist-packages/sklearn/neural_network/_multilayer_perceptron.py:571: ConvergenceWarning: Stochastic Optimizer: Maximum iterations (200) reached and the optimization hasn't converged yet.\n",
            "  % self.max_iter, ConvergenceWarning)\n",
            "/usr/local/lib/python3.7/dist-packages/sklearn/neural_network/_multilayer_perceptron.py:571: ConvergenceWarning: Stochastic Optimizer: Maximum iterations (200) reached and the optimization hasn't converged yet.\n",
            "  % self.max_iter, ConvergenceWarning)\n",
            "/usr/local/lib/python3.7/dist-packages/sklearn/neural_network/_multilayer_perceptron.py:571: ConvergenceWarning: Stochastic Optimizer: Maximum iterations (200) reached and the optimization hasn't converged yet.\n",
            "  % self.max_iter, ConvergenceWarning)\n",
            "/usr/local/lib/python3.7/dist-packages/sklearn/neural_network/_multilayer_perceptron.py:571: ConvergenceWarning: Stochastic Optimizer: Maximum iterations (200) reached and the optimization hasn't converged yet.\n",
            "  % self.max_iter, ConvergenceWarning)\n",
            "/usr/local/lib/python3.7/dist-packages/sklearn/neural_network/_multilayer_perceptron.py:571: ConvergenceWarning: Stochastic Optimizer: Maximum iterations (200) reached and the optimization hasn't converged yet.\n",
            "  % self.max_iter, ConvergenceWarning)\n",
            "/usr/local/lib/python3.7/dist-packages/sklearn/neural_network/_multilayer_perceptron.py:571: ConvergenceWarning: Stochastic Optimizer: Maximum iterations (200) reached and the optimization hasn't converged yet.\n",
            "  % self.max_iter, ConvergenceWarning)\n",
            "/usr/local/lib/python3.7/dist-packages/sklearn/neural_network/_multilayer_perceptron.py:571: ConvergenceWarning: Stochastic Optimizer: Maximum iterations (200) reached and the optimization hasn't converged yet.\n",
            "  % self.max_iter, ConvergenceWarning)\n",
            "/usr/local/lib/python3.7/dist-packages/sklearn/neural_network/_multilayer_perceptron.py:571: ConvergenceWarning: Stochastic Optimizer: Maximum iterations (200) reached and the optimization hasn't converged yet.\n",
            "  % self.max_iter, ConvergenceWarning)\n",
            "/usr/local/lib/python3.7/dist-packages/sklearn/neural_network/_multilayer_perceptron.py:571: ConvergenceWarning: Stochastic Optimizer: Maximum iterations (200) reached and the optimization hasn't converged yet.\n",
            "  % self.max_iter, ConvergenceWarning)\n",
            "/usr/local/lib/python3.7/dist-packages/sklearn/neural_network/_multilayer_perceptron.py:571: ConvergenceWarning: Stochastic Optimizer: Maximum iterations (200) reached and the optimization hasn't converged yet.\n",
            "  % self.max_iter, ConvergenceWarning)\n",
            "/usr/local/lib/python3.7/dist-packages/sklearn/neural_network/_multilayer_perceptron.py:571: ConvergenceWarning: Stochastic Optimizer: Maximum iterations (200) reached and the optimization hasn't converged yet.\n",
            "  % self.max_iter, ConvergenceWarning)\n",
            "/usr/local/lib/python3.7/dist-packages/sklearn/neural_network/_multilayer_perceptron.py:571: ConvergenceWarning: Stochastic Optimizer: Maximum iterations (200) reached and the optimization hasn't converged yet.\n",
            "  % self.max_iter, ConvergenceWarning)\n",
            "/usr/local/lib/python3.7/dist-packages/sklearn/neural_network/_multilayer_perceptron.py:571: ConvergenceWarning: Stochastic Optimizer: Maximum iterations (200) reached and the optimization hasn't converged yet.\n",
            "  % self.max_iter, ConvergenceWarning)\n",
            "/usr/local/lib/python3.7/dist-packages/sklearn/neural_network/_multilayer_perceptron.py:571: ConvergenceWarning: Stochastic Optimizer: Maximum iterations (200) reached and the optimization hasn't converged yet.\n",
            "  % self.max_iter, ConvergenceWarning)\n",
            "/usr/local/lib/python3.7/dist-packages/sklearn/neural_network/_multilayer_perceptron.py:571: ConvergenceWarning: Stochastic Optimizer: Maximum iterations (200) reached and the optimization hasn't converged yet.\n",
            "  % self.max_iter, ConvergenceWarning)\n",
            "/usr/local/lib/python3.7/dist-packages/sklearn/neural_network/_multilayer_perceptron.py:571: ConvergenceWarning: Stochastic Optimizer: Maximum iterations (200) reached and the optimization hasn't converged yet.\n",
            "  % self.max_iter, ConvergenceWarning)\n",
            "/usr/local/lib/python3.7/dist-packages/sklearn/neural_network/_multilayer_perceptron.py:571: ConvergenceWarning: Stochastic Optimizer: Maximum iterations (200) reached and the optimization hasn't converged yet.\n",
            "  % self.max_iter, ConvergenceWarning)\n",
            "/usr/local/lib/python3.7/dist-packages/sklearn/neural_network/_multilayer_perceptron.py:571: ConvergenceWarning: Stochastic Optimizer: Maximum iterations (200) reached and the optimization hasn't converged yet.\n",
            "  % self.max_iter, ConvergenceWarning)\n",
            "/usr/local/lib/python3.7/dist-packages/sklearn/neural_network/_multilayer_perceptron.py:571: ConvergenceWarning: Stochastic Optimizer: Maximum iterations (200) reached and the optimization hasn't converged yet.\n",
            "  % self.max_iter, ConvergenceWarning)\n",
            "/usr/local/lib/python3.7/dist-packages/sklearn/neural_network/_multilayer_perceptron.py:571: ConvergenceWarning: Stochastic Optimizer: Maximum iterations (200) reached and the optimization hasn't converged yet.\n",
            "  % self.max_iter, ConvergenceWarning)\n",
            "/usr/local/lib/python3.7/dist-packages/sklearn/neural_network/_multilayer_perceptron.py:571: ConvergenceWarning: Stochastic Optimizer: Maximum iterations (200) reached and the optimization hasn't converged yet.\n",
            "  % self.max_iter, ConvergenceWarning)\n",
            "/usr/local/lib/python3.7/dist-packages/sklearn/neural_network/_multilayer_perceptron.py:571: ConvergenceWarning: Stochastic Optimizer: Maximum iterations (200) reached and the optimization hasn't converged yet.\n",
            "  % self.max_iter, ConvergenceWarning)\n",
            "/usr/local/lib/python3.7/dist-packages/sklearn/neural_network/_multilayer_perceptron.py:571: ConvergenceWarning: Stochastic Optimizer: Maximum iterations (200) reached and the optimization hasn't converged yet.\n",
            "  % self.max_iter, ConvergenceWarning)\n",
            "/usr/local/lib/python3.7/dist-packages/sklearn/neural_network/_multilayer_perceptron.py:571: ConvergenceWarning: Stochastic Optimizer: Maximum iterations (200) reached and the optimization hasn't converged yet.\n",
            "  % self.max_iter, ConvergenceWarning)\n",
            "/usr/local/lib/python3.7/dist-packages/sklearn/neural_network/_multilayer_perceptron.py:571: ConvergenceWarning: Stochastic Optimizer: Maximum iterations (200) reached and the optimization hasn't converged yet.\n",
            "  % self.max_iter, ConvergenceWarning)\n",
            "/usr/local/lib/python3.7/dist-packages/sklearn/neural_network/_multilayer_perceptron.py:571: ConvergenceWarning: Stochastic Optimizer: Maximum iterations (200) reached and the optimization hasn't converged yet.\n",
            "  % self.max_iter, ConvergenceWarning)\n",
            "/usr/local/lib/python3.7/dist-packages/sklearn/neural_network/_multilayer_perceptron.py:571: ConvergenceWarning: Stochastic Optimizer: Maximum iterations (200) reached and the optimization hasn't converged yet.\n",
            "  % self.max_iter, ConvergenceWarning)\n",
            "/usr/local/lib/python3.7/dist-packages/sklearn/neural_network/_multilayer_perceptron.py:571: ConvergenceWarning: Stochastic Optimizer: Maximum iterations (200) reached and the optimization hasn't converged yet.\n",
            "  % self.max_iter, ConvergenceWarning)\n",
            "/usr/local/lib/python3.7/dist-packages/sklearn/neural_network/_multilayer_perceptron.py:571: ConvergenceWarning: Stochastic Optimizer: Maximum iterations (200) reached and the optimization hasn't converged yet.\n",
            "  % self.max_iter, ConvergenceWarning)\n",
            "/usr/local/lib/python3.7/dist-packages/sklearn/neural_network/_multilayer_perceptron.py:571: ConvergenceWarning: Stochastic Optimizer: Maximum iterations (200) reached and the optimization hasn't converged yet.\n",
            "  % self.max_iter, ConvergenceWarning)\n",
            "/usr/local/lib/python3.7/dist-packages/sklearn/neural_network/_multilayer_perceptron.py:571: ConvergenceWarning: Stochastic Optimizer: Maximum iterations (200) reached and the optimization hasn't converged yet.\n",
            "  % self.max_iter, ConvergenceWarning)\n",
            "/usr/local/lib/python3.7/dist-packages/sklearn/neural_network/_multilayer_perceptron.py:571: ConvergenceWarning: Stochastic Optimizer: Maximum iterations (200) reached and the optimization hasn't converged yet.\n",
            "  % self.max_iter, ConvergenceWarning)\n",
            "/usr/local/lib/python3.7/dist-packages/sklearn/neural_network/_multilayer_perceptron.py:571: ConvergenceWarning: Stochastic Optimizer: Maximum iterations (200) reached and the optimization hasn't converged yet.\n",
            "  % self.max_iter, ConvergenceWarning)\n",
            "/usr/local/lib/python3.7/dist-packages/sklearn/neural_network/_multilayer_perceptron.py:571: ConvergenceWarning: Stochastic Optimizer: Maximum iterations (200) reached and the optimization hasn't converged yet.\n",
            "  % self.max_iter, ConvergenceWarning)\n",
            "/usr/local/lib/python3.7/dist-packages/sklearn/neural_network/_multilayer_perceptron.py:571: ConvergenceWarning: Stochastic Optimizer: Maximum iterations (200) reached and the optimization hasn't converged yet.\n",
            "  % self.max_iter, ConvergenceWarning)\n",
            "/usr/local/lib/python3.7/dist-packages/sklearn/neural_network/_multilayer_perceptron.py:571: ConvergenceWarning: Stochastic Optimizer: Maximum iterations (200) reached and the optimization hasn't converged yet.\n",
            "  % self.max_iter, ConvergenceWarning)\n",
            "/usr/local/lib/python3.7/dist-packages/sklearn/neural_network/_multilayer_perceptron.py:571: ConvergenceWarning: Stochastic Optimizer: Maximum iterations (200) reached and the optimization hasn't converged yet.\n",
            "  % self.max_iter, ConvergenceWarning)\n",
            "/usr/local/lib/python3.7/dist-packages/sklearn/neural_network/_multilayer_perceptron.py:571: ConvergenceWarning: Stochastic Optimizer: Maximum iterations (200) reached and the optimization hasn't converged yet.\n",
            "  % self.max_iter, ConvergenceWarning)\n",
            "/usr/local/lib/python3.7/dist-packages/sklearn/neural_network/_multilayer_perceptron.py:571: ConvergenceWarning: Stochastic Optimizer: Maximum iterations (200) reached and the optimization hasn't converged yet.\n",
            "  % self.max_iter, ConvergenceWarning)\n",
            "/usr/local/lib/python3.7/dist-packages/sklearn/neural_network/_multilayer_perceptron.py:571: ConvergenceWarning: Stochastic Optimizer: Maximum iterations (200) reached and the optimization hasn't converged yet.\n",
            "  % self.max_iter, ConvergenceWarning)\n",
            "/usr/local/lib/python3.7/dist-packages/sklearn/neural_network/_multilayer_perceptron.py:571: ConvergenceWarning: Stochastic Optimizer: Maximum iterations (200) reached and the optimization hasn't converged yet.\n",
            "  % self.max_iter, ConvergenceWarning)\n",
            "/usr/local/lib/python3.7/dist-packages/sklearn/neural_network/_multilayer_perceptron.py:571: ConvergenceWarning: Stochastic Optimizer: Maximum iterations (200) reached and the optimization hasn't converged yet.\n",
            "  % self.max_iter, ConvergenceWarning)\n",
            "/usr/local/lib/python3.7/dist-packages/sklearn/neural_network/_multilayer_perceptron.py:571: ConvergenceWarning: Stochastic Optimizer: Maximum iterations (200) reached and the optimization hasn't converged yet.\n",
            "  % self.max_iter, ConvergenceWarning)\n",
            "/usr/local/lib/python3.7/dist-packages/sklearn/neural_network/_multilayer_perceptron.py:571: ConvergenceWarning: Stochastic Optimizer: Maximum iterations (200) reached and the optimization hasn't converged yet.\n",
            "  % self.max_iter, ConvergenceWarning)\n",
            "/usr/local/lib/python3.7/dist-packages/sklearn/neural_network/_multilayer_perceptron.py:571: ConvergenceWarning: Stochastic Optimizer: Maximum iterations (200) reached and the optimization hasn't converged yet.\n",
            "  % self.max_iter, ConvergenceWarning)\n",
            "/usr/local/lib/python3.7/dist-packages/sklearn/neural_network/_multilayer_perceptron.py:571: ConvergenceWarning: Stochastic Optimizer: Maximum iterations (200) reached and the optimization hasn't converged yet.\n",
            "  % self.max_iter, ConvergenceWarning)\n",
            "/usr/local/lib/python3.7/dist-packages/sklearn/neural_network/_multilayer_perceptron.py:571: ConvergenceWarning: Stochastic Optimizer: Maximum iterations (200) reached and the optimization hasn't converged yet.\n",
            "  % self.max_iter, ConvergenceWarning)\n",
            "/usr/local/lib/python3.7/dist-packages/sklearn/neural_network/_multilayer_perceptron.py:571: ConvergenceWarning: Stochastic Optimizer: Maximum iterations (200) reached and the optimization hasn't converged yet.\n",
            "  % self.max_iter, ConvergenceWarning)\n",
            "/usr/local/lib/python3.7/dist-packages/sklearn/neural_network/_multilayer_perceptron.py:571: ConvergenceWarning: Stochastic Optimizer: Maximum iterations (200) reached and the optimization hasn't converged yet.\n",
            "  % self.max_iter, ConvergenceWarning)\n",
            "/usr/local/lib/python3.7/dist-packages/sklearn/neural_network/_multilayer_perceptron.py:571: ConvergenceWarning: Stochastic Optimizer: Maximum iterations (200) reached and the optimization hasn't converged yet.\n",
            "  % self.max_iter, ConvergenceWarning)\n",
            "/usr/local/lib/python3.7/dist-packages/sklearn/neural_network/_multilayer_perceptron.py:571: ConvergenceWarning: Stochastic Optimizer: Maximum iterations (200) reached and the optimization hasn't converged yet.\n",
            "  % self.max_iter, ConvergenceWarning)\n",
            "/usr/local/lib/python3.7/dist-packages/sklearn/neural_network/_multilayer_perceptron.py:571: ConvergenceWarning: Stochastic Optimizer: Maximum iterations (200) reached and the optimization hasn't converged yet.\n",
            "  % self.max_iter, ConvergenceWarning)\n",
            "/usr/local/lib/python3.7/dist-packages/sklearn/neural_network/_multilayer_perceptron.py:571: ConvergenceWarning: Stochastic Optimizer: Maximum iterations (200) reached and the optimization hasn't converged yet.\n",
            "  % self.max_iter, ConvergenceWarning)\n",
            "/usr/local/lib/python3.7/dist-packages/sklearn/neural_network/_multilayer_perceptron.py:571: ConvergenceWarning: Stochastic Optimizer: Maximum iterations (200) reached and the optimization hasn't converged yet.\n",
            "  % self.max_iter, ConvergenceWarning)\n",
            "/usr/local/lib/python3.7/dist-packages/sklearn/neural_network/_multilayer_perceptron.py:571: ConvergenceWarning: Stochastic Optimizer: Maximum iterations (200) reached and the optimization hasn't converged yet.\n",
            "  % self.max_iter, ConvergenceWarning)\n",
            "/usr/local/lib/python3.7/dist-packages/sklearn/neural_network/_multilayer_perceptron.py:571: ConvergenceWarning: Stochastic Optimizer: Maximum iterations (200) reached and the optimization hasn't converged yet.\n",
            "  % self.max_iter, ConvergenceWarning)\n",
            "/usr/local/lib/python3.7/dist-packages/sklearn/neural_network/_multilayer_perceptron.py:571: ConvergenceWarning: Stochastic Optimizer: Maximum iterations (200) reached and the optimization hasn't converged yet.\n",
            "  % self.max_iter, ConvergenceWarning)\n",
            "/usr/local/lib/python3.7/dist-packages/sklearn/neural_network/_multilayer_perceptron.py:571: ConvergenceWarning: Stochastic Optimizer: Maximum iterations (200) reached and the optimization hasn't converged yet.\n",
            "  % self.max_iter, ConvergenceWarning)\n",
            "/usr/local/lib/python3.7/dist-packages/sklearn/neural_network/_multilayer_perceptron.py:571: ConvergenceWarning: Stochastic Optimizer: Maximum iterations (200) reached and the optimization hasn't converged yet.\n",
            "  % self.max_iter, ConvergenceWarning)\n",
            "/usr/local/lib/python3.7/dist-packages/sklearn/neural_network/_multilayer_perceptron.py:571: ConvergenceWarning: Stochastic Optimizer: Maximum iterations (200) reached and the optimization hasn't converged yet.\n",
            "  % self.max_iter, ConvergenceWarning)\n",
            "/usr/local/lib/python3.7/dist-packages/sklearn/neural_network/_multilayer_perceptron.py:571: ConvergenceWarning: Stochastic Optimizer: Maximum iterations (200) reached and the optimization hasn't converged yet.\n",
            "  % self.max_iter, ConvergenceWarning)\n",
            "/usr/local/lib/python3.7/dist-packages/sklearn/neural_network/_multilayer_perceptron.py:571: ConvergenceWarning: Stochastic Optimizer: Maximum iterations (200) reached and the optimization hasn't converged yet.\n",
            "  % self.max_iter, ConvergenceWarning)\n",
            "/usr/local/lib/python3.7/dist-packages/sklearn/neural_network/_multilayer_perceptron.py:571: ConvergenceWarning: Stochastic Optimizer: Maximum iterations (200) reached and the optimization hasn't converged yet.\n",
            "  % self.max_iter, ConvergenceWarning)\n",
            "/usr/local/lib/python3.7/dist-packages/sklearn/neural_network/_multilayer_perceptron.py:571: ConvergenceWarning: Stochastic Optimizer: Maximum iterations (200) reached and the optimization hasn't converged yet.\n",
            "  % self.max_iter, ConvergenceWarning)\n",
            "/usr/local/lib/python3.7/dist-packages/sklearn/neural_network/_multilayer_perceptron.py:571: ConvergenceWarning: Stochastic Optimizer: Maximum iterations (200) reached and the optimization hasn't converged yet.\n",
            "  % self.max_iter, ConvergenceWarning)\n",
            "/usr/local/lib/python3.7/dist-packages/sklearn/neural_network/_multilayer_perceptron.py:571: ConvergenceWarning: Stochastic Optimizer: Maximum iterations (200) reached and the optimization hasn't converged yet.\n",
            "  % self.max_iter, ConvergenceWarning)\n",
            "/usr/local/lib/python3.7/dist-packages/sklearn/neural_network/_multilayer_perceptron.py:571: ConvergenceWarning: Stochastic Optimizer: Maximum iterations (200) reached and the optimization hasn't converged yet.\n",
            "  % self.max_iter, ConvergenceWarning)\n",
            "/usr/local/lib/python3.7/dist-packages/sklearn/neural_network/_multilayer_perceptron.py:571: ConvergenceWarning: Stochastic Optimizer: Maximum iterations (200) reached and the optimization hasn't converged yet.\n",
            "  % self.max_iter, ConvergenceWarning)\n",
            "/usr/local/lib/python3.7/dist-packages/sklearn/neural_network/_multilayer_perceptron.py:571: ConvergenceWarning: Stochastic Optimizer: Maximum iterations (200) reached and the optimization hasn't converged yet.\n",
            "  % self.max_iter, ConvergenceWarning)\n",
            "/usr/local/lib/python3.7/dist-packages/sklearn/neural_network/_multilayer_perceptron.py:571: ConvergenceWarning: Stochastic Optimizer: Maximum iterations (200) reached and the optimization hasn't converged yet.\n",
            "  % self.max_iter, ConvergenceWarning)\n",
            "/usr/local/lib/python3.7/dist-packages/sklearn/neural_network/_multilayer_perceptron.py:571: ConvergenceWarning: Stochastic Optimizer: Maximum iterations (200) reached and the optimization hasn't converged yet.\n",
            "  % self.max_iter, ConvergenceWarning)\n",
            "/usr/local/lib/python3.7/dist-packages/sklearn/neural_network/_multilayer_perceptron.py:571: ConvergenceWarning: Stochastic Optimizer: Maximum iterations (200) reached and the optimization hasn't converged yet.\n",
            "  % self.max_iter, ConvergenceWarning)\n",
            "/usr/local/lib/python3.7/dist-packages/sklearn/neural_network/_multilayer_perceptron.py:571: ConvergenceWarning: Stochastic Optimizer: Maximum iterations (200) reached and the optimization hasn't converged yet.\n",
            "  % self.max_iter, ConvergenceWarning)\n",
            "/usr/local/lib/python3.7/dist-packages/sklearn/neural_network/_multilayer_perceptron.py:571: ConvergenceWarning: Stochastic Optimizer: Maximum iterations (200) reached and the optimization hasn't converged yet.\n",
            "  % self.max_iter, ConvergenceWarning)\n",
            "/usr/local/lib/python3.7/dist-packages/sklearn/neural_network/_multilayer_perceptron.py:571: ConvergenceWarning: Stochastic Optimizer: Maximum iterations (200) reached and the optimization hasn't converged yet.\n",
            "  % self.max_iter, ConvergenceWarning)\n",
            "/usr/local/lib/python3.7/dist-packages/sklearn/neural_network/_multilayer_perceptron.py:571: ConvergenceWarning: Stochastic Optimizer: Maximum iterations (200) reached and the optimization hasn't converged yet.\n",
            "  % self.max_iter, ConvergenceWarning)\n",
            "/usr/local/lib/python3.7/dist-packages/sklearn/neural_network/_multilayer_perceptron.py:571: ConvergenceWarning: Stochastic Optimizer: Maximum iterations (200) reached and the optimization hasn't converged yet.\n",
            "  % self.max_iter, ConvergenceWarning)\n",
            "/usr/local/lib/python3.7/dist-packages/sklearn/neural_network/_multilayer_perceptron.py:571: ConvergenceWarning: Stochastic Optimizer: Maximum iterations (200) reached and the optimization hasn't converged yet.\n",
            "  % self.max_iter, ConvergenceWarning)\n",
            "/usr/local/lib/python3.7/dist-packages/sklearn/neural_network/_multilayer_perceptron.py:571: ConvergenceWarning: Stochastic Optimizer: Maximum iterations (200) reached and the optimization hasn't converged yet.\n",
            "  % self.max_iter, ConvergenceWarning)\n",
            "/usr/local/lib/python3.7/dist-packages/sklearn/neural_network/_multilayer_perceptron.py:571: ConvergenceWarning: Stochastic Optimizer: Maximum iterations (200) reached and the optimization hasn't converged yet.\n",
            "  % self.max_iter, ConvergenceWarning)\n",
            "/usr/local/lib/python3.7/dist-packages/sklearn/neural_network/_multilayer_perceptron.py:571: ConvergenceWarning: Stochastic Optimizer: Maximum iterations (200) reached and the optimization hasn't converged yet.\n",
            "  % self.max_iter, ConvergenceWarning)\n",
            "/usr/local/lib/python3.7/dist-packages/sklearn/neural_network/_multilayer_perceptron.py:571: ConvergenceWarning: Stochastic Optimizer: Maximum iterations (200) reached and the optimization hasn't converged yet.\n",
            "  % self.max_iter, ConvergenceWarning)\n",
            "/usr/local/lib/python3.7/dist-packages/sklearn/neural_network/_multilayer_perceptron.py:571: ConvergenceWarning: Stochastic Optimizer: Maximum iterations (200) reached and the optimization hasn't converged yet.\n",
            "  % self.max_iter, ConvergenceWarning)\n",
            "/usr/local/lib/python3.7/dist-packages/sklearn/neural_network/_multilayer_perceptron.py:571: ConvergenceWarning: Stochastic Optimizer: Maximum iterations (200) reached and the optimization hasn't converged yet.\n",
            "  % self.max_iter, ConvergenceWarning)\n",
            "/usr/local/lib/python3.7/dist-packages/sklearn/neural_network/_multilayer_perceptron.py:571: ConvergenceWarning: Stochastic Optimizer: Maximum iterations (200) reached and the optimization hasn't converged yet.\n",
            "  % self.max_iter, ConvergenceWarning)\n",
            "/usr/local/lib/python3.7/dist-packages/sklearn/neural_network/_multilayer_perceptron.py:571: ConvergenceWarning: Stochastic Optimizer: Maximum iterations (200) reached and the optimization hasn't converged yet.\n",
            "  % self.max_iter, ConvergenceWarning)\n",
            "/usr/local/lib/python3.7/dist-packages/sklearn/neural_network/_multilayer_perceptron.py:571: ConvergenceWarning: Stochastic Optimizer: Maximum iterations (200) reached and the optimization hasn't converged yet.\n",
            "  % self.max_iter, ConvergenceWarning)\n",
            "/usr/local/lib/python3.7/dist-packages/sklearn/neural_network/_multilayer_perceptron.py:571: ConvergenceWarning: Stochastic Optimizer: Maximum iterations (200) reached and the optimization hasn't converged yet.\n",
            "  % self.max_iter, ConvergenceWarning)\n",
            "/usr/local/lib/python3.7/dist-packages/sklearn/neural_network/_multilayer_perceptron.py:571: ConvergenceWarning: Stochastic Optimizer: Maximum iterations (200) reached and the optimization hasn't converged yet.\n",
            "  % self.max_iter, ConvergenceWarning)\n",
            "/usr/local/lib/python3.7/dist-packages/sklearn/neural_network/_multilayer_perceptron.py:571: ConvergenceWarning: Stochastic Optimizer: Maximum iterations (200) reached and the optimization hasn't converged yet.\n",
            "  % self.max_iter, ConvergenceWarning)\n",
            "/usr/local/lib/python3.7/dist-packages/sklearn/neural_network/_multilayer_perceptron.py:571: ConvergenceWarning: Stochastic Optimizer: Maximum iterations (200) reached and the optimization hasn't converged yet.\n",
            "  % self.max_iter, ConvergenceWarning)\n",
            "/usr/local/lib/python3.7/dist-packages/sklearn/neural_network/_multilayer_perceptron.py:571: ConvergenceWarning: Stochastic Optimizer: Maximum iterations (200) reached and the optimization hasn't converged yet.\n",
            "  % self.max_iter, ConvergenceWarning)\n",
            "/usr/local/lib/python3.7/dist-packages/sklearn/neural_network/_multilayer_perceptron.py:571: ConvergenceWarning: Stochastic Optimizer: Maximum iterations (200) reached and the optimization hasn't converged yet.\n",
            "  % self.max_iter, ConvergenceWarning)\n",
            "/usr/local/lib/python3.7/dist-packages/sklearn/neural_network/_multilayer_perceptron.py:571: ConvergenceWarning: Stochastic Optimizer: Maximum iterations (200) reached and the optimization hasn't converged yet.\n",
            "  % self.max_iter, ConvergenceWarning)\n",
            "/usr/local/lib/python3.7/dist-packages/sklearn/neural_network/_multilayer_perceptron.py:571: ConvergenceWarning: Stochastic Optimizer: Maximum iterations (200) reached and the optimization hasn't converged yet.\n",
            "  % self.max_iter, ConvergenceWarning)\n",
            "/usr/local/lib/python3.7/dist-packages/sklearn/neural_network/_multilayer_perceptron.py:571: ConvergenceWarning: Stochastic Optimizer: Maximum iterations (200) reached and the optimization hasn't converged yet.\n",
            "  % self.max_iter, ConvergenceWarning)\n",
            "/usr/local/lib/python3.7/dist-packages/sklearn/neural_network/_multilayer_perceptron.py:571: ConvergenceWarning: Stochastic Optimizer: Maximum iterations (200) reached and the optimization hasn't converged yet.\n",
            "  % self.max_iter, ConvergenceWarning)\n",
            "/usr/local/lib/python3.7/dist-packages/sklearn/neural_network/_multilayer_perceptron.py:571: ConvergenceWarning: Stochastic Optimizer: Maximum iterations (200) reached and the optimization hasn't converged yet.\n",
            "  % self.max_iter, ConvergenceWarning)\n",
            "/usr/local/lib/python3.7/dist-packages/sklearn/neural_network/_multilayer_perceptron.py:571: ConvergenceWarning: Stochastic Optimizer: Maximum iterations (200) reached and the optimization hasn't converged yet.\n",
            "  % self.max_iter, ConvergenceWarning)\n",
            "/usr/local/lib/python3.7/dist-packages/sklearn/neural_network/_multilayer_perceptron.py:571: ConvergenceWarning: Stochastic Optimizer: Maximum iterations (200) reached and the optimization hasn't converged yet.\n",
            "  % self.max_iter, ConvergenceWarning)\n",
            "/usr/local/lib/python3.7/dist-packages/sklearn/neural_network/_multilayer_perceptron.py:571: ConvergenceWarning: Stochastic Optimizer: Maximum iterations (200) reached and the optimization hasn't converged yet.\n",
            "  % self.max_iter, ConvergenceWarning)\n",
            "/usr/local/lib/python3.7/dist-packages/sklearn/neural_network/_multilayer_perceptron.py:571: ConvergenceWarning: Stochastic Optimizer: Maximum iterations (200) reached and the optimization hasn't converged yet.\n",
            "  % self.max_iter, ConvergenceWarning)\n",
            "/usr/local/lib/python3.7/dist-packages/sklearn/neural_network/_multilayer_perceptron.py:571: ConvergenceWarning: Stochastic Optimizer: Maximum iterations (200) reached and the optimization hasn't converged yet.\n",
            "  % self.max_iter, ConvergenceWarning)\n",
            "/usr/local/lib/python3.7/dist-packages/sklearn/neural_network/_multilayer_perceptron.py:571: ConvergenceWarning: Stochastic Optimizer: Maximum iterations (200) reached and the optimization hasn't converged yet.\n",
            "  % self.max_iter, ConvergenceWarning)\n",
            "/usr/local/lib/python3.7/dist-packages/sklearn/neural_network/_multilayer_perceptron.py:571: ConvergenceWarning: Stochastic Optimizer: Maximum iterations (200) reached and the optimization hasn't converged yet.\n",
            "  % self.max_iter, ConvergenceWarning)\n",
            "/usr/local/lib/python3.7/dist-packages/sklearn/neural_network/_multilayer_perceptron.py:571: ConvergenceWarning: Stochastic Optimizer: Maximum iterations (200) reached and the optimization hasn't converged yet.\n",
            "  % self.max_iter, ConvergenceWarning)\n",
            "/usr/local/lib/python3.7/dist-packages/sklearn/neural_network/_multilayer_perceptron.py:571: ConvergenceWarning: Stochastic Optimizer: Maximum iterations (200) reached and the optimization hasn't converged yet.\n",
            "  % self.max_iter, ConvergenceWarning)\n",
            "/usr/local/lib/python3.7/dist-packages/sklearn/neural_network/_multilayer_perceptron.py:571: ConvergenceWarning: Stochastic Optimizer: Maximum iterations (200) reached and the optimization hasn't converged yet.\n",
            "  % self.max_iter, ConvergenceWarning)\n",
            "/usr/local/lib/python3.7/dist-packages/sklearn/neural_network/_multilayer_perceptron.py:571: ConvergenceWarning: Stochastic Optimizer: Maximum iterations (200) reached and the optimization hasn't converged yet.\n",
            "  % self.max_iter, ConvergenceWarning)\n",
            "/usr/local/lib/python3.7/dist-packages/sklearn/neural_network/_multilayer_perceptron.py:571: ConvergenceWarning: Stochastic Optimizer: Maximum iterations (200) reached and the optimization hasn't converged yet.\n",
            "  % self.max_iter, ConvergenceWarning)\n",
            "/usr/local/lib/python3.7/dist-packages/sklearn/neural_network/_multilayer_perceptron.py:571: ConvergenceWarning: Stochastic Optimizer: Maximum iterations (200) reached and the optimization hasn't converged yet.\n",
            "  % self.max_iter, ConvergenceWarning)\n",
            "/usr/local/lib/python3.7/dist-packages/sklearn/neural_network/_multilayer_perceptron.py:571: ConvergenceWarning: Stochastic Optimizer: Maximum iterations (200) reached and the optimization hasn't converged yet.\n",
            "  % self.max_iter, ConvergenceWarning)\n",
            "/usr/local/lib/python3.7/dist-packages/sklearn/neural_network/_multilayer_perceptron.py:571: ConvergenceWarning: Stochastic Optimizer: Maximum iterations (200) reached and the optimization hasn't converged yet.\n",
            "  % self.max_iter, ConvergenceWarning)\n",
            "/usr/local/lib/python3.7/dist-packages/sklearn/neural_network/_multilayer_perceptron.py:571: ConvergenceWarning: Stochastic Optimizer: Maximum iterations (200) reached and the optimization hasn't converged yet.\n",
            "  % self.max_iter, ConvergenceWarning)\n",
            "/usr/local/lib/python3.7/dist-packages/sklearn/neural_network/_multilayer_perceptron.py:571: ConvergenceWarning: Stochastic Optimizer: Maximum iterations (200) reached and the optimization hasn't converged yet.\n",
            "  % self.max_iter, ConvergenceWarning)\n",
            "/usr/local/lib/python3.7/dist-packages/sklearn/neural_network/_multilayer_perceptron.py:571: ConvergenceWarning: Stochastic Optimizer: Maximum iterations (200) reached and the optimization hasn't converged yet.\n",
            "  % self.max_iter, ConvergenceWarning)\n",
            "/usr/local/lib/python3.7/dist-packages/sklearn/neural_network/_multilayer_perceptron.py:571: ConvergenceWarning: Stochastic Optimizer: Maximum iterations (200) reached and the optimization hasn't converged yet.\n",
            "  % self.max_iter, ConvergenceWarning)\n",
            "/usr/local/lib/python3.7/dist-packages/sklearn/neural_network/_multilayer_perceptron.py:571: ConvergenceWarning: Stochastic Optimizer: Maximum iterations (200) reached and the optimization hasn't converged yet.\n",
            "  % self.max_iter, ConvergenceWarning)\n",
            "/usr/local/lib/python3.7/dist-packages/sklearn/neural_network/_multilayer_perceptron.py:571: ConvergenceWarning: Stochastic Optimizer: Maximum iterations (200) reached and the optimization hasn't converged yet.\n",
            "  % self.max_iter, ConvergenceWarning)\n",
            "/usr/local/lib/python3.7/dist-packages/sklearn/neural_network/_multilayer_perceptron.py:571: ConvergenceWarning: Stochastic Optimizer: Maximum iterations (200) reached and the optimization hasn't converged yet.\n",
            "  % self.max_iter, ConvergenceWarning)\n",
            "/usr/local/lib/python3.7/dist-packages/sklearn/neural_network/_multilayer_perceptron.py:571: ConvergenceWarning: Stochastic Optimizer: Maximum iterations (200) reached and the optimization hasn't converged yet.\n",
            "  % self.max_iter, ConvergenceWarning)\n",
            "/usr/local/lib/python3.7/dist-packages/sklearn/neural_network/_multilayer_perceptron.py:571: ConvergenceWarning: Stochastic Optimizer: Maximum iterations (200) reached and the optimization hasn't converged yet.\n",
            "  % self.max_iter, ConvergenceWarning)\n",
            "/usr/local/lib/python3.7/dist-packages/sklearn/neural_network/_multilayer_perceptron.py:571: ConvergenceWarning: Stochastic Optimizer: Maximum iterations (200) reached and the optimization hasn't converged yet.\n",
            "  % self.max_iter, ConvergenceWarning)\n",
            "/usr/local/lib/python3.7/dist-packages/sklearn/neural_network/_multilayer_perceptron.py:571: ConvergenceWarning: Stochastic Optimizer: Maximum iterations (200) reached and the optimization hasn't converged yet.\n",
            "  % self.max_iter, ConvergenceWarning)\n",
            "/usr/local/lib/python3.7/dist-packages/sklearn/neural_network/_multilayer_perceptron.py:571: ConvergenceWarning: Stochastic Optimizer: Maximum iterations (200) reached and the optimization hasn't converged yet.\n",
            "  % self.max_iter, ConvergenceWarning)\n",
            "/usr/local/lib/python3.7/dist-packages/sklearn/neural_network/_multilayer_perceptron.py:571: ConvergenceWarning: Stochastic Optimizer: Maximum iterations (200) reached and the optimization hasn't converged yet.\n",
            "  % self.max_iter, ConvergenceWarning)\n",
            "/usr/local/lib/python3.7/dist-packages/sklearn/neural_network/_multilayer_perceptron.py:571: ConvergenceWarning: Stochastic Optimizer: Maximum iterations (200) reached and the optimization hasn't converged yet.\n",
            "  % self.max_iter, ConvergenceWarning)\n",
            "/usr/local/lib/python3.7/dist-packages/sklearn/neural_network/_multilayer_perceptron.py:571: ConvergenceWarning: Stochastic Optimizer: Maximum iterations (200) reached and the optimization hasn't converged yet.\n",
            "  % self.max_iter, ConvergenceWarning)\n",
            "/usr/local/lib/python3.7/dist-packages/sklearn/neural_network/_multilayer_perceptron.py:571: ConvergenceWarning: Stochastic Optimizer: Maximum iterations (200) reached and the optimization hasn't converged yet.\n",
            "  % self.max_iter, ConvergenceWarning)\n",
            "/usr/local/lib/python3.7/dist-packages/sklearn/neural_network/_multilayer_perceptron.py:571: ConvergenceWarning: Stochastic Optimizer: Maximum iterations (200) reached and the optimization hasn't converged yet.\n",
            "  % self.max_iter, ConvergenceWarning)\n",
            "/usr/local/lib/python3.7/dist-packages/sklearn/neural_network/_multilayer_perceptron.py:571: ConvergenceWarning: Stochastic Optimizer: Maximum iterations (200) reached and the optimization hasn't converged yet.\n",
            "  % self.max_iter, ConvergenceWarning)\n",
            "/usr/local/lib/python3.7/dist-packages/sklearn/neural_network/_multilayer_perceptron.py:571: ConvergenceWarning: Stochastic Optimizer: Maximum iterations (200) reached and the optimization hasn't converged yet.\n",
            "  % self.max_iter, ConvergenceWarning)\n",
            "/usr/local/lib/python3.7/dist-packages/sklearn/neural_network/_multilayer_perceptron.py:571: ConvergenceWarning: Stochastic Optimizer: Maximum iterations (200) reached and the optimization hasn't converged yet.\n",
            "  % self.max_iter, ConvergenceWarning)\n",
            "/usr/local/lib/python3.7/dist-packages/sklearn/neural_network/_multilayer_perceptron.py:571: ConvergenceWarning: Stochastic Optimizer: Maximum iterations (200) reached and the optimization hasn't converged yet.\n",
            "  % self.max_iter, ConvergenceWarning)\n",
            "/usr/local/lib/python3.7/dist-packages/sklearn/neural_network/_multilayer_perceptron.py:571: ConvergenceWarning: Stochastic Optimizer: Maximum iterations (200) reached and the optimization hasn't converged yet.\n",
            "  % self.max_iter, ConvergenceWarning)\n",
            "/usr/local/lib/python3.7/dist-packages/sklearn/neural_network/_multilayer_perceptron.py:571: ConvergenceWarning: Stochastic Optimizer: Maximum iterations (200) reached and the optimization hasn't converged yet.\n",
            "  % self.max_iter, ConvergenceWarning)\n",
            "/usr/local/lib/python3.7/dist-packages/sklearn/neural_network/_multilayer_perceptron.py:571: ConvergenceWarning: Stochastic Optimizer: Maximum iterations (200) reached and the optimization hasn't converged yet.\n",
            "  % self.max_iter, ConvergenceWarning)\n",
            "/usr/local/lib/python3.7/dist-packages/sklearn/neural_network/_multilayer_perceptron.py:571: ConvergenceWarning: Stochastic Optimizer: Maximum iterations (200) reached and the optimization hasn't converged yet.\n",
            "  % self.max_iter, ConvergenceWarning)\n",
            "/usr/local/lib/python3.7/dist-packages/sklearn/neural_network/_multilayer_perceptron.py:571: ConvergenceWarning: Stochastic Optimizer: Maximum iterations (200) reached and the optimization hasn't converged yet.\n",
            "  % self.max_iter, ConvergenceWarning)\n",
            "/usr/local/lib/python3.7/dist-packages/sklearn/neural_network/_multilayer_perceptron.py:571: ConvergenceWarning: Stochastic Optimizer: Maximum iterations (200) reached and the optimization hasn't converged yet.\n",
            "  % self.max_iter, ConvergenceWarning)\n",
            "/usr/local/lib/python3.7/dist-packages/sklearn/neural_network/_multilayer_perceptron.py:571: ConvergenceWarning: Stochastic Optimizer: Maximum iterations (200) reached and the optimization hasn't converged yet.\n",
            "  % self.max_iter, ConvergenceWarning)\n",
            "/usr/local/lib/python3.7/dist-packages/sklearn/neural_network/_multilayer_perceptron.py:571: ConvergenceWarning: Stochastic Optimizer: Maximum iterations (200) reached and the optimization hasn't converged yet.\n",
            "  % self.max_iter, ConvergenceWarning)\n",
            "/usr/local/lib/python3.7/dist-packages/sklearn/neural_network/_multilayer_perceptron.py:571: ConvergenceWarning: Stochastic Optimizer: Maximum iterations (200) reached and the optimization hasn't converged yet.\n",
            "  % self.max_iter, ConvergenceWarning)\n",
            "/usr/local/lib/python3.7/dist-packages/sklearn/neural_network/_multilayer_perceptron.py:571: ConvergenceWarning: Stochastic Optimizer: Maximum iterations (200) reached and the optimization hasn't converged yet.\n",
            "  % self.max_iter, ConvergenceWarning)\n",
            "/usr/local/lib/python3.7/dist-packages/sklearn/neural_network/_multilayer_perceptron.py:571: ConvergenceWarning: Stochastic Optimizer: Maximum iterations (200) reached and the optimization hasn't converged yet.\n",
            "  % self.max_iter, ConvergenceWarning)\n",
            "/usr/local/lib/python3.7/dist-packages/sklearn/neural_network/_multilayer_perceptron.py:571: ConvergenceWarning: Stochastic Optimizer: Maximum iterations (200) reached and the optimization hasn't converged yet.\n",
            "  % self.max_iter, ConvergenceWarning)\n",
            "/usr/local/lib/python3.7/dist-packages/sklearn/neural_network/_multilayer_perceptron.py:571: ConvergenceWarning: Stochastic Optimizer: Maximum iterations (200) reached and the optimization hasn't converged yet.\n",
            "  % self.max_iter, ConvergenceWarning)\n",
            "/usr/local/lib/python3.7/dist-packages/sklearn/neural_network/_multilayer_perceptron.py:571: ConvergenceWarning: Stochastic Optimizer: Maximum iterations (200) reached and the optimization hasn't converged yet.\n",
            "  % self.max_iter, ConvergenceWarning)\n",
            "/usr/local/lib/python3.7/dist-packages/sklearn/neural_network/_multilayer_perceptron.py:571: ConvergenceWarning: Stochastic Optimizer: Maximum iterations (200) reached and the optimization hasn't converged yet.\n",
            "  % self.max_iter, ConvergenceWarning)\n",
            "/usr/local/lib/python3.7/dist-packages/sklearn/neural_network/_multilayer_perceptron.py:571: ConvergenceWarning: Stochastic Optimizer: Maximum iterations (200) reached and the optimization hasn't converged yet.\n",
            "  % self.max_iter, ConvergenceWarning)\n",
            "/usr/local/lib/python3.7/dist-packages/sklearn/neural_network/_multilayer_perceptron.py:571: ConvergenceWarning: Stochastic Optimizer: Maximum iterations (200) reached and the optimization hasn't converged yet.\n",
            "  % self.max_iter, ConvergenceWarning)\n",
            "/usr/local/lib/python3.7/dist-packages/sklearn/neural_network/_multilayer_perceptron.py:571: ConvergenceWarning: Stochastic Optimizer: Maximum iterations (200) reached and the optimization hasn't converged yet.\n",
            "  % self.max_iter, ConvergenceWarning)\n",
            "/usr/local/lib/python3.7/dist-packages/sklearn/neural_network/_multilayer_perceptron.py:571: ConvergenceWarning: Stochastic Optimizer: Maximum iterations (200) reached and the optimization hasn't converged yet.\n",
            "  % self.max_iter, ConvergenceWarning)\n",
            "/usr/local/lib/python3.7/dist-packages/sklearn/neural_network/_multilayer_perceptron.py:571: ConvergenceWarning: Stochastic Optimizer: Maximum iterations (200) reached and the optimization hasn't converged yet.\n",
            "  % self.max_iter, ConvergenceWarning)\n",
            "/usr/local/lib/python3.7/dist-packages/sklearn/neural_network/_multilayer_perceptron.py:571: ConvergenceWarning: Stochastic Optimizer: Maximum iterations (200) reached and the optimization hasn't converged yet.\n",
            "  % self.max_iter, ConvergenceWarning)\n",
            "/usr/local/lib/python3.7/dist-packages/sklearn/neural_network/_multilayer_perceptron.py:571: ConvergenceWarning: Stochastic Optimizer: Maximum iterations (200) reached and the optimization hasn't converged yet.\n",
            "  % self.max_iter, ConvergenceWarning)\n",
            "/usr/local/lib/python3.7/dist-packages/sklearn/neural_network/_multilayer_perceptron.py:571: ConvergenceWarning: Stochastic Optimizer: Maximum iterations (200) reached and the optimization hasn't converged yet.\n",
            "  % self.max_iter, ConvergenceWarning)\n",
            "/usr/local/lib/python3.7/dist-packages/sklearn/neural_network/_multilayer_perceptron.py:571: ConvergenceWarning: Stochastic Optimizer: Maximum iterations (200) reached and the optimization hasn't converged yet.\n",
            "  % self.max_iter, ConvergenceWarning)\n",
            "/usr/local/lib/python3.7/dist-packages/sklearn/neural_network/_multilayer_perceptron.py:571: ConvergenceWarning: Stochastic Optimizer: Maximum iterations (200) reached and the optimization hasn't converged yet.\n",
            "  % self.max_iter, ConvergenceWarning)\n",
            "/usr/local/lib/python3.7/dist-packages/sklearn/neural_network/_multilayer_perceptron.py:571: ConvergenceWarning: Stochastic Optimizer: Maximum iterations (200) reached and the optimization hasn't converged yet.\n",
            "  % self.max_iter, ConvergenceWarning)\n",
            "/usr/local/lib/python3.7/dist-packages/sklearn/neural_network/_multilayer_perceptron.py:571: ConvergenceWarning: Stochastic Optimizer: Maximum iterations (200) reached and the optimization hasn't converged yet.\n",
            "  % self.max_iter, ConvergenceWarning)\n",
            "/usr/local/lib/python3.7/dist-packages/sklearn/neural_network/_multilayer_perceptron.py:571: ConvergenceWarning: Stochastic Optimizer: Maximum iterations (200) reached and the optimization hasn't converged yet.\n",
            "  % self.max_iter, ConvergenceWarning)\n",
            "/usr/local/lib/python3.7/dist-packages/sklearn/neural_network/_multilayer_perceptron.py:571: ConvergenceWarning: Stochastic Optimizer: Maximum iterations (200) reached and the optimization hasn't converged yet.\n",
            "  % self.max_iter, ConvergenceWarning)\n",
            "/usr/local/lib/python3.7/dist-packages/sklearn/neural_network/_multilayer_perceptron.py:571: ConvergenceWarning: Stochastic Optimizer: Maximum iterations (200) reached and the optimization hasn't converged yet.\n",
            "  % self.max_iter, ConvergenceWarning)\n",
            "/usr/local/lib/python3.7/dist-packages/sklearn/neural_network/_multilayer_perceptron.py:571: ConvergenceWarning: Stochastic Optimizer: Maximum iterations (200) reached and the optimization hasn't converged yet.\n",
            "  % self.max_iter, ConvergenceWarning)\n",
            "/usr/local/lib/python3.7/dist-packages/sklearn/neural_network/_multilayer_perceptron.py:571: ConvergenceWarning: Stochastic Optimizer: Maximum iterations (200) reached and the optimization hasn't converged yet.\n",
            "  % self.max_iter, ConvergenceWarning)\n",
            "/usr/local/lib/python3.7/dist-packages/sklearn/neural_network/_multilayer_perceptron.py:571: ConvergenceWarning: Stochastic Optimizer: Maximum iterations (200) reached and the optimization hasn't converged yet.\n",
            "  % self.max_iter, ConvergenceWarning)\n",
            "/usr/local/lib/python3.7/dist-packages/sklearn/neural_network/_multilayer_perceptron.py:571: ConvergenceWarning: Stochastic Optimizer: Maximum iterations (200) reached and the optimization hasn't converged yet.\n",
            "  % self.max_iter, ConvergenceWarning)\n",
            "/usr/local/lib/python3.7/dist-packages/sklearn/neural_network/_multilayer_perceptron.py:571: ConvergenceWarning: Stochastic Optimizer: Maximum iterations (200) reached and the optimization hasn't converged yet.\n",
            "  % self.max_iter, ConvergenceWarning)\n",
            "/usr/local/lib/python3.7/dist-packages/sklearn/neural_network/_multilayer_perceptron.py:571: ConvergenceWarning: Stochastic Optimizer: Maximum iterations (200) reached and the optimization hasn't converged yet.\n",
            "  % self.max_iter, ConvergenceWarning)\n",
            "/usr/local/lib/python3.7/dist-packages/sklearn/neural_network/_multilayer_perceptron.py:571: ConvergenceWarning: Stochastic Optimizer: Maximum iterations (200) reached and the optimization hasn't converged yet.\n",
            "  % self.max_iter, ConvergenceWarning)\n",
            "/usr/local/lib/python3.7/dist-packages/sklearn/neural_network/_multilayer_perceptron.py:571: ConvergenceWarning: Stochastic Optimizer: Maximum iterations (200) reached and the optimization hasn't converged yet.\n",
            "  % self.max_iter, ConvergenceWarning)\n",
            "/usr/local/lib/python3.7/dist-packages/sklearn/neural_network/_multilayer_perceptron.py:571: ConvergenceWarning: Stochastic Optimizer: Maximum iterations (200) reached and the optimization hasn't converged yet.\n",
            "  % self.max_iter, ConvergenceWarning)\n",
            "/usr/local/lib/python3.7/dist-packages/sklearn/neural_network/_multilayer_perceptron.py:571: ConvergenceWarning: Stochastic Optimizer: Maximum iterations (200) reached and the optimization hasn't converged yet.\n",
            "  % self.max_iter, ConvergenceWarning)\n",
            "/usr/local/lib/python3.7/dist-packages/sklearn/neural_network/_multilayer_perceptron.py:571: ConvergenceWarning: Stochastic Optimizer: Maximum iterations (200) reached and the optimization hasn't converged yet.\n",
            "  % self.max_iter, ConvergenceWarning)\n",
            "/usr/local/lib/python3.7/dist-packages/sklearn/neural_network/_multilayer_perceptron.py:571: ConvergenceWarning: Stochastic Optimizer: Maximum iterations (200) reached and the optimization hasn't converged yet.\n",
            "  % self.max_iter, ConvergenceWarning)\n",
            "/usr/local/lib/python3.7/dist-packages/sklearn/neural_network/_multilayer_perceptron.py:571: ConvergenceWarning: Stochastic Optimizer: Maximum iterations (200) reached and the optimization hasn't converged yet.\n",
            "  % self.max_iter, ConvergenceWarning)\n",
            "/usr/local/lib/python3.7/dist-packages/sklearn/neural_network/_multilayer_perceptron.py:571: ConvergenceWarning: Stochastic Optimizer: Maximum iterations (200) reached and the optimization hasn't converged yet.\n",
            "  % self.max_iter, ConvergenceWarning)\n",
            "/usr/local/lib/python3.7/dist-packages/sklearn/neural_network/_multilayer_perceptron.py:571: ConvergenceWarning: Stochastic Optimizer: Maximum iterations (200) reached and the optimization hasn't converged yet.\n",
            "  % self.max_iter, ConvergenceWarning)\n",
            "/usr/local/lib/python3.7/dist-packages/sklearn/neural_network/_multilayer_perceptron.py:571: ConvergenceWarning: Stochastic Optimizer: Maximum iterations (200) reached and the optimization hasn't converged yet.\n",
            "  % self.max_iter, ConvergenceWarning)\n",
            "/usr/local/lib/python3.7/dist-packages/sklearn/neural_network/_multilayer_perceptron.py:571: ConvergenceWarning: Stochastic Optimizer: Maximum iterations (200) reached and the optimization hasn't converged yet.\n",
            "  % self.max_iter, ConvergenceWarning)\n",
            "/usr/local/lib/python3.7/dist-packages/sklearn/neural_network/_multilayer_perceptron.py:571: ConvergenceWarning: Stochastic Optimizer: Maximum iterations (200) reached and the optimization hasn't converged yet.\n",
            "  % self.max_iter, ConvergenceWarning)\n",
            "/usr/local/lib/python3.7/dist-packages/sklearn/neural_network/_multilayer_perceptron.py:571: ConvergenceWarning: Stochastic Optimizer: Maximum iterations (200) reached and the optimization hasn't converged yet.\n",
            "  % self.max_iter, ConvergenceWarning)\n",
            "/usr/local/lib/python3.7/dist-packages/sklearn/neural_network/_multilayer_perceptron.py:571: ConvergenceWarning: Stochastic Optimizer: Maximum iterations (200) reached and the optimization hasn't converged yet.\n",
            "  % self.max_iter, ConvergenceWarning)\n",
            "/usr/local/lib/python3.7/dist-packages/sklearn/neural_network/_multilayer_perceptron.py:571: ConvergenceWarning: Stochastic Optimizer: Maximum iterations (200) reached and the optimization hasn't converged yet.\n",
            "  % self.max_iter, ConvergenceWarning)\n",
            "/usr/local/lib/python3.7/dist-packages/sklearn/neural_network/_multilayer_perceptron.py:571: ConvergenceWarning: Stochastic Optimizer: Maximum iterations (200) reached and the optimization hasn't converged yet.\n",
            "  % self.max_iter, ConvergenceWarning)\n",
            "/usr/local/lib/python3.7/dist-packages/sklearn/neural_network/_multilayer_perceptron.py:571: ConvergenceWarning: Stochastic Optimizer: Maximum iterations (200) reached and the optimization hasn't converged yet.\n",
            "  % self.max_iter, ConvergenceWarning)\n",
            "/usr/local/lib/python3.7/dist-packages/sklearn/neural_network/_multilayer_perceptron.py:571: ConvergenceWarning: Stochastic Optimizer: Maximum iterations (200) reached and the optimization hasn't converged yet.\n",
            "  % self.max_iter, ConvergenceWarning)\n",
            "/usr/local/lib/python3.7/dist-packages/sklearn/neural_network/_multilayer_perceptron.py:571: ConvergenceWarning: Stochastic Optimizer: Maximum iterations (200) reached and the optimization hasn't converged yet.\n",
            "  % self.max_iter, ConvergenceWarning)\n",
            "/usr/local/lib/python3.7/dist-packages/sklearn/neural_network/_multilayer_perceptron.py:571: ConvergenceWarning: Stochastic Optimizer: Maximum iterations (200) reached and the optimization hasn't converged yet.\n",
            "  % self.max_iter, ConvergenceWarning)\n",
            "/usr/local/lib/python3.7/dist-packages/sklearn/neural_network/_multilayer_perceptron.py:571: ConvergenceWarning: Stochastic Optimizer: Maximum iterations (200) reached and the optimization hasn't converged yet.\n",
            "  % self.max_iter, ConvergenceWarning)\n",
            "/usr/local/lib/python3.7/dist-packages/sklearn/neural_network/_multilayer_perceptron.py:571: ConvergenceWarning: Stochastic Optimizer: Maximum iterations (200) reached and the optimization hasn't converged yet.\n",
            "  % self.max_iter, ConvergenceWarning)\n",
            "/usr/local/lib/python3.7/dist-packages/sklearn/neural_network/_multilayer_perceptron.py:571: ConvergenceWarning: Stochastic Optimizer: Maximum iterations (200) reached and the optimization hasn't converged yet.\n",
            "  % self.max_iter, ConvergenceWarning)\n",
            "/usr/local/lib/python3.7/dist-packages/sklearn/neural_network/_multilayer_perceptron.py:571: ConvergenceWarning: Stochastic Optimizer: Maximum iterations (200) reached and the optimization hasn't converged yet.\n",
            "  % self.max_iter, ConvergenceWarning)\n",
            "/usr/local/lib/python3.7/dist-packages/sklearn/neural_network/_multilayer_perceptron.py:571: ConvergenceWarning: Stochastic Optimizer: Maximum iterations (200) reached and the optimization hasn't converged yet.\n",
            "  % self.max_iter, ConvergenceWarning)\n",
            "/usr/local/lib/python3.7/dist-packages/sklearn/neural_network/_multilayer_perceptron.py:571: ConvergenceWarning: Stochastic Optimizer: Maximum iterations (200) reached and the optimization hasn't converged yet.\n",
            "  % self.max_iter, ConvergenceWarning)\n",
            "/usr/local/lib/python3.7/dist-packages/sklearn/neural_network/_multilayer_perceptron.py:571: ConvergenceWarning: Stochastic Optimizer: Maximum iterations (200) reached and the optimization hasn't converged yet.\n",
            "  % self.max_iter, ConvergenceWarning)\n",
            "/usr/local/lib/python3.7/dist-packages/sklearn/neural_network/_multilayer_perceptron.py:571: ConvergenceWarning: Stochastic Optimizer: Maximum iterations (200) reached and the optimization hasn't converged yet.\n",
            "  % self.max_iter, ConvergenceWarning)\n",
            "/usr/local/lib/python3.7/dist-packages/sklearn/neural_network/_multilayer_perceptron.py:571: ConvergenceWarning: Stochastic Optimizer: Maximum iterations (200) reached and the optimization hasn't converged yet.\n",
            "  % self.max_iter, ConvergenceWarning)\n",
            "/usr/local/lib/python3.7/dist-packages/sklearn/neural_network/_multilayer_perceptron.py:571: ConvergenceWarning: Stochastic Optimizer: Maximum iterations (200) reached and the optimization hasn't converged yet.\n",
            "  % self.max_iter, ConvergenceWarning)\n",
            "/usr/local/lib/python3.7/dist-packages/sklearn/neural_network/_multilayer_perceptron.py:571: ConvergenceWarning: Stochastic Optimizer: Maximum iterations (200) reached and the optimization hasn't converged yet.\n",
            "  % self.max_iter, ConvergenceWarning)\n",
            "/usr/local/lib/python3.7/dist-packages/sklearn/neural_network/_multilayer_perceptron.py:571: ConvergenceWarning: Stochastic Optimizer: Maximum iterations (200) reached and the optimization hasn't converged yet.\n",
            "  % self.max_iter, ConvergenceWarning)\n",
            "/usr/local/lib/python3.7/dist-packages/sklearn/neural_network/_multilayer_perceptron.py:571: ConvergenceWarning: Stochastic Optimizer: Maximum iterations (200) reached and the optimization hasn't converged yet.\n",
            "  % self.max_iter, ConvergenceWarning)\n",
            "/usr/local/lib/python3.7/dist-packages/sklearn/neural_network/_multilayer_perceptron.py:571: ConvergenceWarning: Stochastic Optimizer: Maximum iterations (200) reached and the optimization hasn't converged yet.\n",
            "  % self.max_iter, ConvergenceWarning)\n",
            "/usr/local/lib/python3.7/dist-packages/sklearn/neural_network/_multilayer_perceptron.py:571: ConvergenceWarning: Stochastic Optimizer: Maximum iterations (200) reached and the optimization hasn't converged yet.\n",
            "  % self.max_iter, ConvergenceWarning)\n",
            "/usr/local/lib/python3.7/dist-packages/sklearn/neural_network/_multilayer_perceptron.py:571: ConvergenceWarning: Stochastic Optimizer: Maximum iterations (200) reached and the optimization hasn't converged yet.\n",
            "  % self.max_iter, ConvergenceWarning)\n",
            "/usr/local/lib/python3.7/dist-packages/sklearn/neural_network/_multilayer_perceptron.py:571: ConvergenceWarning: Stochastic Optimizer: Maximum iterations (200) reached and the optimization hasn't converged yet.\n",
            "  % self.max_iter, ConvergenceWarning)\n",
            "/usr/local/lib/python3.7/dist-packages/sklearn/neural_network/_multilayer_perceptron.py:571: ConvergenceWarning: Stochastic Optimizer: Maximum iterations (200) reached and the optimization hasn't converged yet.\n",
            "  % self.max_iter, ConvergenceWarning)\n",
            "/usr/local/lib/python3.7/dist-packages/sklearn/neural_network/_multilayer_perceptron.py:571: ConvergenceWarning: Stochastic Optimizer: Maximum iterations (200) reached and the optimization hasn't converged yet.\n",
            "  % self.max_iter, ConvergenceWarning)\n",
            "/usr/local/lib/python3.7/dist-packages/sklearn/neural_network/_multilayer_perceptron.py:571: ConvergenceWarning: Stochastic Optimizer: Maximum iterations (200) reached and the optimization hasn't converged yet.\n",
            "  % self.max_iter, ConvergenceWarning)\n",
            "/usr/local/lib/python3.7/dist-packages/sklearn/neural_network/_multilayer_perceptron.py:571: ConvergenceWarning: Stochastic Optimizer: Maximum iterations (200) reached and the optimization hasn't converged yet.\n",
            "  % self.max_iter, ConvergenceWarning)\n",
            "/usr/local/lib/python3.7/dist-packages/sklearn/neural_network/_multilayer_perceptron.py:571: ConvergenceWarning: Stochastic Optimizer: Maximum iterations (200) reached and the optimization hasn't converged yet.\n",
            "  % self.max_iter, ConvergenceWarning)\n",
            "/usr/local/lib/python3.7/dist-packages/sklearn/neural_network/_multilayer_perceptron.py:571: ConvergenceWarning: Stochastic Optimizer: Maximum iterations (200) reached and the optimization hasn't converged yet.\n",
            "  % self.max_iter, ConvergenceWarning)\n",
            "/usr/local/lib/python3.7/dist-packages/sklearn/neural_network/_multilayer_perceptron.py:571: ConvergenceWarning: Stochastic Optimizer: Maximum iterations (200) reached and the optimization hasn't converged yet.\n",
            "  % self.max_iter, ConvergenceWarning)\n",
            "/usr/local/lib/python3.7/dist-packages/sklearn/neural_network/_multilayer_perceptron.py:571: ConvergenceWarning: Stochastic Optimizer: Maximum iterations (200) reached and the optimization hasn't converged yet.\n",
            "  % self.max_iter, ConvergenceWarning)\n",
            "/usr/local/lib/python3.7/dist-packages/sklearn/neural_network/_multilayer_perceptron.py:571: ConvergenceWarning: Stochastic Optimizer: Maximum iterations (200) reached and the optimization hasn't converged yet.\n",
            "  % self.max_iter, ConvergenceWarning)\n",
            "/usr/local/lib/python3.7/dist-packages/sklearn/neural_network/_multilayer_perceptron.py:571: ConvergenceWarning: Stochastic Optimizer: Maximum iterations (200) reached and the optimization hasn't converged yet.\n",
            "  % self.max_iter, ConvergenceWarning)\n",
            "/usr/local/lib/python3.7/dist-packages/sklearn/neural_network/_multilayer_perceptron.py:571: ConvergenceWarning: Stochastic Optimizer: Maximum iterations (200) reached and the optimization hasn't converged yet.\n",
            "  % self.max_iter, ConvergenceWarning)\n",
            "/usr/local/lib/python3.7/dist-packages/sklearn/neural_network/_multilayer_perceptron.py:571: ConvergenceWarning: Stochastic Optimizer: Maximum iterations (200) reached and the optimization hasn't converged yet.\n",
            "  % self.max_iter, ConvergenceWarning)\n",
            "/usr/local/lib/python3.7/dist-packages/sklearn/neural_network/_multilayer_perceptron.py:571: ConvergenceWarning: Stochastic Optimizer: Maximum iterations (200) reached and the optimization hasn't converged yet.\n",
            "  % self.max_iter, ConvergenceWarning)\n"
          ]
        }
      ]
    },
    {
      "cell_type": "code",
      "metadata": {
        "colab": {
          "base_uri": "https://localhost:8080/"
        },
        "id": "jk8mwhDj9cXs",
        "outputId": "9927ac06-522e-42fc-bfb8-2c48027c1f67"
      },
      "source": [
        "mean_p_10 = np.array(scores_p_10['test_prec_macro']).mean()\n",
        "std_p_10 = np.array(scores_p_10['test_prec_macro']).std()\n",
        "print(\"n = 10 Precisão média :\"+str(mean_p_10)+ \" std: \"+str(std_p_10))\n",
        "mean_p_15 = np.array(scores_p_15['test_prec_macro']).mean()\n",
        "std_p_15 = np.array(scores_p_15['test_prec_macro']).std()\n",
        "print(\"n = 15 Precisão média :\"+str(mean_p_15)+ \" std: \"+str(std_p_15))\n",
        "mean_p_20 = np.array(scores_p_20['test_prec_macro']).mean()\n",
        "std_p_20 = np.array(scores_p_20['test_prec_macro']).std()\n",
        "print(\"n = 20 Precisão média :\"+str(mean_p_20)+ \" std: \"+str(std_p_20))\n",
        "#n = 10 Precisão média :0.852618703965453 std: 0.05008061533940598\n",
        "#n = 15 Precisão média :0.8335730682286411 std: 0.06789153517380564\n",
        "#n = 20 Precisão média :0.8373666868906808 std: 0.06344416567018743"
      ],
      "execution_count": null,
      "outputs": [
        {
          "output_type": "stream",
          "name": "stdout",
          "text": [
            "n = 10 Precisão média :0.8568543307397796 std: 0.05216889018898695\n",
            "n = 15 Precisão média :0.8360385692738633 std: 0.0625089464661355\n",
            "n = 20 Precisão média :0.8498183421325836 std: 0.05456878192184235\n"
          ]
        }
      ]
    },
    {
      "cell_type": "markdown",
      "metadata": {
        "id": "V8oQrUypYM3i"
      },
      "source": [
        "### 1.2 Naive Bayes\n",
        "---"
      ]
    },
    {
      "cell_type": "markdown",
      "metadata": {
        "id": "E8Q-fruBYYNa"
      },
      "source": [
        "#### Dados originais"
      ]
    },
    {
      "cell_type": "code",
      "metadata": {
        "id": "pMGmkkjkYQvH"
      },
      "source": [
        "from sklearn.ensemble import AdaBoostClassifier\n",
        "from sklearn.datasets import make_classification\n",
        "from sklearn.naive_bayes import GaussianNB\n",
        "import numpy as np\n",
        "\n",
        "\n",
        "X = dados_originais.drop(columns=['output'])\n",
        "y = dados_originais.output\n",
        "nbBoost_10 = AdaBoostClassifier(base_estimator = GaussianNB(),n_estimators=10, random_state=7,algorithm='SAMME')\n",
        "nbBoost_15 = AdaBoostClassifier(base_estimator = GaussianNB(),n_estimators=15, random_state=7,algorithm='SAMME')\n",
        "nbBoost_20 = AdaBoostClassifier(base_estimator = GaussianNB(),n_estimators=20, random_state=7,algorithm='SAMME')"
      ],
      "execution_count": null,
      "outputs": []
    },
    {
      "cell_type": "code",
      "metadata": {
        "id": "96QXFXjIZBrH"
      },
      "source": [
        "from sklearn.model_selection import cross_validate\n",
        "from sklearn.metrics import recall_score\n",
        "from sklearn.metrics import make_scorer\n",
        "from sklearn.metrics import precision_score\n",
        "import math\n",
        "#scoring = ['precision_macro', 'recall_macro']\n",
        "scoring = {'prec_macro': 'precision_macro',\n",
        "            'rec_macro': make_scorer(recall_score, average='macro')}\n",
        "scores_10 = cross_validate(estimator=nbBoost_10, X= X, y= y, scoring=scoring,cv=10, return_train_score=True)\n",
        "scores_15 = cross_validate(estimator=nbBoost_15, X= X, y= y, scoring=scoring,cv=10, return_train_score=True)\n",
        "scores_20 = cross_validate(estimator=nbBoost_20, X= X, y= y, scoring=scoring,cv=10, return_train_score=True)"
      ],
      "execution_count": null,
      "outputs": []
    },
    {
      "cell_type": "code",
      "metadata": {
        "colab": {
          "base_uri": "https://localhost:8080/"
        },
        "id": "1Z5NlaFWZVnd",
        "outputId": "9ef6b051-48bc-41c2-b206-5d1f6dc51b62"
      },
      "source": [
        "mean_10 = np.array(scores_10['test_prec_macro']).mean()\n",
        "std_10 = np.array(scores_10['test_prec_macro']).std()\n",
        "print(\"n = 10 Precisão média :\"+str(mean_10)+ \" std: \"+str(std_10))\n",
        "mean_15 = np.array(scores_15['test_prec_macro']).mean()\n",
        "std_15 = np.array(scores_15['test_prec_macro']).std()\n",
        "print(\"n = 15 Precisão média :\"+str(mean_15)+ \" std: \"+str(std_15))\n",
        "mean_20 = np.array(scores_20['test_prec_macro']).mean()\n",
        "std_20 = np.array(scores_20['test_prec_macro']).std()\n",
        "print(\"n = 20 Precisão média :\"+str(mean_20)+ \" std: \"+str(std_20))"
      ],
      "execution_count": null,
      "outputs": [
        {
          "output_type": "stream",
          "name": "stdout",
          "text": [
            "n = 10 Precisão média :0.8293866872291795 std: 0.07032541790351075\n",
            "n = 15 Precisão média :0.839855330428086 std: 0.07196711973407324\n",
            "n = 20 Precisão média :0.839855330428086 std: 0.07196711973407324\n"
          ]
        }
      ]
    },
    {
      "cell_type": "markdown",
      "metadata": {
        "id": "oXj6i8-NZfrw"
      },
      "source": [
        "#### Dados processados "
      ]
    },
    {
      "cell_type": "code",
      "metadata": {
        "id": "HA1Uq09dZmIe"
      },
      "source": [
        "X_p = dados_preProcessado.drop(columns=['output'])\n",
        "y_p = dados_preProcessado.output\n",
        "nbBoost_p_10 = AdaBoostClassifier(base_estimator = GaussianNB(),n_estimators=10, random_state=7,algorithm='SAMME')\n",
        "nbBoost_p_15 = AdaBoostClassifier(base_estimator = GaussianNB(),n_estimators=15, random_state=7,algorithm='SAMME')\n",
        "nbBoost_p_20 = AdaBoostClassifier(base_estimator = GaussianNB(),n_estimators=20, random_state=7,algorithm='SAMME')"
      ],
      "execution_count": null,
      "outputs": []
    },
    {
      "cell_type": "code",
      "metadata": {
        "id": "Pf4zZwARZ2UA"
      },
      "source": [
        "scoring = {'prec_macro': 'precision_macro',\n",
        "            'rec_macro': make_scorer(recall_score, average='macro')}\n",
        "scores_p_10 = cross_validate(estimator=nbBoost_p_10, X= X_p, y= y_p, scoring=scoring,cv=10, return_train_score=True)\n",
        "scores_p_15 = cross_validate(estimator=nbBoost_p_15, X= X_p, y= y_p, scoring=scoring,cv=10, return_train_score=True)\n",
        "scores_p_20 = cross_validate(estimator=nbBoost_p_20, X= X_p, y= y_p, scoring=scoring,cv=10, return_train_score=True)"
      ],
      "execution_count": null,
      "outputs": []
    },
    {
      "cell_type": "code",
      "metadata": {
        "colab": {
          "base_uri": "https://localhost:8080/"
        },
        "id": "yDeB3h9yaCl9",
        "outputId": "2a79bdd1-a8ac-4d60-f36b-7d22345dec25"
      },
      "source": [
        "mean_p_10 = np.array(scores_p_10['test_prec_macro']).mean()\n",
        "std_p_10 = np.array(scores_p_10['test_prec_macro']).std()\n",
        "print(\"n = 10 Precisão média :\"+str(mean_p_10)+ \" std: \"+str(std_p_10))\n",
        "mean_p_15 = np.array(scores_p_15['test_prec_macro']).mean()\n",
        "std_p_15 = np.array(scores_p_15['test_prec_macro']).std()\n",
        "print(\"n = 15 Precisão média :\"+str(mean_p_15)+ \" std: \"+str(std_p_15))\n",
        "mean_p_20 = np.array(scores_p_20['test_prec_macro']).mean()\n",
        "std_p_20 = np.array(scores_p_20['test_prec_macro']).std()\n",
        "print(\"n = 20 Precisão média :\"+str(mean_p_20)+ \" std: \"+str(std_p_20))"
      ],
      "execution_count": null,
      "outputs": [
        {
          "output_type": "stream",
          "name": "stdout",
          "text": [
            "n = 10 Precisão média :0.8040560408859474 std: 0.09210672977281531\n",
            "n = 15 Precisão média :0.8040560408859474 std: 0.09210672977281531\n",
            "n = 20 Precisão média :0.8040560408859474 std: 0.09210672977281531\n"
          ]
        }
      ]
    },
    {
      "cell_type": "markdown",
      "metadata": {
        "id": "lJ4lf-jpLapK"
      },
      "source": [
        "### 1.3 Decision Tree\n",
        "---"
      ]
    },
    {
      "cell_type": "markdown",
      "metadata": {
        "id": "g395vtGiLqmu"
      },
      "source": [
        "#### Dados originais"
      ]
    },
    {
      "cell_type": "code",
      "metadata": {
        "id": "4Ltk985cMAuk"
      },
      "source": [
        "from sklearn.ensemble import AdaBoostClassifier\n",
        "from sklearn.tree import DecisionTreeClassifier\n",
        "from sklearn.datasets import load_breast_cancer\n",
        "import pandas as pd\n",
        "import numpy as np\n",
        "from sklearn.model_selection import train_test_split\n",
        "from sklearn.metrics import confusion_matrix\n",
        "from sklearn.preprocessing import LabelEncoder"
      ],
      "execution_count": null,
      "outputs": []
    },
    {
      "cell_type": "code",
      "metadata": {
        "colab": {
          "base_uri": "https://localhost:8080/"
        },
        "id": "FQBa_s0jLqFH",
        "outputId": "404b3bd4-93cc-4649-9604-610ec28501f9"
      },
      "source": [
        "X = dados_originais.drop(columns=['output'])\n",
        "y = dados_originais.output\n",
        "\n",
        "encoder = LabelEncoder()\n",
        "binary_encoded_y = pd.Series(encoder.fit_transform(y))\n",
        "\n",
        "train_X, test_X, train_y, test_y = train_test_split(X, binary_encoded_y, random_state=1)\n",
        "\n",
        "classifier10 = AdaBoostClassifier(DecisionTreeClassifier(max_depth=5),n_estimators=200)\n",
        "classifier15 = AdaBoostClassifier(DecisionTreeClassifier(max_depth=5),n_estimators=200)\n",
        "classifier20 = AdaBoostClassifier(DecisionTreeClassifier(max_depth=5),n_estimators=200)\n",
        "\n",
        "classifier10.fit(train_X, train_y)\n",
        "classifier15.fit(train_X, train_y)\n",
        "classifier20.fit(train_X, train_y)\n",
        "\n",
        "predictions10 = classifier10.predict(test_X)\n",
        "predictions15 = classifier15.predict(test_X)\n",
        "predictions20 = classifier15.predict(test_X)\n",
        "\n",
        "\n",
        "#scoring = ['precision_macro', 'recall_macro']\n",
        "scoring = {'prec_macro': 'precision_macro',\n",
        "            'rec_macro': make_scorer(recall_score, average='macro')}\n",
        "\n",
        "scores_10 = cross_validate(estimator=classifier10, X= X, y= y, scoring=scoring,cv=10, return_train_score=True)\n",
        "mean_10 = np.array(scores_10['test_prec_macro']).mean()\n",
        "std_10 = np.array(scores_10['test_prec_macro']).std()\n",
        "print(\"n = 10 Precisão média :\"+str(mean_10)+ \" std: \"+str(std_10))\n",
        "\n",
        "scores_15 = cross_validate(estimator=classifier15, X= X, y= y, scoring=scoring,cv=10, return_train_score=True)\n",
        "mean_15 = np.array(scores_15['test_prec_macro']).mean()\n",
        "std_15 = np.array(scores_15['test_prec_macro']).std()\n",
        "print(\"n = 15 Precisão média :\"+str(mean_15)+ \" std: \"+str(std_15))\n",
        "\n",
        "scores_20 = cross_validate(estimator=classifier20, X= X, y= y, scoring=scoring,cv=10, return_train_score=True)\n",
        "mean_20 = np.array(scores_20['test_prec_macro']).mean()\n",
        "std_20 = np.array(scores_20['test_prec_macro']).std()\n",
        "print(\"n = 20 Precisão média :\"+str(mean_20)+ \" std: \"+str(std_20))"
      ],
      "execution_count": null,
      "outputs": [
        {
          "output_type": "stream",
          "name": "stdout",
          "text": [
            "n = 10 Precisão média :0.7917801412983303 std: 0.07335578761678611\n",
            "n = 15 Precisão média :0.7850042063199958 std: 0.11122956549250076\n",
            "n = 20 Precisão média :0.7689203065596255 std: 0.10340609908665149\n"
          ]
        }
      ]
    },
    {
      "cell_type": "markdown",
      "metadata": {
        "id": "9Nxy1pPgMY2g"
      },
      "source": [
        "#### Dados processados "
      ]
    },
    {
      "cell_type": "code",
      "metadata": {
        "colab": {
          "base_uri": "https://localhost:8080/"
        },
        "id": "hb8aW4-cMdde",
        "outputId": "1c3d3c6b-c91c-45bc-94f3-7a469763bc97"
      },
      "source": [
        "X_p = dados_preProcessado.drop(columns=['output'])\n",
        "y_p = dados_preProcessado.output\n",
        "\n",
        "encoder = LabelEncoder()\n",
        "binary_encoded_y = pd.Series(encoder.fit_transform(y_p))\n",
        "\n",
        "train_X_p, test_X_p, train_y_p, test_y_p = train_test_split(X_p, binary_encoded_y, random_state=1)\n",
        "\n",
        "classifier10 = AdaBoostClassifier(DecisionTreeClassifier(max_depth=5),n_estimators=200)\n",
        "classifier15 = AdaBoostClassifier(DecisionTreeClassifier(max_depth=5),n_estimators=200)\n",
        "classifier20 = AdaBoostClassifier(DecisionTreeClassifier(max_depth=5),n_estimators=200)\n",
        "\n",
        "classifier10.fit(train_X_p, train_y_p)\n",
        "classifier15.fit(train_X_p, train_y_p)\n",
        "classifier20.fit(train_X_p, train_y_p)\n",
        "\n",
        "predictions10 = classifier10.predict(test_X_p)\n",
        "predictions15 = classifier15.predict(test_X_p)\n",
        "predictions20 = classifier15.predict(test_X_p)\n",
        "\n",
        "#scoring = ['precision_macro', 'recall_macro']\n",
        "scoring = {'prec_macro': 'precision_macro',\n",
        "            'rec_macro': make_scorer(recall_score, average='macro')}\n",
        "\n",
        "scores_10 = cross_validate(estimator=classifier10, X= X_p, y= y_p, scoring=scoring,cv=10, return_train_score=True)\n",
        "mean_10 = np.array(scores_10['test_prec_macro']).mean()\n",
        "std_10 = np.array(scores_10['test_prec_macro']).std()\n",
        "print(\"n = 10 Precisão média :\"+str(mean_10)+ \" std: \"+str(std_10))\n",
        "\n",
        "scores_15 = cross_validate(estimator=classifier15, X= X_p, y= y_p, scoring=scoring,cv=10, return_train_score=True)\n",
        "mean_15 = np.array(scores_15['test_prec_macro']).mean()\n",
        "std_15 = np.array(scores_15['test_prec_macro']).std()\n",
        "print(\"n = 15 Precisão média :\"+str(mean_15)+ \" std: \"+str(std_15))\n",
        "\n",
        "scores_20 = cross_validate(estimator=classifier20, X= X_p, y= y_p, scoring=scoring,cv=10, return_train_score=True)\n",
        "mean_20 = np.array(scores_20['test_prec_macro']).mean()\n",
        "std_20 = np.array(scores_20['test_prec_macro']).std()\n",
        "print(\"n = 20 Precisão média :\"+str(mean_20)+ \" std: \"+str(std_20))"
      ],
      "execution_count": null,
      "outputs": [
        {
          "output_type": "stream",
          "name": "stdout",
          "text": [
            "n = 10 Precisão média :0.8106562305943111 std: 0.08703611819224577\n",
            "n = 15 Precisão média :0.7908023312686626 std: 0.08528118554121152\n",
            "n = 20 Precisão média :0.8038512263879911 std: 0.08725376319625677\n"
          ]
        }
      ]
    },
    {
      "cell_type": "markdown",
      "metadata": {
        "id": "gFNty5KoMphx"
      },
      "source": [
        "### 1.4 k-NN"
      ]
    },
    {
      "cell_type": "markdown",
      "metadata": {
        "id": "9K7eZvdbMwqr"
      },
      "source": [
        "#### Dados originais"
      ]
    },
    {
      "cell_type": "code",
      "metadata": {
        "id": "OkJ8nY0vMtZs"
      },
      "source": [
        "import pandas as pd\n",
        "import numpy as np\n",
        "from sklearn.neighbors import KNeighborsClassifier\n",
        "from sklearn.preprocessing import StandardScaler\n",
        "from sklearn.preprocessing import MinMaxScaler\n",
        "from sklearn.preprocessing import RobustScaler\n",
        "from sklearn.metrics import accuracy_score\n",
        "from sklearn.model_selection import train_test_split\n",
        "from sklearn.metrics import roc_auc_score\n",
        "from sklearn.model_selection import GridSearchCV\n",
        "import warnings\n",
        "warnings.filterwarnings('ignore')"
      ],
      "execution_count": null,
      "outputs": []
    },
    {
      "cell_type": "code",
      "metadata": {
        "colab": {
          "base_uri": "https://localhost:8080/"
        },
        "id": "0IDmXqsWM02i",
        "outputId": "b577d4a8-7139-40ad-f610-c0b11514c6fa"
      },
      "source": [
        "x = dados_originais.drop(columns=['output'])\n",
        "y = dados_originais.output\n",
        "\n",
        "\n",
        "X_train, X_test, y_train, y_test = train_test_split(x, y, test_size = 0.2, random_state = 0)\n",
        "    \n",
        "model = KNeighborsClassifier(n_neighbors = 2)\n",
        "model.fit(X_train, y_train)\n",
        "\n",
        "predictions10 = model.predict(X_test)\n",
        "predictions15 = model.predict(X_test)\n",
        "predictions20 = model.predict(X_test)\n",
        "\n",
        "#scoring = ['precision_macro', 'recall_macro']\n",
        "scoring = {'prec_macro': 'precision_macro',\n",
        "            'rec_macro': make_scorer(recall_score, average='macro')}\n",
        "\n",
        "scores_10 = cross_validate(estimator=classifier10, X= x, y= y, scoring=scoring,cv=10, return_train_score=True)\n",
        "mean_10 = np.array(scores_10['test_prec_macro']).mean()\n",
        "std_10 = np.array(scores_10['test_prec_macro']).std()\n",
        "print(\"n = 10 Precisão média :\"+str(mean_10)+ \" std: \"+str(std_10))\n",
        "\n",
        "scores_15 = cross_validate(estimator=classifier15, X= X, y= y, scoring=scoring,cv=10, return_train_score=True)\n",
        "mean_15 = np.array(scores_15['test_prec_macro']).mean()\n",
        "std_15 = np.array(scores_15['test_prec_macro']).std()\n",
        "print(\"n = 15 Precisão média :\"+str(mean_15)+ \" std: \"+str(std_15))\n",
        "\n",
        "scores_20 = cross_validate(estimator=classifier20, X= X, y= y, scoring=scoring,cv=10, return_train_score=True)\n",
        "mean_20 = np.array(scores_20['test_prec_macro']).mean()\n",
        "std_20 = np.array(scores_20['test_prec_macro']).std()\n",
        "print(\"n = 20 Precisão média :\"+str(mean_20)+ \" std: \"+str(std_20))"
      ],
      "execution_count": null,
      "outputs": [
        {
          "output_type": "stream",
          "name": "stdout",
          "text": [
            "n = 10 Precisão média :0.7999953956861853 std: 0.07228830569260022\n",
            "n = 15 Precisão média :0.8088064966509239 std: 0.08066862623301459\n",
            "n = 20 Precisão média :0.7822477494555667 std: 0.0787515050491408\n"
          ]
        }
      ]
    },
    {
      "cell_type": "markdown",
      "metadata": {
        "id": "bTrv12wRM9WT"
      },
      "source": [
        "#### Dados processados "
      ]
    },
    {
      "cell_type": "code",
      "metadata": {
        "colab": {
          "base_uri": "https://localhost:8080/"
        },
        "id": "onDuwmxEM-EQ",
        "outputId": "ba77da19-4d27-4336-b606-c7e7aa57f15d"
      },
      "source": [
        "x_p = dados_preProcessado.drop(columns=['output'])\n",
        "y_p = dados_preProcessado.output\n",
        "\n",
        "X_train_p, X_test_p, y_train_p, y_test_p = train_test_split(x_p, y_p, test_size = 0.2, random_state = 0)\n",
        "    \n",
        "model = KNeighborsClassifier(n_neighbors = 2)\n",
        "model.fit(X_train_p, y_train_p)\n",
        "\n",
        "predictions10 = model.predict(X_test_p)\n",
        "predictions15 = model.predict(X_test_p)\n",
        "predictions20 = model.predict(X_test_p)\n",
        "\n",
        "confusion_matrix(y_test_p, predictions10)\n",
        "confusion_matrix(y_test_p, predictions15)\n",
        "\n",
        "#scoring = ['precision_macro', 'recall_macro']\n",
        "scoring = {'prec_macro': 'precision_macro',\n",
        "            'rec_macro': make_scorer(recall_score, average='macro')}\n",
        "\n",
        "scores_10 = cross_validate(estimator=classifier10, X= x_p, y= y_p, scoring=scoring,cv=10, return_train_score=True)\n",
        "mean_10 = np.array(scores_10['test_prec_macro']).mean()\n",
        "std_10 = np.array(scores_10['test_prec_macro']).std()\n",
        "print(\"n = 10 Precisão média :\"+str(mean_10)+ \" std: \"+str(std_10))\n",
        "\n",
        "scores_15 = cross_validate(estimator=classifier15, X= x_p, y= y_p, scoring=scoring,cv=10, return_train_score=True)\n",
        "mean_15 = np.array(scores_15['test_prec_macro']).mean()\n",
        "std_15 = np.array(scores_15['test_prec_macro']).std()\n",
        "print(\"n = 15 Precisão média :\"+str(mean_15)+ \" std: \"+str(std_15))\n",
        "\n",
        "scores_20 = cross_validate(estimator=classifier20, X= x_p, y= y_p, scoring=scoring,cv=10, return_train_score=True)\n",
        "mean_20 = np.array(scores_20['test_prec_macro']).mean()\n",
        "std_20 = np.array(scores_20['test_prec_macro']).std()\n",
        "print(\"n = 20 Precisão média :\"+str(mean_20)+ \" std: \"+str(std_20))"
      ],
      "execution_count": null,
      "outputs": [
        {
          "output_type": "stream",
          "name": "stdout",
          "text": [
            "n = 10 Precisão média :0.7889824840192488 std: 0.09855290171487256\n",
            "n = 15 Precisão média :0.7936810274348974 std: 0.0674142294666792\n",
            "n = 20 Precisão média :0.7895501385439466 std: 0.08130397950576385\n"
          ]
        }
      ]
    },
    {
      "cell_type": "markdown",
      "metadata": {
        "id": "FeKXC_CSAWkH"
      },
      "source": [
        "## 2. Bagging\n",
        "---"
      ]
    },
    {
      "cell_type": "markdown",
      "metadata": {
        "id": "Aq85DTrUAbTs"
      },
      "source": [
        "### 2.1 MLP "
      ]
    },
    {
      "cell_type": "markdown",
      "metadata": {
        "id": "nVZ_57PRAeu_"
      },
      "source": [
        "#### Dados originais"
      ]
    },
    {
      "cell_type": "code",
      "metadata": {
        "id": "oKF6tjD_Aic7"
      },
      "source": [
        "from sklearn.ensemble import BaggingClassifier\n",
        "from sklearn.datasets import make_classification\n",
        "from sklearn.neural_network import MLPClassifier\n",
        "import numpy as np\n",
        "\n",
        "\n",
        "X = dados_originais.drop(columns=['output'])\n",
        "y = dados_originais.output\n",
        "mlpBag_10 = BaggingClassifier(base_estimator = customMLPClassifer(),n_estimators=10, random_state=7)\n",
        "mlpBag_15 = BaggingClassifier(base_estimator = customMLPClassifer(),n_estimators=10, random_state=7)\n",
        "mlpBag_20 = BaggingClassifier(base_estimator = customMLPClassifer(),n_estimators=10, random_state=7)\n"
      ],
      "execution_count": null,
      "outputs": []
    },
    {
      "cell_type": "code",
      "metadata": {
        "id": "YoSB0RmjCpk7"
      },
      "source": [
        "from sklearn.model_selection import cross_validate\n",
        "from sklearn.metrics import recall_score\n",
        "from sklearn.metrics import make_scorer\n",
        "from sklearn.metrics import precision_score\n",
        "import math\n",
        "#scoring = ['precision_macro', 'recall_macro']\n",
        "scoring = {'prec_macro': 'precision_macro',\n",
        "            'rec_macro': make_scorer(recall_score, average='macro')}\n",
        "scores_10 = cross_validate(estimator=mlpBag_10, X= X, y= y, scoring=scoring,cv=10, return_train_score=True)\n",
        "scores_15 = cross_validate(estimator=mlpBag_15, X= X, y= y, scoring=scoring,cv=10, return_train_score=True)\n",
        "scores_20 = cross_validate(estimator=mlpBag_20, X= X, y= y, scoring=scoring,cv=10, return_train_score=True)"
      ],
      "execution_count": null,
      "outputs": []
    },
    {
      "cell_type": "code",
      "metadata": {
        "colab": {
          "base_uri": "https://localhost:8080/"
        },
        "id": "ZGlXN3cGEwNX",
        "outputId": "16e155ec-3d2f-4b6a-e6f9-84a03955f57d"
      },
      "source": [
        "mean_10 = np.array(scores_10['test_prec_macro']).mean()\n",
        "std_10 = np.array(scores_10['test_prec_macro']).std()\n",
        "print(\"n = 10 Precisão média :\"+str(mean_10)+ \" std: \"+str(std_10))\n",
        "mean_15 = np.array(scores_15['test_prec_macro']).mean()\n",
        "std_15 = np.array(scores_15['test_prec_macro']).std()\n",
        "print(\"n = 15 Precisão média :\"+str(mean_15)+ \" std: \"+str(std_15))\n",
        "mean_20 = np.array(scores_20['test_prec_macro']).mean()\n",
        "std_20 = np.array(scores_20['test_prec_macro']).std()\n",
        "print(\"n = 20 Precisão média :\"+str(mean_20)+ \" std: \"+str(std_20))"
      ],
      "execution_count": null,
      "outputs": [
        {
          "output_type": "stream",
          "name": "stdout",
          "text": [
            "n = 10 Precisão média :0.8259220640470641 std: 0.08074254261192916\n",
            "n = 15 Precisão média :0.8416399123752065 std: 0.07116039243816275\n",
            "n = 20 Precisão média :0.8321176127793775 std: 0.06728938895398007\n"
          ]
        }
      ]
    },
    {
      "cell_type": "markdown",
      "metadata": {
        "id": "Dh2oTjlkIjPq"
      },
      "source": [
        "#### Dados PreProcessados"
      ]
    },
    {
      "cell_type": "code",
      "metadata": {
        "id": "qvPalwoKIsAo"
      },
      "source": [
        "X_p = dados_preProcessado.drop(columns=['output'])\n",
        "y_p = dados_preProcessado.output\n",
        "mlpBag_p_10 = BaggingClassifier(base_estimator = customMLPClassifer(alpha=0.0001,learning_rate='constant',activation='identity', hidden_layer_sizes=(21,), solver='sgd'),n_estimators=10, random_state=7)\n",
        "mlpBag_p_15 = BaggingClassifier(base_estimator = customMLPClassifer(alpha=0.0001,learning_rate='constant',activation='identity', hidden_layer_sizes=(21,), solver='sgd'),n_estimators=15, random_state=7)\n",
        "mlpBag_p_20 = BaggingClassifier(base_estimator = customMLPClassifer(alpha=0.0001,learning_rate='constant',activation='identity', hidden_layer_sizes=(21,), solver='sgd'),n_estimators=20, random_state=7)"
      ],
      "execution_count": null,
      "outputs": []
    },
    {
      "cell_type": "code",
      "metadata": {
        "id": "2jEE9nlvJC29"
      },
      "source": [
        "scoring = {'prec_macro': 'precision_macro',\n",
        "            'rec_macro': make_scorer(recall_score, average='macro')}\n",
        "scores_p_10 = cross_validate(estimator=mlpBag_p_10, X= X_p, y= y_p, scoring=scoring,cv=10, return_train_score=True)\n",
        "scores_p_15 = cross_validate(estimator=mlpBag_p_15, X= X_p, y= y_p, scoring=scoring,cv=10, return_train_score=True)\n",
        "scores_p_20 = cross_validate(estimator=mlpBag_p_20, X= X_p, y= y_p, scoring=scoring,cv=10, return_train_score=True)"
      ],
      "execution_count": null,
      "outputs": []
    },
    {
      "cell_type": "code",
      "metadata": {
        "colab": {
          "base_uri": "https://localhost:8080/"
        },
        "id": "ljITMC1hJWE4",
        "outputId": "98c2a56f-8445-4e7f-cfa0-171b11267fa5"
      },
      "source": [
        "mean_p_10 = np.array(scores_p_10['test_prec_macro']).mean()\n",
        "std_p_10 = np.array(scores_p_10['test_prec_macro']).std()\n",
        "print(\"n = 10 Precisão média :\"+str(mean_p_10)+ \" std: \"+str(std_p_10))\n",
        "mean_p_15 = np.array(scores_p_15['test_prec_macro']).mean()\n",
        "std_p_15 = np.array(scores_p_15['test_prec_macro']).std()\n",
        "print(\"n = 15 Precisão média :\"+str(mean_p_15)+ \" std: \"+str(std_p_15))\n",
        "mean_p_20 = np.array(scores_p_20['test_prec_macro']).mean()\n",
        "std_p_20 = np.array(scores_p_20['test_prec_macro']).std()\n",
        "print(\"n = 20 Precisão média :\"+str(mean_p_20)+ \" std: \"+str(std_p_20))"
      ],
      "execution_count": null,
      "outputs": [
        {
          "output_type": "stream",
          "name": "stdout",
          "text": [
            "n = 10 Precisão média :0.8524393694111186 std: 0.05964772676701073\n",
            "n = 15 Precisão média :0.8437595782700271 std: 0.049509367139697884\n",
            "n = 20 Precisão média :0.8473258301296227 std: 0.06359328285413736\n"
          ]
        }
      ]
    },
    {
      "cell_type": "markdown",
      "metadata": {
        "id": "VoEi7rbOJvw-"
      },
      "source": [
        "### 2.2 Naive Bayes"
      ]
    },
    {
      "cell_type": "markdown",
      "metadata": {
        "id": "HT-W9XNgKFpA"
      },
      "source": [
        "#### Dados originais"
      ]
    },
    {
      "cell_type": "code",
      "metadata": {
        "id": "aeaAHiTyKgIX"
      },
      "source": [
        "from sklearn.ensemble import BaggingClassifier\n",
        "from sklearn.datasets import make_classification\n",
        "from sklearn.naive_bayes import GaussianNB\n",
        "import numpy as np\n",
        "\n",
        "\n",
        "X = dados_originais.drop(columns=['output'])\n",
        "y = dados_originais.output\n",
        "nbBag_10 = BaggingClassifier(base_estimator = GaussianNB(),n_estimators=10, random_state=7)\n",
        "nbBag_15 = BaggingClassifier(base_estimator = GaussianNB(),n_estimators=15, random_state=7)\n",
        "nbBag_20 = BaggingClassifier(base_estimator = GaussianNB(),n_estimators=20, random_state=7)"
      ],
      "execution_count": null,
      "outputs": []
    },
    {
      "cell_type": "code",
      "metadata": {
        "id": "xvGRMeUNLMNw"
      },
      "source": [
        "scoring = {'prec_macro': 'precision_macro',\n",
        "            'rec_macro': make_scorer(recall_score, average='macro')}\n",
        "scores_10 = cross_validate(estimator=nbBag_10, X= X, y= y, scoring=scoring,cv=10, return_train_score=True)\n",
        "scores_15 = cross_validate(estimator=nbBag_15, X= X, y= y, scoring=scoring,cv=10, return_train_score=True)\n",
        "scores_20 = cross_validate(estimator=nbBag_20, X= X, y= y, scoring=scoring,cv=10, return_train_score=True)"
      ],
      "execution_count": null,
      "outputs": []
    },
    {
      "cell_type": "code",
      "metadata": {
        "colab": {
          "base_uri": "https://localhost:8080/"
        },
        "id": "KNA1QK9JLGnc",
        "outputId": "5b26417d-4c94-4772-c105-7109021edae9"
      },
      "source": [
        "mean_10 = np.array(scores_10['test_prec_macro']).mean()\n",
        "std_10 = np.array(scores_10['test_prec_macro']).std()\n",
        "print(\"n = 10 Precisão média :\"+str(mean_10)+ \" std: \"+str(std_10))\n",
        "mean_15 = np.array(scores_15['test_prec_macro']).mean()\n",
        "std_15 = np.array(scores_15['test_prec_macro']).std()\n",
        "print(\"n = 15 Precisão média :\"+str(mean_15)+ \" std: \"+str(std_15))\n",
        "mean_20 = np.array(scores_20['test_prec_macro']).mean()\n",
        "std_20 = np.array(scores_20['test_prec_macro']).std()\n",
        "print(\"n = 20 Precisão média :\"+str(mean_20)+ \" std: \"+str(std_20))"
      ],
      "execution_count": null,
      "outputs": [
        {
          "output_type": "stream",
          "name": "stdout",
          "text": [
            "n = 10 Precisão média :0.8314622484069079 std: 0.059105151157382955\n",
            "n = 15 Precisão média :0.8184218206973626 std: 0.05917025228746715\n",
            "n = 20 Precisão média :0.8092972099280148 std: 0.05056133001621758\n"
          ]
        }
      ]
    },
    {
      "cell_type": "markdown",
      "metadata": {
        "id": "_75yEalyMCCJ"
      },
      "source": [
        "#### Dados PreProcessados"
      ]
    },
    {
      "cell_type": "code",
      "metadata": {
        "id": "_kljD5ahMBlT"
      },
      "source": [
        "X_p = dados_preProcessado.drop(columns=['output'])\n",
        "y_p = dados_preProcessado.output\n",
        "nbBag_p_10 = BaggingClassifier(base_estimator = GaussianNB(),n_estimators=10, random_state=7)\n",
        "nbBag_p_15 = BaggingClassifier(base_estimator = GaussianNB(),n_estimators=15, random_state=7)\n",
        "nbBag_p_20 = BaggingClassifier(base_estimator = GaussianNB(),n_estimators=20, random_state=7)"
      ],
      "execution_count": null,
      "outputs": []
    },
    {
      "cell_type": "code",
      "metadata": {
        "id": "TLd45oYCMpGg"
      },
      "source": [
        "scoring = {'prec_macro': 'precision_macro',\n",
        "            'rec_macro': make_scorer(recall_score, average='macro')}\n",
        "scores_p_10 = cross_validate(estimator=nbBag_p_10, X= X_p, y= y_p, scoring=scoring,cv=10, return_train_score=True)\n",
        "scores_p_15 = cross_validate(estimator=nbBag_p_15, X= X_p, y= y_p, scoring=scoring,cv=10, return_train_score=True)\n",
        "scores_p_20 = cross_validate(estimator=nbBag_p_20, X= X_p, y= y_p, scoring=scoring,cv=10, return_train_score=True)"
      ],
      "execution_count": null,
      "outputs": []
    },
    {
      "cell_type": "code",
      "metadata": {
        "colab": {
          "base_uri": "https://localhost:8080/"
        },
        "id": "ZLKXBemmMzfX",
        "outputId": "80d51efa-2252-4316-b611-0f780f05898d"
      },
      "source": [
        "mean_p_10 = np.array(scores_p_10['test_prec_macro']).mean()\n",
        "std_p_10 = np.array(scores_p_10['test_prec_macro']).std()\n",
        "print(\"n = 10 Precisão média :\"+str(mean_p_10)+ \" std: \"+str(std_p_10))\n",
        "mean_p_15 = np.array(scores_p_15['test_prec_macro']).mean()\n",
        "std_p_15 = np.array(scores_p_15['test_prec_macro']).std()\n",
        "print(\"n = 15 Precisão média :\"+str(mean_p_15)+ \" std: \"+str(std_p_15))\n",
        "mean_p_20 = np.array(scores_p_20['test_prec_macro']).mean()\n",
        "std_p_20 = np.array(scores_p_20['test_prec_macro']).std()\n",
        "print(\"n = 20 Precisão média :\"+str(mean_p_20)+ \" std: \"+str(std_p_20))"
      ],
      "execution_count": null,
      "outputs": [
        {
          "output_type": "stream",
          "name": "stdout",
          "text": [
            "n = 10 Precisão média :0.8034839180427416 std: 0.07957654234288679\n",
            "n = 15 Precisão média :0.8098564793050087 std: 0.07728274294416708\n",
            "n = 20 Precisão média :0.8169193878017408 std: 0.0742722387493331\n"
          ]
        }
      ]
    },
    {
      "cell_type": "markdown",
      "metadata": {
        "id": "ZSl5r-KNVuiZ"
      },
      "source": [
        "### 2.3 Decision Tree"
      ]
    },
    {
      "cell_type": "markdown",
      "metadata": {
        "id": "rDgdFP9XVz1o"
      },
      "source": [
        "#### Dados originais"
      ]
    },
    {
      "cell_type": "code",
      "metadata": {
        "colab": {
          "base_uri": "https://localhost:8080/"
        },
        "id": "DWdS5WSUV3vy",
        "outputId": "a4bb2061-74bc-422f-b411-6ca0f2c19320"
      },
      "source": [
        "from sklearn.ensemble import BaggingClassifier\n",
        "from sklearn.tree import DecisionTreeClassifier\n",
        "\n",
        "X = dados_originais.drop(columns=['output'])\n",
        "y = dados_originais.output\n",
        "\n",
        "encoder = LabelEncoder()\n",
        "binary_encoded_y = pd.Series(encoder.fit_transform(y))\n",
        "\n",
        "train_X, test_X, train_y, test_y = train_test_split(X, binary_encoded_y, random_state=1)\n",
        "\n",
        "classifier10 = BaggingClassifier(DecisionTreeClassifier(max_depth=5),n_estimators=200)\n",
        "classifier15 = BaggingClassifier(DecisionTreeClassifier(max_depth=5),n_estimators=200)\n",
        "classifier20 = BaggingClassifier(DecisionTreeClassifier(max_depth=5),n_estimators=200)\n",
        "\n",
        "classifier10.fit(train_X, train_y)\n",
        "classifier15.fit(train_X, train_y)\n",
        "classifier20.fit(train_X, train_y)\n",
        "\n",
        "predictions10 = classifier10.predict(test_X)\n",
        "predictions15 = classifier15.predict(test_X)\n",
        "predictions20 = classifier15.predict(test_X)\n",
        "\n",
        "confusion_matrix(test_y, predictions10)\n",
        "confusion_matrix(test_y, predictions15)\n",
        "confusion_matrix(test_y, predictions20)\n",
        "\n",
        "#scoring = ['precision_macro', 'recall_macro']\n",
        "scoring = {'prec_macro': 'precision_macro',\n",
        "            'rec_macro': make_scorer(recall_score, average='macro')}\n",
        "\n",
        "scores_10 = cross_validate(estimator=classifier10, X= X, y= y, scoring=scoring,cv=10, return_train_score=True)\n",
        "mean_10 = np.array(scores_10['test_prec_macro']).mean()\n",
        "std_10 = np.array(scores_10['test_prec_macro']).std()\n",
        "print(\"n = 10 Precisão média :\"+str(mean_10)+ \" std: \"+str(std_10))\n",
        "\n",
        "scores_15 = cross_validate(estimator=classifier15, X= X, y= y, scoring=scoring,cv=10, return_train_score=True)\n",
        "mean_15 = np.array(scores_15['test_prec_macro']).mean()\n",
        "std_15 = np.array(scores_15['test_prec_macro']).std()\n",
        "print(\"n = 15 Precisão média :\"+str(mean_15)+ \" std: \"+str(std_15))\n",
        "\n",
        "scores_20 = cross_validate(estimator=classifier20, X= X, y= y, scoring=scoring,cv=10, return_train_score=True)\n",
        "mean_20 = np.array(scores_20['test_prec_macro']).mean()\n",
        "std_20 = np.array(scores_20['test_prec_macro']).std()\n",
        "print(\"n = 20 Precisão média :\"+str(mean_20)+ \" std: \"+str(std_20))"
      ],
      "execution_count": null,
      "outputs": [
        {
          "output_type": "stream",
          "name": "stdout",
          "text": [
            "n = 10 Precisão média :0.8153464440616144 std: 0.07448688410309973\n",
            "n = 15 Precisão média :0.8203137643230523 std: 0.06927017969684003\n",
            "n = 20 Precisão média :0.8249288347101814 std: 0.07042931808717201\n"
          ]
        }
      ]
    },
    {
      "cell_type": "markdown",
      "metadata": {
        "id": "1AobwuOgWBmQ"
      },
      "source": [
        "#### Dados processados "
      ]
    },
    {
      "cell_type": "code",
      "metadata": {
        "colab": {
          "base_uri": "https://localhost:8080/"
        },
        "id": "sYnbhKLJWJzn",
        "outputId": "ca284d4f-5f5f-4bb2-8a28-5a648e5b86b9"
      },
      "source": [
        "X_p = dados_preProcessado.drop(columns=['output'])\n",
        "y_p = dados_preProcessado.output\n",
        "\n",
        "encoder = LabelEncoder()\n",
        "binary_encoded_y = pd.Series(encoder.fit_transform(y_p))\n",
        "\n",
        "train_X_p, test_X_p, train_y_p, test_y_p = train_test_split(X_p, binary_encoded_y, random_state=1)\n",
        "\n",
        "classifier10 = BaggingClassifier(DecisionTreeClassifier(max_depth=5),n_estimators=200)\n",
        "classifier15 = BaggingClassifier(DecisionTreeClassifier(max_depth=5),n_estimators=200)\n",
        "classifier20 = BaggingClassifier(DecisionTreeClassifier(max_depth=5),n_estimators=200)\n",
        "\n",
        "classifier10.fit(train_X_p, train_y_p)\n",
        "classifier15.fit(train_X_p, train_y_p)\n",
        "classifier20.fit(train_X_p, train_y_p)\n",
        "\n",
        "predictions10 = classifier10.predict(test_X_p)\n",
        "predictions15 = classifier15.predict(test_X_p)\n",
        "predictions20 = classifier15.predict(test_X_p)\n",
        "\n",
        "confusion_matrix(test_y_p, predictions10)\n",
        "confusion_matrix(test_y_p, predictions15)\n",
        "confusion_matrix(test_y_p, predictions20)\n",
        "\n",
        "#scoring = ['precision_macro', 'recall_macro']\n",
        "scoring = {'prec_macro': 'precision_macro',\n",
        "            'rec_macro': make_scorer(recall_score, average='macro')}\n",
        "\n",
        "scores_10 = cross_validate(estimator=classifier10, X= X_p, y= y_p, scoring=scoring,cv=10, return_train_score=True)\n",
        "mean_10 = np.array(scores_10['test_prec_macro']).mean()\n",
        "std_10 = np.array(scores_10['test_prec_macro']).std()\n",
        "print(\"n = 10 Precisão média :\"+str(mean_10)+ \" std: \"+str(std_10))\n",
        "\n",
        "scores_15 = cross_validate(estimator=classifier15, X= X_p, y= y_p, scoring=scoring,cv=10, return_train_score=True)\n",
        "mean_15 = np.array(scores_15['test_prec_macro']).mean()\n",
        "std_15 = np.array(scores_15['test_prec_macro']).std()\n",
        "print(\"n = 15 Precisão média :\"+str(mean_15)+ \" std: \"+str(std_15))\n",
        "\n",
        "scores_20 = cross_validate(estimator=classifier20, X= X_p, y= y_p, scoring=scoring,cv=10, return_train_score=True)\n",
        "mean_20 = np.array(scores_20['test_prec_macro']).mean()\n",
        "std_20 = np.array(scores_20['test_prec_macro']).std()\n",
        "print(\"n = 20 Precisão média :\"+str(mean_20)+ \" std: \"+str(std_20))"
      ],
      "execution_count": null,
      "outputs": [
        {
          "output_type": "stream",
          "name": "stdout",
          "text": [
            "n = 10 Precisão média :0.8368858446335228 std: 0.08403824389374737\n",
            "n = 15 Precisão média :0.833853547982805 std: 0.08850199641914654\n",
            "n = 20 Precisão média :0.8401855783105783 std: 0.07641578342530451\n"
          ]
        }
      ]
    },
    {
      "cell_type": "markdown",
      "metadata": {
        "id": "mTRx1Ax0Wqf3"
      },
      "source": [
        "### 2.4 k-NN"
      ]
    },
    {
      "cell_type": "markdown",
      "metadata": {
        "id": "gRBZgpP5W2_m"
      },
      "source": [
        "#### Dados originais"
      ]
    },
    {
      "cell_type": "code",
      "metadata": {
        "id": "OXi0XiEjXDwB"
      },
      "source": [
        "import numpy as np\n",
        "import pandas as pd\n",
        "from sklearn.model_selection import train_test_split\n",
        "from sklearn.ensemble import BaggingClassifier\n",
        "from sklearn.neighbors import KNeighborsClassifier\n",
        "from sklearn.model_selection import cross_val_score\n",
        "from sklearn.metrics import classification_report"
      ],
      "execution_count": null,
      "outputs": []
    },
    {
      "cell_type": "code",
      "metadata": {
        "colab": {
          "base_uri": "https://localhost:8080/"
        },
        "id": "lNCcIUw_fipW",
        "outputId": "e9be5cbe-e96a-4167-f465-0258ca3a0350"
      },
      "source": [
        "X = dados_originais.drop(columns=['output'])\n",
        "y = dados_originais.output\n",
        "\n",
        "X_train,X_test,y_train,y_test=train_test_split(X,y,test_size=.3,random_state=0)\n",
        "\n",
        "classifier10=BaggingClassifier(KNeighborsClassifier(n_neighbors=2),max_samples=0.7,max_features=0.7,n_estimators=1000)\n",
        "classifier15=BaggingClassifier(KNeighborsClassifier(n_neighbors=2),max_samples=0.7,max_features=0.7,n_estimators=1000)\n",
        "classifier20=BaggingClassifier(KNeighborsClassifier(n_neighbors=2),max_samples=0.7,max_features=0.7,n_estimators=1000)\n",
        "\n",
        "classifier10.fit(X_train,y_train)\n",
        "y_pred=classifier10.predict(X_test)\n",
        "\n",
        "classifier15.fit(X_train,y_train)\n",
        "y_pred=classifier15.predict(X_test)\n",
        "\n",
        "classifier20.fit(X_train,y_train)\n",
        "y_pred=classifier20.predict(X_test)\n",
        "\n",
        "#print(classification_report(y_test,y_pred))\n",
        "\n",
        "scoring = {'prec_macro': 'precision_macro',\n",
        "            'rec_macro': make_scorer(recall_score, average='macro')}\n",
        "\n",
        "scores_10 = cross_validate(estimator=classifier10, X= X, y= y, scoring=scoring,cv=10, return_train_score=True)\n",
        "mean_10 = np.array(scores_10['test_prec_macro']).mean()\n",
        "std_10 = np.array(scores_10['test_prec_macro']).std()\n",
        "print(\"n = 10 Precisão média :\"+str(mean_10)+ \" std: \"+str(std_10))\n",
        "\n",
        "scores_15 = cross_validate(estimator=classifier15, X= X, y= y, scoring=scoring,cv=10, return_train_score=True)\n",
        "mean_15 = np.array(scores_15['test_prec_macro']).mean()\n",
        "std_15 = np.array(scores_15['test_prec_macro']).std()\n",
        "print(\"n = 15 Precisão média :\"+str(mean_15)+ \" std: \"+str(std_15))\n",
        "\n",
        "scores_20 = cross_validate(estimator=classifier20, X= X, y= y, scoring=scoring,cv=10, return_train_score=True)\n",
        "mean_20 = np.array(scores_20['test_prec_macro']).mean()\n",
        "std_20 = np.array(scores_20['test_prec_macro']).std()\n",
        "print(\"n = 20 Precisão média :\"+str(mean_20)+ \" std: \"+str(std_20))"
      ],
      "execution_count": null,
      "outputs": [
        {
          "output_type": "stream",
          "name": "stdout",
          "text": [
            "n = 10 Precisão média :0.6603426883573943 std: 0.10259799886911863\n",
            "n = 15 Precisão média :0.6663629030927792 std: 0.1047177736092292\n",
            "n = 20 Precisão média :0.6702513132292544 std: 0.09534061122642604\n"
          ]
        }
      ]
    },
    {
      "cell_type": "markdown",
      "metadata": {
        "id": "NrDMwc5fXBSI"
      },
      "source": [
        "#### Dados processados "
      ]
    },
    {
      "cell_type": "code",
      "metadata": {
        "id": "ZLjw4AacXC0g",
        "colab": {
          "base_uri": "https://localhost:8080/"
        },
        "outputId": "7dfcb069-c2c5-4681-fe1f-2c28436c821e"
      },
      "source": [
        "X_p = dados_preProcessado.drop(columns=['output'])\n",
        "y_p = dados_preProcessado.output\n",
        "\n",
        "X_train_p,X_test_p,y_train_p,y_test_p=train_test_split(X_p,y_p,test_size=.3,random_state=0)\n",
        "\n",
        "classifier10=BaggingClassifier(KNeighborsClassifier(n_neighbors=2),max_samples=0.7,max_features=0.7,n_estimators=1000)\n",
        "classifier15=BaggingClassifier(KNeighborsClassifier(n_neighbors=2),max_samples=0.7,max_features=0.7,n_estimators=1000)\n",
        "classifier20=BaggingClassifier(KNeighborsClassifier(n_neighbors=2),max_samples=0.7,max_features=0.7,n_estimators=1000)\n",
        "\n",
        "classifier10.fit(X_train_p,y_train_p)\n",
        "y_pred=classifier10.predict(X_test_p)\n",
        "\n",
        "classifier15.fit(X_train_p,y_train_p)\n",
        "y_pred=classifier15.predict(X_test_p)\n",
        "\n",
        "classifier20.fit(X_train_p,y_train_p)\n",
        "y_pred=classifier20.predict(X_test_p)\n",
        "\n",
        "#print(classification_report(y_test,y_pred))\n",
        "\n",
        "scoring = {'prec_macro': 'precision_macro',\n",
        "            'rec_macro': make_scorer(recall_score, average='macro')}\n",
        "\n",
        "scores_10 = cross_validate(estimator=classifier10, X= X_p, y= y_p, scoring=scoring,cv=10, return_train_score=True)\n",
        "mean_10 = np.array(scores_10['test_prec_macro']).mean()\n",
        "std_10 = np.array(scores_10['test_prec_macro']).std()\n",
        "print(\"n = 10 Precisão média :\"+str(mean_10)+ \" std: \"+str(std_10))\n",
        "\n",
        "scores_15 = cross_validate(estimator=classifier15, X= X_p, y= y_p, scoring=scoring,cv=10, return_train_score=True)\n",
        "mean_15 = np.array(scores_15['test_prec_macro']).mean()\n",
        "std_15 = np.array(scores_15['test_prec_macro']).std()\n",
        "print(\"n = 15 Precisão média :\"+str(mean_15)+ \" std: \"+str(std_15))\n",
        "\n",
        "scores_20 = cross_validate(estimator=classifier20, X= X_p, y= y_p, scoring=scoring,cv=10, return_train_score=True)\n",
        "mean_20 = np.array(scores_20['test_prec_macro']).mean()\n",
        "std_20 = np.array(scores_20['test_prec_macro']).std()\n",
        "print(\"n = 20 Precisão média :\"+str(mean_20)+ \" std: \"+str(std_20))"
      ],
      "execution_count": null,
      "outputs": [
        {
          "output_type": "stream",
          "name": "stdout",
          "text": [
            "n = 10 Precisão média :0.8320560122282259 std: 0.05275596004726042\n",
            "n = 15 Precisão média :0.8296277825631542 std: 0.05246521957028134\n",
            "n = 20 Precisão média :0.8320560122282259 std: 0.05275596004726042\n"
          ]
        }
      ]
    },
    {
      "cell_type": "markdown",
      "metadata": {
        "id": "fSutGdRwuglZ"
      },
      "source": [
        "## 3. Stacking"
      ]
    },
    {
      "cell_type": "markdown",
      "metadata": {
        "id": "mpwc1DULutoE"
      },
      "source": [
        "### 3.3 Decision Tree"
      ]
    },
    {
      "cell_type": "markdown",
      "metadata": {
        "id": "JTHw3isGwHDa"
      },
      "source": [
        "#### Stacking Homogêneo"
      ]
    },
    {
      "cell_type": "markdown",
      "metadata": {
        "id": "KD_ZsKCGwSE6"
      },
      "source": [
        "##### Dados originais"
      ]
    },
    {
      "cell_type": "code",
      "metadata": {
        "id": "XEaoR-QlupTI"
      },
      "source": [
        "from sklearn.model_selection import train_test_split\n",
        "from sklearn.neural_network import MLPClassifier\n",
        "from sklearn.ensemble import StackingClassifier\n",
        "base_learners_10 = []\n",
        "base_learners_15 = []\n",
        "base_learners_20 = []\n",
        "for i in range(10):\n",
        "  #X_train, X_test, y_train, y_test = train_test_split(x, y, test_size = 0.2, random_state = 0)\n",
        "  base_learners_10.append(('dt_'+str(i),DecisionTreeClassifier()))\n",
        "\n",
        "for i in range(15):\n",
        "  #X_train, X_test, y_train, y_test = train_test_split(x, y, test_size = 0.2, random_state = 0)\n",
        "  base_learners_15.append(('dt_'+str(i), DecisionTreeClassifier()))\n",
        "\n",
        "for i in range(20):\n",
        "  #X_train, X_test, y_train, y_test = train_test_split(x, y, test_size = 0.2, random_state = 0)\n",
        "  base_learners_20.append(('dt_'+str(i), DecisionTreeClassifier()))"
      ],
      "execution_count": null,
      "outputs": []
    },
    {
      "cell_type": "code",
      "metadata": {
        "id": "-7KQAVkFu1DZ"
      },
      "source": [
        "X = dados_originais.drop(columns=['output'])\n",
        "y = dados_originais.output\n",
        "base_learners = [('rf_1', MLPClassifier())]\n",
        "\n",
        "dtStk_10 = StackingClassifier(estimators = base_learners_10,cv=3)\n",
        "dtStk_15 = StackingClassifier(estimators = base_learners_15,cv=3)\n",
        "dtStk_20 = StackingClassifier(estimators = base_learners_20,cv=3)"
      ],
      "execution_count": null,
      "outputs": []
    },
    {
      "cell_type": "code",
      "metadata": {
        "id": "CehNqnG6vnRj"
      },
      "source": [
        "scoring = {'prec_macro': 'precision_macro',\n",
        "            'rec_macro': make_scorer(recall_score, average='macro')}\n",
        "scores_10 = cross_validate(estimator=dtStk_10, X= X, y= y, scoring=scoring,cv=3, return_train_score=True)\n",
        "scores_15 = cross_validate(estimator=dtStk_15, X= X, y= y, scoring=scoring,cv=3, return_train_score=True)\n",
        "scores_20 = cross_validate(estimator=dtStk_20, X= X, y= y, scoring=scoring,cv=3, return_train_score=True)"
      ],
      "execution_count": null,
      "outputs": []
    },
    {
      "cell_type": "code",
      "metadata": {
        "colab": {
          "base_uri": "https://localhost:8080/"
        },
        "id": "xli6hDFFvqpy",
        "outputId": "f548fb99-2fb4-4726-a13e-e1c0f2211e0f"
      },
      "source": [
        "mean_10 = np.array(scores_10['test_prec_macro']).mean()\n",
        "std_10 = np.array(scores_10['test_prec_macro']).std()\n",
        "print(\"n = 10 Precisão média :\"+str(mean_10)+ \" std: \"+str(std_10))\n",
        "mean_15 = np.array(scores_15['test_prec_macro']).mean()\n",
        "std_15 = np.array(scores_15['test_prec_macro']).std()\n",
        "print(\"n = 15 Precisão média :\"+str(mean_15)+ \" std: \"+str(std_15))\n",
        "mean_20 = np.array(scores_20['test_prec_macro']).mean()\n",
        "std_20 = np.array(scores_20['test_prec_macro']).std()\n",
        "print(\"n = 20 Precisão média :\"+str(mean_20)+ \" std: \"+str(std_20))"
      ],
      "execution_count": null,
      "outputs": [
        {
          "output_type": "stream",
          "name": "stdout",
          "text": [
            "n = 10 Precisão média :0.7240338716961913 std: 0.02250370695634993\n",
            "n = 15 Precisão média :0.7468114596265857 std: 0.034347868907533066\n",
            "n = 20 Precisão média :0.7458353559937118 std: 0.044284784846855156\n"
          ]
        }
      ]
    },
    {
      "cell_type": "markdown",
      "metadata": {
        "id": "t473SdFLwhEe"
      },
      "source": [
        "##### Dados processados "
      ]
    },
    {
      "cell_type": "code",
      "metadata": {
        "id": "p1WWh-Wpwkjv"
      },
      "source": [
        "base_learners_10 = []\n",
        "base_learners_15 = []\n",
        "base_learners_20 = []\n",
        "for i in range(10):\n",
        "  #X_train, X_test, y_train, y_test = train_test_split(x, y, test_size = 0.2, random_state = 0)\n",
        "  base_learners_10.append(('dt_'+str(i),DecisionTreeClassifier()))\n",
        "\n",
        "for i in range(15):\n",
        "  #X_train, X_test, y_train, y_test = train_test_split(x, y, test_size = 0.2, random_state = 0)\n",
        "  base_learners_15.append(('dt_'+str(i), DecisionTreeClassifier()))\n",
        "\n",
        "for i in range(20):\n",
        "  #X_train, X_test, y_train, y_test = train_test_split(x, y, test_size = 0.2, random_state = 0)\n",
        "  base_learners_20.append(('dt_'+str(i), DecisionTreeClassifier()))"
      ],
      "execution_count": null,
      "outputs": []
    },
    {
      "cell_type": "code",
      "metadata": {
        "id": "xXWsJFOewta_"
      },
      "source": [
        "X_p = dados_preProcessado.drop(columns=['output'])\n",
        "y_p = dados_preProcessado.output\n",
        "base_learners = [('rf_1', MLPClassifier())]\n",
        "\n",
        "dtStk_10 = StackingClassifier(estimators = base_learners_10,cv=3)\n",
        "dtStk_15 = StackingClassifier(estimators = base_learners_15,cv=3)\n",
        "dtStk_20 = StackingClassifier(estimators = base_learners_20,cv=3)"
      ],
      "execution_count": null,
      "outputs": []
    },
    {
      "cell_type": "code",
      "metadata": {
        "id": "AXZ2V4k-w84R"
      },
      "source": [
        "scoring = {'prec_macro': 'precision_macro',\n",
        "            'rec_macro': make_scorer(recall_score, average='macro')}\n",
        "scores_10 = cross_validate(estimator=dtStk_10, X= X_p, y= y_p, scoring=scoring,cv=3, return_train_score=True)\n",
        "scores_15 = cross_validate(estimator=dtStk_15, X= X_p, y= y_p, scoring=scoring,cv=3, return_train_score=True)\n",
        "scores_20 = cross_validate(estimator=dtStk_20, X= X_p, y= y_p, scoring=scoring,cv=3, return_train_score=True)"
      ],
      "execution_count": null,
      "outputs": []
    },
    {
      "cell_type": "code",
      "metadata": {
        "colab": {
          "base_uri": "https://localhost:8080/"
        },
        "id": "lKzsTzanxMuk",
        "outputId": "c363d904-83bd-443a-9114-78318a23dce0"
      },
      "source": [
        "mean_10 = np.array(scores_10['test_prec_macro']).mean()\n",
        "std_10 = np.array(scores_10['test_prec_macro']).std()\n",
        "print(\"n = 10 Precisão média :\"+str(mean_10)+ \" std: \"+str(std_10))\n",
        "mean_15 = np.array(scores_15['test_prec_macro']).mean()\n",
        "std_15 = np.array(scores_15['test_prec_macro']).std()\n",
        "print(\"n = 15 Precisão média :\"+str(mean_15)+ \" std: \"+str(std_15))\n",
        "mean_20 = np.array(scores_20['test_prec_macro']).mean()\n",
        "std_20 = np.array(scores_20['test_prec_macro']).std()\n",
        "print(\"n = 20 Precisão média :\"+str(mean_20)+ \" std: \"+str(std_20))"
      ],
      "execution_count": null,
      "outputs": [
        {
          "output_type": "stream",
          "name": "stdout",
          "text": [
            "n = 10 Precisão média :0.725002945811792 std: 0.02018420690097352\n",
            "n = 15 Precisão média :0.7149726749082395 std: 0.041799031877144406\n",
            "n = 20 Precisão média :0.7023287309879814 std: 0.014726917681363567\n"
          ]
        }
      ]
    },
    {
      "cell_type": "markdown",
      "metadata": {
        "id": "kIDesJYcy_0q"
      },
      "source": [
        "#### Stacking Heterogêneo "
      ]
    },
    {
      "cell_type": "markdown",
      "metadata": {
        "id": "wduLoZFwzBs8"
      },
      "source": [
        "##### Dados originais"
      ]
    },
    {
      "cell_type": "code",
      "metadata": {
        "id": "T1jfm39HzEoJ"
      },
      "source": [
        ""
      ],
      "execution_count": null,
      "outputs": []
    },
    {
      "cell_type": "markdown",
      "metadata": {
        "id": "k6caLkboxcVM"
      },
      "source": [
        "### 3.4 k-NN\n"
      ]
    },
    {
      "cell_type": "markdown",
      "metadata": {
        "id": "M3BSNF38xlRj"
      },
      "source": [
        "#### Stacking Homogêneo"
      ]
    },
    {
      "cell_type": "markdown",
      "metadata": {
        "id": "DSrylv5vxqLw"
      },
      "source": [
        "##### Dados originais"
      ]
    },
    {
      "cell_type": "code",
      "metadata": {
        "colab": {
          "base_uri": "https://localhost:8080/"
        },
        "id": "UtSrdJ1txmUG",
        "outputId": "47464b87-ac9b-4325-cfe6-b7e82fe79cea"
      },
      "source": [
        "base_learners_10 = []\n",
        "base_learners_15 = []\n",
        "base_learners_20 = []\n",
        "for i in range(10):\n",
        "  #X_train, X_test, y_train, y_test = train_test_split(x, y, test_size = 0.2, random_state = 0)\n",
        "  base_learners_10.append(('dt_'+str(i),KNeighborsClassifier()))\n",
        "\n",
        "for i in range(15):\n",
        "  #X_train, X_test, y_train, y_test = train_test_split(x, y, test_size = 0.2, random_state = 0)\n",
        "  base_learners_15.append(('dt_'+str(i), KNeighborsClassifier()))\n",
        "\n",
        "for i in range(20):\n",
        "  #X_train, X_test, y_train, y_test = train_test_split(x, y, test_size = 0.2, random_state = 0)\n",
        "  base_learners_20.append(('dt_'+str(i), KNeighborsClassifier()))\n",
        "\n",
        "X = dados_originais.drop(columns=['output'])\n",
        "y = dados_originais.output\n",
        "base_learners = [('rf_1', MLPClassifier())]\n",
        "\n",
        "dtStk_10 = StackingClassifier(estimators = base_learners_10,cv=3)\n",
        "dtStk_15 = StackingClassifier(estimators = base_learners_15,cv=3)\n",
        "dtStk_20 = StackingClassifier(estimators = base_learners_20,cv=3)\n",
        "\n",
        "scoring = {'prec_macro': 'precision_macro',\n",
        "            'rec_macro': make_scorer(recall_score, average='macro')}\n",
        "scores_10 = cross_validate(estimator=dtStk_10, X= X, y= y, scoring=scoring,cv=3, return_train_score=True)\n",
        "scores_15 = cross_validate(estimator=dtStk_15, X= X, y= y, scoring=scoring,cv=3, return_train_score=True)\n",
        "scores_20 = cross_validate(estimator=dtStk_20, X= X, y= y, scoring=scoring,cv=3, return_train_score=True)\n",
        "\n",
        "mean_10 = np.array(scores_10['test_prec_macro']).mean()\n",
        "std_10 = np.array(scores_10['test_prec_macro']).std()\n",
        "print(\"n = 10 Precisão média :\"+str(mean_10)+ \" std: \"+str(std_10))\n",
        "mean_15 = np.array(scores_15['test_prec_macro']).mean()\n",
        "std_15 = np.array(scores_15['test_prec_macro']).std()\n",
        "print(\"n = 15 Precisão média :\"+str(mean_15)+ \" std: \"+str(std_15))\n",
        "mean_20 = np.array(scores_20['test_prec_macro']).mean()\n",
        "std_20 = np.array(scores_20['test_prec_macro']).std()\n",
        "print(\"n = 20 Precisão média :\"+str(mean_20)+ \" std: \"+str(std_20))"
      ],
      "execution_count": null,
      "outputs": [
        {
          "output_type": "stream",
          "name": "stdout",
          "text": [
            "n = 10 Precisão média :0.6558077638401882 std: 0.026784044713219584\n",
            "n = 15 Precisão média :0.6558077638401882 std: 0.026784044713219584\n",
            "n = 20 Precisão média :0.6558077638401882 std: 0.026784044713219584\n"
          ]
        }
      ]
    },
    {
      "cell_type": "markdown",
      "metadata": {
        "id": "QUjBMDMByXSs"
      },
      "source": [
        "##### Dados processados "
      ]
    },
    {
      "cell_type": "code",
      "metadata": {
        "colab": {
          "base_uri": "https://localhost:8080/"
        },
        "id": "LCI8Xao1yYiO",
        "outputId": "7d01d282-34df-4fc9-d9aa-b41c179d59a1"
      },
      "source": [
        "base_learners_10 = []\n",
        "base_learners_15 = []\n",
        "base_learners_20 = []\n",
        "for i in range(10):\n",
        "  #X_train, X_test, y_train, y_test = train_test_split(x, y, test_size = 0.2, random_state = 0)\n",
        "  base_learners_10.append(('dt_'+str(i),KNeighborsClassifier()))\n",
        "\n",
        "for i in range(15):\n",
        "  #X_train, X_test, y_train, y_test = train_test_split(x, y, test_size = 0.2, random_state = 0)\n",
        "  base_learners_15.append(('dt_'+str(i), KNeighborsClassifier()))\n",
        "\n",
        "for i in range(20):\n",
        "  #X_train, X_test, y_train, y_test = train_test_split(x, y, test_size = 0.2, random_state = 0)\n",
        "  base_learners_20.append(('dt_'+str(i), KNeighborsClassifier()))\n",
        "\n",
        "X_p = dados_preProcessado.drop(columns=['output'])\n",
        "y_p = dados_preProcessado.output\n",
        "base_learners = [('rf_1', MLPClassifier())]\n",
        "\n",
        "dtStk_10 = StackingClassifier(estimators = base_learners_10,cv=3)\n",
        "dtStk_15 = StackingClassifier(estimators = base_learners_15,cv=3)\n",
        "dtStk_20 = StackingClassifier(estimators = base_learners_20,cv=3)\n",
        "\n",
        "scoring = {'prec_macro': 'precision_macro',\n",
        "            'rec_macro': make_scorer(recall_score, average='macro')}\n",
        "scores_10 = cross_validate(estimator=dtStk_10, X= X_p, y= y_p, scoring=scoring,cv=3, return_train_score=True)\n",
        "scores_15 = cross_validate(estimator=dtStk_15, X= X_p, y= y_p, scoring=scoring,cv=3, return_train_score=True)\n",
        "scores_20 = cross_validate(estimator=dtStk_20, X= X_p, y= y_p, scoring=scoring,cv=3, return_train_score=True)\n",
        "\n",
        "mean_10 = np.array(scores_10['test_prec_macro']).mean()\n",
        "std_10 = np.array(scores_10['test_prec_macro']).std()\n",
        "print(\"n = 10 Precisão média :\"+str(mean_10)+ \" std: \"+str(std_10))\n",
        "mean_15 = np.array(scores_15['test_prec_macro']).mean()\n",
        "std_15 = np.array(scores_15['test_prec_macro']).std()\n",
        "print(\"n = 15 Precisão média :\"+str(mean_15)+ \" std: \"+str(std_15))\n",
        "mean_20 = np.array(scores_20['test_prec_macro']).mean()\n",
        "std_20 = np.array(scores_20['test_prec_macro']).std()\n",
        "print(\"n = 20 Precisão média :\"+str(mean_20)+ \" std: \"+str(std_20))"
      ],
      "execution_count": null,
      "outputs": [
        {
          "output_type": "stream",
          "name": "stdout",
          "text": [
            "n = 10 Precisão média :0.79637311105745 std: 0.010409387961367153\n",
            "n = 15 Precisão média :0.79637311105745 std: 0.010409387961367153\n",
            "n = 20 Precisão média :0.79637311105745 std: 0.010409387961367153\n"
          ]
        }
      ]
    },
    {
      "cell_type": "code",
      "metadata": {
        "id": "hwr7JJjj0TaA"
      },
      "source": [
        ""
      ],
      "execution_count": null,
      "outputs": []
    }
  ]
}